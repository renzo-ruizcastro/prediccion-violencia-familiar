{
 "cells": [
  {
   "cell_type": "code",
   "execution_count": 1,
   "metadata": {},
   "outputs": [],
   "source": [
    "import pandas as pd"
   ]
  },
  {
   "cell_type": "code",
   "execution_count": 2,
   "metadata": {},
   "outputs": [],
   "source": [
    "dataset = pd.read_csv('../dataset/dataset_final.csv', header=0, low_memory=False)"
   ]
  },
  {
   "cell_type": "code",
   "execution_count": 3,
   "metadata": {},
   "outputs": [
    {
     "data": {
      "text/html": [
       "<div>\n",
       "<style scoped>\n",
       "    .dataframe tbody tr th:only-of-type {\n",
       "        vertical-align: middle;\n",
       "    }\n",
       "\n",
       "    .dataframe tbody tr th {\n",
       "        vertical-align: top;\n",
       "    }\n",
       "\n",
       "    .dataframe thead th {\n",
       "        text-align: right;\n",
       "    }\n",
       "</style>\n",
       "<table border=\"1\" class=\"dataframe\">\n",
       "  <thead>\n",
       "    <tr style=\"text-align: right;\">\n",
       "      <th></th>\n",
       "      <th>EDAD</th>\n",
       "      <th>DIST_HECHO</th>\n",
       "      <th>COMISARIA</th>\n",
       "      <th>DIST_CIA</th>\n",
       "      <th>MODALIDAD</th>\n",
       "    </tr>\n",
       "  </thead>\n",
       "  <tbody>\n",
       "    <tr>\n",
       "      <th>0</th>\n",
       "      <td>32</td>\n",
       "      <td>453</td>\n",
       "      <td>371</td>\n",
       "      <td>252</td>\n",
       "      <td>2</td>\n",
       "    </tr>\n",
       "    <tr>\n",
       "      <th>1</th>\n",
       "      <td>40</td>\n",
       "      <td>130</td>\n",
       "      <td>311</td>\n",
       "      <td>78</td>\n",
       "      <td>2</td>\n",
       "    </tr>\n",
       "    <tr>\n",
       "      <th>2</th>\n",
       "      <td>28</td>\n",
       "      <td>651</td>\n",
       "      <td>431</td>\n",
       "      <td>376</td>\n",
       "      <td>2</td>\n",
       "    </tr>\n",
       "    <tr>\n",
       "      <th>3</th>\n",
       "      <td>55</td>\n",
       "      <td>772</td>\n",
       "      <td>598</td>\n",
       "      <td>450</td>\n",
       "      <td>6</td>\n",
       "    </tr>\n",
       "    <tr>\n",
       "      <th>4</th>\n",
       "      <td>21</td>\n",
       "      <td>847</td>\n",
       "      <td>664</td>\n",
       "      <td>496</td>\n",
       "      <td>4</td>\n",
       "    </tr>\n",
       "  </tbody>\n",
       "</table>\n",
       "</div>"
      ],
      "text/plain": [
       "   EDAD  DIST_HECHO  COMISARIA  DIST_CIA  MODALIDAD\n",
       "0    32         453        371       252          2\n",
       "1    40         130        311        78          2\n",
       "2    28         651        431       376          2\n",
       "3    55         772        598       450          6\n",
       "4    21         847        664       496          4"
      ]
     },
     "execution_count": 3,
     "metadata": {},
     "output_type": "execute_result"
    }
   ],
   "source": [
    "dataset.head()"
   ]
  },
  {
   "cell_type": "code",
   "execution_count": 4,
   "metadata": {},
   "outputs": [
    {
     "data": {
      "text/plain": [
       "6    177852\n",
       "5    155965\n",
       "4     64114\n",
       "3      6900\n",
       "2      1453\n",
       "0       104\n",
       "1        43\n",
       "Name: MODALIDAD, dtype: int64"
      ]
     },
     "execution_count": 4,
     "metadata": {},
     "output_type": "execute_result"
    }
   ],
   "source": [
    "dataset['MODALIDAD'].value_counts()"
   ]
  },
  {
   "cell_type": "code",
   "execution_count": 5,
   "metadata": {},
   "outputs": [],
   "source": [
    "X = dataset.drop(['MODALIDAD'], axis=1)\n",
    "y = dataset['MODALIDAD']"
   ]
  },
  {
   "cell_type": "markdown",
   "metadata": {},
   "source": [
    "### Balancear los valores de la variable objetivo"
   ]
  },
  {
   "cell_type": "code",
   "execution_count": 6,
   "metadata": {},
   "outputs": [],
   "source": [
    "from imblearn.over_sampling import SMOTE\n",
    "X, y = SMOTE().fit_sample(X, y)"
   ]
  },
  {
   "cell_type": "code",
   "execution_count": 7,
   "metadata": {},
   "outputs": [
    {
     "data": {
      "text/plain": [
       "2    177852\n",
       "6    177852\n",
       "4    177852\n",
       "5    177852\n",
       "3    177852\n",
       "0    177852\n",
       "1    177852\n",
       "Name: MODALIDAD, dtype: int64"
      ]
     },
     "execution_count": 7,
     "metadata": {},
     "output_type": "execute_result"
    }
   ],
   "source": [
    "y.value_counts()"
   ]
  },
  {
   "cell_type": "markdown",
   "metadata": {},
   "source": [
    "### Separar los datos en entrenamiento y prueba"
   ]
  },
  {
   "cell_type": "code",
   "execution_count": 8,
   "metadata": {},
   "outputs": [],
   "source": [
    "from sklearn.model_selection import train_test_split\n",
    "X_train, X_test, y_train, y_test = train_test_split(X, y, test_size=0.3, random_state=0)"
   ]
  },
  {
   "cell_type": "markdown",
   "metadata": {},
   "source": [
    "### Escalamiento"
   ]
  },
  {
   "cell_type": "code",
   "execution_count": 9,
   "metadata": {},
   "outputs": [],
   "source": [
    "from sklearn.preprocessing import StandardScaler\n",
    "scaler = StandardScaler()\n",
    "X_train = scaler.fit_transform(X_train)\n",
    "X_test = scaler.transform(X_test)"
   ]
  },
  {
   "cell_type": "code",
   "execution_count": 10,
   "metadata": {},
   "outputs": [
    {
     "data": {
      "text/plain": [
       "RandomForestClassifier(criterion='entropy', random_state=0)"
      ]
     },
     "execution_count": 10,
     "metadata": {},
     "output_type": "execute_result"
    }
   ],
   "source": [
    "from sklearn.ensemble import RandomForestClassifier\n",
    "classifier = RandomForestClassifier(n_estimators=100, criterion='entropy', random_state=0)\n",
    "classifier.fit(X_train, y_train)"
   ]
  },
  {
   "cell_type": "code",
   "execution_count": 11,
   "metadata": {},
   "outputs": [
    {
     "data": {
      "text/html": [
       "<div>\n",
       "<style scoped>\n",
       "    .dataframe tbody tr th:only-of-type {\n",
       "        vertical-align: middle;\n",
       "    }\n",
       "\n",
       "    .dataframe tbody tr th {\n",
       "        vertical-align: top;\n",
       "    }\n",
       "\n",
       "    .dataframe thead th {\n",
       "        text-align: right;\n",
       "    }\n",
       "</style>\n",
       "<table border=\"1\" class=\"dataframe\">\n",
       "  <thead>\n",
       "    <tr style=\"text-align: right;\">\n",
       "      <th>Predicted</th>\n",
       "      <th>0</th>\n",
       "      <th>1</th>\n",
       "      <th>2</th>\n",
       "      <th>3</th>\n",
       "      <th>4</th>\n",
       "      <th>5</th>\n",
       "      <th>6</th>\n",
       "      <th>All</th>\n",
       "    </tr>\n",
       "    <tr>\n",
       "      <th>True</th>\n",
       "      <th></th>\n",
       "      <th></th>\n",
       "      <th></th>\n",
       "      <th></th>\n",
       "      <th></th>\n",
       "      <th></th>\n",
       "      <th></th>\n",
       "      <th></th>\n",
       "    </tr>\n",
       "  </thead>\n",
       "  <tbody>\n",
       "    <tr>\n",
       "      <th>0</th>\n",
       "      <td>53090</td>\n",
       "      <td>261</td>\n",
       "      <td>57</td>\n",
       "      <td>115</td>\n",
       "      <td>28</td>\n",
       "      <td>44</td>\n",
       "      <td>42</td>\n",
       "      <td>53637</td>\n",
       "    </tr>\n",
       "    <tr>\n",
       "      <th>1</th>\n",
       "      <td>129</td>\n",
       "      <td>53252</td>\n",
       "      <td>21</td>\n",
       "      <td>26</td>\n",
       "      <td>52</td>\n",
       "      <td>25</td>\n",
       "      <td>12</td>\n",
       "      <td>53517</td>\n",
       "    </tr>\n",
       "    <tr>\n",
       "      <th>2</th>\n",
       "      <td>194</td>\n",
       "      <td>106</td>\n",
       "      <td>49077</td>\n",
       "      <td>1043</td>\n",
       "      <td>1455</td>\n",
       "      <td>853</td>\n",
       "      <td>751</td>\n",
       "      <td>53479</td>\n",
       "    </tr>\n",
       "    <tr>\n",
       "      <th>3</th>\n",
       "      <td>504</td>\n",
       "      <td>63</td>\n",
       "      <td>2795</td>\n",
       "      <td>35981</td>\n",
       "      <td>6241</td>\n",
       "      <td>4105</td>\n",
       "      <td>3815</td>\n",
       "      <td>53504</td>\n",
       "    </tr>\n",
       "    <tr>\n",
       "      <th>4</th>\n",
       "      <td>606</td>\n",
       "      <td>265</td>\n",
       "      <td>3577</td>\n",
       "      <td>8591</td>\n",
       "      <td>26953</td>\n",
       "      <td>7198</td>\n",
       "      <td>6002</td>\n",
       "      <td>53192</td>\n",
       "    </tr>\n",
       "    <tr>\n",
       "      <th>5</th>\n",
       "      <td>499</td>\n",
       "      <td>101</td>\n",
       "      <td>3074</td>\n",
       "      <td>8691</td>\n",
       "      <td>10037</td>\n",
       "      <td>19903</td>\n",
       "      <td>10903</td>\n",
       "      <td>53208</td>\n",
       "    </tr>\n",
       "    <tr>\n",
       "      <th>6</th>\n",
       "      <td>614</td>\n",
       "      <td>119</td>\n",
       "      <td>3414</td>\n",
       "      <td>9259</td>\n",
       "      <td>11531</td>\n",
       "      <td>13418</td>\n",
       "      <td>14598</td>\n",
       "      <td>52953</td>\n",
       "    </tr>\n",
       "    <tr>\n",
       "      <th>All</th>\n",
       "      <td>55636</td>\n",
       "      <td>54167</td>\n",
       "      <td>62015</td>\n",
       "      <td>63706</td>\n",
       "      <td>56297</td>\n",
       "      <td>45546</td>\n",
       "      <td>36123</td>\n",
       "      <td>373490</td>\n",
       "    </tr>\n",
       "  </tbody>\n",
       "</table>\n",
       "</div>"
      ],
      "text/plain": [
       "Predicted      0      1      2      3      4      5      6     All\n",
       "True                                                              \n",
       "0          53090    261     57    115     28     44     42   53637\n",
       "1            129  53252     21     26     52     25     12   53517\n",
       "2            194    106  49077   1043   1455    853    751   53479\n",
       "3            504     63   2795  35981   6241   4105   3815   53504\n",
       "4            606    265   3577   8591  26953   7198   6002   53192\n",
       "5            499    101   3074   8691  10037  19903  10903   53208\n",
       "6            614    119   3414   9259  11531  13418  14598   52953\n",
       "All        55636  54167  62015  63706  56297  45546  36123  373490"
      ]
     },
     "execution_count": 11,
     "metadata": {},
     "output_type": "execute_result"
    }
   ],
   "source": [
    "y_pred = classifier.predict(X_test)\n",
    "pd.crosstab(y_test, y_pred, rownames=['True'], colnames=['Predicted'], margins=True)"
   ]
  },
  {
   "cell_type": "code",
   "execution_count": 12,
   "metadata": {},
   "outputs": [
    {
     "name": "stdout",
     "output_type": "stream",
     "text": [
      "              precision    recall  f1-score   support\n",
      "\n",
      "           0       0.95      0.99      0.97     53637\n",
      "           1       0.98      1.00      0.99     53517\n",
      "           2       0.79      0.92      0.85     53479\n",
      "           3       0.56      0.67      0.61     53504\n",
      "           4       0.48      0.51      0.49     53192\n",
      "           5       0.44      0.37      0.40     53208\n",
      "           6       0.40      0.28      0.33     52953\n",
      "\n",
      "    accuracy                           0.68    373490\n",
      "   macro avg       0.66      0.68      0.66    373490\n",
      "weighted avg       0.66      0.68      0.66    373490\n",
      "\n"
     ]
    }
   ],
   "source": [
    "from sklearn.metrics import classification_report\n",
    "print(classification_report(y_test, y_pred))"
   ]
  }
 ],
 "metadata": {
  "kernelspec": {
   "display_name": "Python 3.9.12 ('base')",
   "language": "python",
   "name": "python3"
  },
  "language_info": {
   "codemirror_mode": {
    "name": "ipython",
    "version": 3
   },
   "file_extension": ".py",
   "mimetype": "text/x-python",
   "name": "python",
   "nbconvert_exporter": "python",
   "pygments_lexer": "ipython3",
   "version": "3.9.12"
  },
  "orig_nbformat": 4,
  "vscode": {
   "interpreter": {
    "hash": "a853a36dd34f4e127a1c940f133f5f5f69f52494a182d60a25a7162197551ce1"
   }
  }
 },
 "nbformat": 4,
 "nbformat_minor": 2
}
