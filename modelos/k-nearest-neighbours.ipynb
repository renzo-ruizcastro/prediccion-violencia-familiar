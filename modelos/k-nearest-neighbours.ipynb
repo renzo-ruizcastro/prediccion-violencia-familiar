{
  "cells": [
    {
      "cell_type": "code",
      "execution_count": 4,
      "metadata": {
        "id": "VVh5bBlpsdZb"
      },
      "outputs": [],
      "source": [
        "import pandas as pd"
      ]
    },
    {
      "cell_type": "code",
      "execution_count": 5,
      "metadata": {
        "id": "qPsP_TuksgFi"
      },
      "outputs": [],
      "source": [
        "dataset = pd.read_csv('../dataset/dataset_final.csv', header=0, low_memory=False)"
      ]
    },
    {
      "cell_type": "code",
      "execution_count": 6,
      "metadata": {
        "colab": {
          "base_uri": "https://localhost:8080/",
          "height": 206
        },
        "id": "XNjQNhFMswmY",
        "outputId": "7df2c310-4dcc-4133-b2a5-839dced4d3d0"
      },
      "outputs": [
        {
          "data": {
            "text/html": [
              "<div>\n",
              "<style scoped>\n",
              "    .dataframe tbody tr th:only-of-type {\n",
              "        vertical-align: middle;\n",
              "    }\n",
              "\n",
              "    .dataframe tbody tr th {\n",
              "        vertical-align: top;\n",
              "    }\n",
              "\n",
              "    .dataframe thead th {\n",
              "        text-align: right;\n",
              "    }\n",
              "</style>\n",
              "<table border=\"1\" class=\"dataframe\">\n",
              "  <thead>\n",
              "    <tr style=\"text-align: right;\">\n",
              "      <th></th>\n",
              "      <th>EDAD</th>\n",
              "      <th>DIST_HECHO</th>\n",
              "      <th>COMISARIA</th>\n",
              "      <th>DIST_CIA</th>\n",
              "      <th>MODALIDAD</th>\n",
              "    </tr>\n",
              "  </thead>\n",
              "  <tbody>\n",
              "    <tr>\n",
              "      <th>0</th>\n",
              "      <td>32</td>\n",
              "      <td>453</td>\n",
              "      <td>371</td>\n",
              "      <td>252</td>\n",
              "      <td>2</td>\n",
              "    </tr>\n",
              "    <tr>\n",
              "      <th>1</th>\n",
              "      <td>40</td>\n",
              "      <td>130</td>\n",
              "      <td>311</td>\n",
              "      <td>78</td>\n",
              "      <td>2</td>\n",
              "    </tr>\n",
              "    <tr>\n",
              "      <th>2</th>\n",
              "      <td>28</td>\n",
              "      <td>651</td>\n",
              "      <td>431</td>\n",
              "      <td>376</td>\n",
              "      <td>2</td>\n",
              "    </tr>\n",
              "    <tr>\n",
              "      <th>3</th>\n",
              "      <td>55</td>\n",
              "      <td>772</td>\n",
              "      <td>598</td>\n",
              "      <td>450</td>\n",
              "      <td>6</td>\n",
              "    </tr>\n",
              "    <tr>\n",
              "      <th>4</th>\n",
              "      <td>21</td>\n",
              "      <td>847</td>\n",
              "      <td>664</td>\n",
              "      <td>496</td>\n",
              "      <td>4</td>\n",
              "    </tr>\n",
              "  </tbody>\n",
              "</table>\n",
              "</div>"
            ],
            "text/plain": [
              "   EDAD  DIST_HECHO  COMISARIA  DIST_CIA  MODALIDAD\n",
              "0    32         453        371       252          2\n",
              "1    40         130        311        78          2\n",
              "2    28         651        431       376          2\n",
              "3    55         772        598       450          6\n",
              "4    21         847        664       496          4"
            ]
          },
          "execution_count": 6,
          "metadata": {},
          "output_type": "execute_result"
        }
      ],
      "source": [
        "dataset.head()"
      ]
    },
    {
      "cell_type": "code",
      "execution_count": 7,
      "metadata": {
        "id": "FlQxNoe_tb7Q"
      },
      "outputs": [],
      "source": [
        "X = dataset.drop(['MODALIDAD'], axis=1)\n",
        "y = dataset['MODALIDAD']"
      ]
    },
    {
      "cell_type": "code",
      "execution_count": 8,
      "metadata": {
        "id": "BFR21XW4tt8M"
      },
      "outputs": [],
      "source": [
        "from imblearn.over_sampling import SMOTE\n",
        "X, y = SMOTE().fit_resample(X, y)"
      ]
    },
    {
      "cell_type": "code",
      "execution_count": 9,
      "metadata": {
        "id": "TVOb6J6ktwVo"
      },
      "outputs": [],
      "source": [
        "from sklearn.model_selection import train_test_split\n",
        "X_train, X_test, y_train, y_test = train_test_split(X, y, random_state = 0)\n",
        "  \n"
      ]
    },
    {
      "cell_type": "code",
      "execution_count": 10,
      "metadata": {
        "id": "T9cv6QzQvfw4"
      },
      "outputs": [],
      "source": [
        "# training a KNN classifier\n",
        "from sklearn.neighbors import KNeighborsClassifier\n",
        "knn = KNeighborsClassifier(n_neighbors = 7).fit(X_train, y_train)"
      ]
    },
    {
      "cell_type": "code",
      "execution_count": 11,
      "metadata": {
        "colab": {
          "base_uri": "https://localhost:8080/"
        },
        "id": "2er25Zu1vj_D",
        "outputId": "83ab7457-1caa-4137-fbc7-bf3d8ab6baaf"
      },
      "outputs": [
        {
          "name": "stdout",
          "output_type": "stream",
          "text": [
            "0.6552510755331078\n"
          ]
        }
      ],
      "source": [
        "accuracy = knn.score(X_test, y_test)\n",
        "print(accuracy)"
      ]
    },
    {
      "cell_type": "code",
      "execution_count": 12,
      "metadata": {
        "id": "9ut-K23KvxR4"
      },
      "outputs": [],
      "source": [
        "from sklearn.metrics import confusion_matrix"
      ]
    },
    {
      "cell_type": "code",
      "execution_count": 13,
      "metadata": {
        "colab": {
          "base_uri": "https://localhost:8080/",
          "height": 331
        },
        "id": "QbtY7Ui3vrPH",
        "outputId": "30ffd663-750b-4bbe-8fdf-59f356b244df"
      },
      "outputs": [
        {
          "data": {
            "text/html": [
              "<div>\n",
              "<style scoped>\n",
              "    .dataframe tbody tr th:only-of-type {\n",
              "        vertical-align: middle;\n",
              "    }\n",
              "\n",
              "    .dataframe tbody tr th {\n",
              "        vertical-align: top;\n",
              "    }\n",
              "\n",
              "    .dataframe thead th {\n",
              "        text-align: right;\n",
              "    }\n",
              "</style>\n",
              "<table border=\"1\" class=\"dataframe\">\n",
              "  <thead>\n",
              "    <tr style=\"text-align: right;\">\n",
              "      <th>Predicted</th>\n",
              "      <th>0</th>\n",
              "      <th>1</th>\n",
              "      <th>2</th>\n",
              "      <th>3</th>\n",
              "      <th>4</th>\n",
              "      <th>5</th>\n",
              "      <th>6</th>\n",
              "      <th>All</th>\n",
              "    </tr>\n",
              "    <tr>\n",
              "      <th>True</th>\n",
              "      <th></th>\n",
              "      <th></th>\n",
              "      <th></th>\n",
              "      <th></th>\n",
              "      <th></th>\n",
              "      <th></th>\n",
              "      <th></th>\n",
              "      <th></th>\n",
              "    </tr>\n",
              "  </thead>\n",
              "  <tbody>\n",
              "    <tr>\n",
              "      <th>0</th>\n",
              "      <td>44095</td>\n",
              "      <td>271</td>\n",
              "      <td>88</td>\n",
              "      <td>100</td>\n",
              "      <td>38</td>\n",
              "      <td>19</td>\n",
              "      <td>41</td>\n",
              "      <td>44652</td>\n",
              "    </tr>\n",
              "    <tr>\n",
              "      <th>1</th>\n",
              "      <td>111</td>\n",
              "      <td>44386</td>\n",
              "      <td>20</td>\n",
              "      <td>27</td>\n",
              "      <td>59</td>\n",
              "      <td>11</td>\n",
              "      <td>8</td>\n",
              "      <td>44622</td>\n",
              "    </tr>\n",
              "    <tr>\n",
              "      <th>2</th>\n",
              "      <td>273</td>\n",
              "      <td>177</td>\n",
              "      <td>39982</td>\n",
              "      <td>1183</td>\n",
              "      <td>1311</td>\n",
              "      <td>789</td>\n",
              "      <td>744</td>\n",
              "      <td>44459</td>\n",
              "    </tr>\n",
              "    <tr>\n",
              "      <th>3</th>\n",
              "      <td>474</td>\n",
              "      <td>101</td>\n",
              "      <td>2581</td>\n",
              "      <td>28393</td>\n",
              "      <td>5475</td>\n",
              "      <td>3987</td>\n",
              "      <td>3701</td>\n",
              "      <td>44712</td>\n",
              "    </tr>\n",
              "    <tr>\n",
              "      <th>4</th>\n",
              "      <td>530</td>\n",
              "      <td>240</td>\n",
              "      <td>3176</td>\n",
              "      <td>8117</td>\n",
              "      <td>20819</td>\n",
              "      <td>6035</td>\n",
              "      <td>5485</td>\n",
              "      <td>44402</td>\n",
              "    </tr>\n",
              "    <tr>\n",
              "      <th>5</th>\n",
              "      <td>503</td>\n",
              "      <td>143</td>\n",
              "      <td>3069</td>\n",
              "      <td>8178</td>\n",
              "      <td>8810</td>\n",
              "      <td>15122</td>\n",
              "      <td>8590</td>\n",
              "      <td>44415</td>\n",
              "    </tr>\n",
              "    <tr>\n",
              "      <th>6</th>\n",
              "      <td>611</td>\n",
              "      <td>159</td>\n",
              "      <td>3259</td>\n",
              "      <td>8544</td>\n",
              "      <td>9636</td>\n",
              "      <td>10626</td>\n",
              "      <td>11144</td>\n",
              "      <td>43979</td>\n",
              "    </tr>\n",
              "    <tr>\n",
              "      <th>All</th>\n",
              "      <td>46597</td>\n",
              "      <td>45477</td>\n",
              "      <td>52175</td>\n",
              "      <td>54542</td>\n",
              "      <td>46148</td>\n",
              "      <td>36589</td>\n",
              "      <td>29713</td>\n",
              "      <td>311241</td>\n",
              "    </tr>\n",
              "  </tbody>\n",
              "</table>\n",
              "</div>"
            ],
            "text/plain": [
              "Predicted      0      1      2      3      4      5      6     All\n",
              "True                                                              \n",
              "0          44095    271     88    100     38     19     41   44652\n",
              "1            111  44386     20     27     59     11      8   44622\n",
              "2            273    177  39982   1183   1311    789    744   44459\n",
              "3            474    101   2581  28393   5475   3987   3701   44712\n",
              "4            530    240   3176   8117  20819   6035   5485   44402\n",
              "5            503    143   3069   8178   8810  15122   8590   44415\n",
              "6            611    159   3259   8544   9636  10626  11144   43979\n",
              "All        46597  45477  52175  54542  46148  36589  29713  311241"
            ]
          },
          "execution_count": 13,
          "metadata": {},
          "output_type": "execute_result"
        }
      ],
      "source": [
        "y_pred = knn.predict(X_test)\n",
        "pd.crosstab(y_test, y_pred, rownames=['True'], colnames=['Predicted'], margins=True)"
      ]
    },
    {
      "cell_type": "code",
      "execution_count": 14,
      "metadata": {
        "colab": {
          "base_uri": "https://localhost:8080/"
        },
        "id": "AbRkisaowNxe",
        "outputId": "d648b318-50fb-491b-abef-7fd141e784ec"
      },
      "outputs": [
        {
          "name": "stdout",
          "output_type": "stream",
          "text": [
            "              precision    recall  f1-score   support\n",
            "\n",
            "           0       0.95      0.99      0.97     44652\n",
            "           1       0.98      0.99      0.99     44622\n",
            "           2       0.77      0.90      0.83     44459\n",
            "           3       0.52      0.64      0.57     44712\n",
            "           4       0.45      0.47      0.46     44402\n",
            "           5       0.41      0.34      0.37     44415\n",
            "           6       0.38      0.25      0.30     43979\n",
            "\n",
            "    accuracy                           0.66    311241\n",
            "   macro avg       0.64      0.65      0.64    311241\n",
            "weighted avg       0.64      0.66      0.64    311241\n",
            "\n"
          ]
        }
      ],
      "source": [
        "from sklearn.metrics import classification_report\n",
        "print(classification_report(y_test, y_pred))"
      ]
    }
  ],
  "metadata": {
    "colab": {
      "name": "knn.ipynb",
      "provenance": []
    },
    "kernelspec": {
      "display_name": "Python 3.9.12 ('base')",
      "language": "python",
      "name": "python3"
    },
    "language_info": {
      "codemirror_mode": {
        "name": "ipython",
        "version": 3
      },
      "file_extension": ".py",
      "mimetype": "text/x-python",
      "name": "python",
      "nbconvert_exporter": "python",
      "pygments_lexer": "ipython3",
      "version": "3.9.12"
    },
    "vscode": {
      "interpreter": {
        "hash": "a853a36dd34f4e127a1c940f133f5f5f69f52494a182d60a25a7162197551ce1"
      }
    }
  },
  "nbformat": 4,
  "nbformat_minor": 0
}
