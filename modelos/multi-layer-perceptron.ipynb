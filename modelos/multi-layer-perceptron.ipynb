{
 "cells": [
  {
   "cell_type": "code",
   "execution_count": 1,
   "metadata": {},
   "outputs": [],
   "source": [
    "import pandas as pd"
   ]
  },
  {
   "cell_type": "code",
   "execution_count": 2,
   "metadata": {},
   "outputs": [],
   "source": [
    "dataset = pd.read_csv('../dataset/dataset_final.csv', header=0, low_memory=False)"
   ]
  },
  {
   "cell_type": "code",
   "execution_count": 3,
   "metadata": {},
   "outputs": [
    {
     "data": {
      "text/html": [
       "<div>\n",
       "<style scoped>\n",
       "    .dataframe tbody tr th:only-of-type {\n",
       "        vertical-align: middle;\n",
       "    }\n",
       "\n",
       "    .dataframe tbody tr th {\n",
       "        vertical-align: top;\n",
       "    }\n",
       "\n",
       "    .dataframe thead th {\n",
       "        text-align: right;\n",
       "    }\n",
       "</style>\n",
       "<table border=\"1\" class=\"dataframe\">\n",
       "  <thead>\n",
       "    <tr style=\"text-align: right;\">\n",
       "      <th></th>\n",
       "      <th>EDAD</th>\n",
       "      <th>DIST_HECHO</th>\n",
       "      <th>COMISARIA</th>\n",
       "      <th>DIST_CIA</th>\n",
       "      <th>MODALIDAD</th>\n",
       "    </tr>\n",
       "  </thead>\n",
       "  <tbody>\n",
       "    <tr>\n",
       "      <th>0</th>\n",
       "      <td>32</td>\n",
       "      <td>453</td>\n",
       "      <td>371</td>\n",
       "      <td>252</td>\n",
       "      <td>2</td>\n",
       "    </tr>\n",
       "    <tr>\n",
       "      <th>1</th>\n",
       "      <td>40</td>\n",
       "      <td>130</td>\n",
       "      <td>311</td>\n",
       "      <td>78</td>\n",
       "      <td>2</td>\n",
       "    </tr>\n",
       "    <tr>\n",
       "      <th>2</th>\n",
       "      <td>28</td>\n",
       "      <td>651</td>\n",
       "      <td>431</td>\n",
       "      <td>376</td>\n",
       "      <td>2</td>\n",
       "    </tr>\n",
       "    <tr>\n",
       "      <th>3</th>\n",
       "      <td>55</td>\n",
       "      <td>772</td>\n",
       "      <td>598</td>\n",
       "      <td>450</td>\n",
       "      <td>6</td>\n",
       "    </tr>\n",
       "    <tr>\n",
       "      <th>4</th>\n",
       "      <td>21</td>\n",
       "      <td>847</td>\n",
       "      <td>664</td>\n",
       "      <td>496</td>\n",
       "      <td>4</td>\n",
       "    </tr>\n",
       "  </tbody>\n",
       "</table>\n",
       "</div>"
      ],
      "text/plain": [
       "   EDAD  DIST_HECHO  COMISARIA  DIST_CIA  MODALIDAD\n",
       "0    32         453        371       252          2\n",
       "1    40         130        311        78          2\n",
       "2    28         651        431       376          2\n",
       "3    55         772        598       450          6\n",
       "4    21         847        664       496          4"
      ]
     },
     "execution_count": 3,
     "metadata": {},
     "output_type": "execute_result"
    }
   ],
   "source": [
    "dataset.head()"
   ]
  },
  {
   "cell_type": "code",
   "execution_count": 4,
   "metadata": {},
   "outputs": [
    {
     "data": {
      "text/plain": [
       "6    177852\n",
       "5    155965\n",
       "4     64114\n",
       "3      6900\n",
       "2      1453\n",
       "0       104\n",
       "1        43\n",
       "Name: MODALIDAD, dtype: int64"
      ]
     },
     "execution_count": 4,
     "metadata": {},
     "output_type": "execute_result"
    }
   ],
   "source": [
    "dataset['MODALIDAD'].value_counts()"
   ]
  },
  {
   "cell_type": "code",
   "execution_count": 5,
   "metadata": {},
   "outputs": [],
   "source": [
    "X = dataset.drop(['MODALIDAD'], axis=1)\n",
    "y = dataset['MODALIDAD']"
   ]
  },
  {
   "cell_type": "markdown",
   "metadata": {},
   "source": [
    "### Balancear los valores de la variable objetivo"
   ]
  },
  {
   "cell_type": "code",
   "execution_count": 6,
   "metadata": {},
   "outputs": [],
   "source": [
    "from imblearn.over_sampling import SMOTE\n",
    "X, y = SMOTE().fit_sample(X, y)"
   ]
  },
  {
   "cell_type": "code",
   "execution_count": 7,
   "metadata": {},
   "outputs": [
    {
     "data": {
      "text/plain": [
       "2    177852\n",
       "6    177852\n",
       "4    177852\n",
       "5    177852\n",
       "3    177852\n",
       "0    177852\n",
       "1    177852\n",
       "Name: MODALIDAD, dtype: int64"
      ]
     },
     "execution_count": 7,
     "metadata": {},
     "output_type": "execute_result"
    }
   ],
   "source": [
    "y.value_counts()"
   ]
  },
  {
   "cell_type": "markdown",
   "metadata": {},
   "source": [
    "### Separar los datos en entrenamiento y prueba"
   ]
  },
  {
   "cell_type": "code",
   "execution_count": 8,
   "metadata": {},
   "outputs": [],
   "source": [
    "from sklearn.model_selection import train_test_split\n",
    "X_train, X_test, y_train, y_test = train_test_split(X, y, test_size=0.3, random_state=0)"
   ]
  },
  {
   "cell_type": "markdown",
   "metadata": {},
   "source": [
    "### Escalamiento"
   ]
  },
  {
   "cell_type": "code",
   "execution_count": 9,
   "metadata": {},
   "outputs": [],
   "source": [
    "from sklearn.preprocessing import StandardScaler\n",
    "scaler = StandardScaler()\n",
    "X_train = scaler.fit_transform(X_train)\n",
    "X_test = scaler.transform(X_test)"
   ]
  },
  {
   "cell_type": "code",
   "execution_count": 10,
   "metadata": {},
   "outputs": [
    {
     "data": {
      "text/plain": [
       "MLPClassifier(max_iter=1000, random_state=0)"
      ]
     },
     "execution_count": 10,
     "metadata": {},
     "output_type": "execute_result"
    }
   ],
   "source": [
    "from sklearn.neural_network import MLPClassifier\n",
    "classifier = MLPClassifier(random_state=0, max_iter=1000)\n",
    "classifier.fit(X_train, y_train)"
   ]
  },
  {
   "cell_type": "code",
   "execution_count": 11,
   "metadata": {},
   "outputs": [
    {
     "data": {
      "text/html": [
       "<div>\n",
       "<style scoped>\n",
       "    .dataframe tbody tr th:only-of-type {\n",
       "        vertical-align: middle;\n",
       "    }\n",
       "\n",
       "    .dataframe tbody tr th {\n",
       "        vertical-align: top;\n",
       "    }\n",
       "\n",
       "    .dataframe thead th {\n",
       "        text-align: right;\n",
       "    }\n",
       "</style>\n",
       "<table border=\"1\" class=\"dataframe\">\n",
       "  <thead>\n",
       "    <tr style=\"text-align: right;\">\n",
       "      <th>Predicted</th>\n",
       "      <th>0</th>\n",
       "      <th>1</th>\n",
       "      <th>2</th>\n",
       "      <th>3</th>\n",
       "      <th>4</th>\n",
       "      <th>5</th>\n",
       "      <th>6</th>\n",
       "      <th>All</th>\n",
       "    </tr>\n",
       "    <tr>\n",
       "      <th>True</th>\n",
       "      <th></th>\n",
       "      <th></th>\n",
       "      <th></th>\n",
       "      <th></th>\n",
       "      <th></th>\n",
       "      <th></th>\n",
       "      <th></th>\n",
       "      <th></th>\n",
       "    </tr>\n",
       "  </thead>\n",
       "  <tbody>\n",
       "    <tr>\n",
       "      <th>0</th>\n",
       "      <td>45866</td>\n",
       "      <td>3831</td>\n",
       "      <td>1646</td>\n",
       "      <td>261</td>\n",
       "      <td>634</td>\n",
       "      <td>768</td>\n",
       "      <td>631</td>\n",
       "      <td>53637</td>\n",
       "    </tr>\n",
       "    <tr>\n",
       "      <th>1</th>\n",
       "      <td>1098</td>\n",
       "      <td>50261</td>\n",
       "      <td>655</td>\n",
       "      <td>78</td>\n",
       "      <td>778</td>\n",
       "      <td>358</td>\n",
       "      <td>289</td>\n",
       "      <td>53517</td>\n",
       "    </tr>\n",
       "    <tr>\n",
       "      <th>2</th>\n",
       "      <td>4675</td>\n",
       "      <td>4401</td>\n",
       "      <td>26576</td>\n",
       "      <td>1019</td>\n",
       "      <td>6841</td>\n",
       "      <td>4260</td>\n",
       "      <td>5707</td>\n",
       "      <td>53479</td>\n",
       "    </tr>\n",
       "    <tr>\n",
       "      <th>3</th>\n",
       "      <td>3577</td>\n",
       "      <td>5098</td>\n",
       "      <td>7725</td>\n",
       "      <td>7888</td>\n",
       "      <td>14777</td>\n",
       "      <td>5703</td>\n",
       "      <td>8736</td>\n",
       "      <td>53504</td>\n",
       "    </tr>\n",
       "    <tr>\n",
       "      <th>4</th>\n",
       "      <td>3996</td>\n",
       "      <td>5370</td>\n",
       "      <td>7656</td>\n",
       "      <td>3539</td>\n",
       "      <td>20362</td>\n",
       "      <td>6035</td>\n",
       "      <td>6234</td>\n",
       "      <td>53192</td>\n",
       "    </tr>\n",
       "    <tr>\n",
       "      <th>5</th>\n",
       "      <td>4163</td>\n",
       "      <td>6103</td>\n",
       "      <td>8157</td>\n",
       "      <td>4827</td>\n",
       "      <td>13116</td>\n",
       "      <td>8627</td>\n",
       "      <td>8215</td>\n",
       "      <td>53208</td>\n",
       "    </tr>\n",
       "    <tr>\n",
       "      <th>6</th>\n",
       "      <td>4290</td>\n",
       "      <td>5673</td>\n",
       "      <td>8029</td>\n",
       "      <td>4686</td>\n",
       "      <td>11639</td>\n",
       "      <td>6436</td>\n",
       "      <td>12200</td>\n",
       "      <td>52953</td>\n",
       "    </tr>\n",
       "    <tr>\n",
       "      <th>All</th>\n",
       "      <td>67665</td>\n",
       "      <td>80737</td>\n",
       "      <td>60444</td>\n",
       "      <td>22298</td>\n",
       "      <td>68147</td>\n",
       "      <td>32187</td>\n",
       "      <td>42012</td>\n",
       "      <td>373490</td>\n",
       "    </tr>\n",
       "  </tbody>\n",
       "</table>\n",
       "</div>"
      ],
      "text/plain": [
       "Predicted      0      1      2      3      4      5      6     All\n",
       "True                                                              \n",
       "0          45866   3831   1646    261    634    768    631   53637\n",
       "1           1098  50261    655     78    778    358    289   53517\n",
       "2           4675   4401  26576   1019   6841   4260   5707   53479\n",
       "3           3577   5098   7725   7888  14777   5703   8736   53504\n",
       "4           3996   5370   7656   3539  20362   6035   6234   53192\n",
       "5           4163   6103   8157   4827  13116   8627   8215   53208\n",
       "6           4290   5673   8029   4686  11639   6436  12200   52953\n",
       "All        67665  80737  60444  22298  68147  32187  42012  373490"
      ]
     },
     "execution_count": 11,
     "metadata": {},
     "output_type": "execute_result"
    }
   ],
   "source": [
    "y_pred = classifier.predict(X_test)\n",
    "pd.crosstab(y_test, y_pred, rownames=['True'], colnames=['Predicted'], margins=True)"
   ]
  },
  {
   "cell_type": "code",
   "execution_count": 12,
   "metadata": {},
   "outputs": [
    {
     "name": "stdout",
     "output_type": "stream",
     "text": [
      "              precision    recall  f1-score   support\n",
      "\n",
      "           0       0.68      0.86      0.76     53637\n",
      "           1       0.62      0.94      0.75     53517\n",
      "           2       0.44      0.50      0.47     53479\n",
      "           3       0.35      0.15      0.21     53504\n",
      "           4       0.30      0.38      0.34     53192\n",
      "           5       0.27      0.16      0.20     53208\n",
      "           6       0.29      0.23      0.26     52953\n",
      "\n",
      "    accuracy                           0.46    373490\n",
      "   macro avg       0.42      0.46      0.42    373490\n",
      "weighted avg       0.42      0.46      0.43    373490\n",
      "\n"
     ]
    }
   ],
   "source": [
    "from sklearn.metrics import classification_report\n",
    "print(classification_report(y_test, y_pred))"
   ]
  }
 ],
 "metadata": {
  "kernelspec": {
   "display_name": "Python 3.9.12 ('base')",
   "language": "python",
   "name": "python3"
  },
  "language_info": {
   "codemirror_mode": {
    "name": "ipython",
    "version": 3
   },
   "file_extension": ".py",
   "mimetype": "text/x-python",
   "name": "python",
   "nbconvert_exporter": "python",
   "pygments_lexer": "ipython3",
   "version": "3.9.12"
  },
  "orig_nbformat": 4,
  "vscode": {
   "interpreter": {
    "hash": "a853a36dd34f4e127a1c940f133f5f5f69f52494a182d60a25a7162197551ce1"
   }
  }
 },
 "nbformat": 4,
 "nbformat_minor": 2
}
