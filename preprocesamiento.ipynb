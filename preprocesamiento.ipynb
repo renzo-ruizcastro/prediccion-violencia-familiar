{
 "cells": [
  {
   "cell_type": "code",
   "execution_count": 1,
   "metadata": {},
   "outputs": [],
   "source": [
    "import pandas as pd\n",
    "import numpy as np"
   ]
  },
  {
   "cell_type": "code",
   "execution_count": 2,
   "metadata": {},
   "outputs": [],
   "source": [
    "datalake = pd.read_csv('./datalake/datalake.csv', encoding='utf-8', header=0, low_memory=False)"
   ]
  },
  {
   "cell_type": "code",
   "execution_count": 3,
   "metadata": {},
   "outputs": [
    {
     "name": "stdout",
     "output_type": "stream",
     "text": [
      "<class 'pandas.core.frame.DataFrame'>\n",
      "RangeIndex: 850013 entries, 0 to 850012\n",
      "Data columns (total 42 columns):\n",
      " #   Column              Non-Null Count   Dtype \n",
      "---  ------              --------------   ----- \n",
      " 0   COMISARIA           850013 non-null  object\n",
      " 1   CUADRA              53118 non-null   object\n",
      " 2   DERIVADA_FISCALIA   715460 non-null  object\n",
      " 3   DIRECCION           850013 non-null  object\n",
      " 4   DIST_CIA            850013 non-null  object\n",
      " 5   DIST_HECHO          850013 non-null  object\n",
      " 6   DPTO_CIA            850013 non-null  object\n",
      " 7   DPTO_HECHO          850013 non-null  object\n",
      " 8   EDAD                847713 non-null  object\n",
      " 9   ESTADO_DEN          850013 non-null  object\n",
      " 10  EST_CIVIL           849957 non-null  object\n",
      " 11  FECHA_HORA_HECHO    850013 non-null  object\n",
      " 12  ID_COMISARIA        850013 non-null  int64 \n",
      " 13  ID_EST_CIVIL        849962 non-null  object\n",
      " 14  ID_LIBRO            850013 non-null  object\n",
      " 15  ID_MATERIA          850013 non-null  int64 \n",
      " 16  ID_MODALIDAD        850013 non-null  int64 \n",
      " 17  ID_NIVEL_EDUCATIVO  90162 non-null   object\n",
      " 18  ID_REGION           850013 non-null  int64 \n",
      " 19  ID_SIT_PERSONA      850013 non-null  object\n",
      " 20  ID_SUBTIPO          850013 non-null  int64 \n",
      " 21  ID_TIPO             850013 non-null  int64 \n",
      " 22  ID_TIPO_DENUNCIA    850013 non-null  object\n",
      " 23  LIBRO               850013 non-null  object\n",
      " 24  MATERIA             850013 non-null  object\n",
      " 25  MODALIDAD           850013 non-null  object\n",
      " 26  NIVEL_EDUCATIVO     55764 non-null   object\n",
      " 27  OCUPACION           353046 non-null  object\n",
      " 28  PROV_CIA            850013 non-null  object\n",
      " 29  PROV_HECHO          850013 non-null  object\n",
      " 30  REGION              850013 non-null  object\n",
      " 31  SEXO                849347 non-null  object\n",
      " 32  SIT_PERSONA         850013 non-null  object\n",
      " 33  SUB_TIPO            850013 non-null  object\n",
      " 34  TIPO                850013 non-null  object\n",
      " 35  TIPO_DENUNCIA       850013 non-null  object\n",
      " 36  UBICACION           850013 non-null  object\n",
      " 37  UBIGEO_CIA          850013 non-null  int64 \n",
      " 38  UBIGEO_HECHO        850013 non-null  int64 \n",
      " 39  VIA                 850013 non-null  object\n",
      " 40  fec_registro        850013 non-null  object\n",
      " 41  pais_natal          850013 non-null  object\n",
      "dtypes: int64(8), object(34)\n",
      "memory usage: 272.4+ MB\n",
      "None\n"
     ]
    }
   ],
   "source": [
    "original_data = datalake.copy(deep=True)\n",
    "print(datalake.info())"
   ]
  },
  {
   "cell_type": "code",
   "execution_count": 4,
   "metadata": {},
   "outputs": [
    {
     "name": "stdout",
     "output_type": "stream",
     "text": [
      "object (34)\n",
      " ['COMISARIA', 'CUADRA', 'DERIVADA_FISCALIA', 'DIRECCION', 'DIST_CIA', 'DIST_HECHO', 'DPTO_CIA', 'DPTO_HECHO', 'EDAD', 'ESTADO_DEN', 'EST_CIVIL', 'FECHA_HORA_HECHO', 'ID_EST_CIVIL', 'ID_LIBRO', 'ID_NIVEL_EDUCATIVO', 'ID_SIT_PERSONA', 'ID_TIPO_DENUNCIA', 'LIBRO', 'MATERIA', 'MODALIDAD', 'NIVEL_EDUCATIVO', 'OCUPACION', 'PROV_CIA', 'PROV_HECHO', 'REGION', 'SEXO', 'SIT_PERSONA', 'SUB_TIPO', 'TIPO', 'TIPO_DENUNCIA', 'UBICACION', 'VIA', 'fec_registro', 'pais_natal'] \n",
      "int64 (8)\n",
      " ['ID_COMISARIA', 'ID_MATERIA', 'ID_MODALIDAD', 'ID_REGION', 'ID_SUBTIPO', 'ID_TIPO', 'UBIGEO_CIA', 'UBIGEO_HECHO'] \n"
     ]
    }
   ],
   "source": [
    "# Idenficando las columnas por tipo de dato\n",
    "object_columns = []\n",
    "int64_columns = []\n",
    "\n",
    "def update_types():\n",
    "    global object_columns, int64_columns\n",
    "    object_columns = datalake.select_dtypes(['object']).columns.to_list()\n",
    "    int64_columns = datalake.select_dtypes(['int64']).columns.to_list()\n",
    "    print(f'object ({len(object_columns)})\\n {object_columns} ')\n",
    "    print(f'int64 ({len(int64_columns)})\\n {int64_columns} ')\n",
    "\n",
    "update_types()"
   ]
  },
  {
   "cell_type": "code",
   "execution_count": 5,
   "metadata": {},
   "outputs": [
    {
     "name": "stdout",
     "output_type": "stream",
     "text": [
      "object (42)\n",
      " ['COMISARIA', 'CUADRA', 'DERIVADA_FISCALIA', 'DIRECCION', 'DIST_CIA', 'DIST_HECHO', 'DPTO_CIA', 'DPTO_HECHO', 'EDAD', 'ESTADO_DEN', 'EST_CIVIL', 'FECHA_HORA_HECHO', 'ID_COMISARIA', 'ID_EST_CIVIL', 'ID_LIBRO', 'ID_MATERIA', 'ID_MODALIDAD', 'ID_NIVEL_EDUCATIVO', 'ID_REGION', 'ID_SIT_PERSONA', 'ID_SUBTIPO', 'ID_TIPO', 'ID_TIPO_DENUNCIA', 'LIBRO', 'MATERIA', 'MODALIDAD', 'NIVEL_EDUCATIVO', 'OCUPACION', 'PROV_CIA', 'PROV_HECHO', 'REGION', 'SEXO', 'SIT_PERSONA', 'SUB_TIPO', 'TIPO', 'TIPO_DENUNCIA', 'UBICACION', 'UBIGEO_CIA', 'UBIGEO_HECHO', 'VIA', 'fec_registro', 'pais_natal'] \n",
      "int64 (0)\n",
      " [] \n"
     ]
    }
   ],
   "source": [
    "#Se están clasificando columnas de id's (incluyendo UBIGEOs) como int64.\n",
    "#Estos datos no son propiamente numéricos, de hecho, la única categoría numérica sería 'EDAD', pero ahora es de tipo object.\n",
    "#Primero se convertirán todas las columnas id detectadas como int64 a object\n",
    "for col in int64_columns:\n",
    "    datalake[col] = datalake[col].astype(str)\n",
    "update_types()"
   ]
  },
  {
   "cell_type": "markdown",
   "metadata": {},
   "source": [
    "#### Filtro inicial de atributos"
   ]
  },
  {
   "cell_type": "code",
   "execution_count": 6,
   "metadata": {},
   "outputs": [
    {
     "name": "stdout",
     "output_type": "stream",
     "text": [
      "object (28)\n",
      " ['COMISARIA', 'CUADRA', 'DERIVADA_FISCALIA', 'DIRECCION', 'DIST_CIA', 'DIST_HECHO', 'DPTO_CIA', 'DPTO_HECHO', 'EDAD', 'ESTADO_DEN', 'EST_CIVIL', 'FECHA_HORA_HECHO', 'LIBRO', 'MATERIA', 'MODALIDAD', 'NIVEL_EDUCATIVO', 'OCUPACION', 'PROV_CIA', 'PROV_HECHO', 'REGION', 'SEXO', 'SUB_TIPO', 'TIPO', 'TIPO_DENUNCIA', 'UBICACION', 'VIA', 'FEC_REGISTRO', 'PAIS_NATAL'] \n",
      "int64 (0)\n",
      " [] \n",
      "<class 'pandas.core.frame.DataFrame'>\n",
      "Int64Index: 422522 entries, 0 to 850010\n",
      "Data columns (total 28 columns):\n",
      " #   Column             Non-Null Count   Dtype \n",
      "---  ------             --------------   ----- \n",
      " 0   COMISARIA          422522 non-null  object\n",
      " 1   CUADRA             25064 non-null   object\n",
      " 2   DERIVADA_FISCALIA  349558 non-null  object\n",
      " 3   DIRECCION          422522 non-null  object\n",
      " 4   DIST_CIA           422522 non-null  object\n",
      " 5   DIST_HECHO         422522 non-null  object\n",
      " 6   DPTO_CIA           422522 non-null  object\n",
      " 7   DPTO_HECHO         422522 non-null  object\n",
      " 8   EDAD               420901 non-null  object\n",
      " 9   ESTADO_DEN         422522 non-null  object\n",
      " 10  EST_CIVIL          422515 non-null  object\n",
      " 11  FECHA_HORA_HECHO   422522 non-null  object\n",
      " 12  LIBRO              422522 non-null  object\n",
      " 13  MATERIA            422522 non-null  object\n",
      " 14  MODALIDAD          422522 non-null  object\n",
      " 15  NIVEL_EDUCATIVO    16630 non-null   object\n",
      " 16  OCUPACION          166714 non-null  object\n",
      " 17  PROV_CIA           422522 non-null  object\n",
      " 18  PROV_HECHO         422522 non-null  object\n",
      " 19  REGION             422522 non-null  object\n",
      " 20  SEXO               422279 non-null  object\n",
      " 21  SUB_TIPO           422522 non-null  object\n",
      " 22  TIPO               422522 non-null  object\n",
      " 23  TIPO_DENUNCIA      422522 non-null  object\n",
      " 24  UBICACION          422522 non-null  object\n",
      " 25  VIA                422522 non-null  object\n",
      " 26  FEC_REGISTRO       422522 non-null  object\n",
      " 27  PAIS_NATAL         422522 non-null  object\n",
      "dtypes: object(28)\n",
      "memory usage: 93.5+ MB\n"
     ]
    }
   ],
   "source": [
    "# Las columnas ID no se considera necesarias para el análisis, por lo que se eliminan\n",
    "datalake = datalake[datalake.columns.drop(list(datalake.filter(regex='ID_')))]\n",
    "# Las columnas UBIGEO identifican el departamento, provincia y distrito de cada registro, por lo que se eliminan\n",
    "datalake = datalake[datalake.columns.drop(list(datalake.filter(regex='UBIGEO')))]\n",
    "# Para estandarizar los nombres de las columnas, se convertirán a mayúsculas\n",
    "datalake.columns = datalake.columns.str.upper()\n",
    "\n",
    "# La investigación busca predecir la modalidad de violencia familiar que efectua una persona\n",
    "# Se limita los registros a los que poseen SIT_PERSONA == 'DENUNCIADO'\n",
    "datalake = datalake[datalake['SIT_PERSONA'] == 'DENUNCIADO']\n",
    "datalake = datalake.drop('SIT_PERSONA', axis=1)\n",
    "\n",
    "update_types()\n",
    "datalake.info()"
   ]
  },
  {
   "cell_type": "markdown",
   "metadata": {},
   "source": [
    "#### Exploración de datos"
   ]
  },
  {
   "cell_type": "markdown",
   "metadata": {},
   "source": [
    "##### Valores perdidos"
   ]
  },
  {
   "cell_type": "code",
   "execution_count": 7,
   "metadata": {},
   "outputs": [],
   "source": [
    "# Trimea los textos y si resulta vacio, se pone nan para luego aplicar el fillna\n",
    "for col in object_columns:\n",
    "    datalake[col] = datalake[col].str.strip()\n",
    "datalake = datalake.replace('', np.nan)"
   ]
  },
  {
   "cell_type": "code",
   "execution_count": 8,
   "metadata": {},
   "outputs": [
    {
     "name": "stdout",
     "output_type": "stream",
     "text": [
      "Número total de registros: 422522\n",
      "Número total de valores perdidos: 1365562\n",
      "Valores perdidos por columna:\n",
      "CUADRA: 397458 (94.07%)\n",
      "DERIVADA_FISCALIA: 72967 (17.27%)\n",
      "EDAD: 5808 (1.37%)\n",
      "ESTADO_DEN: 172615 (40.85%)\n",
      "EST_CIVIL: 7 (0.00%)\n",
      "FECHA_HORA_HECHO: 16091 (3.81%)\n",
      "NIVEL_EDUCATIVO: 405892 (96.06%)\n",
      "OCUPACION: 278348 (65.88%)\n",
      "SEXO: 243 (0.06%)\n",
      "UBICACION: 13 (0.00%)\n",
      "FEC_REGISTRO: 16091 (3.81%)\n",
      "PAIS_NATAL: 29 (0.01%)\n"
     ]
    }
   ],
   "source": [
    "# Resumen de valores perdidos\n",
    "def missing_values():\n",
    "    row_count = datalake.shape[0]\n",
    "    print(f'Número total de registros: {row_count}')\n",
    "    global_null_count = datalake.isnull().sum().sum()\n",
    "    print(f'Número total de valores perdidos: {global_null_count}')\n",
    "    print('Valores perdidos por columna:')\n",
    "    for col in datalake.columns:\n",
    "        null_count = datalake[col].isnull().sum()\n",
    "        null_percent = null_count / row_count * 100\n",
    "        if null_count > 0:\n",
    "            print(f'{col}: {null_count} ({null_percent:.2f}%)')\n",
    "\n",
    "missing_values()"
   ]
  },
  {
   "cell_type": "markdown",
   "metadata": {},
   "source": [
    "##### Valores únicos para cada atributo"
   ]
  },
  {
   "cell_type": "code",
   "execution_count": 9,
   "metadata": {},
   "outputs": [],
   "source": [
    "def get_uniques(col):\n",
    "    uniques = datalake[col].dropna().unique()\n",
    "    print(f'{col} [{len(uniques)} unique values]')\n",
    "    print(uniques)"
   ]
  },
  {
   "cell_type": "code",
   "execution_count": 10,
   "metadata": {},
   "outputs": [
    {
     "name": "stdout",
     "output_type": "stream",
     "text": [
      "COMISARIA [1044 unique values]\n",
      "['HUANCHACO' 'DULANTO' 'JICAMARCA' ... 'CORDOVA'\n",
      " 'COMISARIA DE FAMILIA - HUARAZ' 'INCAHUASI']\n",
      "CUADRA [902 unique values]\n",
      "['1.0' '2.0' '7.0' '35.0' '12.0' '13.0' '10.0' '6.0' '4.0' '16.0' '17.0'\n",
      " '3.0' '15.0' '26.0' '18.0' '5.0' '14.0' '36.0' '8.0' '9.0' '27.0' '22.0'\n",
      " '50.0' '38.0' '32.0' '31.0' '11.0' '39.0' '28.0' '24.0' '33.0' '46.0'\n",
      " '62.0' '41.0' '23.0' '40.0' '20.0' '37.0' '19.0' '64.0' '30.0' '34.0'\n",
      " '70.0' '2732.0' '42.0' '21.0' '25.0' '72.0' '56.0' '356.0' '1532.0' '0.0'\n",
      " '154.0' '51.0' '821.0' '374.0' '178.0' '58.0' '501.0' '29.0' '760.0'\n",
      " '53.0' '128.0' '650.0' '231.0' '1086.0' '497.0' '227.0' '181.0' '855.0'\n",
      " '88.0' '74.0' '1057.0' '44.0' '911.0' '590.0' '830.0' '441.0' '739.0'\n",
      " '115.0' '400.0' '83.0' '499.0' '136.0' '979.0' '1379.0' '48.0' '668.0'\n",
      " '301.0' '67.0' '470.0' '63.0' '221.0' '126.0' '187.0' '54.0' '245.0'\n",
      " '270.0' '273.0' '59.0' '68.0' '1167.0' '3290.0' '466.0' '112.0' '106.0'\n",
      " '1034.0' '504.0' '65.0' '505.0' '135.0' '45.0' '385.0' '419.0' '78.0'\n",
      " '869.0' '697.0' '994.0' '584.0' '214.0' '176.0' '109.0' '310.0' '142.0'\n",
      " '97.0' '179.0' '429.0' '555.0' '287.0' '290.0' '731.0' '145.0' '755.0'\n",
      " '298.0' '140.0' '103.0' '569.0' '560.0' '89.0' '102.0' '345.0' '209.0'\n",
      " '640.0' '230.0' '297.0' '81.0' '225.0' '549.0' '210.0' '79.0' '503.0'\n",
      " '1620.0' '120.0' '486.0' '797.0' '455.0' '446.0' '1258.0' '835.0' '799.0'\n",
      " '149.0' '130.0' '163.0' '320.0' '73.0' '208.0' '325.0' '211.0' '1222.0'\n",
      " '384.0' '276.0' '111.0' '735.0' '556.0' '632.0' '256.0' '151.0' '107.0'\n",
      " '811.0' '127.0' '101.0' '47.0' '160.0' '300.0' '996.0' '803.0' '250.0'\n",
      " '85.0' '1160.0' '330.0' '538.0' '625.0' '495.0' '257.0' '240.0' '381.0'\n",
      " '969.0' '71.0' '427.0' '164.0' '3135.0' '189.0' '1623.0' '118.0' '600.0'\n",
      " '265.0' '212.0' '263.0' '425.0' '55.0' '577.0' '143.0' '141.0' '478.0'\n",
      " '763.0' '700.0' '507.0' '295.0' '690.0' '2135.0' '5352.0' '999.0' '117.0'\n",
      " '152.0' '306.0' '190.0' '251.0' '170.0' '195.0' '98.0' '974.0' '511.0'\n",
      " '192.0' '732.0' '520.0' '207.0' '1299.0' '146.0' '309.0' '514.0' '203.0'\n",
      " '305.0' '105.0' '157.0' '312.0' '129.0' '180' '2' '1' '9' '5' '8' '20'\n",
      " '4' '32' '7' '10' '21' '3' '6' '210' '23' '948' '38' '18' '40' '12' '11'\n",
      " '25' '317' '15' '45' '167' '139' '95' '182' '100' '16' '410' '33' '14'\n",
      " '489' '496' '155' '980' '22' '37' '24' '158' '36' '17' '0' '512' '13'\n",
      " '35' '19' '30' '177' '218' '130' '29' '560' '1286' '208' '26' '112' '145'\n",
      " '115' '116' '70' '31' '505' '34' '685' '39' '28' '42' '2873' '49' '47'\n",
      " '27' '161' '710' '585' '2093' '702' '78' '300' '63' '308' '54' '144'\n",
      " '463' '55' '111' '407' '320' '2098' '52' '550' '675' '113' '517' '804'\n",
      " '418' '2649' '41' '535' '312' '58' '604' '214' '357' '65' '303' '53'\n",
      " '274' '507' '267' '817' '59' '129' '201' '1128' '2652' '133' '813' '409'\n",
      " '638' '330' '348' '316' '151' '285' '191' '1632' '269' '361' '755' '551'\n",
      " '403' '433' '131' '277' '123' '888' '450' '1401' '261' '674' '120' '500'\n",
      " '102' '812' '251' '192' '3172' '80' '370' '556' '3069' '247' '643' '622'\n",
      " '64' '919' '476' '458' '265' '325' '60' '448' '873' '69' '57' '141' '44'\n",
      " '306' '503' '198' '122' '178' '473' '279' '143' '71' '51' '213' '176'\n",
      " '630' '796' '288' '302' '204' '892' '629' '109' '304' '200' '240' '590'\n",
      " '655' '172' '341' '402' '1500' '863' '775' '1600' '531' '56' '46' '106'\n",
      " '955' '276' '68' '289' '364' '952' '961' '340' '670' '163' '132' '621'\n",
      " '324' '173' '142' '849' '530' '101' '157' '264' '540' '250' '256' '190'\n",
      " '861' '332' '262' '249' '170' '159' '735' '701' '654' '940' '688' '400'\n",
      " '284' '168' '270' '613' '280' '640' '911' '229' '104' '99' '739' '72'\n",
      " '851' '857' '103' '456' '353' '135' '183' '995' '236' '105' '215' '197'\n",
      " '369' '528' '355' '971' '156' '219' '222' '715' '326' '128' '822' '255'\n",
      " '245' '179' '323' '504' '108' '780' '790' '686' '134' '77' '719' '393'\n",
      " '650' '380' '440' '107' '538' '816' '342' '271' '319' '751' '98' '713'\n",
      " '399' '174' '742' '209' '424' '597' '203' '858' '110' '442' '492' '510'\n",
      " '140' '337' '767' '608' '189' '217' '645.0' '607.0' '108.0' '705.0'\n",
      " '540.0' '339.0' '860.0' '49.0' '709.0' '388.0' '293.0' '147.0' '139.0'\n",
      " '707.0' '177.0' '269.0' '124.0' '901.0' '618.0' '751.0' '367.0' '232.0'\n",
      " '665.0' '168.0' '200.0' '218.0' '204.0' '249.0' '433.0' '380.0' '397.0'\n",
      " '353.0' '721.0' '338.0' '100.0' '134.0' '357.0' '289.0' '119.0' '162.0'\n",
      " '313.0' '530.0' '793.0' '790.0' '603.0' '720.0' '329.0' '348.0' '543.0'\n",
      " '161.0' '155.0' '448.0' '857.0' '745.0' '828.0' '303.0' '228.0' '104.0'\n",
      " '807.0' '186.0' '531.0' '521.0' '185.0' '703.0' '220.0' '285.0' '314.0'\n",
      " '371.0' '167.0' '456.0' '242.0' '318.0' '850.0' '606.0' '976.0' '795.0'\n",
      " '337.0' '323.0' '114.0' '535.0' '319.0' '238.0' '183.0' '198.0' '387.0'\n",
      " '123.0' '952.0' '216.0' '410.0' '926.0' '548.0' '430.0' '150.0' '335.0'\n",
      " '719.0' '286.0' '378.0' '76.0' '509.0' '382.0' '587.0' '366.0' '282.0'\n",
      " '920.0' '864.0' '110.0' '219.0' '866.0' '784.0' '361.0' '413.0' '364.0'\n",
      " '960.0' '373.0' '248.0' '747.0' '315.0' '475.0' '423.0' '605.0' '451.0'\n",
      " '307.0' '202.0' '800.0' '701.0' '562.0' '359.0' '715.0' '125.0' '847.0'\n",
      " '533.0' '399.0' '206.0' '197.0' '468.0' '936.0' '680.0' '592.0' '956.0'\n",
      " '544.0' '845.0' '534.0' '675.0' '271.0' '854.0' '133.0' '131.0' '132.0'\n",
      " '993.0' '591.0' '332.0' '648.0' '302.0' '424.0' '725.0' '802.0' '464.0'\n",
      " '840.0' '224.0' '631.0' '159.0' '765.0' '215.0' '724.0' '415.0' '409.0'\n",
      " '458.0' '116.0' '336.0' '542.0' '344.0' '743.0' '175.0' '411.0' '950.0'\n",
      " '169.0' '277.0' '165.0' '278.0' '767.0' '138.0' '333.0' '601.0' '408.0'\n",
      " '252.0' '327.0' '557.0' '222.0' '326.0' '247.0' '201.0' '684.0' '658.0'\n",
      " '376.0' '414.0' '281.0' '545.0' '515.0' '471.0' '153.0' '824.0' '390.0'\n",
      " '239.0' '962.0' '418.0' '401.0' '279.0' '137.0' '52.0' '935.0' '573.0'\n",
      " '681.0' '416.0' '479.0' '638.0' '343.0' '940.0' '316.0' '87.0' '340.0'\n",
      " '619.0' '595.0' '461.0' '500.0' '393.0' '266.0' '440.0' '539.0' '474.0'\n",
      " '465.0' '350.0' '733.0' '711.0' '785.0' '342.0' '259.0' '870.0' '525.0'\n",
      " '477.0' '490.0' '746.0' '405.0' '275.0' '652.0' '253.0' '775.0' '568.0'\n",
      " '572.0' '630.0' '492.0' '450.0' '532.0' '616.0' '426.0' '236.0' '99.0'\n",
      " '362.0' '406.0' '368.0' '113.0' '148.0' '180.0' '235.0' '280.0' '268.0'\n",
      " '953.0' '825.0' '660.0' '880.0' '404.0' '417.0' '643.0' '551.0' '753.0'\n",
      " '861.0' '487.0' '930.0' '454.0' '484.0' '895.0' '685.0' '552.0' '375.0'\n",
      " '217.0' '158.0' '292.0' '421.0' '205.0' '761.0' '553.0' '294.0' '121.0'\n",
      " '561.0' '437.0' '498.0' '394.0' '851.0' '589.0' '629.0' '261.0' '878.0'\n",
      " '321.0' '459.0' '144.0' '741.0' '938.0' '671.0' '496.0' '234.0' '722.0'\n",
      " '363.0' '355.0' '95.0' '57.0' '403.0' '156.0' '246.0' '519.0' '288.0'\n",
      " '644.0' '794.0' '567.0' '874.0' '485.0' '649.0' '272.0' '602.0' '547.0'\n",
      " '491.0' '992.0' '173.0' '512.0' '351.0' '453.0' '655.0']\n",
      "DERIVADA_FISCALIA [9 unique values]\n",
      "['JUZGADO DE FAMILIA' 'OTROS' 'JUZGADO DE PAZ' 'UNIDAD PNP'\n",
      " 'FISCALÍA PENAL' 'FISCALÍA DE FAMILIA' 'JUZGADO PENAL'\n",
      " 'FISCALIA DE MEDIO AM' 'FISCALIA DE MEDIO AMBIENTE']\n",
      "DIRECCION [1642 unique values]\n",
      "['AV. LA RIVERA PLAZA SAN MARTIN' 'CALLAO'\n",
      " 'Mz. Q  S/N Ovalo Principal de Jicamarca' ... '44130' 'CASEREIA YAMANGO'\n",
      " 'CALLE SUCRE MZ E LTE 3']\n",
      "DIST_CIA [795 unique values]\n",
      "['HUANCHACO' 'CALLAO' 'LURIGANCHO - CHOSICA' 'OCOÑA' 'PARCONA' 'PUCUSANA'\n",
      " 'LA ESPERANZA' 'CHIMBOTE' 'VILLA EL SALVADOR' 'SAN MIGUEL'\n",
      " 'JOSE LEONARDO ORTIZ' 'JULIACA' 'VILLA MARIA DEL TRIUNFO' 'HUAURA'\n",
      " 'MAJES' 'SAMEGUA' 'JOSE LUIS BUSTAMANTE Y RIVERO' 'ATE'\n",
      " 'SAN JUAN DE LURIGANCHO' 'CAYMA' 'BARRANCO' 'MIRAFLORES'\n",
      " 'SAN MARTIN DE PORRES' 'VENTANILLA' 'EL AGUSTINO' 'LURIN' 'CHICLAYO'\n",
      " 'ABANCAY' 'LAMBAYEQUE' 'ISLAY' 'SANTA ANITA' 'CUSCO' 'HUANCAVELICA'\n",
      " 'CERRO COLORADO' 'NUEVO CHIMBOTE' 'SAN JUAN DE MIRAFLORES' 'SANTIAGO'\n",
      " 'TAMBURCO' 'PUNO' 'INDEPENDENCIA' 'CAJAMARCA' 'SANTIAGO DE SURCO' 'PIURA'\n",
      " 'LOS OLIVOS' 'LA MOLINA' 'SAN VICENTE DE CAÑETE' 'LA OROYA' 'LIMA'\n",
      " 'PAUCARPATA' 'PARIÑAS' 'CARABAYLLO' 'ICA' 'HUARAZ' 'TRUJILLO' 'SURQUILLO'\n",
      " 'ILO' 'SULLANA' 'MOQUEGUA' 'SAN BORJA' 'HUACHO' 'LOS BAÑOS DEL INCA'\n",
      " 'TACNA' 'EL TAMBO' 'VICTOR LARCO HERRERA' 'SAN ISIDRO' 'COMAS' 'MORROPE'\n",
      " 'UCHUMAYO' 'ZARUMILLA' 'ASCOPE' 'LA PERLA' 'ILAVE'\n",
      " 'CORONEL GREGORIO ALBARRACIN LANCHIPA' 'CIENEGUILLA' 'LA VICTORIA'\n",
      " 'RIMAC' 'SOCABAYA' 'WANCHAQ' 'CHACLACAYO' 'CALLERIA' 'AREQUIPA'\n",
      " '26 DE OCTUBRE' 'ALTO DE LA ALIANZA' 'SAYLLA' 'SECHURA' 'CHINCHA ALTA'\n",
      " 'MOLLENDO' 'CATACAOS' 'PACHACUTEC' 'EL PORVENIR' 'SAMUEL PASTOR'\n",
      " 'PUEBLO LIBRE' 'BELLAVISTA' 'LINCE' 'CHORRILLOS' 'CHULUCANAS'\n",
      " 'ALTO SELVA ALEGRE' 'DESAGUADERO' 'IMPERIAL' 'JACOBO HUNTER' 'SUNAMPE'\n",
      " 'YAUTAN' 'MAGDALENA DEL MAR' 'IQUITOS' 'PUENTE PIEDRA' 'CASMA' 'ANTA'\n",
      " 'YARINACOCHA' 'PUNTA NEGRA' 'CORRALES' 'LA TINGUIÑA' 'SANTA'\n",
      " 'VISTA ALEGRE' 'OLMOS' 'HUANCAYO' 'BELEN' 'TUMAN' 'FLORENCIA DE MORA'\n",
      " 'MARIANO MELGAR' 'JAYANCA' 'PISCO' 'SARIN' 'TIABAYA' 'NAUTA' 'VILLA RICA'\n",
      " 'BREÑA' 'PIMENTEL' 'PATIVILCA' 'SAN LUIS' 'SAN ANDRES' 'YUNGAY'\n",
      " 'NUEVO IMPERIAL' 'CONCEPCION' 'SANTA ROSA' 'REQUE' 'LAREDO' 'ANCON'\n",
      " 'JAUJA' 'CAJATAMBO' 'HUARMEY' 'HUALMAY' 'MOCHE' 'SANTA EULALIA'\n",
      " 'SAN SEBASTIAN' 'MARCONA' 'POMALCA' 'PICSI' 'SALAVERRY' 'MOTUPE'\n",
      " 'BUENOS AIRES' 'MALA' 'MOCHUMI' 'MATUCANA' 'PAITA' 'URCOS' 'TUMBES'\n",
      " 'SUPE' 'HUMAY' 'LA JOYA' 'CHILCA' 'AGUAS VERDES' 'SAN ANTONIO'\n",
      " 'PUEBLO NUEVO' 'HUARAL' 'ALTO LARAN' 'CARMEN DE LA LEGUA REYNOSO'\n",
      " 'CAMANA' 'POCOLLAY' 'PUNTA DE BOMBON' 'PACHACAMAC' 'SACHACA' 'CALCA'\n",
      " 'FERREÑAFE' 'COISHCO' 'SAN JUAN BAUTISTA' 'PALPA' 'MANANTAY' 'SAÑA'\n",
      " 'LA BREA' 'PATAPO' 'PARAMONGA' 'SAN JOSE' 'DEAN VALDIVIA' 'LOS ORGANOS'\n",
      " 'ETEN PUERTO' 'CAYALTI' 'HUANCABAMBA' 'CASTILLA' 'AIJA' 'EL ALTO'\n",
      " 'INDIANA' 'JAEN' 'PUCALA' 'JULI' 'SAN IGNACIO' 'TARMA' 'SAN BARTOLO'\n",
      " 'CASA GRANDE' 'CHARACATO' 'TUCUME' 'SAMANCO' 'CARHUAZ' 'PAIJAN' 'VICE'\n",
      " 'MI PERU' 'SUPE PUERTO' 'SALAS' 'ETEN' 'SUBTANJALLA' 'SAYAN'\n",
      " 'SAN AGUSTIN' 'HUAROCHIRI' 'CHANCAY' 'SAN JERONIMO' 'HUARO' 'CHOCOPE'\n",
      " 'SANTA CRUZ' 'LA MATANZA' 'YARABAMBA' 'MACHUPICCHU' 'CERRO AZUL'\n",
      " 'YUNGUYO' 'PACORA' 'CHICAMA' 'PEBAS' 'OTUZCO' 'CHIQUIAN' 'URUBAMBA'\n",
      " 'SICAYA' 'PITIPO' 'MAZAN' 'QUILMANA' 'HUAYUCACHI' 'TAMBO DE MORA'\n",
      " 'BERNAL' 'PUCARA' 'CHINCHA BAJA' 'BAGUA' 'IGNACIO ESCUDERO'\n",
      " 'RICARDO PALMA' 'PUNTA HERMOSA' 'TUPAC AMARU INCA' 'MARCARA' 'ORCOTUNA'\n",
      " 'SAN RAMON' 'MONSEFU' 'SAN JERONIMO DE TUNAN' 'TAYABAMBA' 'ACOBAMBA'\n",
      " 'SABANDIA' 'HUANUCO' 'CHONGOYAPE' 'POMATA' 'CHUPACA' 'PAMPACOLCA'\n",
      " 'SAPALLANGA' 'SAN PEDRO DE LLOC' 'PACAIPAMPA' 'NIEPOS' 'MEJIA'\n",
      " 'JEQUETEPEQUE' 'MANCOS' 'PACANGA' 'CHEPEN' 'RECUAY' 'LOCUMBA' 'NEPEÑA'\n",
      " 'MORALES' 'INCLAN' 'EL INGENIO' 'PARACAS' 'CALANGO' 'OYOTUN'\n",
      " 'CHANCHAMAYO' 'LOS AQUIJES' 'LA PUNTA' 'COCACHACRA' 'MORROPON' 'MORO'\n",
      " 'SAN NICOLAS' 'TINGO' 'BAGUA GRANDE' 'LUYA' 'LIMABAMBA' 'LAMUD' 'LA PECA'\n",
      " 'SANTO TOMAS' 'CAJARURO' 'FLORIDA' 'CHACHAPOYAS' 'JAMALCA' 'CHIRINOS'\n",
      " 'YAMBRASBAMBA' 'CHAVIN DE HUANTAR' 'LONGAR' 'HUARI' 'CHACAS' 'NIEVA'\n",
      " 'NAZCA' 'POMABAMBA' 'SIHUAS' 'CORONGO' 'CABANA' 'PACHIA' 'CHIRIMOTO'\n",
      " 'AMARILIS' 'MOLINOPAMPA' 'PISCOBAMBA' 'ARAMANGO' 'HUAMACHUCO' 'POROTO'\n",
      " 'ANGASMARCA' 'VIRU' 'APATA' 'PATAZ' 'SANTIAGO DE CHUCO' 'OCALLI' 'JULCAN'\n",
      " 'CASCAS' 'RAZURI' 'MOROCOCHA' 'OXAPAMPA' 'ILLIMO' 'LA ARENA' 'LANCONES'\n",
      " 'PARCOY' 'SAN FRANCISCO DE DAGUAS' 'IMAZA' 'ASIA' 'PACASMAYO' 'CUMBA'\n",
      " 'SAN MATEO' 'JUMBILLA' 'LA JALCA' 'ACOLLA' 'CHAO' 'SAMA' 'SAN PABLO'\n",
      " 'ENCAÑADA' 'ZORRITOS' 'BAMBAMARCA' 'NAMORA' 'CHILETE'\n",
      " 'EDUARDO VILLANUEVA' 'ICHOCAN' 'CACHACHI' 'CONTUMAZA' 'PEDRO GALVEZ'\n",
      " 'CALQUIS' 'HUASMIN' 'HUAMBOS' 'CUTERVO' 'SITACOCHA' 'TARATA' 'MAGDALENA'\n",
      " 'JESUS' 'CELENDIN' 'CAJABAMBA' 'CHOTA' 'GUADALUPE' 'EL PRADO' 'SUCRE'\n",
      " 'ANDAHUAYLILLAS' 'COMBAPATA' 'CHINCHERO' 'PITUMARCA' 'SANTA ANA' 'POROY'\n",
      " 'ANDAHUAYLAS' 'YANAOCA' 'ESPINAR' 'SICUANI' 'CHONGOS ALTO' 'OROPESA'\n",
      " 'SAN JUAN' 'TACABAMBA' 'CANTA' 'CATAHUASI' 'CAMPORREDONDO' 'HUALGAYOC'\n",
      " 'APLAO' 'YAUCA' 'CHALA' 'POCSI' 'ACARI' 'PARURO' 'NICOLAS DE PIEROLA'\n",
      " 'CABANACONDE' 'CHIGUATA' 'JOSE MARIA QUIMPER' 'POLOBAYA' 'LOMAS' 'VIRACO'\n",
      " 'MARIANO NICOLAS VALCARCEL' 'MADRIGAL' 'ANDARAY' 'CHAPARRA' 'CARAVELI'\n",
      " 'YURA' 'ATICO' 'MARISCAL CACERES' 'CHIVAY' 'QUIRUVILCA' 'CHUQUIBAMBA'\n",
      " 'MACATE' 'MARANGANI' 'ORCOPAMPA' 'QUINJALCA' 'BELLA UNION' 'YONAN'\n",
      " 'HUAMBO' 'LLAMA' 'LA BANDA DE SHILCAYO' 'CURGOS' 'OYON' 'LIMATAMBO'\n",
      " 'SAN JOSE DE LOURDES' 'TORATA' 'LUNAHUANA' 'AYACUCHO' 'PALMAPAMPA'\n",
      " 'MARCABAMBA' 'NUEVO PROGRESO' 'AYNA' 'PICHARI' 'CORACORA' 'HUANCAPI'\n",
      " 'PAUSA' 'HUANTA' 'PANGOA' 'CANCHAYLLO' 'PILCUYO' 'TAMBOPATA' 'SATIPO'\n",
      " 'PICHANAQUI' 'RUPA-RUPA' 'SAN JUAN DE BIGOTE' 'POMAHUACA' 'CARMEN ALTO'\n",
      " 'TAMBO' 'PERENE' 'CHICLA' 'CARHUAMAYO' 'BOLIVAR' 'JUANJUI' 'RIOJA'\n",
      " 'SAPOSOA' 'CANCHAQUE' 'SORITOR' 'MOYOBAMBA' 'HAQUIRA' 'COTABAMBAS'\n",
      " 'ANCO_HUALLO' 'RANRACANCHA' 'HUANIPACA' 'VILCABAMBA' 'PROGRESO' 'JUNIN'\n",
      " 'PACUCHA' 'CURA MORI' 'TALAVERA' 'HUANCARANI' 'JOSE SABOGAL' 'TINTA'\n",
      " 'PUQUIO' 'PUSI' 'ONGOY' 'PUCYURA' 'INAMBARI' 'YURIMAGUAS' 'OCROS'\n",
      " 'HUEPETUHE' 'PARDO MIGUEL' 'GAMARRA' 'MARAS' 'AMBO' 'CHINCHEROS'\n",
      " 'ANDARAPA' 'YANACA' 'COLAN' 'SAN PEDRO DE CACHORA' 'OXAMARCA'\n",
      " 'QUERECOTILLO' 'HUAYLLABAMBA' 'SUYO' 'SAN HILARION' 'TOCACHE'\n",
      " 'EL CARMEN DE LA FRONTERA' 'PACHACONAS' 'SANTIAGO DE CAO' 'CONTAMANA'\n",
      " 'MIGUEL CHECA' 'TICLACAYAN' 'AYABACA' 'MARIANO DAMASO BERAUN' 'MONZON'\n",
      " 'AMOTAPE' 'CANGALLO' 'HUARMACA' 'SINCOS' 'LAGUNAS' 'UCHIZA'\n",
      " 'TAMBO GRANDE' 'DANIEL ALOMIAS ROBLES' 'COTARUSE' 'PANAO' 'SANTO DOMINGO'\n",
      " 'TARACO' 'HUALLANCA' 'OCOBAMBA' 'CHINCHAO' 'TINYAHUARCO' 'HUARIACA'\n",
      " 'MOHO' 'AUCARA' 'YANAHUANCA' 'PISUQUIA' 'SIMON BOLIVAR' 'CURAHUASI'\n",
      " 'CHALHUANCA' 'TANTARICA' 'TAMARINDO' 'HUANCARAMA' 'HUACCANA'\n",
      " 'NUEVA CAJAMARCA' 'ANDABAMBA' 'CAMPOVERDE' 'ALONSO DE ALVARADO'\n",
      " 'HUAYLLAY' 'LAS PIRIAS' 'CHAUPIMARCA' 'GRANADA' 'PAJARILLO'\n",
      " 'SAN ANTONIO DE CACHI' 'SONDORILLO' 'HUASAHUASI' 'HUAYOPATA' 'CABANILLAS'\n",
      " 'ACOMAYO' 'TAPAIRIHUA' 'LAYO' 'YANTALO' 'HUACULLANI'\n",
      " 'SANTA MARIA DEL MAR' 'SANTA ANA DE TUSI' 'SAN CLEMENTE' 'YANACANCHA'\n",
      " 'FRIAS' 'PUNCHANA' 'KISHUARA' 'HUANCARAY' 'PILLCO MARCA' 'JESUS MARIA'\n",
      " 'LABERINTO' 'PACOCHA' 'HUACHON' 'ANCAHUASI' 'SAN RAFAEL' 'LA UNION'\n",
      " 'PISAC' 'SANTA ROSA DE QUIVES' 'SAN LUIS DE SHUARO' 'BARRANCA'\n",
      " 'MARCAVELICA' 'PALCA' 'ORURILLO' 'CHUNGUI' 'SICCHEZ' 'LUCRE' 'MASISEA'\n",
      " 'SANTA RITA DE SIGUAS' 'PAIMAS' 'RAMON CASTILLA' 'LOS MOROCHUCOS'\n",
      " 'YAUYOS' 'LIRCAY' 'YAMANGO' 'PAMPACHIRI' 'CANARIA' 'LONYA GRANDE'\n",
      " 'YANAHUARA' 'JOSE CRESPO Y CASTILLO' 'CHALLHUAHUACHO' 'MARANURA'\n",
      " 'EL CARMEN' 'TAMBOBAMBA' 'CARAZ' 'ACOS VINCHOS' 'LEIMEBAMBA' 'UCO'\n",
      " 'GROCIO PRADO' 'URACA' 'PAPAYAL' 'ACOS' 'MANCORA' 'ULCUMAYO' 'MAZAMARI'\n",
      " 'QUIQUIJANA' 'MACHE' 'CIUDAD NUEVA' 'VEGUETA' 'URANMARCA' 'LAS LOMAS'\n",
      " 'SAN JOSE DE LOS MOLINOS' 'SANTA TERESA' 'QUEROBAMBA' 'MOLLEBAYA'\n",
      " 'PAUCARTAMBO' 'LAMAS' 'VICCO' 'LA PAMPA' 'MARISCAL CASTILLA'\n",
      " 'MADRE DE DIOS' 'JILILI' 'CAJACAY' 'SALITRAL' 'SANTA CATALINA DE MOSSA'\n",
      " 'HUACACHI' 'SANTA MARIA DE CHICMO' 'HUANCA' 'CCATCA' 'CHOLON' 'CHACOCHE'\n",
      " 'HUANDO' 'CATACHE' 'GUADALUPITO' 'IBERIA' 'TARICA' 'COLCAMAR' 'SANDIA'\n",
      " 'HUAYLAS' 'ZURITE' 'EL MUYO' 'SANTA MARIA DEL VALLE' 'IZCUCHACA'\n",
      " 'SAN SALVADOR' 'VICHAYAL' 'COLQUIOC' 'PUTINA' 'LUYA VIEJO' 'HUABAL'\n",
      " 'OLLANTAYTAMBO' 'YANATILE' 'CACHIMAYO' 'OMATE' 'TARAPOTO' 'RANRAHIRCA'\n",
      " 'PALLASCA' 'JAZAN' 'CATAC' 'CHAZUTA' 'PAUCARBAMBA' 'CHAVINILLO'\n",
      " 'HUAYTARA' 'SAN JACINTO' 'CONGALLA' 'TABACONAS' 'SAN JUAN DE TARUCANI'\n",
      " 'LAS PIEDRAS' 'JAQUI' 'CAYLLOMA' 'PUERTO INCA' 'CAPACHICA' 'TINTAY'\n",
      " 'SANCOS' 'TIQUILLACA' 'YANAMA' 'LAMPA' 'MASIN' 'PACHANGARA' 'VALERA'\n",
      " 'LLAMELLIN' 'HUACAYBAMBA' 'PARIACOTO' 'YAUYA' 'GOYLLARISQUIZGA' 'PICOTA'\n",
      " 'TUMAY HUARACA' 'EL MILAGRO' 'POMACANCHI' 'IÑAPARI' 'MAÑAZO' 'VELILLE'\n",
      " 'PLATERIA' 'CARACOTO' 'OCONGATE' 'PICHACANI' 'CALZADA' 'AYAUCA' 'ACORA'\n",
      " 'SHIPASBAMBA' 'IRAZOLA' 'PUERTO BERMUDEZ' 'SACANCHE' 'PADRE ABAD' 'HUATA'\n",
      " 'SAN JOSE DE SISA' 'ALBERTO LEVEAU' 'COTAHUASI' 'RAYMONDI' 'TABALOSOS'\n",
      " 'SHAPAJA' 'AZANGARO' 'PAMPAS DE HOSPITAL' 'HUANGASCAR' 'TAUCA'\n",
      " 'HUACHOCOLPA' 'ILABAYA' 'MOSOC LLACTA' 'CHUCUITO' 'NESHUYA' 'ANANEA'\n",
      " 'SAN MARCOS' 'ZEPITA' 'PAMPAS' 'MAGDALENA DE CAO' 'ASILLO'\n",
      " 'SAN JUAN DE SIGUAS' 'AYAVIRI' 'SAN JUAN DE LA VIRGEN' 'SIVIA'\n",
      " 'CHURUBAMBA' 'UNICACHI' 'SANTA LUCIA' 'QUINUA' 'PAUCARCOLLA' 'AGALLPAMPA'\n",
      " 'HUAROCONDO' 'PACARAN' 'PAUCAR' 'JOSE DOMINGO CHOQUEHUANCA'\n",
      " 'VILQUE CHICO' 'REQUENA' 'COPALLIN' 'LAJAS' 'SHILLA' 'SHUPLUY' 'SINSICAP'\n",
      " 'VARGAS GUERRA' 'CUTURAPI' 'COPANI' 'QUILCA' 'CATILLUC' 'MACUSANI'\n",
      " 'PAUCARA' 'CONIMA' 'HUANCANE' 'NUÑOA' 'BAJO BIAVO' 'CANOAS DE PUNTA SAL'\n",
      " 'CASITAS' 'CHUQUIBAMBILLA' 'LLATA' 'SAN FRANCISCO DE ASIS DE YARUSYACAN'\n",
      " 'A.VON.HUMBOLDT' 'CABANILLA' 'TURPO' 'POZUZO' 'CHUSCHI' 'MANU'\n",
      " 'TINICACHI' 'ANTABAMBA' 'BALSAS' 'YAURISQUE' 'HUACRACHUCO' 'SAN ANTON'\n",
      " 'LAMBRAMA' 'CORDOVA' 'YAMON' 'HUAMANGUILLA' 'POTONI' 'CURIBAYA'\n",
      " 'ECHARATE' 'QUELLOUNO' 'AUCALLAMA' 'QUINISTAQUILLAS'\n",
      " 'SAN MIGUEL DE EL FAIQUE' 'SAMAN' 'SIBAYO' 'SANTA ISABEL DE SIGUAS'\n",
      " 'CASCAPARA' 'ARAPA' 'COCHARCAS' 'LA CRUZ' 'SOCOTA' 'INGUILPATA'\n",
      " 'SAN ANTONIO DE CHUCA' 'RIO NEGRO' 'ZUÑIGA' 'OMIA' 'CHORAS' 'SALPO'\n",
      " 'LALAQUIZ' 'INCAHUASI' 'ITE']\n",
      "DIST_HECHO [1342 unique values]\n",
      "['HUANCHACO' 'CALLAO' 'LURIGANCHO - CHOSICA' ...\n",
      " 'SAN PEDRO DE PUTINA PUNCO' 'BALSAPUERTO' 'HUIMBAYOC']\n",
      "DPTO_CIA [26 unique values]\n",
      "['LA LIBERTAD' 'CALLAO' 'LIMA' 'AREQUIPA' 'ICA' 'ANCASH' 'LAMBAYEQUE'\n",
      " 'PUNO' 'MOQUEGUA' 'APURIMAC' 'CUSCO' 'HUANCAVELICA' 'CAJAMARCA' 'PIURA'\n",
      " 'JUNIN' 'TACNA' 'TUMBES' 'UCAYALI' 'LORETO' 'PASCO' 'AMAZONAS' 'HUANUCO'\n",
      " 'SAN MARTIN' 'AYACUCHO' 'MADRE DE DIO' 'MADRE DE DIOS']\n",
      "DPTO_HECHO [27 unique values]\n",
      "['LA LIBERTAD' 'CALLAO' 'LIMA' 'AREQUIPA' 'ICA' 'ANCASH' 'LAMBAYEQUE'\n",
      " 'PUNO' 'MOQUEGUA' 'APURIMAC' 'CUSCO' 'HUANCAVELICA' 'CAJAMARCA' 'PIURA'\n",
      " 'JUNIN' 'TACNA' 'TUMBES' 'UCAYALI' 'LORETO' 'PASCO' 'AMAZONAS' 'HUANUCO'\n",
      " 'SAN MARTIN' 'AYACUCHO' 'MADRE DE DIO' 'MADRE DE DIOS' 'NO INDICA']\n",
      "EDAD [231 unique values]\n",
      "['32' '40' '28' '55' '21' '30' '25' '46' '35' '34' '41' '50' '26' '29'\n",
      " '44' '47' '22' '37' '54' '51' '42' '49' '19' '38' '20' '39' '36' '65'\n",
      " '56' '27' '24' '61' '23' '60' '53' '62' '48' '43' '18' '33' '31' '59'\n",
      " '52' '17' '70' '64' '69' '45' '75' '58' '57' '63' '76' '67' '68' '74'\n",
      " '77' '66' '82' '71' '16' '14' '72' '15' '111' '13' '78' '73' '5' '79'\n",
      " '81' '84' '85' '87' '526' '12' '80' '10' '83' '11' '86' '120' '94' '516'\n",
      " '90' '0' '115' '180' '89' '332' '220' '91' '88' '354' '536' '125' '118'\n",
      " '339' '96' '104' '617' '728' '93' '1' '276' '116' '92' '6' '113' '439'\n",
      " '415' '335' '170' '98' '9' '410' '545' '448' '340' '400' '331' '226'\n",
      " '252' '434' '97' '114' '119' '74.0' '45.0' '41.0' '38.0' '22.0' '57.0'\n",
      " '42.0' '32.0' '24.0' '19.0' '31.0' '27.0' '26.0' '44.0' '34.0' '37.0'\n",
      " '47.0' '21.0' '29.0' '30.0' '62.0' '63.0' '35.0' '28.0' '36.0' '48.0'\n",
      " '33.0' '67.0' '25.0' '43.0' '61.0' '39.0' '40.0' '23.0' '20.0' '54.0'\n",
      " '56.0' '55.0' '51.0' '50.0' '46.0' '52.0' '58.0' '66.0' '65.0' '18.0'\n",
      " '15.0' '17.0' '71.0' '60.0' '53.0' '49.0' '16.0' '69.0' '59.0' '75.0'\n",
      " '73.0' '68.0' '77.0' '72.0' '64.0' '76.0' '70.0' '14.0' '80.0' '87.0'\n",
      " '81.0' '79.0' '78.0' '85.0' '84.0' '86.0' '13.0' '10.0' '90.0' '12.0'\n",
      " '82.0' '516.0' '83.0' '11.0' '98.0' '434.0' '97.0' '114.0' '116.0' '88.0'\n",
      " '132.0' '119.0' '398.0' '115.0' '617.0' '89.0' '96.0' '92.0' '171.0'\n",
      " '627.0' '95.0' '9.0' '5.0' '0.0' '4.0' '93.0' '91.0' '1.0']\n",
      "ESTADO_DEN [3 unique values]\n",
      "['RE' 'PE' 'pe']\n",
      "EST_CIVIL [6 unique values]\n",
      "['CONVIVIENTE' 'SOLTERO(A)' 'CASADO(A)' 'NO INDICA' 'DIVORCIADO(A)'\n",
      " 'VIUDO(A)']\n",
      "FECHA_HORA_HECHO [47542 unique values]\n",
      "['1/1/2016' '1/2/2016' '12/26/2015' ... '43825.975' '43830.7604166667'\n",
      " '43794.8680555556']\n",
      "LIBRO [43 unique values]\n",
      "['[DEINPOL] ACTA DE DENUNCIA VERBAL' '[FAM] DENUNCIA VIOLENCIA FAMILIAR'\n",
      " '[FAM] DENUNCIA ABANDONO Y RETIRO DE HOGAR'\n",
      " '[FAM] ACTA DE DENUNCIA VERBAL' '[FAM] OCURRENCIA VIOLENCIA FAMILIAR'\n",
      " '[FAM] ACTA DE INTERVENCION' '[DEINPOL] DENUNCIA DIRECTA DELITO'\n",
      " '[FAM] OCURRENCIA DE CALLE - RESERVADA'\n",
      " '[FAM] OCURRENCIA DE CALLE - COMUN' '[FAM] OCURRENCIA MENORES'\n",
      " '[FAM] DENUNCIA VIOLENCIA FAMILIAR - RESERVADA'\n",
      " '[FAM] ACTA DE DENUNCIA VERBAL RESERVADA'\n",
      " '[DEINPOL] ACTA DE INTERVENCION' '[DEINPOL] OCURRENCIA DE CALLE - COMUN'\n",
      " '[FAM] DENUNCIA LIBRO DE MENORES'\n",
      " '[FAM] DENUNCIA REGIMEN VISITAS JUDICIAL Y/0 EXTRAJUDICIAL'\n",
      " '[FAM] ACTA DE INTERVENCION RESERVADA'\n",
      " '[DEINPOL] DENUNCIA INFRACCION A LA LEY PENAL'\n",
      " '[DEINPOL] DENUNCIA DIRECTA POR FALTAS' '[GP] ACTA DE INTERVENCION'\n",
      " '[TRAN] DENUNCIA CHOQUE Y FUGA'\n",
      " '[PDE] DENUNCIA  PERDIDA DE DOCUMENTOS , ESPECIES Y OTROS'\n",
      " '[TRAN] ACTA DE DENUNCIA VERBAL' '[TRAN] ACTA DE INTERVENCION'\n",
      " '[DEINPOL] OCURRENCIA DE CALLE - RESERVADA' '[GP] OCURRENCIA  DE CALLE'\n",
      " '[DEINPOL ] DENUNCIA DIRECTA RESERVADA'\n",
      " '[TRAN] OCURRENCIA DE CALLE - COMUN' '[DEPINCRI] DENUNCIA DIRECTA'\n",
      " '[DEINPOL] ACTA DE DENUNCIA VERBAL RESERVADA'\n",
      " '[PDE] OCURRENCIA PERDIDA DE DOCUMENTOS Y ESPECIES'\n",
      " '[DEINPOL] DENUNCIA DESAPARECIDOS'\n",
      " '[DEINPOL] OCURRENCIA DE CALLE - COMUN (FALTAS)'\n",
      " '[DIVINCRI] ACTA DE DENUNCIA VERBAL' '[DIVINCRI] OCURRENCIA POLICIAL'\n",
      " '[TRAN] OCURRENCIA TRANSITO COMUN' '[DEPINCRI] ACTA DE DENUNCIA VERBAL'\n",
      " '[TRAN] ACTA DE DENUNCIA VERBAL RESERVADA'\n",
      " '[DEPINCRI] ACTA DE INTERVENCION' '[TRAN] ACTA DE INTERVENCION RESERVADA'\n",
      " '[DEPINCRI] DENUNCIAS TRANSCRITAS' '[DIVINCRI] DENUNCIAS MINIST.PUBLICO'\n",
      " '[TRAN] DENUNCIA DIRECTA TRANSITO']\n",
      "MATERIA [1 unique values]\n",
      "['LEYES ESPECIALES']\n",
      "MODALIDAD [7 unique values]\n",
      "['MALTRATO SIN LESION' 'VIOLENCIA PSICOLOGICA' 'VIOLENCIA FISICA'\n",
      " 'VIOLENCIA FISICA Y PSICOLOGICA' 'VIOLENCIA ECONOMICA O PATRIMONIAL'\n",
      " 'AMENAZA GRAVE' 'COACCION GRAVE']\n",
      "NIVEL_EDUCATIVO [5 unique values]\n",
      "['SECUNDARIA' 'PRIMARIA' 'TECNICA' 'SUPERIOR' 'SIN INSTRUCCION']\n",
      "OCUPACION [6973 unique values]\n",
      "['COMERCIANTE' 'EMPLEADO' 'TAXISTA' ... 'EX POLICIA' 'CONTADOR EMPRESARIO'\n",
      " 'AJENTE DE SEGURIDAD']\n",
      "PROV_CIA [189 unique values]\n",
      "['TRUJILLO' 'CALLAO' 'LIMA' 'CAMANA' 'ICA' 'SANTA' 'CHICLAYO' 'SAN ROMAN'\n",
      " 'HUAURA' 'CAYLLOMA' 'MARISCAL NIETO' 'AREQUIPA' 'ABANCAY' 'LAMBAYEQUE'\n",
      " 'ISLAY' 'CUSCO' 'HUANCAVELICA' 'PUNO' 'CAJAMARCA' 'PIURA' 'CAÑETE'\n",
      " 'YAULI' 'TALARA' 'HUARAZ' 'ILO' 'SULLANA' 'TACNA' 'HUANCAYO' 'ZARUMILLA'\n",
      " 'ASCOPE' 'EL COLLAO' 'CORONEL PORTILLO' 'SECHURA' 'CHINCHA' 'MORROPON'\n",
      " 'CHUCUITO' 'CASMA' 'MAYNAS' 'ANTA' 'TUMBES' 'NAZCA' 'PISCO'\n",
      " 'SANCHEZ CARRION' 'LORETO' 'OXAPAMPA' 'BARRANCA' 'YUNGAY' 'CONCEPCION'\n",
      " 'JAUJA' 'CAJATAMBO' 'HUARMEY' 'HUAROCHIRI' 'PAITA' 'QUISPICANCHI'\n",
      " 'HUARAL' 'CALCA' 'FERREÑAFE' 'PALPA' 'HUANCABAMBA' 'AIJA' 'JAEN'\n",
      " 'SAN IGNACIO' 'TARMA' 'CARHUAZ' 'SANTA CRUZ' 'URUBAMBA' 'YUNGUYO'\n",
      " 'MARISCAL RAMON CASTILLA' 'OTUZCO' 'BOLOGNESI' 'BAGUA' 'CHANCHAMAYO'\n",
      " 'PATAZ' 'HUANUCO' 'CHUPACA' 'CASTILLA' 'PACASMAYO' 'AYABACA' 'SAN MIGUEL'\n",
      " 'CHEPEN' 'RECUAY' 'JORGE BASADRE' 'SAN MARTIN' 'RODRIGUEZ DE MENDOZA'\n",
      " 'LUYA' 'UTCUBAMBA' 'BONGARA' 'CHACHAPOYAS' 'HUARI' 'ASUNCION'\n",
      " 'CONDORCANQUI' 'POMABAMBA' 'SIHUAS' 'CORONGO' 'PALLASCA'\n",
      " 'MARISCAL LUZURIAGA' 'SANTIAGO DE CHUCO' 'VIRU' 'JULCAN' 'GRAN CHIMU'\n",
      " 'SAN PABLO' 'CONTRALMIRANTE VILLAR' 'HUALGAYOC' 'CONTUMAZA' 'SAN MARCOS'\n",
      " 'CAJABAMBA' 'CELENDIN' 'CHOTA' 'CUTERVO' 'TARATA' 'CANCHIS'\n",
      " 'LA CONVENCION' 'ANDAHUAYLAS' 'CANAS' 'ESPINAR' 'CANTA' 'YAUYOS'\n",
      " 'CARAVELI' 'PARURO' 'CONDESUYOS' 'OYON' 'HUAMANGA' 'LA MAR'\n",
      " 'PAUCAR DEL SARA SARA' 'TOCACHE' 'PARINACOCHAS' 'VICTOR FAJARDO' 'HUANTA'\n",
      " 'SATIPO' 'TAMBOPATA' 'LEONCIO PRADO' 'JUNIN' 'MARISCAL CACERES' 'RIOJA'\n",
      " 'BELLAVISTA' 'HUALLAGA' 'MOYOBAMBA' 'COTABAMBAS' 'CHINCHEROS' 'ANTABAMBA'\n",
      " 'GRAU' 'PAUCARTAMBO' 'LUCANAS' 'HUANCANE' 'ALTO AMAZONAS' 'OCROS' 'MANU'\n",
      " 'AMBO' 'AYMARAES' 'PICOTA' 'UCAYALI' 'PASCO' 'HUAMALIES' 'CANGALLO'\n",
      " 'PACHITEA' 'MOHO' 'CARLOS FERMIN FITZCARRALD' 'DANIEL ALCIDES CARRION'\n",
      " 'LAMAS' 'ACOMAYO' 'MELGAR' 'ACOBAMBA' 'ANGARAES' 'CHUMBIVILCAS' 'HUAYLAS'\n",
      " 'SUCRE' 'MARAÑON' 'TAHUAMANU' 'SANDIA' 'DOS DE MAYO'\n",
      " 'SAN ANTONIO DE PUTINA' 'GENERAL SANCHEZ CERRO' 'CHURCAMPA' 'YAROWILCA'\n",
      " 'HUAYTARA' 'PUERTO INCA' 'HUANCA SANCOS' 'LAMPA' 'ANTONIO RAYMONDI'\n",
      " 'HUACAYBAMBA' 'PADRE ABAD' 'EL DORADO' 'LA UNION' 'ATALAYA' 'AZANGARO'\n",
      " 'TAYACAJA' 'REQUENA' 'CARABAYA' 'CANDARAVE']\n",
      "PROV_HECHO [191 unique values]\n",
      "['TRUJILLO' 'CALLAO' 'LIMA' 'CAMANA' 'ICA' 'SANTA' 'CHICLAYO' 'SAN ROMAN'\n",
      " 'HUAURA' 'CAYLLOMA' 'MARISCAL NIETO' 'AREQUIPA' 'ABANCAY' 'LAMBAYEQUE'\n",
      " 'ISLAY' 'CUSCO' 'HUANCAVELICA' 'PUNO' 'CAJAMARCA' 'PIURA' 'CAÑETE'\n",
      " 'YAULI' 'TALARA' 'HUAYLAS' 'ILO' 'SULLANA' 'TACNA' 'HUANCAYO' 'ZARUMILLA'\n",
      " 'ASCOPE' 'EL COLLAO' 'CORONEL PORTILLO' 'HUARAZ' 'SECHURA' 'CHINCHA'\n",
      " 'MORROPON' 'CHUCUITO' 'CASMA' 'MAYNAS' 'ANTA' 'TUMBES' 'NAZCA' 'LORETO'\n",
      " 'OXAPAMPA' 'BARRANCA' 'QUISPICANCHI' 'PISCO' 'YUNGAY' 'CONCEPCION'\n",
      " 'JAUJA' 'HUARMEY' 'HUAROCHIRI' 'PAITA' 'CONTRALMIRANTE VILLAR' 'HUARAL'\n",
      " 'CALCA' 'FERREÑAFE' 'PALPA' 'HUANCABAMBA' 'ANDAHUAYLAS' 'AIJA' 'JAEN'\n",
      " 'SAN IGNACIO' 'TARMA' 'VIRU' 'CARHUAZ' 'SANTA CRUZ' 'URUBAMBA' 'YUNGUYO'\n",
      " 'MARISCAL RAMON CASTILLA' 'OTUZCO' 'BOLOGNESI' 'SANCHEZ CARRION' 'BAGUA'\n",
      " 'CHANCHAMAYO' 'PARURO' 'PATAZ' 'HUANUCO' 'COTABAMBAS' 'CHUPACA'\n",
      " 'CASTILLA' 'PACASMAYO' 'AYMARAES' 'AYABACA' 'SAN MIGUEL' 'CHEPEN'\n",
      " 'RECUAY' 'JORGE BASADRE' 'SAN ANTONIO DE PUTINA' 'CONDESUYOS'\n",
      " 'SAN MARTIN' 'CASTROVIRREYNA' 'HUAYTARA' 'PAUCARTAMBO'\n",
      " 'RODRIGUEZ DE MENDOZA' 'LUYA' 'UTCUBAMBA' 'BONGARA' 'CHACHAPOYAS' 'HUARI'\n",
      " 'ASUNCION' 'CONDORCANQUI' 'POMABAMBA' 'SIHUAS' 'CORONGO' 'PALLASCA'\n",
      " 'MARISCAL LUZURIAGA' 'CUTERVO' 'TARATA' 'SANTIAGO DE CHUCO' 'JULCAN'\n",
      " 'GRAN CHIMU' 'SATIPO' 'CHURCAMPA' 'SAN PABLO' 'HUALGAYOC' 'CONTUMAZA'\n",
      " 'SAN MARCOS' 'CAJABAMBA' 'CANTA' 'CELENDIN' 'CHOTA' 'CANCHIS'\n",
      " 'LA CONVENCION' 'CANAS' 'ESPINAR' 'CANDARAVE' 'CHUMBIVILCAS' 'YAUYOS'\n",
      " 'CARAVELI' 'LEONCIO PRADO' 'OYON' 'HUAMANGA' 'VILCAS HUAMAN' 'LA MAR'\n",
      " 'PAUCAR DEL SARA SARA' 'TOCACHE' 'HUANCA SANCOS' 'PARINACOCHAS'\n",
      " 'VICTOR FAJARDO' 'SUCRE' 'HUANTA' 'TAMBOPATA' 'JUNIN' 'MARISCAL CACERES'\n",
      " 'ACOBAMBA' 'RIOJA' 'BELLAVISTA' 'HUALLAGA' 'MOYOBAMBA' 'CHINCHEROS'\n",
      " 'ANTABAMBA' 'GRAU' 'LUCANAS' 'HUANCANE' 'ALTO AMAZONAS' 'OCROS' 'MANU'\n",
      " 'AMBO' 'PICOTA' 'UCAYALI' 'PASCO' 'HUAMALIES' 'CANGALLO' 'PACHITEA'\n",
      " 'MOHO' 'Seleccione Dato' 'CARLOS FERMIN FITZCARRALD'\n",
      " 'DANIEL ALCIDES CARRION' 'TAHUAMANU' 'LAMAS' 'ACOMAYO' 'MELGAR' 'LAMPA'\n",
      " 'ANGARAES' 'SANDIA' 'DOS DE MAYO' 'GENERAL SANCHEZ CERRO' 'YAROWILCA'\n",
      " 'ANTONIO RAYMONDI' 'MARAÑON' 'BOLIVAR' 'PADRE ABAD' 'EL DORADO'\n",
      " 'LA UNION' 'ATALAYA' 'AZANGARO' 'TAYACAJA' 'REQUENA' 'PUERTO INCA'\n",
      " 'CARABAYA']\n",
      "REGION [54 unique values]\n",
      "['REGPOL  -  LA LIBERTAD' 'REGPOL  -  CALLAO' 'REGPOL  -  LIMA'\n",
      " 'REGPOL  -  AREQUIPA' 'REGPOL  -  ICA' 'REGPOL   - HUARAZ'\n",
      " 'REGPOL  -  LAMBAYEQUE' 'REGPOL  -  PUNO' 'REGPOL  -  MOQUEGUA'\n",
      " 'REGPOL  -  APURIMAC' 'REGPOL  -  CUSCO' 'REGPOL  -  HUANCAVELICA'\n",
      " 'REGPOL  -  CAJAMARCA' 'REGPOL  -  PIURA' 'REGPOL  -  HUANCAYO'\n",
      " 'REGPOL - TACNA' 'REGPOL - TUMBES' 'REGPOL  -  PUCALLPA'\n",
      " 'REGPOL - IQUITOS' 'FP INCA' 'FP VRAEM' 'REGPOL  -  AMAZONAS'\n",
      " 'REGPOL  -  HUANUCO' 'REGPOL - SAN MARTIN' 'DIVISION POLICIAL  ESPINAR'\n",
      " 'REGPOL  - AYACUCHO' 'REGPOL - MADRE DE DIOS' 'REGPOL  -  PASCO'\n",
      " 'DIRECCION DE SEGURIDAD CIUDADANA' 'DIRNIC' 'REGPOL - AMAZONAS'\n",
      " 'REGPOL - APURIMAC' 'REGPOL - AREQUIPA' 'REGPOL - AYACUCHO'\n",
      " 'REGPOL - CAJAMARCA' 'REGPOL - CALLAO' 'REGPOL - CUSCO'\n",
      " 'REGPOL - HUANCAVELICA' 'REGPOL - HUANCAYO' 'REGPOL - HUANUCO'\n",
      " 'REGPOL - HUARAZ' 'REGPOL - ICA' 'REGPOL - LA LIBERTAD'\n",
      " 'REGPOL - LAMBAYEQUE' 'REGPOL - LIMA' 'REGPOL - MOQUEGUA'\n",
      " 'REGPOL - PASCO' 'REGPOL - PIURA' 'REGPOL - PUCALLPA' 'REGPOL - PUNO'\n",
      " 'FP  - APURIMAC' 'FP  - ICA' 'FP  - TUMBES' 'FP - CAJAMARCA']\n",
      "SEXO [2 unique values]\n",
      "['M' 'F']\n",
      "SUB_TIPO [2 unique values]\n",
      "['LEY DE PROTECCIÓN FRENTE A VIOLENCIA FAMILIAR (LEY 26260 25/06/97)'\n",
      " 'LEY PARA PREVENIR , SANCIONAR Y ERRADICAR LA VIOLENCIA CONTRA LAS MUJERES Y LOS INTEGRANTES DEL GRUPO FAMILIAR (LEY Nro 30364)']\n",
      "TIPO [2 unique values]\n",
      "['VIOLENCIA FAMILIAR'\n",
      " 'LEY DE VIOLENCIA CONTRA LA MUJER Y GRUPOS VULNERABLES']\n",
      "TIPO_DENUNCIA [4 unique values]\n",
      "['ACTA DE DENUNCIA VERBAL' 'DENUNCIA' 'OCURRENCIA' 'ACTA DE INTERVENCION']\n",
      "UBICACION [393753 unique values]\n",
      "['SECTOR SANTA ROSA MZ. 11 LT. 36 - HUANCHAQUITO ALTO' 'MZ. 2 LOTE 31'\n",
      " 'SANTA CRUZ' ...\n",
      " 'CALLE JUAN PABLO VIZCARDO Y GUZMAN NRO.1673 CP LA NATIVIDAD'\n",
      " 'Calle Moquegua Nro. 242' 'Calle Bolognesi S/N - Tarata']\n",
      "VIA [16 unique values]\n",
      "['Otros' 'Carretera' 'Calle' 'Jiron' 'Avenida' 'Pasaje' 'Centro Poblado'\n",
      " 'Panamericana' 'Parque' 'Upis' 'Malecón' 'AA.HH' 'Comunidad' 'Anexo'\n",
      " 'Urbanización' 'Caserio']\n",
      "FEC_REGISTRO [185327 unique values]\n",
      "['1/1/2016' '1/2/2016' '1/3/2016' ... '43829.6811222569'\n",
      " '43830.8064918981' '43808.304112581']\n",
      "PAIS_NATAL [158 unique values]\n",
      "['PERU' 'COLOMBIA' 'CUBA' 'ARGENTINA' 'ECUADOR' 'CANADA' 'IRLANDA'\n",
      " 'VENEZUELA' 'ITALIA' 'ESPAÑA' 'ESTADOS UNIDOS' 'PHILIPINAS' 'FRANCIA'\n",
      " 'CHILE' 'GRAN BRETAÑA' 'PARAGUAY' 'COOMBIA' 'INGLATERRA' 'NUEVA ZELANDA'\n",
      " 'NORUEGA' 'FRANCES' 'ARGENTINO' 'ESPAÑOLA' 'MARRUECOS' 'BRASIL' 'MEXICO'\n",
      " 'PARAGUAYA' 'BRITANICO' 'REPUBLICA DE BOLIVIA' 'CHINA' 'RUSIA' 'FRANCESA'\n",
      " 'URUGUAY' 'UNITED STATES OF AMERICA' 'BOLIVIANO' 'USA' 'COLOMBIANO'\n",
      " 'KOREA' 'HOLANDA' 'BOLIVIA' 'ALEMANIA' 'EEUU' 'ECUATORIANO' 'EGIPTO'\n",
      " 'ESPAÑOL' 'HOLANDES' 'REPUBLICA DOMINICANA' 'EXTRANJERO' 'SUIZA'\n",
      " 'UIRUGUAY' 'ITALIA  MILAN' 'REPUBLICA DE CHILE' 'FRANCIA  GUADALUPE'\n",
      " 'BUCARAMANGA SANTANDER COL' 'CANADIENSE' 'ALEMAN' 'AMERICANO' 'TUNISIA'\n",
      " 'AMERICANA' 'BOLIVIA LA PAZ EL ALTO' 'DINAMARCA' 'COREA DEL SUR' 'EE UU'\n",
      " 'VENEZOLANO' 'BELGICA' 'REPUBLICA DOMENICANA' 'ISRAELI' 'KOREA DEL SUR'\n",
      " 'ASTURIA  ESPAÑA' 'DOMINICANO' 'SUDAFRICANA' 'SERBIA' 'ITALIANO'\n",
      " 'LITUANIA' 'CHILENA' 'ISRAEL' 'REVENTANDOTE' 'ESLOVAQUIA' 'SUEZIA'\n",
      " 'AZERBAIYAN' 'VENEZOLANA' 'BELGA' 'VENUEZUELA' 'BRAZIL' 'RESIDE EN USA'\n",
      " 'URUAY' 'URUGUAYA' 'GRECIA   ALEMANIA' 'AYCUCHO' 'EL SALVADOR' 'SALVADOR'\n",
      " 'COLONBIA' 'VILLARICCA   ITALIA' 'VENEZUELA PERU' 'COREA' 'RUSO'\n",
      " 'ESCOCIA' 'PUERTO RICO' 'LITUANO' 'ITALIANA' 'LITUANI' 'GUATEMALA'\n",
      " 'PORTUGAL' 'TUNEZ' 'BRASILEÑA' 'SUDAFRICA' 'ARGENTIINA' 'BOLIVIANA'\n",
      " 'VENEZOLANOI' 'NEW ZELANDA' 'REINO UNIDO' 'COCHABAMBA' 'HONG KONG'\n",
      " 'LIBANO' 'REPUBLICA DE CABO VERDE' 'UZBEKUISTAN' 'VENZUELA' 'PORTUGUES'\n",
      " 'NICARAGUA' 'REPUBLICA DE CHINA' 'REPUBLICA BOLIVARIANA DE'\n",
      " 'ESTADOS UNIDOS DE AMERIC' 'ARUBA' 'DE SRI LANKA' 'NIGERIA' 'COLOMBIANA'\n",
      " 'PANAMA' 'HAITI' 'POLONIA' 'ARGELIA' 'JAPON' 'CUBANO' 'VENRZUELA'\n",
      " 'REPUBLICA DE CUBA' 'COSTA RICA' 'REPUBLICA BOLIBARIANA DE' 'BULGARIA'\n",
      " 'INDIA' 'BELARUSIA' 'PAKISTAN' 'COSTARRICENSE' 'VENEZOLANO(A)'\n",
      " 'BRITANICA' 'CHINA  PEKIN' 'CHAROLLAVE CUA ESTADO DE' 'BRASILERO'\n",
      " 'HAITIANO' 'GRIEGO' 'CHILENO' 'PERUANO' 'RUMANIA' 'UNGRIA' 'ECUATORIANA'\n",
      " 'MEXICANA' 'BRASILERA' 'CHINO' 'HODONIN' 'COREA DEL NORTE']\n"
     ]
    }
   ],
   "source": [
    "for col in datalake.columns:\n",
    "    get_uniques(col)"
   ]
  },
  {
   "cell_type": "code",
   "execution_count": 11,
   "metadata": {},
   "outputs": [
    {
     "name": "stdout",
     "output_type": "stream",
     "text": [
      "MATERIA es una columna de tipo único\n"
     ]
    }
   ],
   "source": [
    "for col in datalake.columns:\n",
    "    if len(datalake[col].dropna().unique()) == 1:\n",
    "        print(f'{col} es una columna de tipo único')"
   ]
  },
  {
   "cell_type": "code",
   "execution_count": 12,
   "metadata": {},
   "outputs": [],
   "source": [
    "# MATERIA contiene un solo valor, por lo que se elimina\n",
    "datalake = datalake.drop('MATERIA', axis=1)"
   ]
  },
  {
   "cell_type": "markdown",
   "metadata": {},
   "source": [
    "##### Imputación inicial de valores perdidos"
   ]
  },
  {
   "cell_type": "markdown",
   "metadata": {},
   "source": [
    "###### Eliminar columnas con alta cantidad de valores nulos"
   ]
  },
  {
   "cell_type": "code",
   "execution_count": 13,
   "metadata": {},
   "outputs": [],
   "source": [
    "# El porcentaje de cantidad de valores nulos aceptados por columna es 20%\n",
    "# Se eliminan las columnas con más de 20% de valores nulos\n",
    "for col in datalake.columns:\n",
    "    if datalake[col].isnull().sum() / datalake.shape[0] * 100 > 20:\n",
    "        datalake = datalake.drop(col, axis=1)"
   ]
  },
  {
   "cell_type": "code",
   "execution_count": 14,
   "metadata": {},
   "outputs": [
    {
     "name": "stdout",
     "output_type": "stream",
     "text": [
      "Número total de registros: 422522\n",
      "Número total de valores perdidos: 111249\n",
      "Valores perdidos por columna:\n",
      "DERIVADA_FISCALIA: 72967 (17.27%)\n",
      "EDAD: 5808 (1.37%)\n",
      "EST_CIVIL: 7 (0.00%)\n",
      "FECHA_HORA_HECHO: 16091 (3.81%)\n",
      "SEXO: 243 (0.06%)\n",
      "UBICACION: 13 (0.00%)\n",
      "FEC_REGISTRO: 16091 (3.81%)\n",
      "PAIS_NATAL: 29 (0.01%)\n"
     ]
    }
   ],
   "source": [
    "missing_values()"
   ]
  },
  {
   "cell_type": "code",
   "execution_count": 15,
   "metadata": {},
   "outputs": [],
   "source": [
    "# A este punto todas la columnas son categóricas, incluso EDAD que será transformada después\n",
    "# Acerca de la imputación de nulos faltante, se usará la moda de las columnas categóricas excepto en las fechas\n",
    "# Primero se trabajará las columnas de fechas por su formato y luego se trabajarán las demás"
   ]
  },
  {
   "cell_type": "markdown",
   "metadata": {},
   "source": [
    "##### Valores atípicos"
   ]
  },
  {
   "cell_type": "markdown",
   "metadata": {},
   "source": [
    "###### Edad"
   ]
  },
  {
   "cell_type": "code",
   "execution_count": 16,
   "metadata": {},
   "outputs": [],
   "source": [
    "# Llena los valores perdidos con 0\n",
    "datalake['EDAD'] = datalake['EDAD'].fillna(0)\n",
    "# Para convertir a int64 primero se convierte a float\n",
    "datalake['EDAD'] = datalake['EDAD'].astype(float)\n",
    "datalake['EDAD'] = datalake['EDAD'].astype(np.int64)"
   ]
  },
  {
   "cell_type": "code",
   "execution_count": 17,
   "metadata": {},
   "outputs": [
    {
     "name": "stdout",
     "output_type": "stream",
     "text": [
      "0 728\n"
     ]
    }
   ],
   "source": [
    "# Valores máximos y mínimos\n",
    "print(datalake['EDAD'].min(), datalake['EDAD'].max())"
   ]
  },
  {
   "cell_type": "code",
   "execution_count": 18,
   "metadata": {},
   "outputs": [
    {
     "name": "stdout",
     "output_type": "stream",
     "text": [
      "790177    0\n",
      "162763    0\n",
      "63659     0\n",
      "92007     0\n",
      "323474    0\n",
      "Name: EDAD, dtype: int64\n",
      "408108    545\n",
      "613740    617\n",
      "176833    617\n",
      "655314    627\n",
      "179016    728\n",
      "Name: EDAD, dtype: int64\n",
      "Mediana: 34.0\n",
      "Moda: 31\n"
     ]
    }
   ],
   "source": [
    "# Vista ordenada de edades registradas\n",
    "age_sorted = datalake.sort_values('EDAD')['EDAD']\n",
    "print(age_sorted.head())\n",
    "print(age_sorted.tail())\n",
    "# Obtención de métricas\n",
    "median = age_sorted.median()\n",
    "mode = age_sorted.mode()[0]\n",
    "print(f'Mediana: {median}')\n",
    "print(f'Moda: {mode}')"
   ]
  },
  {
   "cell_type": "code",
   "execution_count": 19,
   "metadata": {},
   "outputs": [],
   "source": [
    "# Suplantamos los valores atípicos con la moda\n",
    "# Se considerarán las edades entre 18 y 75 años\n",
    "min_age = 18\n",
    "max_age = 75\n",
    "datalake.loc[(datalake['EDAD'] < min_age) | (datalake['EDAD'] > max_age) | (datalake['EDAD'] == 0), 'EDAD'] = mode\n",
    "# La columna EDAD ya no tiene valores perdidos"
   ]
  },
  {
   "cell_type": "code",
   "execution_count": 20,
   "metadata": {},
   "outputs": [
    {
     "name": "stdout",
     "output_type": "stream",
     "text": [
      "Número total de registros: 422522\n",
      "Número total de valores perdidos: 105441\n",
      "Valores perdidos por columna:\n",
      "DERIVADA_FISCALIA: 72967 (17.27%)\n",
      "EST_CIVIL: 7 (0.00%)\n",
      "FECHA_HORA_HECHO: 16091 (3.81%)\n",
      "SEXO: 243 (0.06%)\n",
      "UBICACION: 13 (0.00%)\n",
      "FEC_REGISTRO: 16091 (3.81%)\n",
      "PAIS_NATAL: 29 (0.01%)\n"
     ]
    }
   ],
   "source": [
    "missing_values()"
   ]
  },
  {
   "cell_type": "markdown",
   "metadata": {},
   "source": [
    "###### Sexo"
   ]
  },
  {
   "cell_type": "code",
   "execution_count": 21,
   "metadata": {},
   "outputs": [
    {
     "name": "stdout",
     "output_type": "stream",
     "text": [
      "['M' 'F']\n",
      "M    340170\n",
      "F     82109\n",
      "Name: SEXO, dtype: int64\n",
      "SEXO: Moda -> M\n"
     ]
    }
   ],
   "source": [
    "# SEXO contiene valores extraños\n",
    "print(datalake['SEXO'].dropna().unique())\n",
    "# Vemos la frecuencia de los valores\n",
    "print(datalake['SEXO'].value_counts())\n",
    "# Solo considerarán los valores M y F, los demás será suplantados por la moda incluyendo los valores extraños\n",
    "print(f'SEXO: Moda -> {datalake[\"SEXO\"].mode()[0]}')"
   ]
  },
  {
   "cell_type": "code",
   "execution_count": 22,
   "metadata": {},
   "outputs": [
    {
     "name": "stdout",
     "output_type": "stream",
     "text": [
      "M    340413\n",
      "F     82109\n",
      "Name: SEXO, dtype: int64\n",
      "Número total de registros: 422522\n",
      "Número total de valores perdidos: 105198\n",
      "Valores perdidos por columna:\n",
      "DERIVADA_FISCALIA: 72967 (17.27%)\n",
      "EST_CIVIL: 7 (0.00%)\n",
      "FECHA_HORA_HECHO: 16091 (3.81%)\n",
      "UBICACION: 13 (0.00%)\n",
      "FEC_REGISTRO: 16091 (3.81%)\n",
      "PAIS_NATAL: 29 (0.01%)\n"
     ]
    }
   ],
   "source": [
    "datalake.loc[(datalake['SEXO'] != 'M') & (datalake['SEXO'] != 'F'), 'SEXO'] = datalake['SEXO'].mode()[0]\n",
    "print(datalake['SEXO'].value_counts())\n",
    "# La columna SEXO ya no tiene valores perdidos\n",
    "missing_values()"
   ]
  },
  {
   "cell_type": "markdown",
   "metadata": {},
   "source": [
    "###### Fecha"
   ]
  },
  {
   "cell_type": "code",
   "execution_count": 23,
   "metadata": {},
   "outputs": [],
   "source": [
    "# Contamos con diferentes formatos de fecha\n",
    "# mm/dd/yyyy\n",
    "# yyyy-mm-dd\n",
    "# MONTH-dd-yyyy\n",
    "# excel: float"
   ]
  },
  {
   "cell_type": "code",
   "execution_count": 24,
   "metadata": {},
   "outputs": [],
   "source": [
    "import xlrd\n",
    "\n",
    "# De fecha de excel (43677.4) a yyyy-mm-dd\n",
    "def transformExcelDate(excelDate):\n",
    "    dateISO = xlrd.xldate.xldate_as_datetime(float(excelDate), 0).date().isoformat()\n",
    "    return dateISO"
   ]
  },
  {
   "cell_type": "code",
   "execution_count": 25,
   "metadata": {},
   "outputs": [],
   "source": [
    "# RegExp de fecha de excel\n",
    "import re\n",
    "excelDate = r'\\d+(\\.\\d+)?'"
   ]
  },
  {
   "cell_type": "code",
   "execution_count": 26,
   "metadata": {},
   "outputs": [],
   "source": [
    "# Función para estandarizar las fechas de los registros\n",
    "def transformDate(date):\n",
    "    try:\n",
    "        if not pd.isna(date):\n",
    "            if re.fullmatch(excelDate, date):\n",
    "                return transformExcelDate(date)\n",
    "            else:\n",
    "                return pd.to_datetime(date).date().isoformat()\n",
    "    except Exception as e:\n",
    "        print(e, date)"
   ]
  },
  {
   "cell_type": "code",
   "execution_count": 27,
   "metadata": {},
   "outputs": [],
   "source": [
    "datalake['FEC_REGISTRO'] = datalake['FEC_REGISTRO'].apply(transformDate)\n",
    "datalake['FECHA_HORA_HECHO'] = datalake['FECHA_HORA_HECHO'].apply(transformDate)"
   ]
  },
  {
   "cell_type": "code",
   "execution_count": 28,
   "metadata": {},
   "outputs": [
    {
     "name": "stdout",
     "output_type": "stream",
     "text": [
      "Número total de registros: 406431\n",
      "Número total de valores perdidos: 68427\n",
      "Valores perdidos por columna:\n",
      "DERIVADA_FISCALIA: 68379 (16.82%)\n",
      "EST_CIVIL: 7 (0.00%)\n",
      "UBICACION: 12 (0.00%)\n",
      "PAIS_NATAL: 29 (0.01%)\n"
     ]
    }
   ],
   "source": [
    "# Los valores perdidos de FEC_REGISTRO y FECHA_HORA_HECHO, oportunamente, comparten registros\n",
    "# Es decir si en una columna de fecha hay un valor perdido, en la otra también lo hay\n",
    "datalake = datalake.loc[datalake['FEC_REGISTRO'].isna() == False]\n",
    "missing_values()"
   ]
  },
  {
   "cell_type": "markdown",
   "metadata": {},
   "source": [
    "#### Completando valores perdidos en el resto de atributos categóricos"
   ]
  },
  {
   "cell_type": "code",
   "execution_count": 29,
   "metadata": {},
   "outputs": [
    {
     "name": "stdout",
     "output_type": "stream",
     "text": [
      "object (22)\n",
      " ['COMISARIA', 'DERIVADA_FISCALIA', 'DIRECCION', 'DIST_CIA', 'DIST_HECHO', 'DPTO_CIA', 'DPTO_HECHO', 'EST_CIVIL', 'FECHA_HORA_HECHO', 'LIBRO', 'MODALIDAD', 'PROV_CIA', 'PROV_HECHO', 'REGION', 'SEXO', 'SUB_TIPO', 'TIPO', 'TIPO_DENUNCIA', 'UBICACION', 'VIA', 'FEC_REGISTRO', 'PAIS_NATAL'] \n",
      "int64 (1)\n",
      " ['EDAD'] \n"
     ]
    }
   ],
   "source": [
    "update_types()"
   ]
  },
  {
   "cell_type": "code",
   "execution_count": 30,
   "metadata": {},
   "outputs": [],
   "source": [
    "# Se llena el resto de los valores perdidos con la moda\n",
    "for c in object_columns:\n",
    "    mode = datalake[c].mode()[0]\n",
    "    datalake[c] = datalake[c].fillna(mode)"
   ]
  },
  {
   "cell_type": "code",
   "execution_count": 31,
   "metadata": {},
   "outputs": [
    {
     "name": "stdout",
     "output_type": "stream",
     "text": [
      "Número total de registros: 406431\n",
      "Número total de valores perdidos: 0\n",
      "Valores perdidos por columna:\n",
      "None\n"
     ]
    }
   ],
   "source": [
    "print(missing_values())"
   ]
  },
  {
   "cell_type": "code",
   "execution_count": 32,
   "metadata": {},
   "outputs": [
    {
     "name": "stdout",
     "output_type": "stream",
     "text": [
      "   COMISARIA   DERIVADA_FISCALIA                                DIRECCION  \\\n",
      "0  HUANCHACO  JUZGADO DE FAMILIA           AV. LA RIVERA PLAZA SAN MARTIN   \n",
      "1    DULANTO  JUZGADO DE FAMILIA                                   CALLAO   \n",
      "2  JICAMARCA               OTROS  Mz. Q  S/N Ovalo Principal de Jicamarca   \n",
      "3      OCOÑA               OTROS                    AV. PANAMERICA SUR SN   \n",
      "4    PARCONA  JUZGADO DE FAMILIA                             JJ ELIAS S/N   \n",
      "\n",
      "               DIST_CIA            DIST_HECHO     DPTO_CIA   DPTO_HECHO  EDAD  \\\n",
      "0             HUANCHACO             HUANCHACO  LA LIBERTAD  LA LIBERTAD    32   \n",
      "1                CALLAO                CALLAO       CALLAO       CALLAO    40   \n",
      "2  LURIGANCHO - CHOSICA  LURIGANCHO - CHOSICA         LIMA         LIMA    28   \n",
      "3                 OCOÑA                 OCOÑA     AREQUIPA     AREQUIPA    55   \n",
      "4               PARCONA               PARCONA          ICA          ICA    21   \n",
      "\n",
      "     EST_CIVIL FECHA_HORA_HECHO  ... PROV_HECHO                  REGION SEXO  \\\n",
      "0  CONVIVIENTE       2016-01-01  ...   TRUJILLO  REGPOL  -  LA LIBERTAD    M   \n",
      "1   SOLTERO(A)       2016-01-01  ...     CALLAO       REGPOL  -  CALLAO    M   \n",
      "2  CONVIVIENTE       2016-01-02  ...       LIMA         REGPOL  -  LIMA    F   \n",
      "3   SOLTERO(A)       2015-12-26  ...     CAMANA     REGPOL  -  AREQUIPA    M   \n",
      "4   SOLTERO(A)       2016-04-11  ...        ICA          REGPOL  -  ICA    F   \n",
      "\n",
      "                                            SUB_TIPO                TIPO  \\\n",
      "0  LEY DE PROTECCIÓN FRENTE A VIOLENCIA FAMILIAR ...  VIOLENCIA FAMILIAR   \n",
      "1  LEY DE PROTECCIÓN FRENTE A VIOLENCIA FAMILIAR ...  VIOLENCIA FAMILIAR   \n",
      "2  LEY DE PROTECCIÓN FRENTE A VIOLENCIA FAMILIAR ...  VIOLENCIA FAMILIAR   \n",
      "3  LEY PARA PREVENIR , SANCIONAR Y ERRADICAR LA V...  VIOLENCIA FAMILIAR   \n",
      "4  LEY PARA PREVENIR , SANCIONAR Y ERRADICAR LA V...  VIOLENCIA FAMILIAR   \n",
      "\n",
      "             TIPO_DENUNCIA                                          UBICACION  \\\n",
      "0  ACTA DE DENUNCIA VERBAL  SECTOR SANTA ROSA MZ. 11 LT. 36 - HUANCHAQUITO...   \n",
      "1                 DENUNCIA                                      MZ. 2 LOTE 31   \n",
      "2                 DENUNCIA                                         SANTA CRUZ   \n",
      "3                 DENUNCIA        AA. HH. Gilberto CARNERO Anexo de Planchada   \n",
      "4  ACTA DE DENUNCIA VERBAL                     EL PURGATORIO MZ- C  LT 8 AV 7   \n",
      "\n",
      "         VIA FEC_REGISTRO PAIS_NATAL  \n",
      "0      Otros   2016-01-01       PERU  \n",
      "1      Otros   2016-01-02       PERU  \n",
      "2      Otros   2016-01-03       PERU  \n",
      "3  Carretera   2016-01-03       PERU  \n",
      "4      Calle   2016-01-04       PERU  \n",
      "\n",
      "[5 rows x 23 columns]\n",
      "                COMISARIA   DERIVADA_FISCALIA  \\\n",
      "406426  TACNA - NATIVIDAD  JUZGADO DE FAMILIA   \n",
      "406427  TACNA - NATIVIDAD               OTROS   \n",
      "406428  TACNA - NATIVIDAD  JUZGADO DE FAMILIA   \n",
      "406429  TACNA - NATIVIDAD               OTROS   \n",
      "406430             TARATA  JUZGADO DE FAMILIA   \n",
      "\n",
      "                                                DIRECCION DIST_CIA DIST_HECHO  \\\n",
      "406426  calle nuestra señora de natividad nro 1937 cpm...    TACNA      TACNA   \n",
      "406427  calle nuestra señora de natividad nro 1937 cpm...    TACNA      TACNA   \n",
      "406428  calle nuestra señora de natividad nro 1937 cpm...    TACNA      TACNA   \n",
      "406429  calle nuestra señora de natividad nro 1937 cpm...    TACNA      TACNA   \n",
      "406430              CALLE PRIMERO DE SETIEMBRE S/N TARATA   TARATA     TARATA   \n",
      "\n",
      "       DPTO_CIA DPTO_HECHO  EDAD   EST_CIVIL FECHA_HORA_HECHO  ... PROV_HECHO  \\\n",
      "406426    TACNA      TACNA    56  SOLTERO(A)       2019-07-31  ...      TACNA   \n",
      "406427    TACNA      TACNA    59  SOLTERO(A)       2019-12-25  ...      TACNA   \n",
      "406428    TACNA      TACNA    30  SOLTERO(A)       2019-12-26  ...      TACNA   \n",
      "406429    TACNA      TACNA    22  SOLTERO(A)       2019-12-31  ...      TACNA   \n",
      "406430    TACNA      TACNA    38  SOLTERO(A)       2019-11-25  ...     TARATA   \n",
      "\n",
      "                REGION SEXO  \\\n",
      "406426  REGPOL - TACNA    M   \n",
      "406427  REGPOL - TACNA    M   \n",
      "406428  REGPOL - TACNA    M   \n",
      "406429  REGPOL - TACNA    M   \n",
      "406430  REGPOL - TACNA    M   \n",
      "\n",
      "                                                 SUB_TIPO  \\\n",
      "406426  LEY PARA PREVENIR , SANCIONAR Y ERRADICAR LA V...   \n",
      "406427  LEY PARA PREVENIR , SANCIONAR Y ERRADICAR LA V...   \n",
      "406428  LEY PARA PREVENIR , SANCIONAR Y ERRADICAR LA V...   \n",
      "406429  LEY PARA PREVENIR , SANCIONAR Y ERRADICAR LA V...   \n",
      "406430  LEY PARA PREVENIR , SANCIONAR Y ERRADICAR LA V...   \n",
      "\n",
      "                                                     TIPO  \\\n",
      "406426  LEY DE VIOLENCIA CONTRA LA MUJER Y GRUPOS VULN...   \n",
      "406427  LEY DE VIOLENCIA CONTRA LA MUJER Y GRUPOS VULN...   \n",
      "406428  LEY DE VIOLENCIA CONTRA LA MUJER Y GRUPOS VULN...   \n",
      "406429  LEY DE VIOLENCIA CONTRA LA MUJER Y GRUPOS VULN...   \n",
      "406430  LEY DE VIOLENCIA CONTRA LA MUJER Y GRUPOS VULN...   \n",
      "\n",
      "                  TIPO_DENUNCIA  \\\n",
      "406426  ACTA DE DENUNCIA VERBAL   \n",
      "406427  ACTA DE DENUNCIA VERBAL   \n",
      "406428     ACTA DE INTERVENCION   \n",
      "406429  ACTA DE DENUNCIA VERBAL   \n",
      "406430  ACTA DE DENUNCIA VERBAL   \n",
      "\n",
      "                                                UBICACION    VIA FEC_REGISTRO  \\\n",
      "406426   CALLE CRISTINA VILDOSO NRO, 1799 - CP. NATIVIDAD  Otros   2019-12-22   \n",
      "406427  Alfonso Ugarte II Etapa Mz. C ? 01 Lote 03 ? G...  Otros   2019-12-26   \n",
      "406428  CALLE JUAN PABLO VIZCARDO Y GUZMAN NRO.1673 CP...  Otros   2019-12-30   \n",
      "406429                            Calle Moquegua Nro. 242  Otros   2019-12-31   \n",
      "406430                       Calle Bolognesi S/N - Tarata  Otros   2019-12-09   \n",
      "\n",
      "       PAIS_NATAL  \n",
      "406426       PERU  \n",
      "406427       PERU  \n",
      "406428       PERU  \n",
      "406429       PERU  \n",
      "406430       PERU  \n",
      "\n",
      "[5 rows x 23 columns]\n"
     ]
    }
   ],
   "source": [
    "# Reseteamos el index\n",
    "datalake.reset_index(drop=True, inplace=True)\n",
    "# Mostramos la tabla\n",
    "print(datalake.head())\n",
    "print(datalake.tail())"
   ]
  },
  {
   "cell_type": "markdown",
   "metadata": {},
   "source": [
    "##### Separando fecha en año, mes, día y día de la semana"
   ]
  },
  {
   "cell_type": "code",
   "execution_count": 33,
   "metadata": {},
   "outputs": [],
   "source": [
    "def spread_out_date(col):\n",
    "    datalake[f'{col}_ANIO'] = datalake[col].apply(lambda x: int(x[:4]))\n",
    "    datalake[f'{col}_MES'] = datalake[col].apply(lambda x: int(x[5:7]))\n",
    "    datalake[f'{col}_DIA'] = datalake[col].apply(lambda x: int(x[8:]))\n",
    "    datalake[f'{col}_DIA_SEM'] = datalake[col].apply(lambda x: pd.to_datetime(x).weekday())"
   ]
  },
  {
   "cell_type": "code",
   "execution_count": 34,
   "metadata": {},
   "outputs": [],
   "source": [
    "spread_out_date('FEC_REGISTRO')\n",
    "spread_out_date('FECHA_HORA_HECHO')"
   ]
  },
  {
   "cell_type": "code",
   "execution_count": 35,
   "metadata": {},
   "outputs": [
    {
     "name": "stdout",
     "output_type": "stream",
     "text": [
      "   COMISARIA   DERIVADA_FISCALIA                                DIRECCION  \\\n",
      "0  HUANCHACO  JUZGADO DE FAMILIA           AV. LA RIVERA PLAZA SAN MARTIN   \n",
      "1    DULANTO  JUZGADO DE FAMILIA                                   CALLAO   \n",
      "2  JICAMARCA               OTROS  Mz. Q  S/N Ovalo Principal de Jicamarca   \n",
      "3      OCOÑA               OTROS                    AV. PANAMERICA SUR SN   \n",
      "4    PARCONA  JUZGADO DE FAMILIA                             JJ ELIAS S/N   \n",
      "\n",
      "               DIST_CIA            DIST_HECHO     DPTO_CIA   DPTO_HECHO  EDAD  \\\n",
      "0             HUANCHACO             HUANCHACO  LA LIBERTAD  LA LIBERTAD    32   \n",
      "1                CALLAO                CALLAO       CALLAO       CALLAO    40   \n",
      "2  LURIGANCHO - CHOSICA  LURIGANCHO - CHOSICA         LIMA         LIMA    28   \n",
      "3                 OCOÑA                 OCOÑA     AREQUIPA     AREQUIPA    55   \n",
      "4               PARCONA               PARCONA          ICA          ICA    21   \n",
      "\n",
      "     EST_CIVIL FECHA_HORA_HECHO  ... FEC_REGISTRO PAIS_NATAL  \\\n",
      "0  CONVIVIENTE       2016-01-01  ...   2016-01-01       PERU   \n",
      "1   SOLTERO(A)       2016-01-01  ...   2016-01-02       PERU   \n",
      "2  CONVIVIENTE       2016-01-02  ...   2016-01-03       PERU   \n",
      "3   SOLTERO(A)       2015-12-26  ...   2016-01-03       PERU   \n",
      "4   SOLTERO(A)       2016-04-11  ...   2016-01-04       PERU   \n",
      "\n",
      "  FEC_REGISTRO_ANIO FEC_REGISTRO_MES FEC_REGISTRO_DIA FEC_REGISTRO_DIA_SEM  \\\n",
      "0              2016                1                1                    4   \n",
      "1              2016                1                2                    5   \n",
      "2              2016                1                3                    6   \n",
      "3              2016                1                3                    6   \n",
      "4              2016                1                4                    0   \n",
      "\n",
      "  FECHA_HORA_HECHO_ANIO FECHA_HORA_HECHO_MES FECHA_HORA_HECHO_DIA  \\\n",
      "0                  2016                    1                    1   \n",
      "1                  2016                    1                    1   \n",
      "2                  2016                    1                    2   \n",
      "3                  2015                   12                   26   \n",
      "4                  2016                    4                   11   \n",
      "\n",
      "  FECHA_HORA_HECHO_DIA_SEM  \n",
      "0                        4  \n",
      "1                        4  \n",
      "2                        5  \n",
      "3                        5  \n",
      "4                        0  \n",
      "\n",
      "[5 rows x 31 columns]\n",
      "                COMISARIA   DERIVADA_FISCALIA  \\\n",
      "406426  TACNA - NATIVIDAD  JUZGADO DE FAMILIA   \n",
      "406427  TACNA - NATIVIDAD               OTROS   \n",
      "406428  TACNA - NATIVIDAD  JUZGADO DE FAMILIA   \n",
      "406429  TACNA - NATIVIDAD               OTROS   \n",
      "406430             TARATA  JUZGADO DE FAMILIA   \n",
      "\n",
      "                                                DIRECCION DIST_CIA DIST_HECHO  \\\n",
      "406426  calle nuestra señora de natividad nro 1937 cpm...    TACNA      TACNA   \n",
      "406427  calle nuestra señora de natividad nro 1937 cpm...    TACNA      TACNA   \n",
      "406428  calle nuestra señora de natividad nro 1937 cpm...    TACNA      TACNA   \n",
      "406429  calle nuestra señora de natividad nro 1937 cpm...    TACNA      TACNA   \n",
      "406430              CALLE PRIMERO DE SETIEMBRE S/N TARATA   TARATA     TARATA   \n",
      "\n",
      "       DPTO_CIA DPTO_HECHO  EDAD   EST_CIVIL FECHA_HORA_HECHO  ...  \\\n",
      "406426    TACNA      TACNA    56  SOLTERO(A)       2019-07-31  ...   \n",
      "406427    TACNA      TACNA    59  SOLTERO(A)       2019-12-25  ...   \n",
      "406428    TACNA      TACNA    30  SOLTERO(A)       2019-12-26  ...   \n",
      "406429    TACNA      TACNA    22  SOLTERO(A)       2019-12-31  ...   \n",
      "406430    TACNA      TACNA    38  SOLTERO(A)       2019-11-25  ...   \n",
      "\n",
      "       FEC_REGISTRO PAIS_NATAL FEC_REGISTRO_ANIO FEC_REGISTRO_MES  \\\n",
      "406426   2019-12-22       PERU              2019               12   \n",
      "406427   2019-12-26       PERU              2019               12   \n",
      "406428   2019-12-30       PERU              2019               12   \n",
      "406429   2019-12-31       PERU              2019               12   \n",
      "406430   2019-12-09       PERU              2019               12   \n",
      "\n",
      "       FEC_REGISTRO_DIA FEC_REGISTRO_DIA_SEM FECHA_HORA_HECHO_ANIO  \\\n",
      "406426               22                    6                  2019   \n",
      "406427               26                    3                  2019   \n",
      "406428               30                    0                  2019   \n",
      "406429               31                    1                  2019   \n",
      "406430                9                    0                  2019   \n",
      "\n",
      "       FECHA_HORA_HECHO_MES FECHA_HORA_HECHO_DIA FECHA_HORA_HECHO_DIA_SEM  \n",
      "406426                    7                   31                        2  \n",
      "406427                   12                   25                        2  \n",
      "406428                   12                   26                        3  \n",
      "406429                   12                   31                        1  \n",
      "406430                   11                   25                        0  \n",
      "\n",
      "[5 rows x 31 columns]\n"
     ]
    }
   ],
   "source": [
    "print(datalake.head())\n",
    "print(datalake.tail())"
   ]
  },
  {
   "cell_type": "code",
   "execution_count": 36,
   "metadata": {},
   "outputs": [
    {
     "name": "stdout",
     "output_type": "stream",
     "text": [
      "<class 'pandas.core.frame.DataFrame'>\n",
      "RangeIndex: 406431 entries, 0 to 406430\n",
      "Data columns (total 29 columns):\n",
      " #   Column                    Non-Null Count   Dtype \n",
      "---  ------                    --------------   ----- \n",
      " 0   COMISARIA                 406431 non-null  object\n",
      " 1   DERIVADA_FISCALIA         406431 non-null  object\n",
      " 2   DIRECCION                 406431 non-null  object\n",
      " 3   DIST_CIA                  406431 non-null  object\n",
      " 4   DIST_HECHO                406431 non-null  object\n",
      " 5   DPTO_CIA                  406431 non-null  object\n",
      " 6   DPTO_HECHO                406431 non-null  object\n",
      " 7   EDAD                      406431 non-null  int64 \n",
      " 8   EST_CIVIL                 406431 non-null  object\n",
      " 9   LIBRO                     406431 non-null  object\n",
      " 10  MODALIDAD                 406431 non-null  object\n",
      " 11  PROV_CIA                  406431 non-null  object\n",
      " 12  PROV_HECHO                406431 non-null  object\n",
      " 13  REGION                    406431 non-null  object\n",
      " 14  SEXO                      406431 non-null  object\n",
      " 15  SUB_TIPO                  406431 non-null  object\n",
      " 16  TIPO                      406431 non-null  object\n",
      " 17  TIPO_DENUNCIA             406431 non-null  object\n",
      " 18  UBICACION                 406431 non-null  object\n",
      " 19  VIA                       406431 non-null  object\n",
      " 20  PAIS_NATAL                406431 non-null  object\n",
      " 21  FEC_REGISTRO_ANIO         406431 non-null  int64 \n",
      " 22  FEC_REGISTRO_MES          406431 non-null  int64 \n",
      " 23  FEC_REGISTRO_DIA          406431 non-null  int64 \n",
      " 24  FEC_REGISTRO_DIA_SEM      406431 non-null  int64 \n",
      " 25  FECHA_HORA_HECHO_ANIO     406431 non-null  int64 \n",
      " 26  FECHA_HORA_HECHO_MES      406431 non-null  int64 \n",
      " 27  FECHA_HORA_HECHO_DIA      406431 non-null  int64 \n",
      " 28  FECHA_HORA_HECHO_DIA_SEM  406431 non-null  int64 \n",
      "dtypes: int64(9), object(20)\n",
      "memory usage: 89.9+ MB\n",
      "None\n",
      "object (20)\n",
      " ['COMISARIA', 'DERIVADA_FISCALIA', 'DIRECCION', 'DIST_CIA', 'DIST_HECHO', 'DPTO_CIA', 'DPTO_HECHO', 'EST_CIVIL', 'LIBRO', 'MODALIDAD', 'PROV_CIA', 'PROV_HECHO', 'REGION', 'SEXO', 'SUB_TIPO', 'TIPO', 'TIPO_DENUNCIA', 'UBICACION', 'VIA', 'PAIS_NATAL'] \n",
      "int64 (9)\n",
      " ['EDAD', 'FEC_REGISTRO_ANIO', 'FEC_REGISTRO_MES', 'FEC_REGISTRO_DIA', 'FEC_REGISTRO_DIA_SEM', 'FECHA_HORA_HECHO_ANIO', 'FECHA_HORA_HECHO_MES', 'FECHA_HORA_HECHO_DIA', 'FECHA_HORA_HECHO_DIA_SEM'] \n",
      "None\n"
     ]
    }
   ],
   "source": [
    "# Ya no se necesita la columna FEC_REGISTRO ni FECHA_HORA_HECHO\n",
    "datalake = datalake.drop(['FEC_REGISTRO', 'FECHA_HORA_HECHO'], axis=1)\n",
    "print(datalake.info())\n",
    "print(update_types())"
   ]
  },
  {
   "cell_type": "code",
   "execution_count": 37,
   "metadata": {},
   "outputs": [],
   "source": [
    "datalake.to_csv('./dataset/dataset_preprocessed.csv', index=False)"
   ]
  },
  {
   "cell_type": "markdown",
   "metadata": {},
   "source": [
    "#### Transformación de atributos categóricos a numéricos"
   ]
  },
  {
   "cell_type": "code",
   "execution_count": 38,
   "metadata": {},
   "outputs": [],
   "source": [
    "from sklearn.preprocessing import LabelEncoder\n",
    "\n",
    "cat_columns_encoded = {}\n",
    "\n",
    "def encode(col):\n",
    "    cat_columns_encoded[col] = LabelEncoder()\n",
    "    datalake[col] = cat_columns_encoded[col].fit_transform(datalake[col])\n",
    "\n",
    "for col in object_columns:\n",
    "    encode(col)"
   ]
  },
  {
   "cell_type": "code",
   "execution_count": 39,
   "metadata": {},
   "outputs": [],
   "source": [
    "# Función para mostrar el encodificado de una columna\n",
    "def show_encoded_column(col):\n",
    "    classes = cat_columns_encoded[col].classes_\n",
    "    for i, c in enumerate(classes):\n",
    "        print(f'{i} -> {c}')"
   ]
  },
  {
   "cell_type": "code",
   "execution_count": 40,
   "metadata": {},
   "outputs": [
    {
     "name": "stdout",
     "output_type": "stream",
     "text": [
      "0 -> AMENAZA GRAVE\n",
      "1 -> COACCION GRAVE\n",
      "2 -> MALTRATO SIN LESION\n",
      "3 -> VIOLENCIA ECONOMICA O PATRIMONIAL\n",
      "4 -> VIOLENCIA FISICA\n",
      "5 -> VIOLENCIA FISICA Y PSICOLOGICA\n",
      "6 -> VIOLENCIA PSICOLOGICA\n"
     ]
    }
   ],
   "source": [
    "show_encoded_column('MODALIDAD')"
   ]
  },
  {
   "cell_type": "code",
   "execution_count": 41,
   "metadata": {},
   "outputs": [
    {
     "name": "stdout",
     "output_type": "stream",
     "text": [
      "   COMISARIA  DERIVADA_FISCALIA  DIRECCION  DIST_CIA  DIST_HECHO  DPTO_CIA  \\\n",
      "0        371                  4        283       252         453        12   \n",
      "1        311                  4        539        78         130         6   \n",
      "2        431                  7       1181       376         651        14   \n",
      "3        598                  7        330       450         772         3   \n",
      "4        664                  4        872       496         847        10   \n",
      "\n",
      "   DPTO_HECHO  EDAD  EST_CIVIL  LIBRO  ...  VIA  PAIS_NATAL  \\\n",
      "0          12    32          1      1  ...   10         106   \n",
      "1           6    40          4     25  ...   10         106   \n",
      "2          14    28          1     25  ...   10         106   \n",
      "3           3    55          4     22  ...    4         106   \n",
      "4          10    21          4     18  ...    3         106   \n",
      "\n",
      "   FEC_REGISTRO_ANIO  FEC_REGISTRO_MES  FEC_REGISTRO_DIA  \\\n",
      "0               2016                 1                 1   \n",
      "1               2016                 1                 2   \n",
      "2               2016                 1                 3   \n",
      "3               2016                 1                 3   \n",
      "4               2016                 1                 4   \n",
      "\n",
      "   FEC_REGISTRO_DIA_SEM  FECHA_HORA_HECHO_ANIO  FECHA_HORA_HECHO_MES  \\\n",
      "0                     4                   2016                     1   \n",
      "1                     5                   2016                     1   \n",
      "2                     6                   2016                     1   \n",
      "3                     6                   2015                    12   \n",
      "4                     0                   2016                     4   \n",
      "\n",
      "   FECHA_HORA_HECHO_DIA  FECHA_HORA_HECHO_DIA_SEM  \n",
      "0                     1                         4  \n",
      "1                     1                         4  \n",
      "2                     2                         5  \n",
      "3                    26                         5  \n",
      "4                    11                         0  \n",
      "\n",
      "[5 rows x 29 columns]\n",
      "object (0)\n",
      " [] \n",
      "int64 (9)\n",
      " ['EDAD', 'FEC_REGISTRO_ANIO', 'FEC_REGISTRO_MES', 'FEC_REGISTRO_DIA', 'FEC_REGISTRO_DIA_SEM', 'FECHA_HORA_HECHO_ANIO', 'FECHA_HORA_HECHO_MES', 'FECHA_HORA_HECHO_DIA', 'FECHA_HORA_HECHO_DIA_SEM'] \n",
      "None\n"
     ]
    }
   ],
   "source": [
    "print(datalake.head())\n",
    "print(update_types())"
   ]
  },
  {
   "cell_type": "code",
   "execution_count": 42,
   "metadata": {},
   "outputs": [
    {
     "name": "stdout",
     "output_type": "stream",
     "text": [
      "<class 'pandas.core.frame.DataFrame'>\n",
      "RangeIndex: 406431 entries, 0 to 406430\n",
      "Data columns (total 29 columns):\n",
      " #   Column                    Non-Null Count   Dtype\n",
      "---  ------                    --------------   -----\n",
      " 0   COMISARIA                 406431 non-null  int32\n",
      " 1   DERIVADA_FISCALIA         406431 non-null  int32\n",
      " 2   DIRECCION                 406431 non-null  int32\n",
      " 3   DIST_CIA                  406431 non-null  int32\n",
      " 4   DIST_HECHO                406431 non-null  int32\n",
      " 5   DPTO_CIA                  406431 non-null  int32\n",
      " 6   DPTO_HECHO                406431 non-null  int32\n",
      " 7   EDAD                      406431 non-null  int64\n",
      " 8   EST_CIVIL                 406431 non-null  int32\n",
      " 9   LIBRO                     406431 non-null  int32\n",
      " 10  MODALIDAD                 406431 non-null  int32\n",
      " 11  PROV_CIA                  406431 non-null  int32\n",
      " 12  PROV_HECHO                406431 non-null  int32\n",
      " 13  REGION                    406431 non-null  int32\n",
      " 14  SEXO                      406431 non-null  int32\n",
      " 15  SUB_TIPO                  406431 non-null  int32\n",
      " 16  TIPO                      406431 non-null  int32\n",
      " 17  TIPO_DENUNCIA             406431 non-null  int32\n",
      " 18  UBICACION                 406431 non-null  int32\n",
      " 19  VIA                       406431 non-null  int32\n",
      " 20  PAIS_NATAL                406431 non-null  int32\n",
      " 21  FEC_REGISTRO_ANIO         406431 non-null  int64\n",
      " 22  FEC_REGISTRO_MES          406431 non-null  int64\n",
      " 23  FEC_REGISTRO_DIA          406431 non-null  int64\n",
      " 24  FEC_REGISTRO_DIA_SEM      406431 non-null  int64\n",
      " 25  FECHA_HORA_HECHO_ANIO     406431 non-null  int64\n",
      " 26  FECHA_HORA_HECHO_MES      406431 non-null  int64\n",
      " 27  FECHA_HORA_HECHO_DIA      406431 non-null  int64\n",
      " 28  FECHA_HORA_HECHO_DIA_SEM  406431 non-null  int64\n",
      "dtypes: int32(20), int64(9)\n",
      "memory usage: 58.9 MB\n",
      "None\n"
     ]
    }
   ],
   "source": [
    "# LabelEncoder genera el tipo int32\n",
    "print(datalake.info())"
   ]
  },
  {
   "cell_type": "code",
   "execution_count": 43,
   "metadata": {},
   "outputs": [],
   "source": [
    "# Trasnformando columnas de tipo int32 a int64\n",
    "for col in datalake.columns:\n",
    "    if datalake[col].dtype == 'int32':\n",
    "        datalake[col] = datalake[col].astype(np.int64)"
   ]
  },
  {
   "cell_type": "code",
   "execution_count": 44,
   "metadata": {},
   "outputs": [
    {
     "name": "stdout",
     "output_type": "stream",
     "text": [
      "object (0)\n",
      " [] \n",
      "int64 (29)\n",
      " ['COMISARIA', 'DERIVADA_FISCALIA', 'DIRECCION', 'DIST_CIA', 'DIST_HECHO', 'DPTO_CIA', 'DPTO_HECHO', 'EDAD', 'EST_CIVIL', 'LIBRO', 'MODALIDAD', 'PROV_CIA', 'PROV_HECHO', 'REGION', 'SEXO', 'SUB_TIPO', 'TIPO', 'TIPO_DENUNCIA', 'UBICACION', 'VIA', 'PAIS_NATAL', 'FEC_REGISTRO_ANIO', 'FEC_REGISTRO_MES', 'FEC_REGISTRO_DIA', 'FEC_REGISTRO_DIA_SEM', 'FECHA_HORA_HECHO_ANIO', 'FECHA_HORA_HECHO_MES', 'FECHA_HORA_HECHO_DIA', 'FECHA_HORA_HECHO_DIA_SEM'] \n",
      "None\n",
      "<class 'pandas.core.frame.DataFrame'>\n",
      "RangeIndex: 406431 entries, 0 to 406430\n",
      "Data columns (total 29 columns):\n",
      " #   Column                    Non-Null Count   Dtype\n",
      "---  ------                    --------------   -----\n",
      " 0   COMISARIA                 406431 non-null  int64\n",
      " 1   DERIVADA_FISCALIA         406431 non-null  int64\n",
      " 2   DIRECCION                 406431 non-null  int64\n",
      " 3   DIST_CIA                  406431 non-null  int64\n",
      " 4   DIST_HECHO                406431 non-null  int64\n",
      " 5   DPTO_CIA                  406431 non-null  int64\n",
      " 6   DPTO_HECHO                406431 non-null  int64\n",
      " 7   EDAD                      406431 non-null  int64\n",
      " 8   EST_CIVIL                 406431 non-null  int64\n",
      " 9   LIBRO                     406431 non-null  int64\n",
      " 10  MODALIDAD                 406431 non-null  int64\n",
      " 11  PROV_CIA                  406431 non-null  int64\n",
      " 12  PROV_HECHO                406431 non-null  int64\n",
      " 13  REGION                    406431 non-null  int64\n",
      " 14  SEXO                      406431 non-null  int64\n",
      " 15  SUB_TIPO                  406431 non-null  int64\n",
      " 16  TIPO                      406431 non-null  int64\n",
      " 17  TIPO_DENUNCIA             406431 non-null  int64\n",
      " 18  UBICACION                 406431 non-null  int64\n",
      " 19  VIA                       406431 non-null  int64\n",
      " 20  PAIS_NATAL                406431 non-null  int64\n",
      " 21  FEC_REGISTRO_ANIO         406431 non-null  int64\n",
      " 22  FEC_REGISTRO_MES          406431 non-null  int64\n",
      " 23  FEC_REGISTRO_DIA          406431 non-null  int64\n",
      " 24  FEC_REGISTRO_DIA_SEM      406431 non-null  int64\n",
      " 25  FECHA_HORA_HECHO_ANIO     406431 non-null  int64\n",
      " 26  FECHA_HORA_HECHO_MES      406431 non-null  int64\n",
      " 27  FECHA_HORA_HECHO_DIA      406431 non-null  int64\n",
      " 28  FECHA_HORA_HECHO_DIA_SEM  406431 non-null  int64\n",
      "dtypes: int64(29)\n",
      "memory usage: 89.9 MB\n",
      "None\n"
     ]
    }
   ],
   "source": [
    "print(update_types())\n",
    "print(datalake.info())"
   ]
  },
  {
   "cell_type": "code",
   "execution_count": 45,
   "metadata": {},
   "outputs": [
    {
     "name": "stdout",
     "output_type": "stream",
     "text": [
      "   COMISARIA  DERIVADA_FISCALIA  DIRECCION  DIST_CIA  DIST_HECHO  DPTO_CIA  \\\n",
      "0        371                  4        283       252         453        12   \n",
      "1        311                  4        539        78         130         6   \n",
      "2        431                  7       1181       376         651        14   \n",
      "3        598                  7        330       450         772         3   \n",
      "4        664                  4        872       496         847        10   \n",
      "\n",
      "   DPTO_HECHO  EDAD  EST_CIVIL  LIBRO  ...  VIA  PAIS_NATAL  \\\n",
      "0          12    32          1      1  ...   10         106   \n",
      "1           6    40          4     25  ...   10         106   \n",
      "2          14    28          1     25  ...   10         106   \n",
      "3           3    55          4     22  ...    4         106   \n",
      "4          10    21          4     18  ...    3         106   \n",
      "\n",
      "   FEC_REGISTRO_ANIO  FEC_REGISTRO_MES  FEC_REGISTRO_DIA  \\\n",
      "0               2016                 1                 1   \n",
      "1               2016                 1                 2   \n",
      "2               2016                 1                 3   \n",
      "3               2016                 1                 3   \n",
      "4               2016                 1                 4   \n",
      "\n",
      "   FEC_REGISTRO_DIA_SEM  FECHA_HORA_HECHO_ANIO  FECHA_HORA_HECHO_MES  \\\n",
      "0                     4                   2016                     1   \n",
      "1                     5                   2016                     1   \n",
      "2                     6                   2016                     1   \n",
      "3                     6                   2015                    12   \n",
      "4                     0                   2016                     4   \n",
      "\n",
      "   FECHA_HORA_HECHO_DIA  FECHA_HORA_HECHO_DIA_SEM  \n",
      "0                     1                         4  \n",
      "1                     1                         4  \n",
      "2                     2                         5  \n",
      "3                    26                         5  \n",
      "4                    11                         0  \n",
      "\n",
      "[5 rows x 29 columns]\n"
     ]
    }
   ],
   "source": [
    "print(datalake.head())"
   ]
  },
  {
   "cell_type": "code",
   "execution_count": 46,
   "metadata": {},
   "outputs": [],
   "source": [
    "datalake.to_csv('./dataset/dataset_preprocessed_numeric.csv', index=False)"
   ]
  }
 ],
 "metadata": {
  "kernelspec": {
   "display_name": "Python 3.9.12 ('base')",
   "language": "python",
   "name": "python3"
  },
  "language_info": {
   "codemirror_mode": {
    "name": "ipython",
    "version": 3
   },
   "file_extension": ".py",
   "mimetype": "text/x-python",
   "name": "python",
   "nbconvert_exporter": "python",
   "pygments_lexer": "ipython3",
   "version": "3.9.12"
  },
  "orig_nbformat": 4,
  "vscode": {
   "interpreter": {
    "hash": "a853a36dd34f4e127a1c940f133f5f5f69f52494a182d60a25a7162197551ce1"
   }
  }
 },
 "nbformat": 4,
 "nbformat_minor": 2
}
