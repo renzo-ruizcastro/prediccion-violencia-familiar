{
 "cells": [
  {
   "cell_type": "code",
   "execution_count": 1,
   "metadata": {},
   "outputs": [],
   "source": [
    "import pandas as pd\n",
    "import numpy as np"
   ]
  },
  {
   "cell_type": "code",
   "execution_count": 2,
   "metadata": {},
   "outputs": [],
   "source": [
    "datalake = pd.read_csv('./datalake/datalake.csv', encoding='utf-8', header=0, low_memory=False)"
   ]
  },
  {
   "cell_type": "code",
   "execution_count": 3,
   "metadata": {},
   "outputs": [
    {
     "name": "stdout",
     "output_type": "stream",
     "text": [
      "<class 'pandas.core.frame.DataFrame'>\n",
      "RangeIndex: 850013 entries, 0 to 850012\n",
      "Data columns (total 42 columns):\n",
      " #   Column              Non-Null Count   Dtype \n",
      "---  ------              --------------   ----- \n",
      " 0   COMISARIA           850013 non-null  object\n",
      " 1   CUADRA              53118 non-null   object\n",
      " 2   DERIVADA_FISCALIA   715460 non-null  object\n",
      " 3   DIRECCION           850013 non-null  object\n",
      " 4   DIST_CIA            850013 non-null  object\n",
      " 5   DIST_HECHO          850013 non-null  object\n",
      " 6   DPTO_CIA            850013 non-null  object\n",
      " 7   DPTO_HECHO          850013 non-null  object\n",
      " 8   EDAD                847713 non-null  object\n",
      " 9   ESTADO_DEN          850013 non-null  object\n",
      " 10  EST_CIVIL           849957 non-null  object\n",
      " 11  FECHA_HORA_HECHO    850013 non-null  object\n",
      " 12  ID_COMISARIA        850013 non-null  int64 \n",
      " 13  ID_EST_CIVIL        849962 non-null  object\n",
      " 14  ID_LIBRO            850013 non-null  object\n",
      " 15  ID_MATERIA          850013 non-null  int64 \n",
      " 16  ID_MODALIDAD        850013 non-null  int64 \n",
      " 17  ID_NIVEL_EDUCATIVO  90162 non-null   object\n",
      " 18  ID_REGION           850013 non-null  int64 \n",
      " 19  ID_SIT_PERSONA      850013 non-null  object\n",
      " 20  ID_SUBTIPO          850013 non-null  int64 \n",
      " 21  ID_TIPO             850013 non-null  int64 \n",
      " 22  ID_TIPO_DENUNCIA    850013 non-null  object\n",
      " 23  LIBRO               850013 non-null  object\n",
      " 24  MATERIA             850013 non-null  object\n",
      " 25  MODALIDAD           850013 non-null  object\n",
      " 26  NIVEL_EDUCATIVO     55764 non-null   object\n",
      " 27  OCUPACION           353046 non-null  object\n",
      " 28  PROV_CIA            850013 non-null  object\n",
      " 29  PROV_HECHO          850013 non-null  object\n",
      " 30  REGION              850013 non-null  object\n",
      " 31  SEXO                849347 non-null  object\n",
      " 32  SIT_PERSONA         850013 non-null  object\n",
      " 33  SUB_TIPO            850013 non-null  object\n",
      " 34  TIPO                850013 non-null  object\n",
      " 35  TIPO_DENUNCIA       850013 non-null  object\n",
      " 36  UBICACION           850013 non-null  object\n",
      " 37  UBIGEO_CIA          850013 non-null  int64 \n",
      " 38  UBIGEO_HECHO        850013 non-null  int64 \n",
      " 39  VIA                 850013 non-null  object\n",
      " 40  fec_registro        850013 non-null  object\n",
      " 41  pais_natal          850013 non-null  object\n",
      "dtypes: int64(8), object(34)\n",
      "memory usage: 272.4+ MB\n",
      "None\n"
     ]
    }
   ],
   "source": [
    "original_data = datalake.copy(deep=True)\n",
    "print(datalake.info())"
   ]
  },
  {
   "cell_type": "code",
   "execution_count": 4,
   "metadata": {},
   "outputs": [
    {
     "name": "stdout",
     "output_type": "stream",
     "text": [
      "object\n",
      " ['COMISARIA', 'CUADRA', 'DERIVADA_FISCALIA', 'DIRECCION', 'DIST_CIA', 'DIST_HECHO', 'DPTO_CIA', 'DPTO_HECHO', 'EDAD', 'ESTADO_DEN', 'EST_CIVIL', 'FECHA_HORA_HECHO', 'ID_EST_CIVIL', 'ID_LIBRO', 'ID_NIVEL_EDUCATIVO', 'ID_SIT_PERSONA', 'ID_TIPO_DENUNCIA', 'LIBRO', 'MATERIA', 'MODALIDAD', 'NIVEL_EDUCATIVO', 'OCUPACION', 'PROV_CIA', 'PROV_HECHO', 'REGION', 'SEXO', 'SIT_PERSONA', 'SUB_TIPO', 'TIPO', 'TIPO_DENUNCIA', 'UBICACION', 'VIA', 'fec_registro', 'pais_natal']\n",
      "int64\n",
      " ['ID_COMISARIA', 'ID_MATERIA', 'ID_MODALIDAD', 'ID_REGION', 'ID_SUBTIPO', 'ID_TIPO', 'UBIGEO_CIA', 'UBIGEO_HECHO']\n"
     ]
    }
   ],
   "source": [
    "# Idenficando las columnas por tipo de dato\n",
    "object_columns = []\n",
    "int64_columns = []\n",
    "def show_types():\n",
    "    global object_columns, int64_columns\n",
    "    object_columns = datalake.select_dtypes(['object']).columns.to_list()\n",
    "    int64_columns = datalake.select_dtypes(['int64']).columns.to_list()\n",
    "    print(f'object\\n {object_columns}')\n",
    "    print(f'int64\\n {int64_columns}')\n",
    "show_types()"
   ]
  },
  {
   "cell_type": "code",
   "execution_count": 5,
   "metadata": {},
   "outputs": [
    {
     "name": "stdout",
     "output_type": "stream",
     "text": [
      "object\n",
      " ['COMISARIA', 'CUADRA', 'DERIVADA_FISCALIA', 'DIRECCION', 'DIST_CIA', 'DIST_HECHO', 'DPTO_CIA', 'DPTO_HECHO', 'EDAD', 'ESTADO_DEN', 'EST_CIVIL', 'FECHA_HORA_HECHO', 'ID_COMISARIA', 'ID_EST_CIVIL', 'ID_LIBRO', 'ID_MATERIA', 'ID_MODALIDAD', 'ID_NIVEL_EDUCATIVO', 'ID_REGION', 'ID_SIT_PERSONA', 'ID_SUBTIPO', 'ID_TIPO', 'ID_TIPO_DENUNCIA', 'LIBRO', 'MATERIA', 'MODALIDAD', 'NIVEL_EDUCATIVO', 'OCUPACION', 'PROV_CIA', 'PROV_HECHO', 'REGION', 'SEXO', 'SIT_PERSONA', 'SUB_TIPO', 'TIPO', 'TIPO_DENUNCIA', 'UBICACION', 'UBIGEO_CIA', 'UBIGEO_HECHO', 'VIA', 'fec_registro', 'pais_natal']\n",
      "int64\n",
      " []\n"
     ]
    }
   ],
   "source": [
    "#Se están clasificando columnas de id's (incluyendo UBIGEOs) como int64.\n",
    "#Estos datos no son propiamente numéricos, de hecho, la única categoría numérica sería 'EDAD', pero ahora es de tipo object.\n",
    "#Primero se convertirán todas las columnas id detectadas como int64 a object\n",
    "for col in int64_columns:\n",
    "    datalake[col] = datalake[col].astype(str)\n",
    "show_types()"
   ]
  },
  {
   "cell_type": "markdown",
   "metadata": {},
   "source": [
    "### Selección de atributos relevantes"
   ]
  },
  {
   "cell_type": "code",
   "execution_count": 6,
   "metadata": {},
   "outputs": [
    {
     "name": "stdout",
     "output_type": "stream",
     "text": [
      "<class 'pandas.core.frame.DataFrame'>\n",
      "Int64Index: 422522 entries, 0 to 850010\n",
      "Data columns (total 12 columns):\n",
      " #   Column             Non-Null Count   Dtype \n",
      "---  ------             --------------   ----- \n",
      " 0   DPTO_CIA           422522 non-null  object\n",
      " 1   DIST_CIA           422522 non-null  object\n",
      " 2   PROV_CIA           422522 non-null  object\n",
      " 3   DERIVADA_FISCALIA  349558 non-null  object\n",
      " 4   EDAD               420901 non-null  object\n",
      " 5   EST_CIVIL          422515 non-null  object\n",
      " 6   FEC_REGISTRO       422522 non-null  object\n",
      " 7   MODALIDAD          422522 non-null  object\n",
      " 8   NIVEL_EDUCATIVO    16630 non-null   object\n",
      " 9   OCUPACION          166714 non-null  object\n",
      " 10  SEXO               422279 non-null  object\n",
      " 11  SIT_PERSONA        422522 non-null  object\n",
      "dtypes: object(12)\n",
      "memory usage: 41.9+ MB\n"
     ]
    }
   ],
   "source": [
    "relevant_columns = ['DPTO_CIA', 'DIST_CIA', 'PROV_CIA', 'DERIVADA_FISCALIA', 'EDAD', 'EST_CIVIL', 'fec_registro', 'MODALIDAD', 'NIVEL_EDUCATIVO', 'OCUPACION', 'SEXO', 'SIT_PERSONA']\n",
    "datalake = datalake[relevant_columns]\n",
    "datalake.rename(columns={'fec_registro': 'FEC_REGISTRO'}, inplace=True)\n",
    "datalake = datalake.loc[datalake['SIT_PERSONA'] == 'DENUNCIADO']\n",
    "datalake.info()"
   ]
  },
  {
   "cell_type": "code",
   "execution_count": 7,
   "metadata": {},
   "outputs": [
    {
     "name": "stdout",
     "output_type": "stream",
     "text": [
      "object\n",
      " ['DPTO_CIA', 'DIST_CIA', 'PROV_CIA', 'DERIVADA_FISCALIA', 'EDAD', 'EST_CIVIL', 'FEC_REGISTRO', 'MODALIDAD', 'NIVEL_EDUCATIVO', 'OCUPACION', 'SEXO', 'SIT_PERSONA']\n",
      "int64\n",
      " []\n"
     ]
    }
   ],
   "source": [
    "show_types()"
   ]
  },
  {
   "cell_type": "markdown",
   "metadata": {},
   "source": [
    "#### Exploración de datos"
   ]
  },
  {
   "cell_type": "markdown",
   "metadata": {},
   "source": [
    "##### Valores perdidos"
   ]
  },
  {
   "cell_type": "code",
   "execution_count": 8,
   "metadata": {},
   "outputs": [],
   "source": [
    "# Trimea los textos y si resulta vacio, se pone nan\n",
    "for col in object_columns:\n",
    "    datalake[col] = datalake[col].str.strip()\n",
    "datalake = datalake.replace('', np.nan)"
   ]
  },
  {
   "cell_type": "code",
   "execution_count": 9,
   "metadata": {},
   "outputs": [
    {
     "name": "stdout",
     "output_type": "stream",
     "text": [
      "Número de registros: 422522\n",
      "Valores perdidos: 779356\n",
      "DERIVADA_FISCALIA: 72967 (17.27%)\n",
      "EDAD: 5808 (1.37%)\n",
      "EST_CIVIL: 7 (0.00%)\n",
      "FEC_REGISTRO: 16091 (3.81%)\n",
      "NIVEL_EDUCATIVO: 405892 (96.06%)\n",
      "OCUPACION: 278348 (65.88%)\n",
      "SEXO: 243 (0.06%)\n"
     ]
    }
   ],
   "source": [
    "# Resumen de valores perdidos\n",
    "def missing_values():\n",
    "    row_count = datalake.shape[0]\n",
    "    print(f'Número de registros: {row_count}')\n",
    "    global_null_count = datalake.isnull().sum().sum()\n",
    "    print(f'Valores perdidos: {global_null_count}')\n",
    "    for col in datalake.columns:\n",
    "        null_count = datalake[col].isnull().sum()\n",
    "        null_percent = null_count / row_count * 100\n",
    "        if null_count > 0:\n",
    "            print(f'{col}: {null_count} ({null_percent:.2f}%)')\n",
    "missing_values()"
   ]
  },
  {
   "cell_type": "code",
   "execution_count": 10,
   "metadata": {},
   "outputs": [],
   "source": [
    "def getUniques(col):\n",
    "    uniques = datalake[col].unique()\n",
    "    print(f'{col} [{len(uniques)} unique values]')\n",
    "    print(uniques)"
   ]
  },
  {
   "cell_type": "code",
   "execution_count": 11,
   "metadata": {},
   "outputs": [
    {
     "name": "stdout",
     "output_type": "stream",
     "text": [
      "DPTO_CIA [26 unique values]\n",
      "['LA LIBERTAD' 'CALLAO' 'LIMA' 'AREQUIPA' 'ICA' 'ANCASH' 'LAMBAYEQUE'\n",
      " 'PUNO' 'MOQUEGUA' 'APURIMAC' 'CUSCO' 'HUANCAVELICA' 'CAJAMARCA' 'PIURA'\n",
      " 'JUNIN' 'TACNA' 'TUMBES' 'UCAYALI' 'LORETO' 'PASCO' 'AMAZONAS' 'HUANUCO'\n",
      " 'SAN MARTIN' 'AYACUCHO' 'MADRE DE DIO' 'MADRE DE DIOS']\n",
      "DIST_CIA [795 unique values]\n",
      "['HUANCHACO' 'CALLAO' 'LURIGANCHO - CHOSICA' 'OCOÑA' 'PARCONA' 'PUCUSANA'\n",
      " 'LA ESPERANZA' 'CHIMBOTE' 'VILLA EL SALVADOR' 'SAN MIGUEL'\n",
      " 'JOSE LEONARDO ORTIZ' 'JULIACA' 'VILLA MARIA DEL TRIUNFO' 'HUAURA'\n",
      " 'MAJES' 'SAMEGUA' 'JOSE LUIS BUSTAMANTE Y RIVERO' 'ATE'\n",
      " 'SAN JUAN DE LURIGANCHO' 'CAYMA' 'BARRANCO' 'MIRAFLORES'\n",
      " 'SAN MARTIN DE PORRES' 'VENTANILLA' 'EL AGUSTINO' 'LURIN' 'CHICLAYO'\n",
      " 'ABANCAY' 'LAMBAYEQUE' 'ISLAY' 'SANTA ANITA' 'CUSCO' 'HUANCAVELICA'\n",
      " 'CERRO COLORADO' 'NUEVO CHIMBOTE' 'SAN JUAN DE MIRAFLORES' 'SANTIAGO'\n",
      " 'TAMBURCO' 'PUNO' 'INDEPENDENCIA' 'CAJAMARCA' 'SANTIAGO DE SURCO' 'PIURA'\n",
      " 'LOS OLIVOS' 'LA MOLINA' 'SAN VICENTE DE CAÑETE' 'LA OROYA' 'LIMA'\n",
      " 'PAUCARPATA' 'PARIÑAS' 'CARABAYLLO' 'ICA' 'HUARAZ' 'TRUJILLO' 'SURQUILLO'\n",
      " 'ILO' 'SULLANA' 'MOQUEGUA' 'SAN BORJA' 'HUACHO' 'LOS BAÑOS DEL INCA'\n",
      " 'TACNA' 'EL TAMBO' 'VICTOR LARCO HERRERA' 'SAN ISIDRO' 'COMAS' 'MORROPE'\n",
      " 'UCHUMAYO' 'ZARUMILLA' 'ASCOPE' 'LA PERLA' 'ILAVE'\n",
      " 'CORONEL GREGORIO ALBARRACIN LANCHIPA' 'CIENEGUILLA' 'LA VICTORIA'\n",
      " 'RIMAC' 'SOCABAYA' 'WANCHAQ' 'CHACLACAYO' 'CALLERIA' 'AREQUIPA'\n",
      " '26 DE OCTUBRE' 'ALTO DE LA ALIANZA' 'SAYLLA' 'SECHURA' 'CHINCHA ALTA'\n",
      " 'MOLLENDO' 'CATACAOS' 'PACHACUTEC' 'EL PORVENIR' 'SAMUEL PASTOR'\n",
      " 'PUEBLO LIBRE' 'BELLAVISTA' 'LINCE' 'CHORRILLOS' 'CHULUCANAS'\n",
      " 'ALTO SELVA ALEGRE' 'DESAGUADERO' 'IMPERIAL' 'JACOBO HUNTER' 'SUNAMPE'\n",
      " 'YAUTAN' 'MAGDALENA DEL MAR' 'IQUITOS' 'PUENTE PIEDRA' 'CASMA' 'ANTA'\n",
      " 'YARINACOCHA' 'PUNTA NEGRA' 'CORRALES' 'LA TINGUIÑA' 'SANTA'\n",
      " 'VISTA ALEGRE' 'OLMOS' 'HUANCAYO' 'BELEN' 'TUMAN' 'FLORENCIA DE MORA'\n",
      " 'MARIANO MELGAR' 'JAYANCA' 'PISCO' 'SARIN' 'TIABAYA' 'NAUTA' 'VILLA RICA'\n",
      " 'BREÑA' 'PIMENTEL' 'PATIVILCA' 'SAN LUIS' 'SAN ANDRES' 'YUNGAY'\n",
      " 'NUEVO IMPERIAL' 'CONCEPCION' 'SANTA ROSA' 'REQUE' 'LAREDO' 'ANCON'\n",
      " 'JAUJA' 'CAJATAMBO' 'HUARMEY' 'HUALMAY' 'MOCHE' 'SANTA EULALIA'\n",
      " 'SAN SEBASTIAN' 'MARCONA' 'POMALCA' 'PICSI' 'SALAVERRY' 'MOTUPE'\n",
      " 'BUENOS AIRES' 'MALA' 'MOCHUMI' 'MATUCANA' 'PAITA' 'URCOS' 'TUMBES'\n",
      " 'SUPE' 'HUMAY' 'LA JOYA' 'CHILCA' 'AGUAS VERDES' 'SAN ANTONIO'\n",
      " 'PUEBLO NUEVO' 'HUARAL' 'ALTO LARAN' 'CARMEN DE LA LEGUA REYNOSO'\n",
      " 'CAMANA' 'POCOLLAY' 'PUNTA DE BOMBON' 'PACHACAMAC' 'SACHACA' 'CALCA'\n",
      " 'FERREÑAFE' 'COISHCO' 'SAN JUAN BAUTISTA' 'PALPA' 'MANANTAY' 'SAÑA'\n",
      " 'LA BREA' 'PATAPO' 'PARAMONGA' 'SAN JOSE' 'DEAN VALDIVIA' 'LOS ORGANOS'\n",
      " 'ETEN PUERTO' 'CAYALTI' 'HUANCABAMBA' 'CASTILLA' 'AIJA' 'EL ALTO'\n",
      " 'INDIANA' 'JAEN' 'PUCALA' 'JULI' 'SAN IGNACIO' 'TARMA' 'SAN BARTOLO'\n",
      " 'CASA GRANDE' 'CHARACATO' 'TUCUME' 'SAMANCO' 'CARHUAZ' 'PAIJAN' 'VICE'\n",
      " 'MI PERU' 'SUPE PUERTO' 'SALAS' 'ETEN' 'SUBTANJALLA' 'SAYAN'\n",
      " 'SAN AGUSTIN' 'HUAROCHIRI' 'CHANCAY' 'SAN JERONIMO' 'HUARO' 'CHOCOPE'\n",
      " 'SANTA CRUZ' 'LA MATANZA' 'YARABAMBA' 'MACHUPICCHU' 'CERRO AZUL'\n",
      " 'YUNGUYO' 'PACORA' 'CHICAMA' 'PEBAS' 'OTUZCO' 'CHIQUIAN' 'URUBAMBA'\n",
      " 'SICAYA' 'PITIPO' 'MAZAN' 'QUILMANA' 'HUAYUCACHI' 'TAMBO DE MORA'\n",
      " 'BERNAL' 'PUCARA' 'CHINCHA BAJA' 'BAGUA' 'IGNACIO ESCUDERO'\n",
      " 'RICARDO PALMA' 'PUNTA HERMOSA' 'TUPAC AMARU INCA' 'MARCARA' 'ORCOTUNA'\n",
      " 'SAN RAMON' 'MONSEFU' 'SAN JERONIMO DE TUNAN' 'TAYABAMBA' 'ACOBAMBA'\n",
      " 'SABANDIA' 'HUANUCO' 'CHONGOYAPE' 'POMATA' 'CHUPACA' 'PAMPACOLCA'\n",
      " 'SAPALLANGA' 'SAN PEDRO DE LLOC' 'PACAIPAMPA' 'NIEPOS' 'MEJIA'\n",
      " 'JEQUETEPEQUE' 'MANCOS' 'PACANGA' 'CHEPEN' 'RECUAY' 'LOCUMBA' 'NEPEÑA'\n",
      " 'MORALES' 'INCLAN' 'EL INGENIO' 'PARACAS' 'CALANGO' 'OYOTUN'\n",
      " 'CHANCHAMAYO' 'LOS AQUIJES' 'LA PUNTA' 'COCACHACRA' 'MORROPON' 'MORO'\n",
      " 'SAN NICOLAS' 'TINGO' 'BAGUA GRANDE' 'LUYA' 'LIMABAMBA' 'LAMUD' 'LA PECA'\n",
      " 'SANTO TOMAS' 'CAJARURO' 'FLORIDA' 'CHACHAPOYAS' 'JAMALCA' 'CHIRINOS'\n",
      " 'YAMBRASBAMBA' 'CHAVIN DE HUANTAR' 'LONGAR' 'HUARI' 'CHACAS' 'NIEVA'\n",
      " 'NAZCA' 'POMABAMBA' 'SIHUAS' 'CORONGO' 'CABANA' 'PACHIA' 'CHIRIMOTO'\n",
      " 'AMARILIS' 'MOLINOPAMPA' 'PISCOBAMBA' 'ARAMANGO' 'HUAMACHUCO' 'POROTO'\n",
      " 'ANGASMARCA' 'VIRU' 'APATA' 'PATAZ' 'SANTIAGO DE CHUCO' 'OCALLI' 'JULCAN'\n",
      " 'CASCAS' 'RAZURI' 'MOROCOCHA' 'OXAPAMPA' 'ILLIMO' 'LA ARENA' 'LANCONES'\n",
      " 'PARCOY' 'SAN FRANCISCO DE DAGUAS' 'IMAZA' 'ASIA' 'PACASMAYO' 'CUMBA'\n",
      " 'SAN MATEO' 'JUMBILLA' 'LA JALCA' 'ACOLLA' 'CHAO' 'SAMA' 'SAN PABLO'\n",
      " 'ENCAÑADA' 'ZORRITOS' 'BAMBAMARCA' 'NAMORA' 'CHILETE'\n",
      " 'EDUARDO VILLANUEVA' 'ICHOCAN' 'CACHACHI' 'CONTUMAZA' 'PEDRO GALVEZ'\n",
      " 'CALQUIS' 'HUASMIN' 'HUAMBOS' 'CUTERVO' 'SITACOCHA' 'TARATA' 'MAGDALENA'\n",
      " 'JESUS' 'CELENDIN' 'CAJABAMBA' 'CHOTA' 'GUADALUPE' 'EL PRADO' 'SUCRE'\n",
      " 'ANDAHUAYLILLAS' 'COMBAPATA' 'CHINCHERO' 'PITUMARCA' 'SANTA ANA' 'POROY'\n",
      " 'ANDAHUAYLAS' 'YANAOCA' 'ESPINAR' 'SICUANI' 'CHONGOS ALTO' 'OROPESA'\n",
      " 'SAN JUAN' 'TACABAMBA' 'CANTA' 'CATAHUASI' 'CAMPORREDONDO' 'HUALGAYOC'\n",
      " 'APLAO' 'YAUCA' 'CHALA' 'POCSI' 'ACARI' 'PARURO' 'NICOLAS DE PIEROLA'\n",
      " 'CABANACONDE' 'CHIGUATA' 'JOSE MARIA QUIMPER' 'POLOBAYA' 'LOMAS' 'VIRACO'\n",
      " 'MARIANO NICOLAS VALCARCEL' 'MADRIGAL' 'ANDARAY' 'CHAPARRA' 'CARAVELI'\n",
      " 'YURA' 'ATICO' 'MARISCAL CACERES' 'CHIVAY' 'QUIRUVILCA' 'CHUQUIBAMBA'\n",
      " 'MACATE' 'MARANGANI' 'ORCOPAMPA' 'QUINJALCA' 'BELLA UNION' 'YONAN'\n",
      " 'HUAMBO' 'LLAMA' 'LA BANDA DE SHILCAYO' 'CURGOS' 'OYON' 'LIMATAMBO'\n",
      " 'SAN JOSE DE LOURDES' 'TORATA' 'LUNAHUANA' 'AYACUCHO' 'PALMAPAMPA'\n",
      " 'MARCABAMBA' 'NUEVO PROGRESO' 'AYNA' 'PICHARI' 'CORACORA' 'HUANCAPI'\n",
      " 'PAUSA' 'HUANTA' 'PANGOA' 'CANCHAYLLO' 'PILCUYO' 'TAMBOPATA' 'SATIPO'\n",
      " 'PICHANAQUI' 'RUPA-RUPA' 'SAN JUAN DE BIGOTE' 'POMAHUACA' 'CARMEN ALTO'\n",
      " 'TAMBO' 'PERENE' 'CHICLA' 'CARHUAMAYO' 'BOLIVAR' 'JUANJUI' 'RIOJA'\n",
      " 'SAPOSOA' 'CANCHAQUE' 'SORITOR' 'MOYOBAMBA' 'HAQUIRA' 'COTABAMBAS'\n",
      " 'ANCO_HUALLO' 'RANRACANCHA' 'HUANIPACA' 'VILCABAMBA' 'PROGRESO' 'JUNIN'\n",
      " 'PACUCHA' 'CURA MORI' 'TALAVERA' 'HUANCARANI' 'JOSE SABOGAL' 'TINTA'\n",
      " 'PUQUIO' 'PUSI' 'ONGOY' 'PUCYURA' 'INAMBARI' 'YURIMAGUAS' 'OCROS'\n",
      " 'HUEPETUHE' 'PARDO MIGUEL' 'GAMARRA' 'MARAS' 'AMBO' 'CHINCHEROS'\n",
      " 'ANDARAPA' 'YANACA' 'COLAN' 'SAN PEDRO DE CACHORA' 'OXAMARCA'\n",
      " 'QUERECOTILLO' 'HUAYLLABAMBA' 'SUYO' 'SAN HILARION' 'TOCACHE'\n",
      " 'EL CARMEN DE LA FRONTERA' 'PACHACONAS' 'SANTIAGO DE CAO' 'CONTAMANA'\n",
      " 'MIGUEL CHECA' 'TICLACAYAN' 'AYABACA' 'MARIANO DAMASO BERAUN' 'MONZON'\n",
      " 'AMOTAPE' 'CANGALLO' 'HUARMACA' 'SINCOS' 'LAGUNAS' 'UCHIZA'\n",
      " 'TAMBO GRANDE' 'DANIEL ALOMIAS ROBLES' 'COTARUSE' 'PANAO' 'SANTO DOMINGO'\n",
      " 'TARACO' 'HUALLANCA' 'OCOBAMBA' 'CHINCHAO' 'TINYAHUARCO' 'HUARIACA'\n",
      " 'MOHO' 'AUCARA' 'YANAHUANCA' 'PISUQUIA' 'SIMON BOLIVAR' 'CURAHUASI'\n",
      " 'CHALHUANCA' 'TANTARICA' 'TAMARINDO' 'HUANCARAMA' 'HUACCANA'\n",
      " 'NUEVA CAJAMARCA' 'ANDABAMBA' 'CAMPOVERDE' 'ALONSO DE ALVARADO'\n",
      " 'HUAYLLAY' 'LAS PIRIAS' 'CHAUPIMARCA' 'GRANADA' 'PAJARILLO'\n",
      " 'SAN ANTONIO DE CACHI' 'SONDORILLO' 'HUASAHUASI' 'HUAYOPATA' 'CABANILLAS'\n",
      " 'ACOMAYO' 'TAPAIRIHUA' 'LAYO' 'YANTALO' 'HUACULLANI'\n",
      " 'SANTA MARIA DEL MAR' 'SANTA ANA DE TUSI' 'SAN CLEMENTE' 'YANACANCHA'\n",
      " 'FRIAS' 'PUNCHANA' 'KISHUARA' 'HUANCARAY' 'PILLCO MARCA' 'JESUS MARIA'\n",
      " 'LABERINTO' 'PACOCHA' 'HUACHON' 'ANCAHUASI' 'SAN RAFAEL' 'LA UNION'\n",
      " 'PISAC' 'SANTA ROSA DE QUIVES' 'SAN LUIS DE SHUARO' 'BARRANCA'\n",
      " 'MARCAVELICA' 'PALCA' 'ORURILLO' 'CHUNGUI' 'SICCHEZ' 'LUCRE' 'MASISEA'\n",
      " 'SANTA RITA DE SIGUAS' 'PAIMAS' 'RAMON CASTILLA' 'LOS MOROCHUCOS'\n",
      " 'YAUYOS' 'LIRCAY' 'YAMANGO' 'PAMPACHIRI' 'CANARIA' 'LONYA GRANDE'\n",
      " 'YANAHUARA' 'JOSE CRESPO Y CASTILLO' 'CHALLHUAHUACHO' 'MARANURA'\n",
      " 'EL CARMEN' 'TAMBOBAMBA' 'CARAZ' 'ACOS VINCHOS' 'LEIMEBAMBA' 'UCO'\n",
      " 'GROCIO PRADO' 'URACA' 'PAPAYAL' 'ACOS' 'MANCORA' 'ULCUMAYO' 'MAZAMARI'\n",
      " 'QUIQUIJANA' 'MACHE' 'CIUDAD NUEVA' 'VEGUETA' 'URANMARCA' 'LAS LOMAS'\n",
      " 'SAN JOSE DE LOS MOLINOS' 'SANTA TERESA' 'QUEROBAMBA' 'MOLLEBAYA'\n",
      " 'PAUCARTAMBO' 'LAMAS' 'VICCO' 'LA PAMPA' 'MARISCAL CASTILLA'\n",
      " 'MADRE DE DIOS' 'JILILI' 'CAJACAY' 'SALITRAL' 'SANTA CATALINA DE MOSSA'\n",
      " 'HUACACHI' 'SANTA MARIA DE CHICMO' 'HUANCA' 'CCATCA' 'CHOLON' 'CHACOCHE'\n",
      " 'HUANDO' 'CATACHE' 'GUADALUPITO' 'IBERIA' 'TARICA' 'COLCAMAR' 'SANDIA'\n",
      " 'HUAYLAS' 'ZURITE' 'EL MUYO' 'SANTA MARIA DEL VALLE' 'IZCUCHACA'\n",
      " 'SAN SALVADOR' 'VICHAYAL' 'COLQUIOC' 'PUTINA' 'LUYA VIEJO' 'HUABAL'\n",
      " 'OLLANTAYTAMBO' 'YANATILE' 'CACHIMAYO' 'OMATE' 'TARAPOTO' 'RANRAHIRCA'\n",
      " 'PALLASCA' 'JAZAN' 'CATAC' 'CHAZUTA' 'PAUCARBAMBA' 'CHAVINILLO'\n",
      " 'HUAYTARA' 'SAN JACINTO' 'CONGALLA' 'TABACONAS' 'SAN JUAN DE TARUCANI'\n",
      " 'LAS PIEDRAS' 'JAQUI' 'CAYLLOMA' 'PUERTO INCA' 'CAPACHICA' 'TINTAY'\n",
      " 'SANCOS' 'TIQUILLACA' 'YANAMA' 'LAMPA' 'MASIN' 'PACHANGARA' 'VALERA'\n",
      " 'LLAMELLIN' 'HUACAYBAMBA' 'PARIACOTO' 'YAUYA' 'GOYLLARISQUIZGA' 'PICOTA'\n",
      " 'TUMAY HUARACA' 'EL MILAGRO' 'POMACANCHI' 'IÑAPARI' 'MAÑAZO' 'VELILLE'\n",
      " 'PLATERIA' 'CARACOTO' 'OCONGATE' 'PICHACANI' 'CALZADA' 'AYAUCA' 'ACORA'\n",
      " 'SHIPASBAMBA' 'IRAZOLA' 'PUERTO BERMUDEZ' 'SACANCHE' 'PADRE ABAD' 'HUATA'\n",
      " 'SAN JOSE DE SISA' 'ALBERTO LEVEAU' 'COTAHUASI' 'RAYMONDI' 'TABALOSOS'\n",
      " 'SHAPAJA' 'AZANGARO' 'PAMPAS DE HOSPITAL' 'HUANGASCAR' 'TAUCA'\n",
      " 'HUACHOCOLPA' 'ILABAYA' 'MOSOC LLACTA' 'CHUCUITO' 'NESHUYA' 'ANANEA'\n",
      " 'SAN MARCOS' 'ZEPITA' 'PAMPAS' 'MAGDALENA DE CAO' 'ASILLO'\n",
      " 'SAN JUAN DE SIGUAS' 'AYAVIRI' 'SAN JUAN DE LA VIRGEN' 'SIVIA'\n",
      " 'CHURUBAMBA' 'UNICACHI' 'SANTA LUCIA' 'QUINUA' 'PAUCARCOLLA' 'AGALLPAMPA'\n",
      " 'HUAROCONDO' 'PACARAN' 'PAUCAR' 'JOSE DOMINGO CHOQUEHUANCA'\n",
      " 'VILQUE CHICO' 'REQUENA' 'COPALLIN' 'LAJAS' 'SHILLA' 'SHUPLUY' 'SINSICAP'\n",
      " 'VARGAS GUERRA' 'CUTURAPI' 'COPANI' 'QUILCA' 'CATILLUC' 'MACUSANI'\n",
      " 'PAUCARA' 'CONIMA' 'HUANCANE' 'NUÑOA' 'BAJO BIAVO' 'CANOAS DE PUNTA SAL'\n",
      " 'CASITAS' 'CHUQUIBAMBILLA' 'LLATA' 'SAN FRANCISCO DE ASIS DE YARUSYACAN'\n",
      " 'A.VON.HUMBOLDT' 'CABANILLA' 'TURPO' 'POZUZO' 'CHUSCHI' 'MANU'\n",
      " 'TINICACHI' 'ANTABAMBA' 'BALSAS' 'YAURISQUE' 'HUACRACHUCO' 'SAN ANTON'\n",
      " 'LAMBRAMA' 'CORDOVA' 'YAMON' 'HUAMANGUILLA' 'POTONI' 'CURIBAYA'\n",
      " 'ECHARATE' 'QUELLOUNO' 'AUCALLAMA' 'QUINISTAQUILLAS'\n",
      " 'SAN MIGUEL DE EL FAIQUE' 'SAMAN' 'SIBAYO' 'SANTA ISABEL DE SIGUAS'\n",
      " 'CASCAPARA' 'ARAPA' 'COCHARCAS' 'LA CRUZ' 'SOCOTA' 'INGUILPATA'\n",
      " 'SAN ANTONIO DE CHUCA' 'RIO NEGRO' 'ZUÑIGA' 'OMIA' 'CHORAS' 'SALPO'\n",
      " 'LALAQUIZ' 'INCAHUASI' 'ITE']\n",
      "PROV_CIA [189 unique values]\n",
      "['TRUJILLO' 'CALLAO' 'LIMA' 'CAMANA' 'ICA' 'SANTA' 'CHICLAYO' 'SAN ROMAN'\n",
      " 'HUAURA' 'CAYLLOMA' 'MARISCAL NIETO' 'AREQUIPA' 'ABANCAY' 'LAMBAYEQUE'\n",
      " 'ISLAY' 'CUSCO' 'HUANCAVELICA' 'PUNO' 'CAJAMARCA' 'PIURA' 'CAÑETE'\n",
      " 'YAULI' 'TALARA' 'HUARAZ' 'ILO' 'SULLANA' 'TACNA' 'HUANCAYO' 'ZARUMILLA'\n",
      " 'ASCOPE' 'EL COLLAO' 'CORONEL PORTILLO' 'SECHURA' 'CHINCHA' 'MORROPON'\n",
      " 'CHUCUITO' 'CASMA' 'MAYNAS' 'ANTA' 'TUMBES' 'NAZCA' 'PISCO'\n",
      " 'SANCHEZ CARRION' 'LORETO' 'OXAPAMPA' 'BARRANCA' 'YUNGAY' 'CONCEPCION'\n",
      " 'JAUJA' 'CAJATAMBO' 'HUARMEY' 'HUAROCHIRI' 'PAITA' 'QUISPICANCHI'\n",
      " 'HUARAL' 'CALCA' 'FERREÑAFE' 'PALPA' 'HUANCABAMBA' 'AIJA' 'JAEN'\n",
      " 'SAN IGNACIO' 'TARMA' 'CARHUAZ' 'SANTA CRUZ' 'URUBAMBA' 'YUNGUYO'\n",
      " 'MARISCAL RAMON CASTILLA' 'OTUZCO' 'BOLOGNESI' 'BAGUA' 'CHANCHAMAYO'\n",
      " 'PATAZ' 'HUANUCO' 'CHUPACA' 'CASTILLA' 'PACASMAYO' 'AYABACA' 'SAN MIGUEL'\n",
      " 'CHEPEN' 'RECUAY' 'JORGE BASADRE' 'SAN MARTIN' 'RODRIGUEZ DE MENDOZA'\n",
      " 'LUYA' 'UTCUBAMBA' 'BONGARA' 'CHACHAPOYAS' 'HUARI' 'ASUNCION'\n",
      " 'CONDORCANQUI' 'POMABAMBA' 'SIHUAS' 'CORONGO' 'PALLASCA'\n",
      " 'MARISCAL LUZURIAGA' 'SANTIAGO DE CHUCO' 'VIRU' 'JULCAN' 'GRAN CHIMU'\n",
      " 'SAN PABLO' 'CONTRALMIRANTE VILLAR' 'HUALGAYOC' 'CONTUMAZA' 'SAN MARCOS'\n",
      " 'CAJABAMBA' 'CELENDIN' 'CHOTA' 'CUTERVO' 'TARATA' 'CANCHIS'\n",
      " 'LA CONVENCION' 'ANDAHUAYLAS' 'CANAS' 'ESPINAR' 'CANTA' 'YAUYOS'\n",
      " 'CARAVELI' 'PARURO' 'CONDESUYOS' 'OYON' 'HUAMANGA' 'LA MAR'\n",
      " 'PAUCAR DEL SARA SARA' 'TOCACHE' 'PARINACOCHAS' 'VICTOR FAJARDO' 'HUANTA'\n",
      " 'SATIPO' 'TAMBOPATA' 'LEONCIO PRADO' 'JUNIN' 'MARISCAL CACERES' 'RIOJA'\n",
      " 'BELLAVISTA' 'HUALLAGA' 'MOYOBAMBA' 'COTABAMBAS' 'CHINCHEROS' 'ANTABAMBA'\n",
      " 'GRAU' 'PAUCARTAMBO' 'LUCANAS' 'HUANCANE' 'ALTO AMAZONAS' 'OCROS' 'MANU'\n",
      " 'AMBO' 'AYMARAES' 'PICOTA' 'UCAYALI' 'PASCO' 'HUAMALIES' 'CANGALLO'\n",
      " 'PACHITEA' 'MOHO' 'CARLOS FERMIN FITZCARRALD' 'DANIEL ALCIDES CARRION'\n",
      " 'LAMAS' 'ACOMAYO' 'MELGAR' 'ACOBAMBA' 'ANGARAES' 'CHUMBIVILCAS' 'HUAYLAS'\n",
      " 'SUCRE' 'MARAÑON' 'TAHUAMANU' 'SANDIA' 'DOS DE MAYO'\n",
      " 'SAN ANTONIO DE PUTINA' 'GENERAL SANCHEZ CERRO' 'CHURCAMPA' 'YAROWILCA'\n",
      " 'HUAYTARA' 'PUERTO INCA' 'HUANCA SANCOS' 'LAMPA' 'ANTONIO RAYMONDI'\n",
      " 'HUACAYBAMBA' 'PADRE ABAD' 'EL DORADO' 'LA UNION' 'ATALAYA' 'AZANGARO'\n",
      " 'TAYACAJA' 'REQUENA' 'CARABAYA' 'CANDARAVE']\n",
      "DERIVADA_FISCALIA [10 unique values]\n",
      "['JUZGADO DE FAMILIA' 'OTROS' 'JUZGADO DE PAZ' 'UNIDAD PNP'\n",
      " 'FISCALÍA PENAL' nan 'FISCALÍA DE FAMILIA' 'JUZGADO PENAL'\n",
      " 'FISCALIA DE MEDIO AM' 'FISCALIA DE MEDIO AMBIENTE']\n",
      "EDAD [232 unique values]\n",
      "['32' '40' '28' '55' '21' '30' '25' '46' '35' '34' '41' '50' '26' '29'\n",
      " '44' '47' '22' '37' '54' '51' '42' '49' '19' '38' '20' '39' '36' '65'\n",
      " '56' '27' '24' '61' '23' '60' '53' '62' '48' '43' '18' '33' nan '31' '59'\n",
      " '52' '17' '70' '64' '69' '45' '75' '58' '57' '63' '76' '67' '68' '74'\n",
      " '77' '66' '82' '71' '16' '14' '72' '15' '111' '13' '78' '73' '5' '79'\n",
      " '81' '84' '85' '87' '526' '12' '80' '10' '83' '11' '86' '120' '94' '516'\n",
      " '90' '0' '115' '180' '89' '332' '220' '91' '88' '354' '536' '125' '118'\n",
      " '339' '96' '104' '617' '728' '93' '1' '276' '116' '92' '6' '113' '439'\n",
      " '415' '335' '170' '98' '9' '410' '545' '448' '340' '400' '331' '226'\n",
      " '252' '434' '97' '114' '119' '74.0' '45.0' '41.0' '38.0' '22.0' '57.0'\n",
      " '42.0' '32.0' '24.0' '19.0' '31.0' '27.0' '26.0' '44.0' '34.0' '37.0'\n",
      " '47.0' '21.0' '29.0' '30.0' '62.0' '63.0' '35.0' '28.0' '36.0' '48.0'\n",
      " '33.0' '67.0' '25.0' '43.0' '61.0' '39.0' '40.0' '23.0' '20.0' '54.0'\n",
      " '56.0' '55.0' '51.0' '50.0' '46.0' '52.0' '58.0' '66.0' '65.0' '18.0'\n",
      " '15.0' '17.0' '71.0' '60.0' '53.0' '49.0' '16.0' '69.0' '59.0' '75.0'\n",
      " '73.0' '68.0' '77.0' '72.0' '64.0' '76.0' '70.0' '14.0' '80.0' '87.0'\n",
      " '81.0' '79.0' '78.0' '85.0' '84.0' '86.0' '13.0' '10.0' '90.0' '12.0'\n",
      " '82.0' '516.0' '83.0' '11.0' '98.0' '434.0' '97.0' '114.0' '116.0' '88.0'\n",
      " '132.0' '119.0' '398.0' '115.0' '617.0' '89.0' '96.0' '92.0' '171.0'\n",
      " '627.0' '95.0' '9.0' '5.0' '0.0' '4.0' '93.0' '91.0' '1.0']\n",
      "EST_CIVIL [7 unique values]\n",
      "['CONVIVIENTE' 'SOLTERO(A)' 'CASADO(A)' 'NO INDICA' 'DIVORCIADO(A)'\n",
      " 'VIUDO(A)' nan]\n",
      "FEC_REGISTRO [185328 unique values]\n",
      "['1/1/2016' '1/2/2016' '1/3/2016' ... '43829.6811222569'\n",
      " '43830.8064918981' '43808.304112581']\n",
      "MODALIDAD [7 unique values]\n",
      "['MALTRATO SIN LESION' 'VIOLENCIA PSICOLOGICA' 'VIOLENCIA FISICA'\n",
      " 'VIOLENCIA FISICA Y PSICOLOGICA' 'VIOLENCIA ECONOMICA O PATRIMONIAL'\n",
      " 'AMENAZA GRAVE' 'COACCION GRAVE']\n",
      "NIVEL_EDUCATIVO [6 unique values]\n",
      "[nan 'SECUNDARIA' 'PRIMARIA' 'TECNICA' 'SUPERIOR' 'SIN INSTRUCCION']\n",
      "OCUPACION [6974 unique values]\n",
      "[nan 'COMERCIANTE' 'EMPLEADO' ... 'EX POLICIA' 'CONTADOR EMPRESARIO'\n",
      " 'AJENTE DE SEGURIDAD']\n",
      "SEXO [3 unique values]\n",
      "['M' 'F' nan]\n",
      "SIT_PERSONA [1 unique values]\n",
      "['DENUNCIADO']\n"
     ]
    }
   ],
   "source": [
    "for col in datalake.columns:\n",
    "    getUniques(col)"
   ]
  },
  {
   "cell_type": "markdown",
   "metadata": {},
   "source": [
    "##### Valores atípicos"
   ]
  },
  {
   "cell_type": "markdown",
   "metadata": {},
   "source": [
    "###### Edad"
   ]
  },
  {
   "cell_type": "code",
   "execution_count": 12,
   "metadata": {},
   "outputs": [],
   "source": [
    "# Llena los valores perdidos con 0\n",
    "datalake['EDAD'] = datalake['EDAD'].fillna(0)\n",
    "# Para convertir a int64 primero se convierte a float\n",
    "datalake['EDAD'] = datalake['EDAD'].astype(float)\n",
    "datalake['EDAD'] = datalake['EDAD'].astype(np.int64)"
   ]
  },
  {
   "cell_type": "code",
   "execution_count": 13,
   "metadata": {},
   "outputs": [
    {
     "name": "stdout",
     "output_type": "stream",
     "text": [
      "0 728\n"
     ]
    }
   ],
   "source": [
    "# Valores máximos y mínimos\n",
    "print(datalake['EDAD'].min(), datalake['EDAD'].max())"
   ]
  },
  {
   "cell_type": "code",
   "execution_count": 14,
   "metadata": {},
   "outputs": [
    {
     "name": "stdout",
     "output_type": "stream",
     "text": [
      "790177    0\n",
      "162763    0\n",
      "63659     0\n",
      "92007     0\n",
      "323474    0\n",
      "Name: EDAD, dtype: int64\n",
      "408108    545\n",
      "613740    617\n",
      "176833    617\n",
      "655314    627\n",
      "179016    728\n",
      "Name: EDAD, dtype: int64\n",
      "Mediana: 34.0\n",
      "Moda: 31\n"
     ]
    }
   ],
   "source": [
    "# Vista ordenada de edades registradas\n",
    "age_sorted = datalake.sort_values('EDAD')['EDAD']\n",
    "print(age_sorted.head())\n",
    "print(age_sorted.tail())\n",
    "# Obtención de métricas\n",
    "median = age_sorted.median()\n",
    "mode = age_sorted.mode()[0]\n",
    "print(f'Mediana: {median}')\n",
    "print(f'Moda: {mode}')"
   ]
  },
  {
   "cell_type": "code",
   "execution_count": 15,
   "metadata": {},
   "outputs": [],
   "source": [
    "# Suplantamos los valores atípicos con la moda\n",
    "min_age = 18\n",
    "max_age = 75\n",
    "datalake.loc[(datalake['EDAD'] < min_age) | (datalake['EDAD'] > max_age) | (datalake['EDAD'] == 0), 'EDAD'] = mode\n",
    "# La columna EDAD ya no tiene valores perdidos"
   ]
  },
  {
   "cell_type": "markdown",
   "metadata": {},
   "source": [
    "###### Fecha"
   ]
  },
  {
   "cell_type": "code",
   "execution_count": 16,
   "metadata": {},
   "outputs": [],
   "source": [
    "import xlrd\n",
    "\n",
    "# De fecha de excel (43677.4) a yyyy-mm-dd\n",
    "def transformExcelDate(excelDate):\n",
    "    dateISO = xlrd.xldate.xldate_as_datetime(float(excelDate), 0).date().isoformat()\n",
    "    # print(dateISO, type(dateISO))\n",
    "    return dateISO"
   ]
  },
  {
   "cell_type": "code",
   "execution_count": 17,
   "metadata": {},
   "outputs": [],
   "source": [
    "# RegExp de fecha de excel\n",
    "import re\n",
    "excelDate = r'\\d+(\\.\\d+)?'"
   ]
  },
  {
   "cell_type": "code",
   "execution_count": 18,
   "metadata": {},
   "outputs": [],
   "source": [
    "# Función para estandarizar las fechas de los registros\n",
    "def transformDate(date):\n",
    "    try:\n",
    "        if not pd.isna(date):\n",
    "            if re.fullmatch(excelDate, date):\n",
    "                return transformExcelDate(date)\n",
    "            else:\n",
    "                return pd.to_datetime(date).date().isoformat()\n",
    "    except Exception as e:\n",
    "        print(e, date)"
   ]
  },
  {
   "cell_type": "code",
   "execution_count": 19,
   "metadata": {},
   "outputs": [],
   "source": [
    "datalake['FEC_REGISTRO'] = datalake['FEC_REGISTRO'].apply(transformDate)"
   ]
  },
  {
   "cell_type": "code",
   "execution_count": 20,
   "metadata": {},
   "outputs": [
    {
     "name": "stdout",
     "output_type": "stream",
     "text": [
      "Número de registros: 406431\n",
      "Valores perdidos: 725404\n",
      "DERIVADA_FISCALIA: 68379 (16.82%)\n",
      "EST_CIVIL: 7 (0.00%)\n",
      "NIVEL_EDUCATIVO: 390328 (96.04%)\n",
      "OCUPACION: 266447 (65.56%)\n",
      "SEXO: 243 (0.06%)\n"
     ]
    }
   ],
   "source": [
    "# ¿Cómo llenar las fechas faltantes? las eliminamos :)\n",
    "datalake = datalake.loc[datalake['FEC_REGISTRO'].isna() == False]\n",
    "missing_values()"
   ]
  },
  {
   "cell_type": "code",
   "execution_count": 21,
   "metadata": {},
   "outputs": [
    {
     "name": "stdout",
     "output_type": "stream",
     "text": [
      "object\n",
      " ['DPTO_CIA', 'DIST_CIA', 'PROV_CIA', 'DERIVADA_FISCALIA', 'EST_CIVIL', 'FEC_REGISTRO', 'MODALIDAD', 'NIVEL_EDUCATIVO', 'OCUPACION', 'SEXO', 'SIT_PERSONA']\n",
      "int64\n",
      " ['EDAD']\n"
     ]
    }
   ],
   "source": [
    "show_types()"
   ]
  },
  {
   "cell_type": "markdown",
   "metadata": {},
   "source": [
    "#### Completando valores perdidos en atributos categóricos"
   ]
  },
  {
   "cell_type": "code",
   "execution_count": 22,
   "metadata": {},
   "outputs": [],
   "source": [
    "def fill_equally(col):\n",
    "    datalake[col] = datalake[col].fillna(pd.Series(np.random.choice(datalake[col].dropna().unique(), size=datalake.shape[0])))"
   ]
  },
  {
   "cell_type": "code",
   "execution_count": 23,
   "metadata": {},
   "outputs": [],
   "source": [
    "fill_equally('NIVEL_EDUCATIVO')\n",
    "fill_equally('OCUPACION')\n",
    "fill_equally('DERIVADA_FISCALIA')"
   ]
  },
  {
   "cell_type": "code",
   "execution_count": 24,
   "metadata": {},
   "outputs": [
    {
     "name": "stdout",
     "output_type": "stream",
     "text": [
      "      DPTO_CIA              DIST_CIA  PROV_CIA   DERIVADA_FISCALIA  EDAD  \\\n",
      "0  LA LIBERTAD             HUANCHACO  TRUJILLO  JUZGADO DE FAMILIA    32   \n",
      "1       CALLAO                CALLAO    CALLAO  JUZGADO DE FAMILIA    40   \n",
      "2         LIMA  LURIGANCHO - CHOSICA      LIMA               OTROS    28   \n",
      "3     AREQUIPA                 OCOÑA    CAMANA               OTROS    55   \n",
      "4          ICA               PARCONA       ICA  JUZGADO DE FAMILIA    21   \n",
      "\n",
      "     EST_CIVIL FEC_REGISTRO              MODALIDAD NIVEL_EDUCATIVO  \\\n",
      "0  CONVIVIENTE   2016-01-01    MALTRATO SIN LESION        SUPERIOR   \n",
      "1   SOLTERO(A)   2016-01-02    MALTRATO SIN LESION      SECUNDARIA   \n",
      "2  CONVIVIENTE   2016-01-03    MALTRATO SIN LESION      SECUNDARIA   \n",
      "3   SOLTERO(A)   2016-01-03  VIOLENCIA PSICOLOGICA        PRIMARIA   \n",
      "4   SOLTERO(A)   2016-01-04       VIOLENCIA FISICA      SECUNDARIA   \n",
      "\n",
      "             OCUPACION SEXO SIT_PERSONA  \n",
      "0        TECNICO DE EP    M  DENUNCIADO  \n",
      "1          CESANTE PNP    M  DENUNCIADO  \n",
      "2             JIBILADO    F  DENUNCIADO  \n",
      "3  OPERADOR DE MONTAJE    M  DENUNCIADO  \n",
      "4               BARMAT    F  DENUNCIADO  \n",
      "       DPTO_CIA DIST_CIA PROV_CIA   DERIVADA_FISCALIA  EDAD   EST_CIVIL  \\\n",
      "406426    TACNA    TACNA    TACNA  JUZGADO DE FAMILIA    56  SOLTERO(A)   \n",
      "406427    TACNA    TACNA    TACNA               OTROS    59  SOLTERO(A)   \n",
      "406428    TACNA    TACNA    TACNA                 NaN    30  SOLTERO(A)   \n",
      "406429    TACNA    TACNA    TACNA               OTROS    22  SOLTERO(A)   \n",
      "406430    TACNA   TARATA   TARATA  JUZGADO DE FAMILIA    38  SOLTERO(A)   \n",
      "\n",
      "       FEC_REGISTRO              MODALIDAD NIVEL_EDUCATIVO      OCUPACION  \\\n",
      "406426   2019-12-22  VIOLENCIA PSICOLOGICA             NaN  INDEPENDIENTE   \n",
      "406427   2019-12-26  VIOLENCIA PSICOLOGICA             NaN            NaN   \n",
      "406428   2019-12-30  VIOLENCIA PSICOLOGICA             NaN  ADMINISTRADOR   \n",
      "406429   2019-12-31  VIOLENCIA PSICOLOGICA             NaN     ESTUDIANTE   \n",
      "406430   2019-12-09       VIOLENCIA FISICA             NaN            NaN   \n",
      "\n",
      "       SEXO SIT_PERSONA  \n",
      "406426    M  DENUNCIADO  \n",
      "406427    M  DENUNCIADO  \n",
      "406428    M  DENUNCIADO  \n",
      "406429    M  DENUNCIADO  \n",
      "406430    M  DENUNCIADO  \n",
      "Número de registros: 406431\n",
      "Valores perdidos: 436600\n",
      "DERIVADA_FISCALIA: 61579 (15.15%)\n",
      "EST_CIVIL: 7 (0.00%)\n",
      "NIVEL_EDUCATIVO: 221234 (54.43%)\n",
      "OCUPACION: 153537 (37.78%)\n",
      "SEXO: 243 (0.06%)\n",
      "None\n"
     ]
    }
   ],
   "source": [
    "datalake.reset_index(drop=True, inplace=True)\n",
    "print(datalake.head())\n",
    "print(datalake.tail())\n",
    "print(missing_values())"
   ]
  },
  {
   "cell_type": "code",
   "execution_count": 25,
   "metadata": {},
   "outputs": [
    {
     "name": "stdout",
     "output_type": "stream",
     "text": [
      "Número de registros: 406431\n",
      "Valores perdidos: 0\n"
     ]
    }
   ],
   "source": [
    "# Se llena el resto de los valores perdidos con la moda\n",
    "for c in object_columns:\n",
    "    mode = datalake[c].mode()[0]\n",
    "    datalake[c] = datalake[c].fillna(mode)\n",
    "missing_values()"
   ]
  },
  {
   "cell_type": "markdown",
   "metadata": {},
   "source": [
    "##### Separando fecha en año, mes, día y día de la semana"
   ]
  },
  {
   "cell_type": "code",
   "execution_count": 30,
   "metadata": {},
   "outputs": [],
   "source": [
    "datalake['FEC_REGISTRO_ANIO'] = datalake['FEC_REGISTRO'].apply(lambda x: int(x[:4]))\n",
    "datalake['FEC_REGISTRO_MES'] = datalake['FEC_REGISTRO'].apply(lambda x: int(x[5:7]))\n",
    "datalake['FEC_REGISTRO_DIA'] = datalake['FEC_REGISTRO'].apply(lambda x: int(x[8:]))\n",
    "datalake['FEC_REGISTRO_DIA_SEM'] = datalake['FEC_REGISTRO'].apply(lambda x: pd.to_datetime(x).weekday())"
   ]
  },
  {
   "cell_type": "code",
   "execution_count": 31,
   "metadata": {},
   "outputs": [
    {
     "data": {
      "text/html": [
       "<div>\n",
       "<style scoped>\n",
       "    .dataframe tbody tr th:only-of-type {\n",
       "        vertical-align: middle;\n",
       "    }\n",
       "\n",
       "    .dataframe tbody tr th {\n",
       "        vertical-align: top;\n",
       "    }\n",
       "\n",
       "    .dataframe thead th {\n",
       "        text-align: right;\n",
       "    }\n",
       "</style>\n",
       "<table border=\"1\" class=\"dataframe\">\n",
       "  <thead>\n",
       "    <tr style=\"text-align: right;\">\n",
       "      <th></th>\n",
       "      <th>DPTO_CIA</th>\n",
       "      <th>DIST_CIA</th>\n",
       "      <th>PROV_CIA</th>\n",
       "      <th>DERIVADA_FISCALIA</th>\n",
       "      <th>EDAD</th>\n",
       "      <th>EST_CIVIL</th>\n",
       "      <th>FEC_REGISTRO</th>\n",
       "      <th>MODALIDAD</th>\n",
       "      <th>NIVEL_EDUCATIVO</th>\n",
       "      <th>OCUPACION</th>\n",
       "      <th>SEXO</th>\n",
       "      <th>SIT_PERSONA</th>\n",
       "      <th>FEC_REGISTRO_ANIO</th>\n",
       "      <th>FEC_REGISTRO_MES</th>\n",
       "      <th>FEC_REGISTRO_DIA</th>\n",
       "      <th>FEC_REGISTRO_DIA_SEM</th>\n",
       "    </tr>\n",
       "  </thead>\n",
       "  <tbody>\n",
       "    <tr>\n",
       "      <th>0</th>\n",
       "      <td>LA LIBERTAD</td>\n",
       "      <td>HUANCHACO</td>\n",
       "      <td>TRUJILLO</td>\n",
       "      <td>JUZGADO DE FAMILIA</td>\n",
       "      <td>32</td>\n",
       "      <td>CONVIVIENTE</td>\n",
       "      <td>2016-01-01</td>\n",
       "      <td>MALTRATO SIN LESION</td>\n",
       "      <td>SUPERIOR</td>\n",
       "      <td>TECNICO DE EP</td>\n",
       "      <td>M</td>\n",
       "      <td>DENUNCIADO</td>\n",
       "      <td>2016</td>\n",
       "      <td>1</td>\n",
       "      <td>1</td>\n",
       "      <td>4</td>\n",
       "    </tr>\n",
       "    <tr>\n",
       "      <th>1</th>\n",
       "      <td>CALLAO</td>\n",
       "      <td>CALLAO</td>\n",
       "      <td>CALLAO</td>\n",
       "      <td>JUZGADO DE FAMILIA</td>\n",
       "      <td>40</td>\n",
       "      <td>SOLTERO(A)</td>\n",
       "      <td>2016-01-02</td>\n",
       "      <td>MALTRATO SIN LESION</td>\n",
       "      <td>SECUNDARIA</td>\n",
       "      <td>CESANTE PNP</td>\n",
       "      <td>M</td>\n",
       "      <td>DENUNCIADO</td>\n",
       "      <td>2016</td>\n",
       "      <td>1</td>\n",
       "      <td>2</td>\n",
       "      <td>5</td>\n",
       "    </tr>\n",
       "    <tr>\n",
       "      <th>2</th>\n",
       "      <td>LIMA</td>\n",
       "      <td>LURIGANCHO - CHOSICA</td>\n",
       "      <td>LIMA</td>\n",
       "      <td>OTROS</td>\n",
       "      <td>28</td>\n",
       "      <td>CONVIVIENTE</td>\n",
       "      <td>2016-01-03</td>\n",
       "      <td>MALTRATO SIN LESION</td>\n",
       "      <td>SECUNDARIA</td>\n",
       "      <td>JIBILADO</td>\n",
       "      <td>F</td>\n",
       "      <td>DENUNCIADO</td>\n",
       "      <td>2016</td>\n",
       "      <td>1</td>\n",
       "      <td>3</td>\n",
       "      <td>6</td>\n",
       "    </tr>\n",
       "    <tr>\n",
       "      <th>3</th>\n",
       "      <td>AREQUIPA</td>\n",
       "      <td>OCOÑA</td>\n",
       "      <td>CAMANA</td>\n",
       "      <td>OTROS</td>\n",
       "      <td>55</td>\n",
       "      <td>SOLTERO(A)</td>\n",
       "      <td>2016-01-03</td>\n",
       "      <td>VIOLENCIA PSICOLOGICA</td>\n",
       "      <td>PRIMARIA</td>\n",
       "      <td>OPERADOR DE MONTAJE</td>\n",
       "      <td>M</td>\n",
       "      <td>DENUNCIADO</td>\n",
       "      <td>2016</td>\n",
       "      <td>1</td>\n",
       "      <td>3</td>\n",
       "      <td>6</td>\n",
       "    </tr>\n",
       "    <tr>\n",
       "      <th>4</th>\n",
       "      <td>ICA</td>\n",
       "      <td>PARCONA</td>\n",
       "      <td>ICA</td>\n",
       "      <td>JUZGADO DE FAMILIA</td>\n",
       "      <td>21</td>\n",
       "      <td>SOLTERO(A)</td>\n",
       "      <td>2016-01-04</td>\n",
       "      <td>VIOLENCIA FISICA</td>\n",
       "      <td>SECUNDARIA</td>\n",
       "      <td>BARMAT</td>\n",
       "      <td>F</td>\n",
       "      <td>DENUNCIADO</td>\n",
       "      <td>2016</td>\n",
       "      <td>1</td>\n",
       "      <td>4</td>\n",
       "      <td>0</td>\n",
       "    </tr>\n",
       "  </tbody>\n",
       "</table>\n",
       "</div>"
      ],
      "text/plain": [
       "      DPTO_CIA              DIST_CIA  PROV_CIA   DERIVADA_FISCALIA  EDAD  \\\n",
       "0  LA LIBERTAD             HUANCHACO  TRUJILLO  JUZGADO DE FAMILIA    32   \n",
       "1       CALLAO                CALLAO    CALLAO  JUZGADO DE FAMILIA    40   \n",
       "2         LIMA  LURIGANCHO - CHOSICA      LIMA               OTROS    28   \n",
       "3     AREQUIPA                 OCOÑA    CAMANA               OTROS    55   \n",
       "4          ICA               PARCONA       ICA  JUZGADO DE FAMILIA    21   \n",
       "\n",
       "     EST_CIVIL FEC_REGISTRO              MODALIDAD NIVEL_EDUCATIVO  \\\n",
       "0  CONVIVIENTE   2016-01-01    MALTRATO SIN LESION        SUPERIOR   \n",
       "1   SOLTERO(A)   2016-01-02    MALTRATO SIN LESION      SECUNDARIA   \n",
       "2  CONVIVIENTE   2016-01-03    MALTRATO SIN LESION      SECUNDARIA   \n",
       "3   SOLTERO(A)   2016-01-03  VIOLENCIA PSICOLOGICA        PRIMARIA   \n",
       "4   SOLTERO(A)   2016-01-04       VIOLENCIA FISICA      SECUNDARIA   \n",
       "\n",
       "             OCUPACION SEXO SIT_PERSONA  FEC_REGISTRO_ANIO  FEC_REGISTRO_MES  \\\n",
       "0        TECNICO DE EP    M  DENUNCIADO               2016                 1   \n",
       "1          CESANTE PNP    M  DENUNCIADO               2016                 1   \n",
       "2             JIBILADO    F  DENUNCIADO               2016                 1   \n",
       "3  OPERADOR DE MONTAJE    M  DENUNCIADO               2016                 1   \n",
       "4               BARMAT    F  DENUNCIADO               2016                 1   \n",
       "\n",
       "   FEC_REGISTRO_DIA  FEC_REGISTRO_DIA_SEM  \n",
       "0                 1                     4  \n",
       "1                 2                     5  \n",
       "2                 3                     6  \n",
       "3                 3                     6  \n",
       "4                 4                     0  "
      ]
     },
     "execution_count": 31,
     "metadata": {},
     "output_type": "execute_result"
    }
   ],
   "source": [
    "datalake.head()"
   ]
  },
  {
   "cell_type": "markdown",
   "metadata": {},
   "source": [
    "#### Transformación de atributos categóricos a numéricos"
   ]
  },
  {
   "cell_type": "code",
   "execution_count": 34,
   "metadata": {},
   "outputs": [
    {
     "name": "stdout",
     "output_type": "stream",
     "text": [
      "<class 'pandas.core.frame.DataFrame'>\n",
      "RangeIndex: 406431 entries, 0 to 406430\n",
      "Data columns (total 15 columns):\n",
      " #   Column                Non-Null Count   Dtype \n",
      "---  ------                --------------   ----- \n",
      " 0   DPTO_CIA              406431 non-null  object\n",
      " 1   DIST_CIA              406431 non-null  object\n",
      " 2   PROV_CIA              406431 non-null  object\n",
      " 3   DERIVADA_FISCALIA     406431 non-null  object\n",
      " 4   EDAD                  406431 non-null  int64 \n",
      " 5   EST_CIVIL             406431 non-null  object\n",
      " 6   MODALIDAD             406431 non-null  object\n",
      " 7   NIVEL_EDUCATIVO       406431 non-null  object\n",
      " 8   OCUPACION             406431 non-null  object\n",
      " 9   SEXO                  406431 non-null  object\n",
      " 10  SIT_PERSONA           406431 non-null  object\n",
      " 11  FEC_REGISTRO_ANIO     406431 non-null  int64 \n",
      " 12  FEC_REGISTRO_MES      406431 non-null  int64 \n",
      " 13  FEC_REGISTRO_DIA      406431 non-null  int64 \n",
      " 14  FEC_REGISTRO_DIA_SEM  406431 non-null  int64 \n",
      "dtypes: int64(5), object(10)\n",
      "memory usage: 46.5+ MB\n",
      "None\n",
      "object\n",
      " ['DPTO_CIA', 'DIST_CIA', 'PROV_CIA', 'DERIVADA_FISCALIA', 'EST_CIVIL', 'MODALIDAD', 'NIVEL_EDUCATIVO', 'OCUPACION', 'SEXO', 'SIT_PERSONA']\n",
      "int64\n",
      " ['EDAD', 'FEC_REGISTRO_ANIO', 'FEC_REGISTRO_MES', 'FEC_REGISTRO_DIA', 'FEC_REGISTRO_DIA_SEM']\n",
      "None\n"
     ]
    }
   ],
   "source": [
    "datalake.drop(['FEC_REGISTRO'], axis=1, inplace=True)\n",
    "print(datalake.info())\n",
    "print(show_types())"
   ]
  },
  {
   "cell_type": "code",
   "execution_count": 37,
   "metadata": {},
   "outputs": [],
   "source": [
    "def factorize(col):\n",
    "    datalake[col] = pd.factorize(datalake[col])[0]\n",
    "for col in object_columns:\n",
    "    factorize(col)"
   ]
  },
  {
   "cell_type": "code",
   "execution_count": 40,
   "metadata": {},
   "outputs": [
    {
     "name": "stdout",
     "output_type": "stream",
     "text": [
      "object\n",
      " []\n",
      "int64\n",
      " ['DPTO_CIA', 'DIST_CIA', 'PROV_CIA', 'DERIVADA_FISCALIA', 'EDAD', 'EST_CIVIL', 'MODALIDAD', 'NIVEL_EDUCATIVO', 'OCUPACION', 'SEXO', 'SIT_PERSONA', 'FEC_REGISTRO_ANIO', 'FEC_REGISTRO_MES', 'FEC_REGISTRO_DIA', 'FEC_REGISTRO_DIA_SEM']\n"
     ]
    }
   ],
   "source": [
    "show_types()"
   ]
  },
  {
   "cell_type": "code",
   "execution_count": 42,
   "metadata": {},
   "outputs": [],
   "source": [
    "datalake.to_csv('./datalake/datalake_preprocessed.csv', index=False)"
   ]
  }
 ],
 "metadata": {
  "kernelspec": {
   "display_name": "Python 3.9.12 ('base')",
   "language": "python",
   "name": "python3"
  },
  "language_info": {
   "codemirror_mode": {
    "name": "ipython",
    "version": 3
   },
   "file_extension": ".py",
   "mimetype": "text/x-python",
   "name": "python",
   "nbconvert_exporter": "python",
   "pygments_lexer": "ipython3",
   "version": "3.9.12"
  },
  "orig_nbformat": 4,
  "vscode": {
   "interpreter": {
    "hash": "a853a36dd34f4e127a1c940f133f5f5f69f52494a182d60a25a7162197551ce1"
   }
  }
 },
 "nbformat": 4,
 "nbformat_minor": 2
}
