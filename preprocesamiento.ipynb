{
 "cells": [
  {
   "cell_type": "code",
   "execution_count": 1,
   "metadata": {},
   "outputs": [],
   "source": [
    "import pandas as pd\n",
    "import numpy as np"
   ]
  },
  {
   "cell_type": "code",
   "execution_count": 2,
   "metadata": {},
   "outputs": [],
   "source": [
    "datalake = pd.read_csv('./datalake/datalake.csv', encoding='utf-8', header=0, low_memory=False)"
   ]
  },
  {
   "cell_type": "code",
   "execution_count": 3,
   "metadata": {},
   "outputs": [
    {
     "name": "stdout",
     "output_type": "stream",
     "text": [
      "<class 'pandas.core.frame.DataFrame'>\n",
      "RangeIndex: 850013 entries, 0 to 850012\n",
      "Data columns (total 42 columns):\n",
      " #   Column              Non-Null Count   Dtype \n",
      "---  ------              --------------   ----- \n",
      " 0   COMISARIA           850013 non-null  object\n",
      " 1   CUADRA              53118 non-null   object\n",
      " 2   DERIVADA_FISCALIA   715460 non-null  object\n",
      " 3   DIRECCION           850013 non-null  object\n",
      " 4   DIST_CIA            850013 non-null  object\n",
      " 5   DIST_HECHO          850013 non-null  object\n",
      " 6   DPTO_CIA            850013 non-null  object\n",
      " 7   DPTO_HECHO          850013 non-null  object\n",
      " 8   EDAD                847713 non-null  object\n",
      " 9   ESTADO_DEN          850013 non-null  object\n",
      " 10  EST_CIVIL           849957 non-null  object\n",
      " 11  FECHA_HORA_HECHO    850013 non-null  object\n",
      " 12  ID_COMISARIA        850013 non-null  int64 \n",
      " 13  ID_EST_CIVIL        849962 non-null  object\n",
      " 14  ID_LIBRO            850013 non-null  object\n",
      " 15  ID_MATERIA          850013 non-null  int64 \n",
      " 16  ID_MODALIDAD        850013 non-null  int64 \n",
      " 17  ID_NIVEL_EDUCATIVO  90162 non-null   object\n",
      " 18  ID_REGION           850013 non-null  int64 \n",
      " 19  ID_SIT_PERSONA      850013 non-null  object\n",
      " 20  ID_SUBTIPO          850013 non-null  int64 \n",
      " 21  ID_TIPO             850013 non-null  int64 \n",
      " 22  ID_TIPO_DENUNCIA    850013 non-null  object\n",
      " 23  LIBRO               850013 non-null  object\n",
      " 24  MATERIA             850013 non-null  object\n",
      " 25  MODALIDAD           850013 non-null  object\n",
      " 26  NIVEL_EDUCATIVO     55764 non-null   object\n",
      " 27  OCUPACION           353046 non-null  object\n",
      " 28  PROV_CIA            850013 non-null  object\n",
      " 29  PROV_HECHO          850013 non-null  object\n",
      " 30  REGION              850013 non-null  object\n",
      " 31  SEXO                849347 non-null  object\n",
      " 32  SIT_PERSONA         850013 non-null  object\n",
      " 33  SUB_TIPO            850013 non-null  object\n",
      " 34  TIPO                850013 non-null  object\n",
      " 35  TIPO_DENUNCIA       850013 non-null  object\n",
      " 36  UBICACION           850013 non-null  object\n",
      " 37  UBIGEO_CIA          850013 non-null  int64 \n",
      " 38  UBIGEO_HECHO        850013 non-null  int64 \n",
      " 39  VIA                 850013 non-null  object\n",
      " 40  fec_registro        850013 non-null  object\n",
      " 41  pais_natal          850013 non-null  object\n",
      "dtypes: int64(8), object(34)\n",
      "memory usage: 272.4+ MB\n",
      "None\n"
     ]
    }
   ],
   "source": [
    "original_data = datalake.copy(deep=True)\n",
    "print(datalake.info())"
   ]
  },
  {
   "cell_type": "code",
   "execution_count": 4,
   "metadata": {},
   "outputs": [
    {
     "name": "stdout",
     "output_type": "stream",
     "text": [
      "object (34)\n",
      " ['COMISARIA', 'CUADRA', 'DERIVADA_FISCALIA', 'DIRECCION', 'DIST_CIA', 'DIST_HECHO', 'DPTO_CIA', 'DPTO_HECHO', 'EDAD', 'ESTADO_DEN', 'EST_CIVIL', 'FECHA_HORA_HECHO', 'ID_EST_CIVIL', 'ID_LIBRO', 'ID_NIVEL_EDUCATIVO', 'ID_SIT_PERSONA', 'ID_TIPO_DENUNCIA', 'LIBRO', 'MATERIA', 'MODALIDAD', 'NIVEL_EDUCATIVO', 'OCUPACION', 'PROV_CIA', 'PROV_HECHO', 'REGION', 'SEXO', 'SIT_PERSONA', 'SUB_TIPO', 'TIPO', 'TIPO_DENUNCIA', 'UBICACION', 'VIA', 'fec_registro', 'pais_natal'] \n",
      "int64 (8)\n",
      " ['ID_COMISARIA', 'ID_MATERIA', 'ID_MODALIDAD', 'ID_REGION', 'ID_SUBTIPO', 'ID_TIPO', 'UBIGEO_CIA', 'UBIGEO_HECHO'] \n"
     ]
    }
   ],
   "source": [
    "# Idenficando las columnas por tipo de dato\n",
    "object_columns = []\n",
    "int64_columns = []\n",
    "\n",
    "def update_types():\n",
    "    global object_columns, int64_columns\n",
    "    object_columns = datalake.select_dtypes(['object']).columns.to_list()\n",
    "    int64_columns = datalake.select_dtypes(['int64']).columns.to_list()\n",
    "    print(f'object ({len(object_columns)})\\n {object_columns} ')\n",
    "    print(f'int64 ({len(int64_columns)})\\n {int64_columns} ')\n",
    "\n",
    "update_types()"
   ]
  },
  {
   "cell_type": "code",
   "execution_count": 5,
   "metadata": {},
   "outputs": [
    {
     "name": "stdout",
     "output_type": "stream",
     "text": [
      "object (42)\n",
      " ['COMISARIA', 'CUADRA', 'DERIVADA_FISCALIA', 'DIRECCION', 'DIST_CIA', 'DIST_HECHO', 'DPTO_CIA', 'DPTO_HECHO', 'EDAD', 'ESTADO_DEN', 'EST_CIVIL', 'FECHA_HORA_HECHO', 'ID_COMISARIA', 'ID_EST_CIVIL', 'ID_LIBRO', 'ID_MATERIA', 'ID_MODALIDAD', 'ID_NIVEL_EDUCATIVO', 'ID_REGION', 'ID_SIT_PERSONA', 'ID_SUBTIPO', 'ID_TIPO', 'ID_TIPO_DENUNCIA', 'LIBRO', 'MATERIA', 'MODALIDAD', 'NIVEL_EDUCATIVO', 'OCUPACION', 'PROV_CIA', 'PROV_HECHO', 'REGION', 'SEXO', 'SIT_PERSONA', 'SUB_TIPO', 'TIPO', 'TIPO_DENUNCIA', 'UBICACION', 'UBIGEO_CIA', 'UBIGEO_HECHO', 'VIA', 'fec_registro', 'pais_natal'] \n",
      "int64 (0)\n",
      " [] \n"
     ]
    }
   ],
   "source": [
    "#Se están clasificando columnas de id's (incluyendo UBIGEOs) como int64.\n",
    "#Estos datos no son propiamente numéricos, de hecho, la única categoría numérica sería 'EDAD', pero ahora es de tipo object.\n",
    "#Primero se convertirán todas las columnas id detectadas como int64 a object\n",
    "for col in int64_columns:\n",
    "    datalake[col] = datalake[col].astype(str)\n",
    "update_types()"
   ]
  },
  {
   "cell_type": "markdown",
   "metadata": {},
   "source": [
    "#### Filtro inicial de atributos"
   ]
  },
  {
   "cell_type": "code",
   "execution_count": 6,
   "metadata": {},
   "outputs": [
    {
     "name": "stdout",
     "output_type": "stream",
     "text": [
      "object (29)\n",
      " ['COMISARIA', 'CUADRA', 'DERIVADA_FISCALIA', 'DIRECCION', 'DIST_CIA', 'DIST_HECHO', 'DPTO_CIA', 'DPTO_HECHO', 'EDAD', 'ESTADO_DEN', 'EST_CIVIL', 'FECHA_HORA_HECHO', 'LIBRO', 'MATERIA', 'MODALIDAD', 'NIVEL_EDUCATIVO', 'OCUPACION', 'PROV_CIA', 'PROV_HECHO', 'REGION', 'SEXO', 'SIT_PERSONA', 'SUB_TIPO', 'TIPO', 'TIPO_DENUNCIA', 'UBICACION', 'VIA', 'FEC_REGISTRO', 'PAIS_NATAL'] \n",
      "int64 (0)\n",
      " [] \n",
      "<class 'pandas.core.frame.DataFrame'>\n",
      "RangeIndex: 850013 entries, 0 to 850012\n",
      "Data columns (total 29 columns):\n",
      " #   Column             Non-Null Count   Dtype \n",
      "---  ------             --------------   ----- \n",
      " 0   COMISARIA          850013 non-null  object\n",
      " 1   CUADRA             53118 non-null   object\n",
      " 2   DERIVADA_FISCALIA  715460 non-null  object\n",
      " 3   DIRECCION          850013 non-null  object\n",
      " 4   DIST_CIA           850013 non-null  object\n",
      " 5   DIST_HECHO         850013 non-null  object\n",
      " 6   DPTO_CIA           850013 non-null  object\n",
      " 7   DPTO_HECHO         850013 non-null  object\n",
      " 8   EDAD               847713 non-null  object\n",
      " 9   ESTADO_DEN         850013 non-null  object\n",
      " 10  EST_CIVIL          849957 non-null  object\n",
      " 11  FECHA_HORA_HECHO   850013 non-null  object\n",
      " 12  LIBRO              850013 non-null  object\n",
      " 13  MATERIA            850013 non-null  object\n",
      " 14  MODALIDAD          850013 non-null  object\n",
      " 15  NIVEL_EDUCATIVO    55764 non-null   object\n",
      " 16  OCUPACION          353046 non-null  object\n",
      " 17  PROV_CIA           850013 non-null  object\n",
      " 18  PROV_HECHO         850013 non-null  object\n",
      " 19  REGION             850013 non-null  object\n",
      " 20  SEXO               849347 non-null  object\n",
      " 21  SIT_PERSONA        850013 non-null  object\n",
      " 22  SUB_TIPO           850013 non-null  object\n",
      " 23  TIPO               850013 non-null  object\n",
      " 24  TIPO_DENUNCIA      850013 non-null  object\n",
      " 25  UBICACION          850013 non-null  object\n",
      " 26  VIA                850013 non-null  object\n",
      " 27  FEC_REGISTRO       850013 non-null  object\n",
      " 28  PAIS_NATAL         850013 non-null  object\n",
      "dtypes: object(29)\n",
      "memory usage: 188.1+ MB\n"
     ]
    }
   ],
   "source": [
    "# Las columnas ID no se considera necesarias para el análisis, por lo que se eliminan\n",
    "datalake = datalake[datalake.columns.drop(list(datalake.filter(regex='ID_')))]\n",
    "# Las columnas UBIGEO identifican el departamento, provincia y distrito de cada registro, por lo que se eliminan\n",
    "datalake = datalake[datalake.columns.drop(list(datalake.filter(regex='UBIGEO')))]\n",
    "# Para estandarizar los nombres de las columnas, se convertirán a mayúsculas\n",
    "datalake.columns = datalake.columns.str.upper()\n",
    "\n",
    "update_types()\n",
    "datalake.info()"
   ]
  },
  {
   "cell_type": "markdown",
   "metadata": {},
   "source": [
    "#### Exploración de datos"
   ]
  },
  {
   "cell_type": "markdown",
   "metadata": {},
   "source": [
    "##### Valores perdidos"
   ]
  },
  {
   "cell_type": "code",
   "execution_count": 7,
   "metadata": {},
   "outputs": [],
   "source": [
    "# Trimea los textos y si resulta vacio, se pone nan para luego aplicar el fillna\n",
    "for col in object_columns:\n",
    "    datalake[col] = datalake[col].str.strip()\n",
    "datalake = datalake.replace('', np.nan)"
   ]
  },
  {
   "cell_type": "code",
   "execution_count": 8,
   "metadata": {},
   "outputs": [
    {
     "name": "stdout",
     "output_type": "stream",
     "text": [
      "Número total de registros: 850013\n",
      "Número total de valores perdidos: 2620427\n",
      "Valores perdidos por columna:\n",
      "CUADRA: 796895 (93.75%)\n",
      "DERIVADA_FISCALIA: 134560 (15.83%)\n",
      "DIRECCION: 1 (0.00%)\n",
      "EDAD: 9404 (1.11%)\n",
      "ESTADO_DEN: 264066 (31.07%)\n",
      "EST_CIVIL: 56 (0.01%)\n",
      "FECHA_HORA_HECHO: 40302 (4.74%)\n",
      "NIVEL_EDUCATIVO: 794249 (93.44%)\n",
      "OCUPACION: 539855 (63.51%)\n",
      "SEXO: 666 (0.08%)\n",
      "UBICACION: 18 (0.00%)\n",
      "FEC_REGISTRO: 40302 (4.74%)\n",
      "PAIS_NATAL: 53 (0.01%)\n"
     ]
    }
   ],
   "source": [
    "# Resumen de valores perdidos\n",
    "def missing_values():\n",
    "    row_count = datalake.shape[0]\n",
    "    print(f'Número total de registros: {row_count}')\n",
    "    global_null_count = datalake.isnull().sum().sum()\n",
    "    print(f'Número total de valores perdidos: {global_null_count}')\n",
    "    print('Valores perdidos por columna:')\n",
    "    for col in datalake.columns:\n",
    "        null_count = datalake[col].isnull().sum()\n",
    "        null_percent = null_count / row_count * 100\n",
    "        if null_count > 0:\n",
    "            print(f'{col}: {null_count} ({null_percent:.2f}%)')\n",
    "\n",
    "missing_values()"
   ]
  },
  {
   "cell_type": "markdown",
   "metadata": {},
   "source": [
    "##### Valores únicos para cada atributo"
   ]
  },
  {
   "cell_type": "code",
   "execution_count": 9,
   "metadata": {},
   "outputs": [],
   "source": [
    "def get_uniques(col):\n",
    "    uniques = datalake[col].dropna().unique()\n",
    "    print(f'{col} [{len(uniques)} unique values]')\n",
    "    print(uniques)"
   ]
  },
  {
   "cell_type": "code",
   "execution_count": 10,
   "metadata": {},
   "outputs": [
    {
     "name": "stdout",
     "output_type": "stream",
     "text": [
      "COMISARIA [1110 unique values]\n",
      "['HUANCHACO' 'ZAPALLAL' 'COMISARIA DE LA FAMILIA' ...\n",
      " 'COMISARIA DE FAMILIA - HUARAZ' 'SILVA MERINO' 'INCAHUASI']\n",
      "CUADRA [1309 unique values]\n",
      "['11.0' '4.0' '2.0' ... '453.0' '655.0' '769.0']\n",
      "DERIVADA_FISCALIA [10 unique values]\n",
      "['JUZGADO DE FAMILIA' 'UNIDAD PNP' 'OTROS' 'JUZGADO DE PAZ'\n",
      " 'FISCALÍA PENAL' 'FISCALÍA DE FAMILIA' 'JUZGADO PENAL' 'RE'\n",
      " 'FISCALIA DE MEDIO AM' 'FISCALIA DE MEDIO AMBIENTE']\n",
      "DIRECCION [1730 unique values]\n",
      "['AV. LA RIVERA PLAZA SAN MARTIN' 'JR GALILEA S/N'\n",
      " 'URB. CIUDAD DE DIOS MZA. Q LTE 1' ... '44130' 'PLAZA TOQUEPALA'\n",
      " 'CALLE SUCRE MZ E LTE 3']\n",
      "DIST_CIA [819 unique values]\n",
      "['HUANCHACO' 'PUENTE PIEDRA' 'NUEVO CHIMBOTE' 'WANCHAQ'\n",
      " 'SANTIAGO DE SURCO' 'CALLAO' 'SAN BORJA' 'LURIGANCHO - CHOSICA'\n",
      " 'HUANCABAMBA' 'LOS OLIVOS' 'OCOÑA' 'PARCONA' 'LA PERLA' 'INDEPENDENCIA'\n",
      " 'PUCUSANA' 'LA ESPERANZA' 'HUACHO' 'CHIMBOTE' 'VILLA EL SALVADOR'\n",
      " 'SAN MIGUEL' 'SAN JUAN DE LURIGANCHO' 'PIURA' 'JOSE LEONARDO ORTIZ'\n",
      " 'JULIACA' 'LURIN' 'VENTANILLA' 'SAN MARTIN DE PORRES'\n",
      " 'VILLA MARIA DEL TRIUNFO' 'CORRALES' 'HUAURA' 'MAJES' 'CHORRILLOS'\n",
      " 'SANTA ANITA' 'SAMEGUA' 'JOSE LUIS BUSTAMANTE Y RIVERO'\n",
      " 'CARMEN DE LA LEGUA REYNOSO' 'ATE' 'CAYMA' 'PARIÑAS' 'SURQUILLO'\n",
      " 'BARRANCO' 'LAMBAYEQUE' 'MIRAFLORES' 'LA VICTORIA' 'LOS BAÑOS DEL INCA'\n",
      " 'MOLLENDO' 'EL AGUSTINO' 'CALLERIA' 'CARABAYLLO' 'SAN JUAN DE MIRAFLORES'\n",
      " 'JACOBO HUNTER' 'CHICLAYO' 'ABANCAY' 'ISLAY' 'CUSCO' 'PUNTA NEGRA'\n",
      " 'TAMBURCO' 'HUANCAVELICA' 'CERRO COLORADO' 'SANTIAGO' 'LIMA' 'PUNO'\n",
      " 'PISCO' 'CAJAMARCA' 'LA MOLINA' 'SAN VICENTE DE CAÑETE' 'LA OROYA'\n",
      " 'MOQUEGUA' 'AREQUIPA' 'PAUCARPATA' 'ICA' 'HUARAZ' 'HUANCAYO' 'TRUJILLO'\n",
      " 'SULLANA' 'ILO' 'SALAS' 'TACNA' 'EL TAMBO' 'VICTOR LARCO HERRERA'\n",
      " 'SAN ISIDRO' 'COMAS' 'MORROPE' 'DESAGUADERO' 'UCHUMAYO' 'ZARUMILLA'\n",
      " 'ASCOPE' 'ILAVE' 'FLORENCIA DE MORA'\n",
      " 'CORONEL GREGORIO ALBARRACIN LANCHIPA' 'CIENEGUILLA' 'RIMAC' 'SOCABAYA'\n",
      " 'CHILCA' 'MARIANO MELGAR' 'CHACLACAYO' 'SUBTANJALLA' 'ALTO SELVA ALEGRE'\n",
      " 'LA TINGUIÑA' 'ALTO LARAN' '26 DE OCTUBRE' 'ALTO DE LA ALIANZA' 'SUNAMPE'\n",
      " 'BELLAVISTA' 'SAYLLA' 'SECHURA' 'CASMA' 'CHINCHA ALTA' 'CATACAOS'\n",
      " 'PACHACUTEC' 'EL PORVENIR' 'TUCUME' 'SAMUEL PASTOR' 'PUEBLO LIBRE'\n",
      " 'SALAVERRY' 'LA JOYA' 'LINCE' 'SANTA ROSA' 'CHULUCANAS' 'IMPERIAL'\n",
      " 'YAUTAN' 'MAGDALENA DEL MAR' 'SAN JUAN BAUTISTA' 'IQUITOS' 'BREÑA'\n",
      " 'CAJATAMBO' 'ANTA' 'YARINACOCHA' 'BELEN' 'SANTA' 'VISTA ALEGRE' 'HUARAL'\n",
      " 'OLMOS' 'MACHUPICCHU' 'TUMAN' 'PACASMAYO' 'CAMANA' 'SANTA EULALIA'\n",
      " 'TIABAYA' 'YUNGUYO' 'JAYANCA' 'MATUCANA' 'LA BREA' 'TAMBO DE MORA'\n",
      " 'SARIN' 'PATIVILCA' 'SABANDIA' 'COISHCO' 'NAUTA' 'SACHACA' 'SAMANCO'\n",
      " 'VILLA RICA' 'PACHACAMAC' 'SAN ANDRES' 'MAZAN' 'SAN ANTONIO' 'MOTUPE'\n",
      " 'PIMENTEL' 'POMALCA' 'AGUAS VERDES' 'PALPA' 'SAN LUIS' 'CONCEPCION'\n",
      " 'HUARMEY' 'MOCHE' 'MANCOS' 'YUNGAY' 'CALCA' 'NUEVO IMPERIAL' 'ETEN'\n",
      " 'ANCON' 'REQUE' 'LAREDO' 'LOS ORGANOS' 'JAUJA' 'MONSEFU' 'HUALMAY'\n",
      " 'CAYALTI' 'TUMBES' 'SAN SEBASTIAN' 'MARCONA' 'PICSI' 'BUENOS AIRES'\n",
      " 'MALA' 'MOCHUMI' 'PAITA' 'URCOS' 'SUPE' 'PUEBLO NUEVO' 'HUMAY'\n",
      " 'SAN BARTOLO' 'CHICAMA' 'POCOLLAY' 'PUNTA DE BOMBON' 'FERREÑAFE'\n",
      " 'YARABAMBA' 'SAN JERONIMO DE TUNAN' 'ACOLLA' 'SAN AGUSTIN' 'MANANTAY'\n",
      " 'SAÑA' 'SAN IGNACIO' 'PATAPO' 'PARAMONGA' 'SAN JOSE' 'PUNTA HERMOSA'\n",
      " 'DEAN VALDIVIA' 'CASTILLA' 'ETEN PUERTO' 'JULI' 'BAGUA' 'PISAC' 'TARMA'\n",
      " 'AIJA' 'CHINCHA BAJA' 'EL ALTO' 'INDIANA' 'PUCALA' 'JAEN' 'CASA GRANDE'\n",
      " 'URUBAMBA' 'CHARACATO' 'CARHUAZ' 'PAIJAN' 'POMATA' 'VICE' 'MI PERU'\n",
      " 'SUPE PUERTO' 'SAN JERONIMO' 'SAYAN' 'HUAROCHIRI' 'CHONGOYAPE' 'CHANCAY'\n",
      " 'HUARO' 'CHOCOPE' 'CALANGO' 'SANTA CRUZ' 'CERRO AZUL' 'LA MATANZA'\n",
      " 'RICARDO PALMA' 'TUPAC AMARU INCA' 'PARACAS' 'TAYABAMBA' 'PACORA'\n",
      " 'SICAYA' 'PACANGA' 'PEBAS' 'OTUZCO' 'CHIQUIAN' 'LOCUMBA' 'QUILMANA'\n",
      " 'PITIPO' 'HUAYUCACHI' 'BERNAL' 'PUCARA' 'ORCOTUNA' 'IGNACIO ESCUDERO'\n",
      " 'MARCARA' 'ACOBAMBA' 'LA PUNTA' 'SAN RAMON' 'HUANUCO' 'PACAIPAMPA'\n",
      " 'BOLIVAR' 'CHIRINOS' 'CHUPACA' 'SAPALLANGA' 'PAMPACOLCA'\n",
      " 'SAN PEDRO DE LLOC' 'NIEPOS' 'MEJIA' 'JEQUETEPEQUE' 'CHEPEN' 'RECUAY'\n",
      " 'HUAROCONDO' 'NEPEÑA' 'MORALES' 'CATACHE' 'INCLAN' 'SAN JOSE DE LOURDES'\n",
      " 'EL INGENIO' 'CHANCHAMAYO' 'HUABAL' 'MOROCOCHA' 'OYOTUN' 'LOS AQUIJES'\n",
      " 'COCACHACRA' 'MORROPON' 'PARIACOTO' 'ANDABAMBA' 'MORO' 'SAN NICOLAS'\n",
      " 'TINGO' 'BAGUA GRANDE' 'CHACHAPOYAS' 'SAN FRANCISCO DE DAGUAS' 'CAJARURO'\n",
      " 'LUYA' 'LAMUD' 'MARISCAL CASTILLA' 'LIMABAMBA' 'MOLINOPAMPA'\n",
      " 'SANTO TOMAS' 'LA PECA' 'LONGAR' 'GRANADA' 'FLORIDA' 'JAMALCA'\n",
      " 'YAMBRASBAMBA' 'JUMBILLA' 'PISUQUIA' 'CHAVIN DE HUANTAR' 'CUMBA' 'ASIA'\n",
      " 'HUARI' 'CHACAS' 'NAZCA' 'NIEVA' 'PISCOBAMBA' 'POMABAMBA' 'AYABACA'\n",
      " 'CAMPORREDONDO' 'LA JALCA' 'SIHUAS' 'CORONGO' 'CABANA' 'APATA' 'PACHIA'\n",
      " 'CHIRIMOTO' 'LA ARENA' 'AMARILIS' 'ARAMANGO' 'MAGDALENA DE CAO'\n",
      " 'HUAMACHUCO' 'VIRU' 'POROTO' 'PARCOY' 'AGALLPAMPA' 'CASCAS' 'ANGASMARCA'\n",
      " 'CHARAT' 'PATAZ' 'SANTIAGO DE CHUCO' 'OCALLI' 'JULCAN' 'RAZURI'\n",
      " 'LUNAHUANA' 'CANCHAQUE' 'MACATE' 'OXAPAMPA' 'ILLIMO' 'LANCONES' 'IMAZA'\n",
      " 'PULAN' 'VALERA' 'COLQUIOC' 'CONTAMANA' 'CHAO' 'SAN MATEO' 'SAMA'\n",
      " 'SAN PABLO' 'ENCAÑADA' 'BAMBAMARCA' 'ZORRITOS' 'NAMORA' 'CHILETE'\n",
      " 'EDUARDO VILLANUEVA' 'ICHOCAN' 'CACHACHI' 'CUTERVO' 'CONTUMAZA'\n",
      " 'PEDRO GALVEZ' 'CALQUIS' 'HUASMIN' 'HUALGAYOC' 'CATILLUC' 'HUAMBOS'\n",
      " 'TARATA' 'CELENDIN' 'SAN BENITO' 'SITACOCHA' 'SAN JUAN' 'CHOTA'\n",
      " 'MAGDALENA' 'JESUS' 'CAJABAMBA' 'GUADALUPE' 'LLAMA' 'POMAHUACA' 'SUCRE'\n",
      " 'EL PRADO' 'ANDAHUAYLAS' 'ANDAHUAYLILLAS' 'COMBAPATA' 'CHINCHERO' 'YONAN'\n",
      " 'PITUMARCA' 'SANTA ANA' 'POROY' 'YANAOCA' 'SICUANI' 'ESPINAR' 'PARURO'\n",
      " 'OROPESA' 'CHONGOS ALTO' 'MARANGANI' 'CANTA' 'TACABAMBA' 'PACHANGARA'\n",
      " 'LIMATAMBO' 'CATAHUASI' 'QUIRUVILCA' 'CHIVAY' 'APLAO' 'YAUCA' 'CHALA'\n",
      " 'MADRIGAL' 'POCSI' 'ACARI' 'NICOLAS DE PIEROLA' 'CABANACONDE' 'CHAPARRA'\n",
      " 'ORCOPAMPA' 'CHIGUATA' 'HUAMBO' 'JOSE MARIA QUIMPER' 'LOMAS' 'ATICO'\n",
      " 'COTAHUASI' 'POLOBAYA' 'MARIANO NICOLAS VALCARCEL' 'VIRACO' 'ANDARAY'\n",
      " 'CARAVELI' 'YURA' 'BELLA UNION' 'MARISCAL CACERES' 'CHUQUIBAMBA'\n",
      " 'TARAPOTO' 'HUAYTARA' 'QUINJALCA' 'OYON' 'CHOROS' 'SANTA TERESA'\n",
      " 'LA BANDA DE SHILCAYO' 'CURGOS' 'PICHARI' 'AYACUCHO' 'TORATA' 'PAUSA'\n",
      " 'LA PAMPA' 'HUAYLLABAMBA' 'PALMAPAMPA' 'MARCABAMBA' 'OCROS'\n",
      " 'NUEVO PROGRESO' 'AYNA' 'PUYUSCA' 'CORACORA' 'HUANCAPI' 'PANGOA' 'TAMBO'\n",
      " 'HUANTA' 'CANCHAYLLO' 'CARMEN ALTO' 'SATIPO' 'PICHANAQUI' 'JUNIN'\n",
      " 'PILCUYO' 'SANTA MARIA DEL MAR' 'TAMBOPATA' 'RUPA-RUPA'\n",
      " 'SAN JUAN DE BIGOTE' 'HUASAHUASI' 'PERENE' 'CHICLA' 'CARHUAMAYO' 'RIOJA'\n",
      " 'MOYOBAMBA' 'SAPOSOA' 'JUANJUI' 'CURA MORI' 'PUQUIO' 'SORITOR' 'YAUYOS'\n",
      " 'PARDO MIGUEL' 'HAQUIRA' 'SAN PEDRO DE CACHORA' 'GAMARRA' 'COTABAMBAS'\n",
      " 'ANCO_HUALLO' 'PROGRESO' 'RANRACANCHA' 'HUANIPACA' 'VILCABAMBA'\n",
      " 'HUANCARANI' 'TALAVERA' 'PACUCHA' 'JOSE SABOGAL' 'TINTA' 'PUSI' 'ONGOY'\n",
      " 'INAMBARI' 'SAN HILARION' 'PUCYURA' 'HUARIACA' 'YURIMAGUAS' 'LABERINTO'\n",
      " 'TINYAHUARCO' 'HUEPETUHE' 'CANGALLO' 'MARAS' 'SINCOS' 'YANTALO' 'AMBO'\n",
      " 'CHINCHEROS' 'ANDARAPA' 'COLAN' 'SANTIAGO DE CAO' 'AMOTAPE' 'TAMARINDO'\n",
      " 'YANACA' 'VICHAYAL' 'QUERECOTILLO' 'COCHARCAS' 'CHAUPIMARCA' 'REQUENA'\n",
      " 'OXAMARCA' 'LAYO' 'PAUCARTAMBO' 'HUANCARAMA' 'TOCACHE' 'SUYO'\n",
      " 'TAMBO GRANDE' 'HUACHON' 'EL CARMEN DE LA FRONTERA' 'PACHACONAS'\n",
      " 'TICLACAYAN' 'MIGUEL CHECA' 'SIVIA' 'DANIEL ALOMIAS ROBLES' 'HUARMACA'\n",
      " 'MARIANO DAMASO BERAUN' 'MONZON' 'HUACCANA' 'CHOLON' 'SICCHEZ' 'JILILI'\n",
      " 'LAGUNAS' 'UCHIZA' 'COTARUSE' 'PANAO' 'UTICYACU' 'MAMARA' 'JAQUI'\n",
      " 'AUCARA' 'SONDORILLO' 'SANTA ANA DE TUSI' 'SANTO DOMINGO' 'TARACO'\n",
      " 'HUALLANCA' 'OCOBAMBA' 'CHINCHAO' 'CHALHUANCA' 'MOHO' 'COPALLIN'\n",
      " 'YANAHUANCA' 'HUANCARAY' 'SIMON BOLIVAR' 'CURAHUASI' 'TANTARICA'\n",
      " 'NUEVA CAJAMARCA' 'CAMPOVERDE' 'ALONSO DE ALVARADO' 'HUAYLLAY'\n",
      " 'LAS PIRIAS' 'ANCAHUASI' 'HUAYOPATA' 'PAJARILLO' 'SAN ANTONIO DE CACHI'\n",
      " 'ZURITE' 'CABANILLAS' 'ACOMAYO' 'TAPAIRIHUA' 'ACOSTAMBO' 'HUACULLANI'\n",
      " 'YANACANCHA' 'LAMPA' 'JESUS MARIA' 'PACOCHA' 'SAN CLEMENTE' 'PUNCHANA'\n",
      " 'PILLCO MARCA' 'FRIAS' 'SANTA ROSA DE QUIVES' 'SANTA RITA DE SIGUAS'\n",
      " 'KISHUARA' 'PAIMAS' 'SAN RAFAEL' 'PUTINA' 'SANTA MARIA DE CHICMO'\n",
      " 'LA UNION' 'BARRANCA' 'LAS PIEDRAS' 'SAN LUIS DE SHUARO' 'URANMARCA'\n",
      " 'MARCAVELICA' 'PALCA' 'ORURILLO' 'CALZADA' 'LOS MOROCHUCOS' 'CHUNGUI'\n",
      " 'LUCRE' 'CAJACAY' 'MASISEA' 'RAMON CASTILLA' 'LIRCAY' 'PALLASCA'\n",
      " 'YAMANGO' 'VEGUETA' 'PAMPACHIRI' 'CHALLHUAHUACHO' 'CANARIA' 'AYAUCA'\n",
      " 'GROCIO PRADO' 'MOLLEBAYA' 'JOSE CRESPO Y CASTILLO' 'LONYA GRANDE'\n",
      " 'CARAZ' 'IBERIA' 'YANAHUARA' 'CIUDAD NUEVA' 'MARANURA' 'MAÑAZO'\n",
      " 'EL CARMEN' 'TAMBOBAMBA' 'MAZAMARI' 'ACOS VINCHOS' 'LEIMEBAMBA' 'UCO'\n",
      " 'URACA' 'EL MILAGRO' 'PAPAYAL' 'ACOS' 'MANCORA' 'ULCUMAYO' 'QUEROBAMBA'\n",
      " 'SAN JOSE DE LOS MOLINOS' 'QUIQUIJANA' 'JAZAN' 'MACHE' 'LAS LOMAS'\n",
      " 'LUYA VIEJO' 'IZCUCHACA' 'CCATCA' 'PICOTA' 'LAMAS' 'POMACANCHI' 'VICCO'\n",
      " 'ZUÑIGA' 'MADRE DE DIOS' 'SALITRAL' 'SANTA CATALINA DE MOSSA' 'HUACACHI'\n",
      " 'HUANCA' 'CHACOCHE' 'TAUCA' 'HUANDO' 'GUADALUPITO' 'TARICA'\n",
      " 'SANTA MARIA DEL VALLE' 'COLCAMAR' 'SANDIA' 'HUAYLAS' 'CAPACHICA'\n",
      " 'EL MUYO' 'SAN SALVADOR' 'PACARAN' 'OLLANTAYTAMBO' 'YANATILE' 'CACHIMAYO'\n",
      " 'RANRAHIRCA' 'OMATE' 'SIMBAL' 'CHAVINILLO' 'CATAC' 'CHAZUTA'\n",
      " 'PAUCARBAMBA' 'ILABAYA' 'SAN JACINTO' 'CONGALLA' 'TABACONAS'\n",
      " 'SAN JUAN DE TARUCANI' 'CAYLLOMA' 'PUERTO INCA' 'SANCOS' 'TINTAY'\n",
      " 'TIQUILLACA' 'CASITAS' 'YANAMA' 'MASIN' 'LLAMELLIN' 'HUACAYBAMBA'\n",
      " 'VELILLE' 'YAUYA' 'GOYLLARISQUIZGA' 'IÑAPARI' 'TUMAY HUARACA' 'CARACOTO'\n",
      " 'PAUCAR' 'PLATERIA' 'PICHACANI' 'OCONGATE' 'ACORA' 'SHIPASBAMBA'\n",
      " 'CHURUBAMBA' 'IRAZOLA' 'PUERTO BERMUDEZ' 'SACANCHE' 'PADRE ABAD' 'HUATA'\n",
      " 'SAN JOSE DE SISA' 'ALBERTO LEVEAU' 'SHAPAJA' 'HUANGASCAR' 'RAYMONDI'\n",
      " 'TABALOSOS' 'POZUZO' 'AZANGARO' 'PAMPAS DE HOSPITAL' 'NUÑOA'\n",
      " 'HUACHOCOLPA' 'ZEPITA' 'MOSOC LLACTA' 'CHUCUITO' 'NESHUYA' 'ANANEA'\n",
      " 'SANTA LUCIA' 'SAN MARCOS' 'PAMPAS' 'ASILLO' 'SAN JUAN DE SIGUAS'\n",
      " 'AYAVIRI' 'SAN JUAN DE LA VIRGEN' 'UNICACHI' 'QUINUA' 'PAUCARCOLLA'\n",
      " 'MIRACOSTA' 'HUANCANE' 'JOSE DOMINGO CHOQUEHUANCA' 'VILQUE CHICO' 'LAJAS'\n",
      " 'SHILLA' 'SHUPLUY' 'SINSICAP' 'SAN FRANCISCO DE ASIS DE YARUSYACAN'\n",
      " 'VARGAS GUERRA' 'CUTURAPI' 'COPANI' 'QUILCA' 'MACUSANI' 'PAUCARA'\n",
      " 'CONIMA' 'BAJO BIAVO' 'CANOAS DE PUNTA SAL' 'CHUQUIBAMBILLA' 'LLATA'\n",
      " 'USQUIL' 'A.VON.HUMBOLDT' 'CABANILLA' 'TURPO' 'CHUSCHI' 'MANU'\n",
      " 'TINICACHI' 'CALANA' 'ANTABAMBA' 'BALSAS' 'CAMANTI' 'YAURISQUE'\n",
      " 'COTAPARACO' 'HUACRACHUCO' 'SAN ANTON' 'ESTIQUE-PAMPA' 'LAMBRAMA'\n",
      " 'CORDOVA' 'CODO DEL POZUZO' 'YAMON' 'HUAMANGUILLA' 'TOTOS' 'CORIS'\n",
      " 'POTONI' 'CURIBAYA' 'TOURNAVISTA' 'ECHARATE' 'QUELLOUNO' 'AUCALLAMA'\n",
      " 'QUINISTAQUILLAS' 'SAN MIGUEL DE EL FAIQUE' 'SAMAN' 'SOCOTA' 'SIBAYO'\n",
      " 'SANTA ISABEL DE SIGUAS' 'CASCAPARA' 'ARAPA' 'LA CRUZ' 'INGUILPATA'\n",
      " 'OMIA' 'SAN ANTONIO DE CHUCA' 'RIO NEGRO' 'LUCMA' 'SALPO'\n",
      " 'SAN MIGUEL DE MAYOCC' 'CHORAS' 'PAMPAROMAS' 'LALAQUIZ'\n",
      " 'RINCONADA LLICUAR' 'VITOR' 'INCAHUASI' 'ITE']\n",
      "DIST_HECHO [1435 unique values]\n",
      "['HUANCHACO' 'PUENTE PIEDRA' 'NUEVO CHIMBOTE' ... 'HUANCAPON' 'TINICACHI'\n",
      " 'BALSAPUERTO']\n",
      "DPTO_CIA [26 unique values]\n",
      "['LA LIBERTAD' 'LIMA' 'ANCASH' 'CUSCO' 'CALLAO' 'PIURA' 'AREQUIPA' 'ICA'\n",
      " 'LAMBAYEQUE' 'PUNO' 'TUMBES' 'MOQUEGUA' 'CAJAMARCA' 'UCAYALI' 'APURIMAC'\n",
      " 'HUANCAVELICA' 'JUNIN' 'TACNA' 'LORETO' 'PASCO' 'AMAZONAS' 'HUANUCO'\n",
      " 'SAN MARTIN' 'AYACUCHO' 'MADRE DE DIO' 'MADRE DE DIOS']\n",
      "DPTO_HECHO [27 unique values]\n",
      "['LA LIBERTAD' 'LIMA' 'ANCASH' 'CUSCO' 'CALLAO' 'PIURA' 'AREQUIPA' 'ICA'\n",
      " 'LAMBAYEQUE' 'PUNO' 'TUMBES' 'MOQUEGUA' 'CAJAMARCA' 'UCAYALI' 'APURIMAC'\n",
      " 'HUANCAVELICA' 'JUNIN' 'TACNA' 'LORETO' 'PASCO' 'AMAZONAS' 'HUANUCO'\n",
      " 'SAN MARTIN' 'AYACUCHO' 'MADRE DE DIO' 'MADRE DE DIOS' 'NO INDICA']\n",
      "EDAD [276 unique values]\n",
      "['32' '25' '20' '51' '39' '17' '40' '24' '28' '23' '42' '55' '21' '44'\n",
      " '30' '46' '35' '34' '38' '31' '41' '50' '26' '60' '29' '43' '47' '22'\n",
      " '37' '54' '19' '75' '49' '18' '27' '36' '65' '56' '53' '61' '33' '16'\n",
      " '62' '14' '48' '52' '45' '11' '58' '9' '84' '13' '59' '71' '12' '86' '70'\n",
      " '64' '69' '8' '5' '15' '57' '7' '77' '63' '76' '6' '67' '68' '10' '74'\n",
      " '3' '73' '116' '66' '82' '88' '78' '1' '83' '87' '2' '134' '89' '80' '85'\n",
      " '72' '718' '4' '81' '111' '90' '79' '0' '516' '91' '92' '94' '526' '93'\n",
      " '230' '151' '120' '100' '213' '95' '339' '617' '115' '180' '96' '119'\n",
      " '332' '220' '110' '112' '556' '354' '775' '97' '536' '117' '415' '125'\n",
      " '314' '113' '118' '104' '425' '728' '670' '276' '114' '447' '439' '440'\n",
      " '132' '335' '103' '170' '98' '99' '554' '140' '410' '545' '448' '553'\n",
      " '340' '400' '331' '226' '441' '101' '808' '191' '252' '434' '760' '74.0'\n",
      " '45.0' '41.0' '70.0' '38.0' '22.0' '57.0' '42.0' '32.0' '24.0' '19.0'\n",
      " '31.0' '27.0' '26.0' '44.0' '34.0' '37.0' '47.0' '21.0' '25.0' '29.0'\n",
      " '30.0' '62.0' '63.0' '35.0' '7.0' '10.0' '28.0' '36.0' '48.0' '33.0'\n",
      " '67.0' '17.0' '16.0' '43.0' '61.0' '58.0' '39.0' '40.0' '23.0' '20.0'\n",
      " '54.0' '56.0' '55.0' '51.0' '50.0' '46.0' '52.0' '53.0' '64.0' '65.0'\n",
      " '18.0' '11.0' '66.0' '15.0' '6.0' '89.0' '3.0' '14.0' '2.0' '71.0' '5.0'\n",
      " '8.0' '60.0' '49.0' '68.0' '72.0' '84.0' '4.0' '69.0' '59.0' '75.0'\n",
      " '73.0' '12.0' '77.0' '76.0' '1.0' '80.0' '87.0' '13.0' '81.0' '9.0'\n",
      " '79.0' '85.0' '82.0' '113.0' '78.0' '92.0' '93.0' '86.0' '83.0' '0.0'\n",
      " '90.0' '91.0' '516.0' '99.0' '98.0' '434.0' '97.0' '95.0' '88.0' '114.0'\n",
      " '116.0' '101.0' '94.0' '132.0' '119.0' '398.0' '115.0' '617.0' '112.0'\n",
      " '-1.0' '96.0' '117.0' '171.0' '627.0']\n",
      "ESTADO_DEN [5 unique values]\n",
      "['RE' 'PE' 'NU' 'ES' 'pe']\n",
      "EST_CIVIL [7 unique values]\n",
      "['CONVIVIENTE' 'SOLTERO(A)' 'CASADO(A)' 'NO INDICA' 'VIUDO(A)'\n",
      " 'DIVORCIADO(A)' 'ECSL']\n",
      "FECHA_HORA_HECHO [63378 unique values]\n",
      "['1/1/2016' '12/25/2015' '1/5/2016' ... '43825.975' '43830.7604166667'\n",
      " '43794.8680555556']\n",
      "LIBRO [56 unique values]\n",
      "['[DEINPOL] ACTA DE DENUNCIA VERBAL' '[FAM] DENUNCIA VIOLENCIA FAMILIAR'\n",
      " '[FAM] ACTA DE DENUNCIA VERBAL'\n",
      " '[FAM] DENUNCIA ABANDONO Y RETIRO DE HOGAR' '[FAM] OCURRENCIA MENORES'\n",
      " '[FAM] OCURRENCIA VIOLENCIA FAMILIAR' '[FAM] ACTA DE INTERVENCION'\n",
      " '[DEINPOL] DENUNCIA DIRECTA DELITO' '[FAM] OCURRENCIA DE CALLE - COMUN'\n",
      " '[FAM] OCURRENCIA DE CALLE - RESERVADA'\n",
      " '[FAM] DENUNCIA VIOLENCIA FAMILIAR - RESERVADA'\n",
      " '[FAM] ACTA DE DENUNCIA VERBAL RESERVADA'\n",
      " '[DEINPOL] OCURRENCIA DE CALLE - COMUN' '[DEINPOL] ACTA DE INTERVENCION'\n",
      " '[FAM] DENUNCIA LIBRO DE MENORES'\n",
      " '[FAM] DENUNCIA REGIMEN VISITAS JUDICIAL Y/0 EXTRAJUDICIAL'\n",
      " '[PDE] DENUNCIA  PERDIDA DE DOCUMENTOS , ESPECIES Y OTROS'\n",
      " '[FAM] ACTA DE INTERVENCION RESERVADA'\n",
      " '[DEINPOL] DENUNCIA INFRACCION A LA LEY PENAL'\n",
      " '[GP] ACTA DE INTERVENCION' '[TRAN] DENUNCIA CHOQUE Y FUGA'\n",
      " '[DEINPOL] DENUNCIA DIRECTA POR FALTAS'\n",
      " '[TRAN] OCURRENCIA DE CALLE - COMUN'\n",
      " '[DEINPOL] ACTA DE DENUNCIA VERBAL RESERVADA'\n",
      " '[TRAN] ACTA DE DENUNCIA VERBAL' '[TRAN] ACTA DE INTERVENCION'\n",
      " '[GP] OCURRENCIA  DE CALLE'\n",
      " '[PDE] OCURRENCIA PERDIDA DE DOCUMENTOS Y ESPECIES'\n",
      " '[DEINPOL] OCURRENCIA DE CALLE - RESERVADA'\n",
      " '[DEINPOL ] DENUNCIA DIRECTA RESERVADA'\n",
      " '[DEINPOL] OCURRENCIA DE CALLE - COMUN (FALTAS)'\n",
      " '[DEPINCRI] DENUNCIA DIRECTA' '[DIVINCRI] DENUNCIA DIRECTA'\n",
      " '[TRAN] DENUNCIA DIRECTA TRANSITO' '[GP] OCURRENCIA  DE CALLE RESERVADA'\n",
      " '[TRAN] OCURRENCIA TRANSITO COMUN' '[DEINPOL] DENUNCIA DESAPARECIDOS'\n",
      " '[DIVINCRI] OCURRENCIA POLICIAL' '17' '35' '19'\n",
      " '[TRAN] OCURRENCIA INFRACCION AL RGTO.NACIONAL DE  TRANSITO'\n",
      " '[DEINPOL] DENUNCIA ROBO Y HURTO DE  AUTOPARTES Y ACCESORIOS'\n",
      " '[DIVINCRI]DENUNCIAS TRANSCRITAS' '[DEPINCRI] ACTA DE DENUNCIA VERBAL'\n",
      " '[DIVINCRI] ACTA DE DENUNCIA VERBAL' '[DEPINCRI] ACTA DE INTERVENCION'\n",
      " '[TRAN] ACTA DE DENUNCIA VERBAL RESERVADA'\n",
      " '[DEINPOL] ACTA DE INTERVENCION RESERVADA'\n",
      " '[DEPINCRI] DENUNCIA DIRECTA RESERVADA' '[DEPINCRI] OCURRENCIA POLICIAL'\n",
      " '[DIVINCRI] ACTA DE INTERVENCION' '[TRAN] ACTA DE INTERVENCION RESERVADA'\n",
      " '[DEPROVE] LIBRO REGISTRO DE ACTAS DE INTERVENCION Y OCURRENCIAS DE CALLE'\n",
      " '[DEPINCRI] DENUNCIAS TRANSCRITAS' '[DIVINCRI] DENUNCIAS MINIST.PUBLICO']\n",
      "MATERIA [1 unique values]\n",
      "['LEYES ESPECIALES']\n",
      "MODALIDAD [7 unique values]\n",
      "['MALTRATO SIN LESION' 'VIOLENCIA FISICA' 'VIOLENCIA PSICOLOGICA'\n",
      " 'VIOLENCIA FISICA Y PSICOLOGICA' 'VIOLENCIA ECONOMICA O PATRIMONIAL'\n",
      " 'COACCION GRAVE' 'AMENAZA GRAVE']\n",
      "NIVEL_EDUCATIVO [6 unique values]\n",
      "['SECUNDARIA' 'PRIMARIA' 'SUPERIOR' 'TECNICA' 'SIN INSTRUCCION' 'GINI']\n",
      "OCUPACION [10937 unique values]\n",
      "['AGRICULTOR' 'AMA DE CASA' 'SU CASA' ... 'AJENTE DE SEGURIDAD'\n",
      " 'ASESORA DE BANCO' 'ANIMACION DE FIESTAS']\n",
      "PROV_CIA [189 unique values]\n",
      "['TRUJILLO' 'LIMA' 'SANTA' 'CUSCO' 'CALLAO' 'HUANCABAMBA' 'CAMANA' 'ICA'\n",
      " 'HUAURA' 'PIURA' 'CHICLAYO' 'SAN ROMAN' 'TUMBES' 'CAYLLOMA'\n",
      " 'MARISCAL NIETO' 'AREQUIPA' 'TALARA' 'LAMBAYEQUE' 'CAJAMARCA' 'ISLAY'\n",
      " 'CORONEL PORTILLO' 'ABANCAY' 'HUANCAVELICA' 'PUNO' 'PISCO' 'CAÑETE'\n",
      " 'YAULI' 'HUARAZ' 'HUANCAYO' 'SULLANA' 'ILO' 'TACNA' 'CHUCUITO'\n",
      " 'ZARUMILLA' 'ASCOPE' 'EL COLLAO' 'CHINCHA' 'SECHURA' 'CASMA' 'MORROPON'\n",
      " 'MAYNAS' 'CAJATAMBO' 'ANTA' 'NAZCA' 'HUARAL' 'URUBAMBA' 'PACASMAYO'\n",
      " 'HUAROCHIRI' 'YUNGUYO' 'SANCHEZ CARRION' 'BARRANCA' 'LORETO' 'OXAPAMPA'\n",
      " 'JAEN' 'PALPA' 'CONCEPCION' 'HUARMEY' 'YUNGAY' 'CALCA' 'JAUJA' 'PAITA'\n",
      " 'QUISPICANCHI' 'FERREÑAFE' 'SAN IGNACIO' 'BAGUA' 'TARMA' 'AIJA' 'CARHUAZ'\n",
      " 'SANTA CRUZ' 'PATAZ' 'CHEPEN' 'MARISCAL RAMON CASTILLA' 'OTUZCO'\n",
      " 'BOLOGNESI' 'JORGE BASADRE' 'CHANCHAMAYO' 'HUANUCO' 'AYABACA'\n",
      " 'SAN MIGUEL' 'CHUPACA' 'CASTILLA' 'RECUAY' 'SAN MARTIN'\n",
      " 'RODRIGUEZ DE MENDOZA' 'LUYA' 'UTCUBAMBA' 'CHACHAPOYAS' 'BONGARA' 'HUARI'\n",
      " 'ASUNCION' 'CONDORCANQUI' 'MARISCAL LUZURIAGA' 'POMABAMBA' 'SIHUAS'\n",
      " 'CORONGO' 'PALLASCA' 'VIRU' 'GRAN CHIMU' 'SANTIAGO DE CHUCO' 'JULCAN'\n",
      " 'UCAYALI' 'SAN PABLO' 'HUALGAYOC' 'CONTRALMIRANTE VILLAR' 'CONTUMAZA'\n",
      " 'SAN MARCOS' 'CAJABAMBA' 'CUTERVO' 'CELENDIN' 'CHOTA' 'TARATA'\n",
      " 'ANDAHUAYLAS' 'CANCHIS' 'LA CONVENCION' 'CANAS' 'ESPINAR' 'PARURO'\n",
      " 'CANTA' 'OYON' 'YAUYOS' 'CARAVELI' 'LA UNION' 'CONDESUYOS' 'HUAYTARA'\n",
      " 'HUAMANGA' 'PAUCAR DEL SARA SARA' 'LA MAR' 'TOCACHE' 'PARINACOCHAS'\n",
      " 'VICTOR FAJARDO' 'SATIPO' 'HUANTA' 'JUNIN' 'TAMBOPATA' 'LEONCIO PRADO'\n",
      " 'RIOJA' 'MOYOBAMBA' 'BELLAVISTA' 'HUALLAGA' 'MARISCAL CACERES' 'LUCANAS'\n",
      " 'ANTABAMBA' 'COTABAMBAS' 'GRAU' 'CHINCHEROS' 'PAUCARTAMBO' 'HUANCANE'\n",
      " 'PICOTA' 'PASCO' 'ALTO AMAZONAS' 'OCROS' 'MANU' 'CANGALLO' 'AMBO'\n",
      " 'AYMARAES' 'REQUENA' 'HUAMALIES' 'MARAÑON' 'PACHITEA'\n",
      " 'DANIEL ALCIDES CARRION' 'MOHO' 'CARLOS FERMIN FITZCARRALD' 'LAMAS'\n",
      " 'ACOMAYO' 'TAYACAJA' 'LAMPA' 'SAN ANTONIO DE PUTINA' 'MELGAR' 'ACOBAMBA'\n",
      " 'ANGARAES' 'CHUMBIVILCAS' 'HUAYLAS' 'TAHUAMANU' 'SUCRE' 'SANDIA'\n",
      " 'DOS DE MAYO' 'GENERAL SANCHEZ CERRO' 'YAROWILCA' 'CHURCAMPA'\n",
      " 'PUERTO INCA' 'HUANCA SANCOS' 'ANTONIO RAYMONDI' 'HUACAYBAMBA'\n",
      " 'PADRE ABAD' 'EL DORADO' 'ATALAYA' 'AZANGARO' 'CARABAYA' 'CANDARAVE']\n",
      "PROV_HECHO [192 unique values]\n",
      "['TRUJILLO' 'LIMA' 'SANTA' 'CUSCO' 'CALLAO' 'HUANCABAMBA' 'CAMANA' 'ICA'\n",
      " 'HUAURA' 'PIURA' 'CHICLAYO' 'SAN ROMAN' 'TUMBES' 'CAYLLOMA'\n",
      " 'MARISCAL NIETO' 'AREQUIPA' 'TALARA' 'LAMBAYEQUE' 'CAJAMARCA' 'ISLAY'\n",
      " 'CORONEL PORTILLO' 'ABANCAY' 'HUANCAVELICA' 'PUNO' 'PISCO' 'CAÑETE'\n",
      " 'YAULI' 'HUAYLAS' 'HUANCAYO' 'SULLANA' 'ILO' 'TACNA' 'CHUCUITO'\n",
      " 'ZARUMILLA' 'ASCOPE' 'EL COLLAO' 'HUARAZ' 'CHINCHA' 'SECHURA' 'CASMA'\n",
      " 'MORROPON' 'MAYNAS' 'BARRANCA' 'ANTA' 'NAZCA' 'HUARAL' 'URUBAMBA'\n",
      " 'PACASMAYO' 'HUAROCHIRI' 'YUNGUYO' 'LORETO' 'OXAPAMPA' 'PALPA'\n",
      " 'QUISPICANCHI' 'CONCEPCION' 'HUARMEY' 'YUNGAY' 'CALCA' 'JAUJA'\n",
      " 'CONTRALMIRANTE VILLAR' 'ANDAHUAYLAS' 'PAITA' 'FERREÑAFE' 'CASTILLA'\n",
      " 'SAN IGNACIO' 'BAGUA' 'TARMA' 'AIJA' 'JAEN' 'CHUMBIVILCAS' 'VIRU'\n",
      " 'CARHUAZ' 'SANTA CRUZ' 'HUANUCO' 'PATAZ' 'CHEPEN'\n",
      " 'MARISCAL RAMON CASTILLA' 'OTUZCO' 'BOLOGNESI' 'JORGE BASADRE'\n",
      " 'SANCHEZ CARRION' 'CHANCHAMAYO' 'PARURO' 'COTABAMBAS' 'AYABACA'\n",
      " 'SAN MIGUEL' 'GENERAL SANCHEZ CERRO' 'CHUPACA' 'AMBO' 'AYMARAES' 'RECUAY'\n",
      " 'SAN ANTONIO DE PUTINA' 'CONDESUYOS' 'HUALGAYOC' 'SAN MARTIN' 'AZANGARO'\n",
      " 'CUTERVO' 'CASTROVIRREYNA' 'JUNIN' 'HUAYTARA' 'PALLASCA' 'PAUCARTAMBO'\n",
      " 'RODRIGUEZ DE MENDOZA' 'LUYA' 'UTCUBAMBA' 'CHACHAPOYAS' 'BONGARA' 'HUARI'\n",
      " 'ASUNCION' 'CONDORCANQUI' 'MARISCAL LUZURIAGA' 'POMABAMBA' 'SIHUAS'\n",
      " 'CORONGO' 'JULCAN' 'LA CONVENCION' 'TARATA' 'GRAN CHIMU'\n",
      " 'SANTIAGO DE CHUCO' 'LAMPA' 'ACOMAYO' 'ALTO AMAZONAS' 'CARAVELI'\n",
      " 'UCAYALI' 'SATIPO' 'CHURCAMPA' 'SAN PABLO' 'CONTUMAZA' 'SAN MARCOS'\n",
      " 'CAJABAMBA' 'CANTA' 'CELENDIN' 'CHOTA' 'HUAMANGA' 'CANCHIS' 'CANAS'\n",
      " 'ESPINAR' 'CANDARAVE' 'OYON' 'YAROWILCA' 'YAUYOS' 'LA UNION' 'HUAMALIES'\n",
      " 'LEONCIO PRADO' 'ANGARAES' 'PAUCAR DEL SARA SARA' 'VILCAS HUAMAN'\n",
      " 'LA MAR' 'TOCACHE' 'HUANCA SANCOS' 'PARINACOCHAS' 'SUCRE'\n",
      " 'VICTOR FAJARDO' 'HUANTA' 'TAMBOPATA' 'CANGALLO' 'RIOJA' 'MOYOBAMBA'\n",
      " 'BELLAVISTA' 'HUALLAGA' 'MARISCAL CACERES' 'ACOBAMBA' 'LUCANAS'\n",
      " 'ANTABAMBA' 'GRAU' 'CHINCHEROS' 'HUANCANE' 'PICOTA' 'PASCO' 'OCROS'\n",
      " 'MANU' 'REQUENA' 'MARAÑON' 'PACHITEA' 'DANIEL ALCIDES CARRION' 'MOHO'\n",
      " 'Seleccione Dato' 'CARLOS FERMIN FITZCARRALD' 'TAHUAMANU' 'LAMAS'\n",
      " 'TAYACAJA' 'MELGAR' 'DOS DE MAYO' 'PUERTO INCA' 'SANDIA' 'PADRE ABAD'\n",
      " 'ANTONIO RAYMONDI' 'BOLIVAR' 'EL DORADO' 'ATALAYA' 'CARABAYA' 'CAJATAMBO']\n",
      "REGION [56 unique values]\n",
      "['REGPOL  -  LA LIBERTAD' 'REGPOL  -  LIMA' 'REGPOL   - HUARAZ'\n",
      " 'REGPOL  -  CUSCO' 'REGPOL  -  CALLAO' 'REGPOL  -  PIURA'\n",
      " 'REGPOL  -  AREQUIPA' 'REGPOL  -  ICA' 'REGPOL  -  LAMBAYEQUE'\n",
      " 'REGPOL  -  PUNO' 'REGPOL - TUMBES' 'REGPOL  -  MOQUEGUA'\n",
      " 'REGPOL  -  CAJAMARCA' 'REGPOL  -  PUCALLPA' 'REGPOL  -  APURIMAC'\n",
      " 'REGPOL  -  HUANCAVELICA' 'REGPOL  -  HUANCAYO' 'REGPOL - TACNA'\n",
      " 'REGPOL - IQUITOS' 'FP INCA' 'REGPOL  -  AMAZONAS' 'FP VRAEM'\n",
      " 'REGPOL  -  HUANUCO' 'REGPOL - SAN MARTIN' 'DIVISION POLICIAL  ESPINAR'\n",
      " 'REGPOL  - AYACUCHO' 'REGPOL - MADRE DE DIOS' 'REGPOL  -  PASCO' 'DIRTIC'\n",
      " 'DIRECCION DE SEGURIDAD CIUDADANA' 'DIRNIC' 'REGPOL - AMAZONAS'\n",
      " 'REGPOL - APURIMAC' 'REGPOL - AREQUIPA' 'REGPOL - AYACUCHO'\n",
      " 'REGPOL - CAJAMARCA' 'REGPOL - CALLAO' 'REGPOL - CUSCO'\n",
      " 'REGPOL - HUANCAVELICA' 'REGPOL - HUANCAYO' 'REGPOL - HUANUCO'\n",
      " 'REGPOL - HUARAZ' 'REGPOL - ICA' 'REGPOL - LA LIBERTAD'\n",
      " 'REGPOL - LAMBAYEQUE' 'REGPOL - LIMA' 'REGPOL - MOQUEGUA'\n",
      " 'REGPOL - PASCO' 'REGPOL - PIURA' 'REGPOL - PUCALLPA' 'REGPOL - PUNO'\n",
      " 'FP  - APURIMAC' 'FP  - ICA' 'FP  - TUMBES' 'FP - CAJAMARCA' 'DIRTUR']\n",
      "SEXO [5 unique values]\n",
      "['M' 'F' '4' '2' 'N']\n",
      "SIT_PERSONA [41 unique values]\n",
      "['DENUNCIADO' 'DENUNCIANTE' 'DEPONENTE' 'PRESUNTO AUTOR' 'AGRAVIADO'\n",
      " 'IMPLICADO' 'PARTICIPANTES' 'VICTIMA' 'SOLICITANTE' 'POR DETERMINAR'\n",
      " 'RECURRENTE' 'INTERVENIDO' 'DETENIDO' 'PRESUNTO INFRACTOR' 'ABANDONADO'\n",
      " 'TESTIGO' 'PRESUNTO IMPLICADO' 'INFRACTOR' 'CITADO'\n",
      " 'PRESUNTO AUTOR INTEL.' 'PRESUNTO PARTICIPE' 'DESAPARECIDO' 'NO HABIDO'\n",
      " 'CUSTODIA' 'NOTIFICADO' 'PRESUNTO COMPLICE' 'FALLECIDO' 'AUTOR'\n",
      " 'REPRESENTANTE' 'PRESUNTO COMPLICE PRI.' 'PRESUNTO COAUTOR'\n",
      " 'REQUISITORIADO' 'PASAJERO' 'SPDD' 'APARECIDO' 'PRESUNTO COMPLICE SECUN.'\n",
      " 'FUGADO' 'LIBERTAD' 'OCUPANTE' 'PARTICIPANTE' 'AGRESOR']\n",
      "SUB_TIPO [2 unique values]\n",
      "['LEY DE PROTECCIÓN FRENTE A VIOLENCIA FAMILIAR (LEY 26260 25/06/97)'\n",
      " 'LEY PARA PREVENIR , SANCIONAR Y ERRADICAR LA VIOLENCIA CONTRA LAS MUJERES Y LOS INTEGRANTES DEL GRUPO FAMILIAR (LEY Nro 30364)']\n",
      "TIPO [2 unique values]\n",
      "['VIOLENCIA FAMILIAR'\n",
      " 'LEY DE VIOLENCIA CONTRA LA MUJER Y GRUPOS VULNERABLES']\n",
      "TIPO_DENUNCIA [4 unique values]\n",
      "['ACTA DE DENUNCIA VERBAL' 'DENUNCIA' 'OCURRENCIA' 'ACTA DE INTERVENCION']\n",
      "UBICACION [773729 unique values]\n",
      "['SECTOR SANTA ROSA MZ. 11 LT. 36 - HUANCHAQUITO ALTO'\n",
      " 'MZ V LTE 17 SECTOR C AA HH LOMAS DE ZAPALLAL'\n",
      " 'MZ A LTE 01 AA HH NUEVA ESPERANZA' ... 'Calle Moquegua Nro. 242'\n",
      " 'Calle Bolognesi S/N - Tarata' 'Calle San Martin S/N Tarata']\n",
      "VIA [16 unique values]\n",
      "['Otros' 'Calle' 'Carretera' 'Jiron' 'Avenida' 'Centro Poblado' 'Pasaje'\n",
      " 'Upis' 'Panamericana' 'Parque' 'Malecón' 'Urbanización' 'AA.HH'\n",
      " 'Comunidad' 'Anexo' 'Caserio']\n",
      "FEC_REGISTRO [290644 unique values]\n",
      "['1/1/2016' '1/2/2016' '1/3/2016' ... '43808.304112581' '43822.4181496528'\n",
      " '43827.5618804398']\n",
      "PAIS_NATAL [220 unique values]\n",
      "['PERU' 'EGIPTO' 'PARAGUAY' 'USA' 'COLOMBIA' 'CUBA' 'AUSTRALIA'\n",
      " 'ARGENTINA' 'FRANCIA' 'ESPAÑA' 'ECUADOR' 'CANADA' 'BOLIVIA' 'IRLANDA'\n",
      " 'MEXICO' 'LA PAZ BOLIVIA' 'NACIONALIDAD USA' 'VENEZUELA' 'ITALIA'\n",
      " 'COLONBIANA' 'REPUBLICA DOMINICANA' 'ESTADOS UNIDOS' 'HOLANDA'\n",
      " 'PHILIPINAS' 'JAPON' 'CHILE' 'GRAN BRETAÑA' 'BRITANICO' 'DOMINICANA'\n",
      " 'BRASILERA' 'COOMBIA' 'BRASIL' 'INGLATERRA' 'NUEVA ZELANDA' 'COLOMBIANA'\n",
      " 'RUSIA' 'PUERTO RICO' 'LA PAZ' 'NACIONALIDADA BOLIVIANA' 'RUMANIA'\n",
      " 'NORUEGA' 'FRANCES' 'ARGENTINO' 'COREA' 'ESPAÑOLA' 'MARRUECOS' 'PERUANA'\n",
      " 'AREGENTINA' 'ALEMANIA' 'PARAGUAYA' 'EL SALVADOR' 'REPUBLICA CHECA'\n",
      " 'CHINA' 'REPUBLICA DE BOLIVIA' 'FRANCESA' 'URUGUAY' 'PER'\n",
      " 'UNITED STATES OF AMERICA' 'HOLANDESA' 'BOLIVIANO' 'PUNO' 'SUDAFRICA'\n",
      " 'ESPAÑOL' 'MARROQUI' 'COLOMBIANO' 'KOREA' 'EEUU' 'CHILENA' 'ALEMANA'\n",
      " 'ECUATORIANO' 'HOLANDES' 'LIMA' 'PAKISTAN' 'EXTRANJERO' 'EE UU' 'SUIZA'\n",
      " 'UIRUGUAY' 'ITALIA  MILAN' 'COSTARRICENSE' 'REPUBLICA DE CHILE'\n",
      " 'FRANCIA  GUADALUPE' 'SUECA' 'ROMANIA' 'BUCARAMANGA SANTANDER COL'\n",
      " 'CANADIENSE' 'ALEMAN' 'AMERICANO' 'BULGARIA' 'TUNISIA' 'AMERICANA'\n",
      " 'BOLIVIA LA PAZ EL ALTO' 'DINAMARCA' 'COREA DEL SUR' 'VENEZOLANO'\n",
      " 'BELGICA' 'REPUBLICA DOMENICANA' 'ISRAELI' 'ECUATORIANA' 'KOREA DEL SUR'\n",
      " 'ASTURIA  ESPAÑA' 'BOLIVIANA' 'DOMINICANO' 'SUDAFRICANA' 'SERBIA'\n",
      " 'ITALIANO' 'LITUANIA' 'MALTA' 'ROMA' 'ISRAEL' 'REVENTANDOTE' 'COSTA RICA'\n",
      " 'ARGENTINA Y PERUANA' 'ESLOVAQUIA' 'FLORIDA  EEUU' 'ITALIANA' 'SUEZIA'\n",
      " 'AZERBAIYAN' 'ESTADO UNIDOS' 'VENEZOLANA' 'CHACHAPOYAS'\n",
      " 'RPUBLICA DOMINICANA' 'BELGA' 'MADRID ESPAÑA' 'VENUEZUELA'\n",
      " 'COLOMBIA BOGOTA' 'CALIFORNIA' 'BRAZIL' 'PANAMA' 'RESIDE EN USA'\n",
      " 'ESTADOS UNIDOS DE NORTE A' 'URUAY' 'URUGUAYA' 'RUMANA'\n",
      " 'GRECIA   ALEMANIA' 'AYCUCHO' 'ESPAÑA VILLARREAL' 'PERUANO'\n",
      " 'BOGOTA COLOMBIA' 'SALVADOR' 'UCRANIA' 'NICARAGUA' 'SOLTERO(A)'\n",
      " 'COLONBIA' 'VILLARICCA   ITALIA' 'VENEZUELA PERU' 'REPUBLICA DE COLOMBIA'\n",
      " 'RUSO' 'ESCOCIA' 'REINO UNIDO' 'LITUANO' 'VRNRZUELA' 'LITUANI' 'TURQUIA'\n",
      " 'BRETAÑA' 'GUATEMALA' 'PORTUGAL' 'TUNEZ' 'BRASILEÑA' 'ARGENTIINA'\n",
      " 'VENEZOLANOI' 'VENZUELA' 'NEW ZELANDA' 'REPUBLICA DEL SALVADOR'\n",
      " 'FILIPINAS' 'ESTADOS UNIDOS DE NORTEA' 'COCHABAMBA' 'COOLOMBIA'\n",
      " 'REPUBLICA DEL ECUADOR' 'HONG KONG' 'LIBANO' 'REPUBLICA DE CABO VERDE'\n",
      " 'UZBEKUISTAN' 'NEZUELA' 'DOMINCANA' 'VENESUELA' 'PORTUGUES'\n",
      " 'REPUBLICA DE CHINA' 'COLMBIA' 'ONDURAS  SA' 'REPUBLICA BOLIVARIANA DE'\n",
      " 'ESTADOS UNIDOS DE AMERIC' 'ARUBA' 'DE SRI LANKA' 'GUINEA FRANCES'\n",
      " 'NIGERIA' 'HAITI' 'BARRANQUILLA COLOMBIA' 'POLONIA' 'PILIPINAS' 'ARGELIA'\n",
      " 'CUBANO' 'VENRZUELA' 'REPUBLICA DE CUBA' 'REPUBLICA BOLIBARIANA DE'\n",
      " 'INDIA' 'ESPAÑA PERUANA' 'BELARUSIA' 'MUEVA YORK  EEUU' 'MICHIGUAN  EEUU'\n",
      " 'BELARUSO' 'REPUPLICA BOLIVARIANA DE' 'MADRID' 'VENEXUELA'\n",
      " 'VENEZOLANO(A)' 'BRITANICA' 'CHINA  PEKIN' 'CHAROLLAVE CUA ESTADO DE'\n",
      " 'BRASILERO' 'HAITIANO' 'GRIEGO' 'CHILENO' 'LAZ PAZ BOLIVIA' 'UNGRIA'\n",
      " 'MEXICANA' 'CHINO' 'HODONIN' 'COREA DEL NORTE' 'ALBANIA' 'ZIMBABUE'\n",
      " 'PAISES BAJOS (HOLANDA)']\n"
     ]
    }
   ],
   "source": [
    "for col in datalake.columns:\n",
    "    get_uniques(col)"
   ]
  },
  {
   "cell_type": "code",
   "execution_count": 11,
   "metadata": {},
   "outputs": [
    {
     "name": "stdout",
     "output_type": "stream",
     "text": [
      "MATERIA es una columna de tipo único\n"
     ]
    }
   ],
   "source": [
    "for col in datalake.columns:\n",
    "    if len(datalake[col].dropna().unique()) == 1:\n",
    "        print(f'{col} es una columna de tipo único')"
   ]
  },
  {
   "cell_type": "code",
   "execution_count": 12,
   "metadata": {},
   "outputs": [],
   "source": [
    "# MATERIA contiene un solo valor, por lo que se elimina\n",
    "datalake = datalake.drop('MATERIA', axis=1)"
   ]
  },
  {
   "cell_type": "markdown",
   "metadata": {},
   "source": [
    "##### Imputación inicial de valores perdidos"
   ]
  },
  {
   "cell_type": "markdown",
   "metadata": {},
   "source": [
    "###### Eliminar columnas con alta cantidad de valores nulos"
   ]
  },
  {
   "cell_type": "code",
   "execution_count": 13,
   "metadata": {},
   "outputs": [],
   "source": [
    "# El porcentaje de cantidad de valores nulos aceptados por columna es 20%\n",
    "# Se eliminan las columnas con más de 20% de valores nulos\n",
    "for col in datalake.columns:\n",
    "    if datalake[col].isnull().sum() / datalake.shape[0] * 100 > 20:\n",
    "        datalake = datalake.drop(col, axis=1)"
   ]
  },
  {
   "cell_type": "code",
   "execution_count": 14,
   "metadata": {},
   "outputs": [
    {
     "name": "stdout",
     "output_type": "stream",
     "text": [
      "Número total de registros: 850013\n",
      "Número total de valores perdidos: 225362\n",
      "Valores perdidos por columna:\n",
      "DERIVADA_FISCALIA: 134560 (15.83%)\n",
      "DIRECCION: 1 (0.00%)\n",
      "EDAD: 9404 (1.11%)\n",
      "EST_CIVIL: 56 (0.01%)\n",
      "FECHA_HORA_HECHO: 40302 (4.74%)\n",
      "SEXO: 666 (0.08%)\n",
      "UBICACION: 18 (0.00%)\n",
      "FEC_REGISTRO: 40302 (4.74%)\n",
      "PAIS_NATAL: 53 (0.01%)\n"
     ]
    }
   ],
   "source": [
    "missing_values()"
   ]
  },
  {
   "cell_type": "code",
   "execution_count": 15,
   "metadata": {},
   "outputs": [],
   "source": [
    "# A este punto todas la columnas son categóricas, incluso EDAD que será transformada después\n",
    "# Acerca de la imputación de nulos faltante, se usará la moda de las columnas categóricas excepto en las fechas\n",
    "# Primero se trabajará las columnas de fechas por su formato y luego se trabajarán las demás"
   ]
  },
  {
   "cell_type": "markdown",
   "metadata": {},
   "source": [
    "##### Valores atípicos"
   ]
  },
  {
   "cell_type": "markdown",
   "metadata": {},
   "source": [
    "###### Edad"
   ]
  },
  {
   "cell_type": "code",
   "execution_count": 16,
   "metadata": {},
   "outputs": [],
   "source": [
    "# Llena los valores perdidos con 0\n",
    "datalake['EDAD'] = datalake['EDAD'].fillna(0)\n",
    "# Para convertir a int64 primero se convierte a float\n",
    "datalake['EDAD'] = datalake['EDAD'].astype(float)\n",
    "datalake['EDAD'] = datalake['EDAD'].astype(np.int64)"
   ]
  },
  {
   "cell_type": "code",
   "execution_count": 17,
   "metadata": {},
   "outputs": [
    {
     "name": "stdout",
     "output_type": "stream",
     "text": [
      "-1 808\n"
     ]
    }
   ],
   "source": [
    "# Valores máximos y mínimos\n",
    "print(datalake['EDAD'].min(), datalake['EDAD'].max())"
   ]
  },
  {
   "cell_type": "code",
   "execution_count": 18,
   "metadata": {},
   "outputs": [
    {
     "name": "stdout",
     "output_type": "stream",
     "text": [
      "620708   -1\n",
      "831429    0\n",
      "19544     0\n",
      "82399     0\n",
      "843994    0\n",
      "Name: EDAD, dtype: int64\n",
      "179016    728\n",
      "520761    760\n",
      "132396    775\n",
      "511966    808\n",
      "495552    808\n",
      "Name: EDAD, dtype: int64\n",
      "Mediana: 32.0\n",
      "Moda: 31\n"
     ]
    }
   ],
   "source": [
    "# Vista ordenada de edades registradas\n",
    "age_sorted = datalake.sort_values('EDAD')['EDAD']\n",
    "print(age_sorted.head())\n",
    "print(age_sorted.tail())\n",
    "# Obtención de métricas\n",
    "median = age_sorted.median()\n",
    "mode = age_sorted.mode()[0]\n",
    "print(f'Mediana: {median}')\n",
    "print(f'Moda: {mode}')"
   ]
  },
  {
   "cell_type": "code",
   "execution_count": 19,
   "metadata": {},
   "outputs": [],
   "source": [
    "# Suplantamos los valores atípicos con la moda\n",
    "# Se considerarán las edades entre 18 y 75 años\n",
    "min_age = 18\n",
    "max_age = 75\n",
    "datalake.loc[(datalake['EDAD'] < min_age) | (datalake['EDAD'] > max_age) | (datalake['EDAD'] == 0), 'EDAD'] = mode\n",
    "# La columna EDAD ya no tiene valores perdidos"
   ]
  },
  {
   "cell_type": "code",
   "execution_count": 20,
   "metadata": {},
   "outputs": [
    {
     "name": "stdout",
     "output_type": "stream",
     "text": [
      "Número total de registros: 850013\n",
      "Número total de valores perdidos: 215958\n",
      "Valores perdidos por columna:\n",
      "DERIVADA_FISCALIA: 134560 (15.83%)\n",
      "DIRECCION: 1 (0.00%)\n",
      "EST_CIVIL: 56 (0.01%)\n",
      "FECHA_HORA_HECHO: 40302 (4.74%)\n",
      "SEXO: 666 (0.08%)\n",
      "UBICACION: 18 (0.00%)\n",
      "FEC_REGISTRO: 40302 (4.74%)\n",
      "PAIS_NATAL: 53 (0.01%)\n"
     ]
    }
   ],
   "source": [
    "missing_values()"
   ]
  },
  {
   "cell_type": "markdown",
   "metadata": {},
   "source": [
    "###### Sexo"
   ]
  },
  {
   "cell_type": "code",
   "execution_count": 21,
   "metadata": {},
   "outputs": [
    {
     "name": "stdout",
     "output_type": "stream",
     "text": [
      "['M' 'F' '4' '2' 'N']\n",
      "M    430257\n",
      "F    419087\n",
      "4         1\n",
      "2         1\n",
      "N         1\n",
      "Name: SEXO, dtype: int64\n",
      "SEXO: Moda -> M\n"
     ]
    }
   ],
   "source": [
    "# SEXO contiene valores extraños\n",
    "print(datalake['SEXO'].dropna().unique())\n",
    "# Vemos la frecuencia de los valores\n",
    "print(datalake['SEXO'].value_counts())\n",
    "# Solo considerarán los valores M y F, los demás será suplantados por la moda incluyendo los valores extraños\n",
    "print(f'SEXO: Moda -> {datalake[\"SEXO\"].mode()[0]}')"
   ]
  },
  {
   "cell_type": "code",
   "execution_count": 22,
   "metadata": {},
   "outputs": [
    {
     "name": "stdout",
     "output_type": "stream",
     "text": [
      "M    430926\n",
      "F    419087\n",
      "Name: SEXO, dtype: int64\n",
      "Número total de registros: 850013\n",
      "Número total de valores perdidos: 215292\n",
      "Valores perdidos por columna:\n",
      "DERIVADA_FISCALIA: 134560 (15.83%)\n",
      "DIRECCION: 1 (0.00%)\n",
      "EST_CIVIL: 56 (0.01%)\n",
      "FECHA_HORA_HECHO: 40302 (4.74%)\n",
      "UBICACION: 18 (0.00%)\n",
      "FEC_REGISTRO: 40302 (4.74%)\n",
      "PAIS_NATAL: 53 (0.01%)\n"
     ]
    }
   ],
   "source": [
    "datalake.loc[(datalake['SEXO'] != 'M') & (datalake['SEXO'] != 'F'), 'SEXO'] = datalake['SEXO'].mode()[0]\n",
    "print(datalake['SEXO'].value_counts())\n",
    "# La columna SEXO ya no tiene valores perdidos\n",
    "missing_values()"
   ]
  },
  {
   "cell_type": "markdown",
   "metadata": {},
   "source": [
    "###### Fecha"
   ]
  },
  {
   "cell_type": "code",
   "execution_count": 23,
   "metadata": {},
   "outputs": [],
   "source": [
    "# Contamos con diferentes formatos de fecha\n",
    "# mm/dd/yyyy\n",
    "# yyyy-mm-dd\n",
    "# MONTH-dd-yyyy\n",
    "# excel: float"
   ]
  },
  {
   "cell_type": "code",
   "execution_count": 24,
   "metadata": {},
   "outputs": [],
   "source": [
    "import xlrd\n",
    "\n",
    "# De fecha de excel (43677.4) a yyyy-mm-dd\n",
    "def transformExcelDate(excelDate):\n",
    "    dateISO = xlrd.xldate.xldate_as_datetime(float(excelDate), 0).date().isoformat()\n",
    "    return dateISO"
   ]
  },
  {
   "cell_type": "code",
   "execution_count": 25,
   "metadata": {},
   "outputs": [],
   "source": [
    "# RegExp de fecha de excel\n",
    "import re\n",
    "excelDate = r'\\d+(\\.\\d+)?'"
   ]
  },
  {
   "cell_type": "code",
   "execution_count": 26,
   "metadata": {},
   "outputs": [],
   "source": [
    "# Función para estandarizar las fechas de los registros\n",
    "def transformDate(date):\n",
    "    try:\n",
    "        if not pd.isna(date):\n",
    "            if re.fullmatch(excelDate, date):\n",
    "                return transformExcelDate(date)\n",
    "            else:\n",
    "                return pd.to_datetime(date).date().isoformat()\n",
    "    except Exception as e:\n",
    "        print(e, date)"
   ]
  },
  {
   "cell_type": "code",
   "execution_count": 27,
   "metadata": {},
   "outputs": [],
   "source": [
    "datalake['FEC_REGISTRO'] = datalake['FEC_REGISTRO'].apply(transformDate)\n",
    "datalake['FECHA_HORA_HECHO'] = datalake['FECHA_HORA_HECHO'].apply(transformDate)"
   ]
  },
  {
   "cell_type": "code",
   "execution_count": 28,
   "metadata": {},
   "outputs": [
    {
     "name": "stdout",
     "output_type": "stream",
     "text": [
      "Número total de registros: 809711\n",
      "Número total de valores perdidos: 123406\n",
      "Valores perdidos por columna:\n",
      "DERIVADA_FISCALIA: 123281 (15.23%)\n",
      "DIRECCION: 1 (0.00%)\n",
      "EST_CIVIL: 56 (0.01%)\n",
      "UBICACION: 17 (0.00%)\n",
      "PAIS_NATAL: 51 (0.01%)\n"
     ]
    }
   ],
   "source": [
    "# Los valores perdidos de FEC_REGISTRO y FECHA_HORA_HECHO, oportunamente, comparten registros\n",
    "# Es decir si en una columna de fecha hay un valor perdido, en la otra también lo hay\n",
    "datalake = datalake.loc[datalake['FEC_REGISTRO'].isna() == False]\n",
    "missing_values()"
   ]
  },
  {
   "cell_type": "markdown",
   "metadata": {},
   "source": [
    "#### Completando valores perdidos en el resto de atributos categóricos"
   ]
  },
  {
   "cell_type": "code",
   "execution_count": 29,
   "metadata": {},
   "outputs": [
    {
     "name": "stdout",
     "output_type": "stream",
     "text": [
      "object (23)\n",
      " ['COMISARIA', 'DERIVADA_FISCALIA', 'DIRECCION', 'DIST_CIA', 'DIST_HECHO', 'DPTO_CIA', 'DPTO_HECHO', 'EST_CIVIL', 'FECHA_HORA_HECHO', 'LIBRO', 'MODALIDAD', 'PROV_CIA', 'PROV_HECHO', 'REGION', 'SEXO', 'SIT_PERSONA', 'SUB_TIPO', 'TIPO', 'TIPO_DENUNCIA', 'UBICACION', 'VIA', 'FEC_REGISTRO', 'PAIS_NATAL'] \n",
      "int64 (1)\n",
      " ['EDAD'] \n"
     ]
    }
   ],
   "source": [
    "update_types()"
   ]
  },
  {
   "cell_type": "code",
   "execution_count": 30,
   "metadata": {},
   "outputs": [],
   "source": [
    "# Se llena el resto de los valores perdidos con la moda\n",
    "for c in object_columns:\n",
    "    mode = datalake[c].mode()[0]\n",
    "    datalake[c] = datalake[c].fillna(mode)"
   ]
  },
  {
   "cell_type": "code",
   "execution_count": 31,
   "metadata": {},
   "outputs": [
    {
     "name": "stdout",
     "output_type": "stream",
     "text": [
      "Número total de registros: 809711\n",
      "Número total de valores perdidos: 0\n",
      "Valores perdidos por columna:\n",
      "None\n"
     ]
    }
   ],
   "source": [
    "print(missing_values())"
   ]
  },
  {
   "cell_type": "code",
   "execution_count": 32,
   "metadata": {},
   "outputs": [
    {
     "name": "stdout",
     "output_type": "stream",
     "text": [
      "                 COMISARIA   DERIVADA_FISCALIA  \\\n",
      "0                HUANCHACO  JUZGADO DE FAMILIA   \n",
      "1                 ZAPALLAL          UNIDAD PNP   \n",
      "2                 ZAPALLAL          UNIDAD PNP   \n",
      "3  COMISARIA DE LA FAMILIA  JUZGADO DE FAMILIA   \n",
      "4                 ZAPALLAL          UNIDAD PNP   \n",
      "\n",
      "                          DIRECCION        DIST_CIA      DIST_HECHO  \\\n",
      "0    AV. LA RIVERA PLAZA SAN MARTIN       HUANCHACO       HUANCHACO   \n",
      "1                    JR GALILEA S/N   PUENTE PIEDRA   PUENTE PIEDRA   \n",
      "2                    JR GALILEA S/N   PUENTE PIEDRA   PUENTE PIEDRA   \n",
      "3  URB. CIUDAD DE DIOS MZA. Q LTE 1  NUEVO CHIMBOTE  NUEVO CHIMBOTE   \n",
      "4                    JR GALILEA S/N   PUENTE PIEDRA   PUENTE PIEDRA   \n",
      "\n",
      "      DPTO_CIA   DPTO_HECHO  EDAD    EST_CIVIL FECHA_HORA_HECHO  ...  \\\n",
      "0  LA LIBERTAD  LA LIBERTAD    32  CONVIVIENTE       2016-01-01  ...   \n",
      "1         LIMA         LIMA    25   SOLTERO(A)       2016-01-01  ...   \n",
      "2         LIMA         LIMA    20   SOLTERO(A)       2016-01-01  ...   \n",
      "3       ANCASH       ANCASH    25   SOLTERO(A)       2016-01-01  ...   \n",
      "4         LIMA         LIMA    51   SOLTERO(A)       2016-01-01  ...   \n",
      "\n",
      "                   REGION SEXO  SIT_PERSONA  \\\n",
      "0  REGPOL  -  LA LIBERTAD    M   DENUNCIADO   \n",
      "1         REGPOL  -  LIMA    F  DENUNCIANTE   \n",
      "2         REGPOL  -  LIMA    F  DENUNCIANTE   \n",
      "3       REGPOL   - HUARAZ    M    DEPONENTE   \n",
      "4         REGPOL  -  LIMA    F  DENUNCIANTE   \n",
      "\n",
      "                                            SUB_TIPO                TIPO  \\\n",
      "0  LEY DE PROTECCIÓN FRENTE A VIOLENCIA FAMILIAR ...  VIOLENCIA FAMILIAR   \n",
      "1  LEY DE PROTECCIÓN FRENTE A VIOLENCIA FAMILIAR ...  VIOLENCIA FAMILIAR   \n",
      "2  LEY DE PROTECCIÓN FRENTE A VIOLENCIA FAMILIAR ...  VIOLENCIA FAMILIAR   \n",
      "3  LEY PARA PREVENIR , SANCIONAR Y ERRADICAR LA V...  VIOLENCIA FAMILIAR   \n",
      "4  LEY DE PROTECCIÓN FRENTE A VIOLENCIA FAMILIAR ...  VIOLENCIA FAMILIAR   \n",
      "\n",
      "             TIPO_DENUNCIA                                          UBICACION  \\\n",
      "0  ACTA DE DENUNCIA VERBAL  SECTOR SANTA ROSA MZ. 11 LT. 36 - HUANCHAQUITO...   \n",
      "1                 DENUNCIA       MZ V LTE 17 SECTOR C AA HH LOMAS DE ZAPALLAL   \n",
      "2                 DENUNCIA                  MZ A LTE 01 AA HH NUEVA ESPERANZA   \n",
      "3  ACTA DE DENUNCIA VERBAL             aa.hh. palmeras del golf mz. b lTE. 15   \n",
      "4                 DENUNCIA    PRONOI CARIÃ?â??OSITOS - ZAPALLAL PUENTE PIEDRA   \n",
      "\n",
      "     VIA FEC_REGISTRO PAIS_NATAL  \n",
      "0  Otros   2016-01-01       PERU  \n",
      "1  Otros   2016-01-01       PERU  \n",
      "2  Otros   2016-01-01       PERU  \n",
      "3  Otros   2016-01-01       PERU  \n",
      "4  Otros   2016-01-01       PERU  \n",
      "\n",
      "[5 rows x 24 columns]\n",
      "                COMISARIA   DERIVADA_FISCALIA  \\\n",
      "809706  TACNA - NATIVIDAD  JUZGADO DE FAMILIA   \n",
      "809707  TACNA - NATIVIDAD               OTROS   \n",
      "809708             TARATA  JUZGADO DE FAMILIA   \n",
      "809709             TARATA  JUZGADO DE FAMILIA   \n",
      "809710             TARATA  JUZGADO DE FAMILIA   \n",
      "\n",
      "                                                DIRECCION DIST_CIA DIST_HECHO  \\\n",
      "809706  calle nuestra señora de natividad nro 1937 cpm...    TACNA      TACNA   \n",
      "809707  calle nuestra señora de natividad nro 1937 cpm...    TACNA      TACNA   \n",
      "809708              CALLE PRIMERO DE SETIEMBRE S/N TARATA   TARATA     TARATA   \n",
      "809709              CALLE PRIMERO DE SETIEMBRE S/N TARATA   TARATA     TARATA   \n",
      "809710              CALLE PRIMERO DE SETIEMBRE S/N TARATA   TARATA     TARATA   \n",
      "\n",
      "       DPTO_CIA DPTO_HECHO  EDAD    EST_CIVIL FECHA_HORA_HECHO  ...  \\\n",
      "809706    TACNA      TACNA    30   SOLTERO(A)       2019-12-26  ...   \n",
      "809707    TACNA      TACNA    22   SOLTERO(A)       2019-12-31  ...   \n",
      "809708    TACNA      TACNA    38   SOLTERO(A)       2019-11-25  ...   \n",
      "809709    TACNA      TACNA    36   SOLTERO(A)       2019-12-22  ...   \n",
      "809710    TACNA      TACNA    37  CONVIVIENTE       2019-12-27  ...   \n",
      "\n",
      "                REGION SEXO SIT_PERSONA  \\\n",
      "809706  REGPOL - TACNA    M  DENUNCIADO   \n",
      "809707  REGPOL - TACNA    M  DENUNCIADO   \n",
      "809708  REGPOL - TACNA    M  DENUNCIADO   \n",
      "809709  REGPOL - TACNA    M     AGRESOR   \n",
      "809710  REGPOL - TACNA    M    DETENIDO   \n",
      "\n",
      "                                                 SUB_TIPO  \\\n",
      "809706  LEY PARA PREVENIR , SANCIONAR Y ERRADICAR LA V...   \n",
      "809707  LEY PARA PREVENIR , SANCIONAR Y ERRADICAR LA V...   \n",
      "809708  LEY PARA PREVENIR , SANCIONAR Y ERRADICAR LA V...   \n",
      "809709  LEY PARA PREVENIR , SANCIONAR Y ERRADICAR LA V...   \n",
      "809710  LEY PARA PREVENIR , SANCIONAR Y ERRADICAR LA V...   \n",
      "\n",
      "                                                     TIPO  \\\n",
      "809706  LEY DE VIOLENCIA CONTRA LA MUJER Y GRUPOS VULN...   \n",
      "809707  LEY DE VIOLENCIA CONTRA LA MUJER Y GRUPOS VULN...   \n",
      "809708  LEY DE VIOLENCIA CONTRA LA MUJER Y GRUPOS VULN...   \n",
      "809709  LEY DE VIOLENCIA CONTRA LA MUJER Y GRUPOS VULN...   \n",
      "809710  LEY DE VIOLENCIA CONTRA LA MUJER Y GRUPOS VULN...   \n",
      "\n",
      "                  TIPO_DENUNCIA  \\\n",
      "809706     ACTA DE INTERVENCION   \n",
      "809707  ACTA DE DENUNCIA VERBAL   \n",
      "809708  ACTA DE DENUNCIA VERBAL   \n",
      "809709                 DENUNCIA   \n",
      "809710                 DENUNCIA   \n",
      "\n",
      "                                                UBICACION    VIA FEC_REGISTRO  \\\n",
      "809706  CALLE JUAN PABLO VIZCARDO Y GUZMAN NRO.1673 CP...  Otros   2019-12-30   \n",
      "809707                            Calle Moquegua Nro. 242  Otros   2019-12-31   \n",
      "809708                       Calle Bolognesi S/N - Tarata  Otros   2019-12-09   \n",
      "809709                        Calle San Martin S/N Tarata  Otros   2019-12-23   \n",
      "809710                        calle San Martin S/N Tarata  Otros   2019-12-28   \n",
      "\n",
      "       PAIS_NATAL  \n",
      "809706       PERU  \n",
      "809707       PERU  \n",
      "809708       PERU  \n",
      "809709       PERU  \n",
      "809710       PERU  \n",
      "\n",
      "[5 rows x 24 columns]\n"
     ]
    }
   ],
   "source": [
    "# Reseteamos el index\n",
    "datalake.reset_index(drop=True, inplace=True)\n",
    "# Mostramos la tabla\n",
    "print(datalake.head())\n",
    "print(datalake.tail())"
   ]
  },
  {
   "cell_type": "markdown",
   "metadata": {},
   "source": [
    "##### Separando fecha en año, mes, día y día de la semana"
   ]
  },
  {
   "cell_type": "code",
   "execution_count": 33,
   "metadata": {},
   "outputs": [],
   "source": [
    "def spread_out_date(col):\n",
    "    datalake[f'{col}_ANIO'] = datalake[col].apply(lambda x: int(x[:4]))\n",
    "    datalake[f'{col}_MES'] = datalake[col].apply(lambda x: int(x[5:7]))\n",
    "    datalake[f'{col}_DIA'] = datalake[col].apply(lambda x: int(x[8:]))\n",
    "    datalake[f'{col}_DIA_SEM'] = datalake[col].apply(lambda x: pd.to_datetime(x).weekday())"
   ]
  },
  {
   "cell_type": "code",
   "execution_count": 34,
   "metadata": {},
   "outputs": [],
   "source": [
    "spread_out_date('FEC_REGISTRO')\n",
    "spread_out_date('FECHA_HORA_HECHO')"
   ]
  },
  {
   "cell_type": "code",
   "execution_count": 35,
   "metadata": {},
   "outputs": [
    {
     "name": "stdout",
     "output_type": "stream",
     "text": [
      "                 COMISARIA   DERIVADA_FISCALIA  \\\n",
      "0                HUANCHACO  JUZGADO DE FAMILIA   \n",
      "1                 ZAPALLAL          UNIDAD PNP   \n",
      "2                 ZAPALLAL          UNIDAD PNP   \n",
      "3  COMISARIA DE LA FAMILIA  JUZGADO DE FAMILIA   \n",
      "4                 ZAPALLAL          UNIDAD PNP   \n",
      "\n",
      "                          DIRECCION        DIST_CIA      DIST_HECHO  \\\n",
      "0    AV. LA RIVERA PLAZA SAN MARTIN       HUANCHACO       HUANCHACO   \n",
      "1                    JR GALILEA S/N   PUENTE PIEDRA   PUENTE PIEDRA   \n",
      "2                    JR GALILEA S/N   PUENTE PIEDRA   PUENTE PIEDRA   \n",
      "3  URB. CIUDAD DE DIOS MZA. Q LTE 1  NUEVO CHIMBOTE  NUEVO CHIMBOTE   \n",
      "4                    JR GALILEA S/N   PUENTE PIEDRA   PUENTE PIEDRA   \n",
      "\n",
      "      DPTO_CIA   DPTO_HECHO  EDAD    EST_CIVIL FECHA_HORA_HECHO  ...  \\\n",
      "0  LA LIBERTAD  LA LIBERTAD    32  CONVIVIENTE       2016-01-01  ...   \n",
      "1         LIMA         LIMA    25   SOLTERO(A)       2016-01-01  ...   \n",
      "2         LIMA         LIMA    20   SOLTERO(A)       2016-01-01  ...   \n",
      "3       ANCASH       ANCASH    25   SOLTERO(A)       2016-01-01  ...   \n",
      "4         LIMA         LIMA    51   SOLTERO(A)       2016-01-01  ...   \n",
      "\n",
      "  FEC_REGISTRO PAIS_NATAL FEC_REGISTRO_ANIO FEC_REGISTRO_MES FEC_REGISTRO_DIA  \\\n",
      "0   2016-01-01       PERU              2016                1                1   \n",
      "1   2016-01-01       PERU              2016                1                1   \n",
      "2   2016-01-01       PERU              2016                1                1   \n",
      "3   2016-01-01       PERU              2016                1                1   \n",
      "4   2016-01-01       PERU              2016                1                1   \n",
      "\n",
      "  FEC_REGISTRO_DIA_SEM FECHA_HORA_HECHO_ANIO FECHA_HORA_HECHO_MES  \\\n",
      "0                    4                  2016                    1   \n",
      "1                    4                  2016                    1   \n",
      "2                    4                  2016                    1   \n",
      "3                    4                  2016                    1   \n",
      "4                    4                  2016                    1   \n",
      "\n",
      "  FECHA_HORA_HECHO_DIA FECHA_HORA_HECHO_DIA_SEM  \n",
      "0                    1                        4  \n",
      "1                    1                        4  \n",
      "2                    1                        4  \n",
      "3                    1                        4  \n",
      "4                    1                        4  \n",
      "\n",
      "[5 rows x 32 columns]\n",
      "                COMISARIA   DERIVADA_FISCALIA  \\\n",
      "809706  TACNA - NATIVIDAD  JUZGADO DE FAMILIA   \n",
      "809707  TACNA - NATIVIDAD               OTROS   \n",
      "809708             TARATA  JUZGADO DE FAMILIA   \n",
      "809709             TARATA  JUZGADO DE FAMILIA   \n",
      "809710             TARATA  JUZGADO DE FAMILIA   \n",
      "\n",
      "                                                DIRECCION DIST_CIA DIST_HECHO  \\\n",
      "809706  calle nuestra señora de natividad nro 1937 cpm...    TACNA      TACNA   \n",
      "809707  calle nuestra señora de natividad nro 1937 cpm...    TACNA      TACNA   \n",
      "809708              CALLE PRIMERO DE SETIEMBRE S/N TARATA   TARATA     TARATA   \n",
      "809709              CALLE PRIMERO DE SETIEMBRE S/N TARATA   TARATA     TARATA   \n",
      "809710              CALLE PRIMERO DE SETIEMBRE S/N TARATA   TARATA     TARATA   \n",
      "\n",
      "       DPTO_CIA DPTO_HECHO  EDAD    EST_CIVIL FECHA_HORA_HECHO  ...  \\\n",
      "809706    TACNA      TACNA    30   SOLTERO(A)       2019-12-26  ...   \n",
      "809707    TACNA      TACNA    22   SOLTERO(A)       2019-12-31  ...   \n",
      "809708    TACNA      TACNA    38   SOLTERO(A)       2019-11-25  ...   \n",
      "809709    TACNA      TACNA    36   SOLTERO(A)       2019-12-22  ...   \n",
      "809710    TACNA      TACNA    37  CONVIVIENTE       2019-12-27  ...   \n",
      "\n",
      "       FEC_REGISTRO PAIS_NATAL FEC_REGISTRO_ANIO FEC_REGISTRO_MES  \\\n",
      "809706   2019-12-30       PERU              2019               12   \n",
      "809707   2019-12-31       PERU              2019               12   \n",
      "809708   2019-12-09       PERU              2019               12   \n",
      "809709   2019-12-23       PERU              2019               12   \n",
      "809710   2019-12-28       PERU              2019               12   \n",
      "\n",
      "       FEC_REGISTRO_DIA FEC_REGISTRO_DIA_SEM FECHA_HORA_HECHO_ANIO  \\\n",
      "809706               30                    0                  2019   \n",
      "809707               31                    1                  2019   \n",
      "809708                9                    0                  2019   \n",
      "809709               23                    0                  2019   \n",
      "809710               28                    5                  2019   \n",
      "\n",
      "       FECHA_HORA_HECHO_MES FECHA_HORA_HECHO_DIA FECHA_HORA_HECHO_DIA_SEM  \n",
      "809706                   12                   26                        3  \n",
      "809707                   12                   31                        1  \n",
      "809708                   11                   25                        0  \n",
      "809709                   12                   22                        6  \n",
      "809710                   12                   27                        4  \n",
      "\n",
      "[5 rows x 32 columns]\n"
     ]
    }
   ],
   "source": [
    "print(datalake.head())\n",
    "print(datalake.tail())"
   ]
  },
  {
   "cell_type": "code",
   "execution_count": 36,
   "metadata": {},
   "outputs": [
    {
     "name": "stdout",
     "output_type": "stream",
     "text": [
      "<class 'pandas.core.frame.DataFrame'>\n",
      "RangeIndex: 809711 entries, 0 to 809710\n",
      "Data columns (total 30 columns):\n",
      " #   Column                    Non-Null Count   Dtype \n",
      "---  ------                    --------------   ----- \n",
      " 0   COMISARIA                 809711 non-null  object\n",
      " 1   DERIVADA_FISCALIA         809711 non-null  object\n",
      " 2   DIRECCION                 809711 non-null  object\n",
      " 3   DIST_CIA                  809711 non-null  object\n",
      " 4   DIST_HECHO                809711 non-null  object\n",
      " 5   DPTO_CIA                  809711 non-null  object\n",
      " 6   DPTO_HECHO                809711 non-null  object\n",
      " 7   EDAD                      809711 non-null  int64 \n",
      " 8   EST_CIVIL                 809711 non-null  object\n",
      " 9   LIBRO                     809711 non-null  object\n",
      " 10  MODALIDAD                 809711 non-null  object\n",
      " 11  PROV_CIA                  809711 non-null  object\n",
      " 12  PROV_HECHO                809711 non-null  object\n",
      " 13  REGION                    809711 non-null  object\n",
      " 14  SEXO                      809711 non-null  object\n",
      " 15  SIT_PERSONA               809711 non-null  object\n",
      " 16  SUB_TIPO                  809711 non-null  object\n",
      " 17  TIPO                      809711 non-null  object\n",
      " 18  TIPO_DENUNCIA             809711 non-null  object\n",
      " 19  UBICACION                 809711 non-null  object\n",
      " 20  VIA                       809711 non-null  object\n",
      " 21  PAIS_NATAL                809711 non-null  object\n",
      " 22  FEC_REGISTRO_ANIO         809711 non-null  int64 \n",
      " 23  FEC_REGISTRO_MES          809711 non-null  int64 \n",
      " 24  FEC_REGISTRO_DIA          809711 non-null  int64 \n",
      " 25  FEC_REGISTRO_DIA_SEM      809711 non-null  int64 \n",
      " 26  FECHA_HORA_HECHO_ANIO     809711 non-null  int64 \n",
      " 27  FECHA_HORA_HECHO_MES      809711 non-null  int64 \n",
      " 28  FECHA_HORA_HECHO_DIA      809711 non-null  int64 \n",
      " 29  FECHA_HORA_HECHO_DIA_SEM  809711 non-null  int64 \n",
      "dtypes: int64(9), object(21)\n",
      "memory usage: 185.3+ MB\n",
      "None\n",
      "object (21)\n",
      " ['COMISARIA', 'DERIVADA_FISCALIA', 'DIRECCION', 'DIST_CIA', 'DIST_HECHO', 'DPTO_CIA', 'DPTO_HECHO', 'EST_CIVIL', 'LIBRO', 'MODALIDAD', 'PROV_CIA', 'PROV_HECHO', 'REGION', 'SEXO', 'SIT_PERSONA', 'SUB_TIPO', 'TIPO', 'TIPO_DENUNCIA', 'UBICACION', 'VIA', 'PAIS_NATAL'] \n",
      "int64 (9)\n",
      " ['EDAD', 'FEC_REGISTRO_ANIO', 'FEC_REGISTRO_MES', 'FEC_REGISTRO_DIA', 'FEC_REGISTRO_DIA_SEM', 'FECHA_HORA_HECHO_ANIO', 'FECHA_HORA_HECHO_MES', 'FECHA_HORA_HECHO_DIA', 'FECHA_HORA_HECHO_DIA_SEM'] \n",
      "None\n"
     ]
    }
   ],
   "source": [
    "# Ya no se necesita la columna FEC_REGISTRO ni FECHA_HORA_HECHO\n",
    "datalake = datalake.drop(['FEC_REGISTRO', 'FECHA_HORA_HECHO'], axis=1)\n",
    "print(datalake.info())\n",
    "print(update_types())"
   ]
  },
  {
   "cell_type": "code",
   "execution_count": 38,
   "metadata": {},
   "outputs": [],
   "source": [
    "datalake.to_csv('./datalake/datalake_preprocessed.csv', index=False)"
   ]
  },
  {
   "cell_type": "markdown",
   "metadata": {},
   "source": [
    "#### Transformación de atributos categóricos a numéricos"
   ]
  },
  {
   "cell_type": "code",
   "execution_count": 39,
   "metadata": {},
   "outputs": [],
   "source": [
    "from sklearn.preprocessing import LabelEncoder\n",
    "\n",
    "cat_columns_encoded = {}\n",
    "\n",
    "def encode(col):\n",
    "    cat_columns_encoded[col] = LabelEncoder()\n",
    "    datalake[col] = cat_columns_encoded[col].fit_transform(datalake[col])\n",
    "\n",
    "for col in object_columns:\n",
    "    encode(col)"
   ]
  },
  {
   "cell_type": "code",
   "execution_count": 40,
   "metadata": {},
   "outputs": [],
   "source": [
    "# Función para mostrar el encodificado de una columna\n",
    "def show_encoded_column(col):\n",
    "    classes = cat_columns_encoded[col].classes_\n",
    "    for i, c in enumerate(classes):\n",
    "        print(f'{i} -> {c}')"
   ]
  },
  {
   "cell_type": "code",
   "execution_count": 41,
   "metadata": {},
   "outputs": [
    {
     "name": "stdout",
     "output_type": "stream",
     "text": [
      "   COMISARIA  DERIVADA_FISCALIA  DIRECCION  DIST_CIA  DIST_HECHO  DPTO_CIA  \\\n",
      "0        412                  4        305       262         482        12   \n",
      "1       1096                  9        963       564         986        14   \n",
      "2       1096                  9        963       564         986        14   \n",
      "3        231                  4       1412       457         816         1   \n",
      "4       1096                  9        963       564         986        14   \n",
      "\n",
      "   DPTO_HECHO  EDAD  EST_CIVIL  LIBRO  ...  VIA  PAIS_NATAL  \\\n",
      "0          12    32          1      4  ...   10         145   \n",
      "1          14    25          5     35  ...   10         145   \n",
      "2          14    20          5     35  ...   10         145   \n",
      "3           1    25          5     28  ...   10         145   \n",
      "4          14    51          5     35  ...   10         145   \n",
      "\n",
      "   FEC_REGISTRO_ANIO  FEC_REGISTRO_MES  FEC_REGISTRO_DIA  \\\n",
      "0               2016                 1                 1   \n",
      "1               2016                 1                 1   \n",
      "2               2016                 1                 1   \n",
      "3               2016                 1                 1   \n",
      "4               2016                 1                 1   \n",
      "\n",
      "   FEC_REGISTRO_DIA_SEM  FECHA_HORA_HECHO_ANIO  FECHA_HORA_HECHO_MES  \\\n",
      "0                     4                   2016                     1   \n",
      "1                     4                   2016                     1   \n",
      "2                     4                   2016                     1   \n",
      "3                     4                   2016                     1   \n",
      "4                     4                   2016                     1   \n",
      "\n",
      "   FECHA_HORA_HECHO_DIA  FECHA_HORA_HECHO_DIA_SEM  \n",
      "0                     1                         4  \n",
      "1                     1                         4  \n",
      "2                     1                         4  \n",
      "3                     1                         4  \n",
      "4                     1                         4  \n",
      "\n",
      "[5 rows x 30 columns]\n",
      "object (0)\n",
      " [] \n",
      "int64 (9)\n",
      " ['EDAD', 'FEC_REGISTRO_ANIO', 'FEC_REGISTRO_MES', 'FEC_REGISTRO_DIA', 'FEC_REGISTRO_DIA_SEM', 'FECHA_HORA_HECHO_ANIO', 'FECHA_HORA_HECHO_MES', 'FECHA_HORA_HECHO_DIA', 'FECHA_HORA_HECHO_DIA_SEM'] \n",
      "None\n"
     ]
    }
   ],
   "source": [
    "print(datalake.head())\n",
    "print(update_types())"
   ]
  },
  {
   "cell_type": "code",
   "execution_count": 42,
   "metadata": {},
   "outputs": [
    {
     "name": "stdout",
     "output_type": "stream",
     "text": [
      "<class 'pandas.core.frame.DataFrame'>\n",
      "RangeIndex: 809711 entries, 0 to 809710\n",
      "Data columns (total 30 columns):\n",
      " #   Column                    Non-Null Count   Dtype\n",
      "---  ------                    --------------   -----\n",
      " 0   COMISARIA                 809711 non-null  int32\n",
      " 1   DERIVADA_FISCALIA         809711 non-null  int32\n",
      " 2   DIRECCION                 809711 non-null  int32\n",
      " 3   DIST_CIA                  809711 non-null  int32\n",
      " 4   DIST_HECHO                809711 non-null  int32\n",
      " 5   DPTO_CIA                  809711 non-null  int32\n",
      " 6   DPTO_HECHO                809711 non-null  int32\n",
      " 7   EDAD                      809711 non-null  int64\n",
      " 8   EST_CIVIL                 809711 non-null  int32\n",
      " 9   LIBRO                     809711 non-null  int32\n",
      " 10  MODALIDAD                 809711 non-null  int32\n",
      " 11  PROV_CIA                  809711 non-null  int32\n",
      " 12  PROV_HECHO                809711 non-null  int32\n",
      " 13  REGION                    809711 non-null  int32\n",
      " 14  SEXO                      809711 non-null  int32\n",
      " 15  SIT_PERSONA               809711 non-null  int32\n",
      " 16  SUB_TIPO                  809711 non-null  int32\n",
      " 17  TIPO                      809711 non-null  int32\n",
      " 18  TIPO_DENUNCIA             809711 non-null  int32\n",
      " 19  UBICACION                 809711 non-null  int32\n",
      " 20  VIA                       809711 non-null  int32\n",
      " 21  PAIS_NATAL                809711 non-null  int32\n",
      " 22  FEC_REGISTRO_ANIO         809711 non-null  int64\n",
      " 23  FEC_REGISTRO_MES          809711 non-null  int64\n",
      " 24  FEC_REGISTRO_DIA          809711 non-null  int64\n",
      " 25  FEC_REGISTRO_DIA_SEM      809711 non-null  int64\n",
      " 26  FECHA_HORA_HECHO_ANIO     809711 non-null  int64\n",
      " 27  FECHA_HORA_HECHO_MES      809711 non-null  int64\n",
      " 28  FECHA_HORA_HECHO_DIA      809711 non-null  int64\n",
      " 29  FECHA_HORA_HECHO_DIA_SEM  809711 non-null  int64\n",
      "dtypes: int32(21), int64(9)\n",
      "memory usage: 120.5 MB\n",
      "None\n"
     ]
    }
   ],
   "source": [
    "# LabelEncoder genera el tipo int32\n",
    "print(datalake.info())"
   ]
  },
  {
   "cell_type": "code",
   "execution_count": 43,
   "metadata": {},
   "outputs": [],
   "source": [
    "# Trasnformando columnas de tipo int32 a int64\n",
    "for col in datalake.columns:\n",
    "    if datalake[col].dtype == 'int32':\n",
    "        datalake[col] = datalake[col].astype(np.int64)"
   ]
  },
  {
   "cell_type": "code",
   "execution_count": 44,
   "metadata": {},
   "outputs": [
    {
     "name": "stdout",
     "output_type": "stream",
     "text": [
      "object (0)\n",
      " [] \n",
      "int64 (30)\n",
      " ['COMISARIA', 'DERIVADA_FISCALIA', 'DIRECCION', 'DIST_CIA', 'DIST_HECHO', 'DPTO_CIA', 'DPTO_HECHO', 'EDAD', 'EST_CIVIL', 'LIBRO', 'MODALIDAD', 'PROV_CIA', 'PROV_HECHO', 'REGION', 'SEXO', 'SIT_PERSONA', 'SUB_TIPO', 'TIPO', 'TIPO_DENUNCIA', 'UBICACION', 'VIA', 'PAIS_NATAL', 'FEC_REGISTRO_ANIO', 'FEC_REGISTRO_MES', 'FEC_REGISTRO_DIA', 'FEC_REGISTRO_DIA_SEM', 'FECHA_HORA_HECHO_ANIO', 'FECHA_HORA_HECHO_MES', 'FECHA_HORA_HECHO_DIA', 'FECHA_HORA_HECHO_DIA_SEM'] \n",
      "None\n",
      "<class 'pandas.core.frame.DataFrame'>\n",
      "RangeIndex: 809711 entries, 0 to 809710\n",
      "Data columns (total 30 columns):\n",
      " #   Column                    Non-Null Count   Dtype\n",
      "---  ------                    --------------   -----\n",
      " 0   COMISARIA                 809711 non-null  int64\n",
      " 1   DERIVADA_FISCALIA         809711 non-null  int64\n",
      " 2   DIRECCION                 809711 non-null  int64\n",
      " 3   DIST_CIA                  809711 non-null  int64\n",
      " 4   DIST_HECHO                809711 non-null  int64\n",
      " 5   DPTO_CIA                  809711 non-null  int64\n",
      " 6   DPTO_HECHO                809711 non-null  int64\n",
      " 7   EDAD                      809711 non-null  int64\n",
      " 8   EST_CIVIL                 809711 non-null  int64\n",
      " 9   LIBRO                     809711 non-null  int64\n",
      " 10  MODALIDAD                 809711 non-null  int64\n",
      " 11  PROV_CIA                  809711 non-null  int64\n",
      " 12  PROV_HECHO                809711 non-null  int64\n",
      " 13  REGION                    809711 non-null  int64\n",
      " 14  SEXO                      809711 non-null  int64\n",
      " 15  SIT_PERSONA               809711 non-null  int64\n",
      " 16  SUB_TIPO                  809711 non-null  int64\n",
      " 17  TIPO                      809711 non-null  int64\n",
      " 18  TIPO_DENUNCIA             809711 non-null  int64\n",
      " 19  UBICACION                 809711 non-null  int64\n",
      " 20  VIA                       809711 non-null  int64\n",
      " 21  PAIS_NATAL                809711 non-null  int64\n",
      " 22  FEC_REGISTRO_ANIO         809711 non-null  int64\n",
      " 23  FEC_REGISTRO_MES          809711 non-null  int64\n",
      " 24  FEC_REGISTRO_DIA          809711 non-null  int64\n",
      " 25  FEC_REGISTRO_DIA_SEM      809711 non-null  int64\n",
      " 26  FECHA_HORA_HECHO_ANIO     809711 non-null  int64\n",
      " 27  FECHA_HORA_HECHO_MES      809711 non-null  int64\n",
      " 28  FECHA_HORA_HECHO_DIA      809711 non-null  int64\n",
      " 29  FECHA_HORA_HECHO_DIA_SEM  809711 non-null  int64\n",
      "dtypes: int64(30)\n",
      "memory usage: 185.3 MB\n",
      "None\n"
     ]
    }
   ],
   "source": [
    "print(update_types())\n",
    "print(datalake.info())"
   ]
  },
  {
   "cell_type": "code",
   "execution_count": 45,
   "metadata": {},
   "outputs": [
    {
     "name": "stdout",
     "output_type": "stream",
     "text": [
      "   COMISARIA  DERIVADA_FISCALIA  DIRECCION  DIST_CIA  DIST_HECHO  DPTO_CIA  \\\n",
      "0        412                  4        305       262         482        12   \n",
      "1       1096                  9        963       564         986        14   \n",
      "2       1096                  9        963       564         986        14   \n",
      "3        231                  4       1412       457         816         1   \n",
      "4       1096                  9        963       564         986        14   \n",
      "\n",
      "   DPTO_HECHO  EDAD  EST_CIVIL  LIBRO  ...  VIA  PAIS_NATAL  \\\n",
      "0          12    32          1      4  ...   10         145   \n",
      "1          14    25          5     35  ...   10         145   \n",
      "2          14    20          5     35  ...   10         145   \n",
      "3           1    25          5     28  ...   10         145   \n",
      "4          14    51          5     35  ...   10         145   \n",
      "\n",
      "   FEC_REGISTRO_ANIO  FEC_REGISTRO_MES  FEC_REGISTRO_DIA  \\\n",
      "0               2016                 1                 1   \n",
      "1               2016                 1                 1   \n",
      "2               2016                 1                 1   \n",
      "3               2016                 1                 1   \n",
      "4               2016                 1                 1   \n",
      "\n",
      "   FEC_REGISTRO_DIA_SEM  FECHA_HORA_HECHO_ANIO  FECHA_HORA_HECHO_MES  \\\n",
      "0                     4                   2016                     1   \n",
      "1                     4                   2016                     1   \n",
      "2                     4                   2016                     1   \n",
      "3                     4                   2016                     1   \n",
      "4                     4                   2016                     1   \n",
      "\n",
      "   FECHA_HORA_HECHO_DIA  FECHA_HORA_HECHO_DIA_SEM  \n",
      "0                     1                         4  \n",
      "1                     1                         4  \n",
      "2                     1                         4  \n",
      "3                     1                         4  \n",
      "4                     1                         4  \n",
      "\n",
      "[5 rows x 30 columns]\n"
     ]
    }
   ],
   "source": [
    "print(datalake.head())"
   ]
  },
  {
   "cell_type": "code",
   "execution_count": null,
   "metadata": {},
   "outputs": [],
   "source": [
    "datalake.to_csv('./datalake/datalake_preprocessed_numeric.csv', index=False)"
   ]
  }
 ],
 "metadata": {
  "kernelspec": {
   "display_name": "Python 3.9.12 ('base')",
   "language": "python",
   "name": "python3"
  },
  "language_info": {
   "codemirror_mode": {
    "name": "ipython",
    "version": 3
   },
   "file_extension": ".py",
   "mimetype": "text/x-python",
   "name": "python",
   "nbconvert_exporter": "python",
   "pygments_lexer": "ipython3",
   "version": "3.9.12"
  },
  "orig_nbformat": 4,
  "vscode": {
   "interpreter": {
    "hash": "a853a36dd34f4e127a1c940f133f5f5f69f52494a182d60a25a7162197551ce1"
   }
  }
 },
 "nbformat": 4,
 "nbformat_minor": 2
}
