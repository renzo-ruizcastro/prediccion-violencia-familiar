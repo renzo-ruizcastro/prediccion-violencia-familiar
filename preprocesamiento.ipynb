{
 "cells": [
  {
   "cell_type": "code",
   "execution_count": 1,
   "metadata": {},
   "outputs": [],
   "source": [
    "import pandas as pd\n",
    "import numpy as np"
   ]
  },
  {
   "cell_type": "code",
   "execution_count": 12,
   "metadata": {},
   "outputs": [],
   "source": [
    "datalake = pd.read_csv('./datalake/datalake.csv', header=0, low_memory=False)"
   ]
  },
  {
   "cell_type": "code",
   "execution_count": 13,
   "metadata": {},
   "outputs": [
    {
     "name": "stdout",
     "output_type": "stream",
     "text": [
      "<class 'pandas.core.frame.DataFrame'>\n",
      "RangeIndex: 850013 entries, 0 to 850012\n",
      "Data columns (total 42 columns):\n",
      " #   Column              Non-Null Count   Dtype \n",
      "---  ------              --------------   ----- \n",
      " 0   COMISARIA           850013 non-null  object\n",
      " 1   CUADRA              53118 non-null   object\n",
      " 2   DERIVADA_FISCALIA   715460 non-null  object\n",
      " 3   DIRECCION           850013 non-null  object\n",
      " 4   DIST_CIA            850013 non-null  object\n",
      " 5   DIST_HECHO          850013 non-null  object\n",
      " 6   DPTO_CIA            850013 non-null  object\n",
      " 7   DPTO_HECHO          850013 non-null  object\n",
      " 8   EDAD                847713 non-null  object\n",
      " 9   ESTADO_DEN          850013 non-null  object\n",
      " 10  EST_CIVIL           849957 non-null  object\n",
      " 11  FECHA_HORA_HECHO    850013 non-null  object\n",
      " 12  ID_COMISARIA        850013 non-null  int64 \n",
      " 13  ID_EST_CIVIL        849962 non-null  object\n",
      " 14  ID_LIBRO            850013 non-null  object\n",
      " 15  ID_MATERIA          850013 non-null  int64 \n",
      " 16  ID_MODALIDAD        850013 non-null  int64 \n",
      " 17  ID_NIVEL_EDUCATIVO  90162 non-null   object\n",
      " 18  ID_REGION           850013 non-null  int64 \n",
      " 19  ID_SIT_PERSONA      850013 non-null  object\n",
      " 20  ID_SUBTIPO          850013 non-null  int64 \n",
      " 21  ID_TIPO             850013 non-null  int64 \n",
      " 22  ID_TIPO_DENUNCIA    850013 non-null  object\n",
      " 23  LIBRO               850013 non-null  object\n",
      " 24  MATERIA             850013 non-null  object\n",
      " 25  MODALIDAD           850013 non-null  object\n",
      " 26  NIVEL_EDUCATIVO     55764 non-null   object\n",
      " 27  OCUPACION           353046 non-null  object\n",
      " 28  PROV_CIA            850013 non-null  object\n",
      " 29  PROV_HECHO          850013 non-null  object\n",
      " 30  REGION              850013 non-null  object\n",
      " 31  SEXO                849347 non-null  object\n",
      " 32  SIT_PERSONA         850013 non-null  object\n",
      " 33  SUB_TIPO            850013 non-null  object\n",
      " 34  TIPO                850013 non-null  object\n",
      " 35  TIPO_DENUNCIA       850013 non-null  object\n",
      " 36  UBICACION           850013 non-null  object\n",
      " 37  UBIGEO_CIA          850013 non-null  int64 \n",
      " 38  UBIGEO_HECHO        850013 non-null  int64 \n",
      " 39  VIA                 850013 non-null  object\n",
      " 40  fec_registro        850013 non-null  object\n",
      " 41  pais_natal          850013 non-null  object\n",
      "dtypes: int64(8), object(34)\n",
      "memory usage: 272.4+ MB\n",
      "None\n"
     ]
    }
   ],
   "source": [
    "print(datalake.info())"
   ]
  },
  {
   "cell_type": "code",
   "execution_count": 14,
   "metadata": {},
   "outputs": [
    {
     "name": "stdout",
     "output_type": "stream",
     "text": [
      "['COMISARIA', 'CUADRA', 'DERIVADA_FISCALIA', 'DIRECCION', 'DIST_CIA', 'DIST_HECHO', 'DPTO_CIA', 'DPTO_HECHO', 'EDAD', 'ESTADO_DEN', 'EST_CIVIL', 'FECHA_HORA_HECHO', 'ID_EST_CIVIL', 'ID_LIBRO', 'ID_NIVEL_EDUCATIVO', 'ID_SIT_PERSONA', 'ID_TIPO_DENUNCIA', 'LIBRO', 'MATERIA', 'MODALIDAD', 'NIVEL_EDUCATIVO', 'OCUPACION', 'PROV_CIA', 'PROV_HECHO', 'REGION', 'SEXO', 'SIT_PERSONA', 'SUB_TIPO', 'TIPO', 'TIPO_DENUNCIA', 'UBICACION', 'VIA', 'fec_registro', 'pais_natal']\n",
      "['ID_COMISARIA', 'ID_MATERIA', 'ID_MODALIDAD', 'ID_REGION', 'ID_SUBTIPO', 'ID_TIPO', 'UBIGEO_CIA', 'UBIGEO_HECHO']\n"
     ]
    }
   ],
   "source": [
    "# Idenficando las columnas por tipo de dato\n",
    "object_columns = datalake.select_dtypes(['object']).columns.to_list()\n",
    "int64_columns = datalake.select_dtypes(['int64']).columns.to_list()\n",
    "print(object_columns)\n",
    "print(int64_columns)"
   ]
  },
  {
   "cell_type": "code",
   "execution_count": 5,
   "metadata": {},
   "outputs": [],
   "source": [
    "#Se están clasificando columnas de id's (incluyendo UBIGEOs) como int64.\n",
    "#Estos datos no son propiamente numéricos, de hecho, la única categoría numérica sería 'EDAD', pero ahora es de tipo object.\n",
    "#Primero se convertirán todas las columnas id detectadas como int64 a object\n",
    "for col in int64_columns:\n",
    "    datalake[col] = datalake[col].astype(str)"
   ]
  },
  {
   "cell_type": "markdown",
   "metadata": {},
   "source": [
    "#### Exploración de datos"
   ]
  },
  {
   "cell_type": "markdown",
   "metadata": {},
   "source": [
    "##### Valores perdidos"
   ]
  },
  {
   "cell_type": "code",
   "execution_count": 7,
   "metadata": {},
   "outputs": [],
   "source": [
    "# Trimea los textos y si resulta vacio, se pone nan\n",
    "for col in object_columns:\n",
    "    datalake[col] = datalake[col].str.strip()\n",
    "datalake = datalake.replace('', np.nan)"
   ]
  },
  {
   "cell_type": "code",
   "execution_count": 8,
   "metadata": {},
   "outputs": [
    {
     "name": "stdout",
     "output_type": "stream",
     "text": [
      "Número de registros: 850013\n",
      "Valores perdidos: 3380332\n",
      "CUADRA: 796895 (93.75%)\n",
      "DERIVADA_FISCALIA: 134560 (15.83%)\n",
      "DIRECCION: 1 (0.00%)\n",
      "EDAD: 9404 (1.11%)\n",
      "ESTADO_DEN: 264066 (31.07%)\n",
      "EST_CIVIL: 56 (0.01%)\n",
      "FECHA_HORA_HECHO: 40302 (4.74%)\n",
      "ID_EST_CIVIL: 51 (0.01%)\n",
      "ID_LIBRO: 3 (0.00%)\n",
      "ID_NIVEL_EDUCATIVO: 759851 (89.39%)\n",
      "NIVEL_EDUCATIVO: 794249 (93.44%)\n",
      "OCUPACION: 539855 (63.51%)\n",
      "SEXO: 666 (0.08%)\n",
      "UBICACION: 18 (0.00%)\n",
      "fec_registro: 40302 (4.74%)\n",
      "pais_natal: 53 (0.01%)\n"
     ]
    }
   ],
   "source": [
    "# Resumen de valores perdidos\n",
    "row_count = datalake.shape[0]\n",
    "print(f'Número de registros: {row_count}')\n",
    "global_null_count = datalake.isnull().sum().sum()\n",
    "print(f'Valores perdidos: {global_null_count}')\n",
    "for col in datalake.columns:\n",
    "    null_count = datalake[col].isnull().sum()\n",
    "    null_percent = null_count / row_count * 100\n",
    "    if null_count > 0:\n",
    "        print(f'{col}: {null_count} ({null_percent:.2f}%)')"
   ]
  },
  {
   "cell_type": "markdown",
   "metadata": {},
   "source": [
    "##### Valores atípicos"
   ]
  },
  {
   "cell_type": "markdown",
   "metadata": {},
   "source": [
    "###### Edad"
   ]
  },
  {
   "cell_type": "code",
   "execution_count": 9,
   "metadata": {},
   "outputs": [],
   "source": [
    "# Llena los valores perdidos con 0\n",
    "datalake['EDAD'] = datalake['EDAD'].fillna(0)\n",
    "# Para convertir a int64 primero se convierte a float\n",
    "datalake['EDAD'] = datalake['EDAD'].astype(float)\n",
    "datalake['EDAD'] = datalake['EDAD'].astype(np.int64)"
   ]
  },
  {
   "cell_type": "code",
   "execution_count": null,
   "metadata": {},
   "outputs": [],
   "source": [
    "# Valores máximos y mínimos\n",
    "print(datalake['EDAD'].min(), datalake['EDAD'].max())"
   ]
  },
  {
   "cell_type": "code",
   "execution_count": null,
   "metadata": {},
   "outputs": [],
   "source": [
    "# Vista ordenada de edades registradas\n",
    "age_sorted = datalake.sort_values('EDAD')['EDAD']\n",
    "print(age_sorted.head())\n",
    "print(age_sorted.tail())\n",
    "# Obtención de métricas\n",
    "median = age_sorted.median()\n",
    "mode = age_sorted.mode()[0]\n",
    "print(f'Mediana: {median}')\n",
    "print(f'Moda: {mode}')"
   ]
  },
  {
   "cell_type": "code",
   "execution_count": null,
   "metadata": {},
   "outputs": [],
   "source": [
    "# Suplantamos los valores atípicos con la moda\n",
    "min_age = 18\n",
    "max_age = 75\n",
    "datalake.loc[(datalake['EDAD'] < min_age) | (datalake['EDAD'] > max_age) | (datalake['EDAD'] == 0), 'EDAD'] = mode\n",
    "# La columna EDAD ya no tiene valores perdidos"
   ]
  },
  {
   "cell_type": "markdown",
   "metadata": {},
   "source": [
    "###### Fecha"
   ]
  },
  {
   "cell_type": "code",
   "execution_count": null,
   "metadata": {},
   "outputs": [],
   "source": [
    "import xlrd\n",
    "\n",
    "# De fecha de excel (43677.4) a yyyy-mm-dd\n",
    "def transformExcelDate(excelDate):\n",
    "    dateISO = xlrd.xldate.xldate_as_datetime(float(excelDate), 0).date().isoformat()\n",
    "    # print(dateISO, type(dateISO))\n",
    "    return dateISO"
   ]
  },
  {
   "cell_type": "code",
   "execution_count": null,
   "metadata": {},
   "outputs": [],
   "source": [
    "# RegExp de fecha de excel\n",
    "import re\n",
    "excelDate = r'\\d+(\\.\\d+)?'"
   ]
  },
  {
   "cell_type": "code",
   "execution_count": null,
   "metadata": {},
   "outputs": [],
   "source": [
    "# Función para estandarizar las fechas de los registros\n",
    "def transformDate(date):\n",
    "    try:\n",
    "        if not pd.isna(date):\n",
    "            if re.fullmatch(excelDate, date):\n",
    "                return transformExcelDate(date)\n",
    "            else:\n",
    "                return pd.to_datetime(date).date().isoformat()\n",
    "    except Exception as e:\n",
    "        print(e, date)"
   ]
  },
  {
   "cell_type": "code",
   "execution_count": null,
   "metadata": {},
   "outputs": [],
   "source": [
    "datalake['FECHA_HORA_HECHO'] = datalake['FECHA_HORA_HECHO'].apply(transformDate)\n",
    "datalake['fec_registro'] = datalake['fec_registro'].apply(transformDate)"
   ]
  },
  {
   "cell_type": "code",
   "execution_count": null,
   "metadata": {},
   "outputs": [],
   "source": [
    "# ¿Cómo llenar las fechas faltantes?"
   ]
  },
  {
   "cell_type": "markdown",
   "metadata": {},
   "source": [
    "#### Completando valores perdidos en atributos categóricos"
   ]
  },
  {
   "cell_type": "code",
   "execution_count": null,
   "metadata": {},
   "outputs": [],
   "source": [
    "# Se debe identificar columnas relevantes"
   ]
  },
  {
   "cell_type": "code",
   "execution_count": null,
   "metadata": {},
   "outputs": [],
   "source": [
    "# Se llena los valores perdidos con la moda\n",
    "for c in object_columns:\n",
    "    mode = datalake[c].mode()[0]\n",
    "    datalake[c] = datalake[c].fillna(mode)"
   ]
  }
 ],
 "metadata": {
  "kernelspec": {
   "display_name": "Python 3.9.12 ('base')",
   "language": "python",
   "name": "python3"
  },
  "language_info": {
   "codemirror_mode": {
    "name": "ipython",
    "version": 3
   },
   "file_extension": ".py",
   "mimetype": "text/x-python",
   "name": "python",
   "nbconvert_exporter": "python",
   "pygments_lexer": "ipython3",
   "version": "3.9.12"
  },
  "orig_nbformat": 4,
  "vscode": {
   "interpreter": {
    "hash": "a853a36dd34f4e127a1c940f133f5f5f69f52494a182d60a25a7162197551ce1"
   }
  }
 },
 "nbformat": 4,
 "nbformat_minor": 2
}
