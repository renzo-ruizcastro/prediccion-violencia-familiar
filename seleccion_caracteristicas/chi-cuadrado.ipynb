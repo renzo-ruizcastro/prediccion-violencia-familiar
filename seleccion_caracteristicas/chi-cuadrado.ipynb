{
 "cells": [
  {
   "cell_type": "code",
   "execution_count": 2,
   "metadata": {},
   "outputs": [],
   "source": [
    "import pandas as pd"
   ]
  },
  {
   "cell_type": "code",
   "execution_count": 3,
   "metadata": {},
   "outputs": [],
   "source": [
    "dataset = pd.read_csv('../datalake/datalake_preprocessed.csv', encoding='utf-8', header=0, low_memory=False)"
   ]
  },
  {
   "cell_type": "code",
   "execution_count": 4,
   "metadata": {},
   "outputs": [
    {
     "name": "stdout",
     "output_type": "stream",
     "text": [
      "<class 'pandas.core.frame.DataFrame'>\n",
      "RangeIndex: 809711 entries, 0 to 809710\n",
      "Data columns (total 30 columns):\n",
      " #   Column                    Non-Null Count   Dtype \n",
      "---  ------                    --------------   ----- \n",
      " 0   COMISARIA                 809711 non-null  object\n",
      " 1   DERIVADA_FISCALIA         809711 non-null  object\n",
      " 2   DIRECCION                 809711 non-null  object\n",
      " 3   DIST_CIA                  809711 non-null  object\n",
      " 4   DIST_HECHO                809711 non-null  object\n",
      " 5   DPTO_CIA                  809711 non-null  object\n",
      " 6   DPTO_HECHO                809711 non-null  object\n",
      " 7   EDAD                      809711 non-null  int64 \n",
      " 8   EST_CIVIL                 809711 non-null  object\n",
      " 9   LIBRO                     809711 non-null  object\n",
      " 10  MODALIDAD                 809711 non-null  object\n",
      " 11  PROV_CIA                  809711 non-null  object\n",
      " 12  PROV_HECHO                809711 non-null  object\n",
      " 13  REGION                    809711 non-null  object\n",
      " 14  SEXO                      809711 non-null  object\n",
      " 15  SIT_PERSONA               809711 non-null  object\n",
      " 16  SUB_TIPO                  809711 non-null  object\n",
      " 17  TIPO                      809711 non-null  object\n",
      " 18  TIPO_DENUNCIA             809711 non-null  object\n",
      " 19  UBICACION                 809711 non-null  object\n",
      " 20  VIA                       809711 non-null  object\n",
      " 21  PAIS_NATAL                809711 non-null  object\n",
      " 22  FEC_REGISTRO_ANIO         809711 non-null  int64 \n",
      " 23  FEC_REGISTRO_MES          809711 non-null  int64 \n",
      " 24  FEC_REGISTRO_DIA          809711 non-null  int64 \n",
      " 25  FEC_REGISTRO_DIA_SEM      809711 non-null  int64 \n",
      " 26  FECHA_HORA_HECHO_ANIO     809711 non-null  int64 \n",
      " 27  FECHA_HORA_HECHO_MES      809711 non-null  int64 \n",
      " 28  FECHA_HORA_HECHO_DIA      809711 non-null  int64 \n",
      " 29  FECHA_HORA_HECHO_DIA_SEM  809711 non-null  int64 \n",
      "dtypes: int64(9), object(21)\n",
      "memory usage: 185.3+ MB\n"
     ]
    }
   ],
   "source": [
    "dataset.info()"
   ]
  },
  {
   "cell_type": "code",
   "execution_count": 5,
   "metadata": {},
   "outputs": [],
   "source": [
    "x = dataset.drop('MODALIDAD', axis=1)\n",
    "y = dataset['MODALIDAD']"
   ]
  },
  {
   "cell_type": "code",
   "execution_count": 6,
   "metadata": {},
   "outputs": [],
   "source": [
    "# Separamos las variables categoricas y las numericas en dataset\n",
    "object_columns = x.select_dtypes(['object']).columns.to_list()\n",
    "int64_columns = x.select_dtypes(['int64']).columns.to_list()"
   ]
  },
  {
   "cell_type": "code",
   "execution_count": 7,
   "metadata": {},
   "outputs": [],
   "source": [
    "from sklearn.preprocessing import LabelEncoder\n",
    "cat_columns_encoded = {}\n",
    "\n",
    "def encode(col):\n",
    "    cat_columns_encoded[col] = LabelEncoder()\n",
    "    x[col] = cat_columns_encoded[col].fit_transform(dataset[col])\n",
    "\n",
    "def show_encoded_column(col):\n",
    "    classes = cat_columns_encoded[col].classes_\n",
    "    for i, c in enumerate(classes):\n",
    "        print(f'{i} -> {c}')\n",
    "\n",
    "for col in object_columns:\n",
    "    encode(col)"
   ]
  },
  {
   "cell_type": "code",
   "execution_count": 8,
   "metadata": {},
   "outputs": [
    {
     "data": {
      "text/plain": [
       "SelectKBest(k='all', score_func=<function chi2 at 0x00000183817A65E0>)"
      ]
     },
     "execution_count": 8,
     "metadata": {},
     "output_type": "execute_result"
    }
   ],
   "source": [
    "from sklearn.feature_selection import SelectKBest\n",
    "from sklearn.feature_selection import chi2\n",
    "fs = SelectKBest(chi2, k='all')\n",
    "fs.fit(x[object_columns], y)"
   ]
  },
  {
   "cell_type": "code",
   "execution_count": 9,
   "metadata": {},
   "outputs": [
    {
     "data": {
      "text/html": [
       "<div>\n",
       "<style scoped>\n",
       "    .dataframe tbody tr th:only-of-type {\n",
       "        vertical-align: middle;\n",
       "    }\n",
       "\n",
       "    .dataframe tbody tr th {\n",
       "        vertical-align: top;\n",
       "    }\n",
       "\n",
       "    .dataframe thead th {\n",
       "        text-align: right;\n",
       "    }\n",
       "</style>\n",
       "<table border=\"1\" class=\"dataframe\">\n",
       "  <thead>\n",
       "    <tr style=\"text-align: right;\">\n",
       "      <th></th>\n",
       "      <th>caracteristica</th>\n",
       "      <th>puntaje</th>\n",
       "    </tr>\n",
       "  </thead>\n",
       "  <tbody>\n",
       "    <tr>\n",
       "      <th>0</th>\n",
       "      <td>COMISARIA</td>\n",
       "      <td>7.298180e+05</td>\n",
       "    </tr>\n",
       "    <tr>\n",
       "      <th>1</th>\n",
       "      <td>DIST_HECHO</td>\n",
       "      <td>7.127721e+05</td>\n",
       "    </tr>\n",
       "    <tr>\n",
       "      <th>2</th>\n",
       "      <td>DIST_CIA</td>\n",
       "      <td>3.825275e+05</td>\n",
       "    </tr>\n",
       "    <tr>\n",
       "      <th>3</th>\n",
       "      <td>DIRECCION</td>\n",
       "      <td>4.653078e+04</td>\n",
       "    </tr>\n",
       "    <tr>\n",
       "      <th>4</th>\n",
       "      <td>PROV_HECHO</td>\n",
       "      <td>3.845520e+04</td>\n",
       "    </tr>\n",
       "    <tr>\n",
       "      <th>5</th>\n",
       "      <td>PROV_CIA</td>\n",
       "      <td>3.797706e+04</td>\n",
       "    </tr>\n",
       "    <tr>\n",
       "      <th>6</th>\n",
       "      <td>REGION</td>\n",
       "      <td>2.030060e+04</td>\n",
       "    </tr>\n",
       "    <tr>\n",
       "      <th>7</th>\n",
       "      <td>LIBRO</td>\n",
       "      <td>9.941613e+03</td>\n",
       "    </tr>\n",
       "    <tr>\n",
       "      <th>8</th>\n",
       "      <td>DPTO_CIA</td>\n",
       "      <td>8.510779e+03</td>\n",
       "    </tr>\n",
       "    <tr>\n",
       "      <th>9</th>\n",
       "      <td>DPTO_HECHO</td>\n",
       "      <td>7.682613e+03</td>\n",
       "    </tr>\n",
       "    <tr>\n",
       "      <th>10</th>\n",
       "      <td>TIPO_DENUNCIA</td>\n",
       "      <td>5.504318e+03</td>\n",
       "    </tr>\n",
       "    <tr>\n",
       "      <th>11</th>\n",
       "      <td>EST_CIVIL</td>\n",
       "      <td>4.506780e+03</td>\n",
       "    </tr>\n",
       "    <tr>\n",
       "      <th>12</th>\n",
       "      <td>SIT_PERSONA</td>\n",
       "      <td>4.029171e+03</td>\n",
       "    </tr>\n",
       "    <tr>\n",
       "      <th>13</th>\n",
       "      <td>VIA</td>\n",
       "      <td>4.008999e+03</td>\n",
       "    </tr>\n",
       "    <tr>\n",
       "      <th>14</th>\n",
       "      <td>SUB_TIPO</td>\n",
       "      <td>3.833000e+03</td>\n",
       "    </tr>\n",
       "    <tr>\n",
       "      <th>15</th>\n",
       "      <td>TIPO</td>\n",
       "      <td>2.414202e+03</td>\n",
       "    </tr>\n",
       "    <tr>\n",
       "      <th>16</th>\n",
       "      <td>DERIVADA_FISCALIA</td>\n",
       "      <td>5.342154e+02</td>\n",
       "    </tr>\n",
       "    <tr>\n",
       "      <th>17</th>\n",
       "      <td>SEXO</td>\n",
       "      <td>1.043352e+02</td>\n",
       "    </tr>\n",
       "    <tr>\n",
       "      <th>18</th>\n",
       "      <td>PAIS_NATAL</td>\n",
       "      <td>2.053588e+01</td>\n",
       "    </tr>\n",
       "    <tr>\n",
       "      <th>19</th>\n",
       "      <td>UBICACION</td>\n",
       "      <td>-2.367401e+11</td>\n",
       "    </tr>\n",
       "  </tbody>\n",
       "</table>\n",
       "</div>"
      ],
      "text/plain": [
       "       caracteristica       puntaje\n",
       "0           COMISARIA  7.298180e+05\n",
       "1          DIST_HECHO  7.127721e+05\n",
       "2            DIST_CIA  3.825275e+05\n",
       "3           DIRECCION  4.653078e+04\n",
       "4          PROV_HECHO  3.845520e+04\n",
       "5            PROV_CIA  3.797706e+04\n",
       "6              REGION  2.030060e+04\n",
       "7               LIBRO  9.941613e+03\n",
       "8            DPTO_CIA  8.510779e+03\n",
       "9          DPTO_HECHO  7.682613e+03\n",
       "10      TIPO_DENUNCIA  5.504318e+03\n",
       "11          EST_CIVIL  4.506780e+03\n",
       "12        SIT_PERSONA  4.029171e+03\n",
       "13                VIA  4.008999e+03\n",
       "14           SUB_TIPO  3.833000e+03\n",
       "15               TIPO  2.414202e+03\n",
       "16  DERIVADA_FISCALIA  5.342154e+02\n",
       "17               SEXO  1.043352e+02\n",
       "18         PAIS_NATAL  2.053588e+01\n",
       "19          UBICACION -2.367401e+11"
      ]
     },
     "execution_count": 9,
     "metadata": {},
     "output_type": "execute_result"
    }
   ],
   "source": [
    "feature = []\n",
    "for i in range(len(fs.scores_)):\n",
    "    feature.append([object_columns[i], fs.scores_[i]])\n",
    "feature_list = pd.DataFrame(feature, columns=['caracteristica', 'puntaje'])\n",
    "feature_list = feature_list.sort_values(by='puntaje', ascending=False).reset_index(drop=True)\n",
    "feature_list"
   ]
  },
  {
   "cell_type": "code",
   "execution_count": 12,
   "metadata": {},
   "outputs": [
    {
     "data": {
      "image/png": "[encoded data removed]",
      "text/plain": [
       "<Figure size 432x288 with 1 Axes>"
      ]
     },
     "metadata": {
      "needs_background": "light"
     },
     "output_type": "display_data"
    }
   ],
   "source": [
    "import matplotlib.pyplot as plt\n",
    "\n",
    "feature_bar = feature_list.iloc[0:10].sort_values(by='puntaje', ascending=True).reset_index(drop=True)\n",
    "peso = feature_bar['puntaje'].to_numpy()\n",
    "caracteristica = feature_bar['caracteristica'].to_numpy()\n",
    "\n",
    "plt.yticks(fontsize= 13)\n",
    "plt.xticks(fontsize= 12, rotation=90)\n",
    "plt.ylabel(\"caracteristica\", fontsize=25)\n",
    "plt.xlabel(\"puntaje\", fontsize=25)\n",
    "plt.barh(caracteristica, peso)\n",
    "plt.show()"
   ]
  }
 ],
 "metadata": {
  "kernelspec": {
   "display_name": "Python 3.9.12 ('base')",
   "language": "python",
   "name": "python3"
  },
  "language_info": {
   "codemirror_mode": {
    "name": "ipython",
    "version": 3
   },
   "file_extension": ".py",
   "mimetype": "text/x-python",
   "name": "python",
   "nbconvert_exporter": "python",
   "pygments_lexer": "ipython3",
   "version": "3.9.12"
  },
  "orig_nbformat": 4,
  "vscode": {
   "interpreter": {
    "hash": "a853a36dd34f4e127a1c940f133f5f5f69f52494a182d60a25a7162197551ce1"
   }
  }
 },
 "nbformat": 4,
 "nbformat_minor": 2
}
