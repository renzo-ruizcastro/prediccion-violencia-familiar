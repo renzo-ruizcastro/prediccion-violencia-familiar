{
 "cells": [
  {
   "cell_type": "code",
   "execution_count": 1,
   "metadata": {},
   "outputs": [],
   "source": [
    "import pandas as pd"
   ]
  },
  {
   "cell_type": "code",
   "execution_count": 2,
   "metadata": {},
   "outputs": [],
   "source": [
    "dataset = pd.read_csv('../dataset/dataset_preprocessed.csv', encoding='utf-8', header=0, low_memory=False)"
   ]
  },
  {
   "cell_type": "code",
   "execution_count": 3,
   "metadata": {},
   "outputs": [
    {
     "name": "stdout",
     "output_type": "stream",
     "text": [
      "<class 'pandas.core.frame.DataFrame'>\n",
      "RangeIndex: 406431 entries, 0 to 406430\n",
      "Data columns (total 29 columns):\n",
      " #   Column                    Non-Null Count   Dtype \n",
      "---  ------                    --------------   ----- \n",
      " 0   COMISARIA                 406431 non-null  object\n",
      " 1   DERIVADA_FISCALIA         406431 non-null  object\n",
      " 2   DIRECCION                 406431 non-null  object\n",
      " 3   DIST_CIA                  406431 non-null  object\n",
      " 4   DIST_HECHO                406431 non-null  object\n",
      " 5   DPTO_CIA                  406431 non-null  object\n",
      " 6   DPTO_HECHO                406431 non-null  object\n",
      " 7   EDAD                      406431 non-null  int64 \n",
      " 8   EST_CIVIL                 406431 non-null  object\n",
      " 9   LIBRO                     406431 non-null  object\n",
      " 10  MODALIDAD                 406431 non-null  object\n",
      " 11  PROV_CIA                  406431 non-null  object\n",
      " 12  PROV_HECHO                406431 non-null  object\n",
      " 13  REGION                    406431 non-null  object\n",
      " 14  SEXO                      406431 non-null  object\n",
      " 15  SUB_TIPO                  406431 non-null  object\n",
      " 16  TIPO                      406431 non-null  object\n",
      " 17  TIPO_DENUNCIA             406431 non-null  object\n",
      " 18  UBICACION                 406431 non-null  object\n",
      " 19  VIA                       406431 non-null  object\n",
      " 20  PAIS_NATAL                406431 non-null  object\n",
      " 21  FEC_REGISTRO_ANIO         406431 non-null  int64 \n",
      " 22  FEC_REGISTRO_MES          406431 non-null  int64 \n",
      " 23  FEC_REGISTRO_DIA          406431 non-null  int64 \n",
      " 24  FEC_REGISTRO_DIA_SEM      406431 non-null  int64 \n",
      " 25  FECHA_HORA_HECHO_ANIO     406431 non-null  int64 \n",
      " 26  FECHA_HORA_HECHO_MES      406431 non-null  int64 \n",
      " 27  FECHA_HORA_HECHO_DIA      406431 non-null  int64 \n",
      " 28  FECHA_HORA_HECHO_DIA_SEM  406431 non-null  int64 \n",
      "dtypes: int64(9), object(20)\n",
      "memory usage: 89.9+ MB\n"
     ]
    }
   ],
   "source": [
    "dataset.info()"
   ]
  },
  {
   "cell_type": "code",
   "execution_count": 4,
   "metadata": {},
   "outputs": [],
   "source": [
    "x = dataset.drop('MODALIDAD', axis=1)\n",
    "y = dataset['MODALIDAD']"
   ]
  },
  {
   "cell_type": "code",
   "execution_count": 5,
   "metadata": {},
   "outputs": [],
   "source": [
    "# Separamos las variables categoricas y las numericas en dataset\n",
    "object_columns = x.select_dtypes(['object']).columns.to_list()\n",
    "int64_columns = x.select_dtypes(['int64']).columns.to_list()"
   ]
  },
  {
   "cell_type": "code",
   "execution_count": 6,
   "metadata": {},
   "outputs": [],
   "source": [
    "from sklearn.preprocessing import LabelEncoder\n",
    "cat_columns_encoded = {}\n",
    "\n",
    "def encode(col):\n",
    "    cat_columns_encoded[col] = LabelEncoder()\n",
    "    x[col] = cat_columns_encoded[col].fit_transform(dataset[col])\n",
    "\n",
    "def show_encoded_column(col):\n",
    "    classes = cat_columns_encoded[col].classes_\n",
    "    for i, c in enumerate(classes):\n",
    "        print(f'{i} -> {c}')\n",
    "\n",
    "for col in object_columns:\n",
    "    encode(col)"
   ]
  },
  {
   "cell_type": "code",
   "execution_count": 7,
   "metadata": {},
   "outputs": [
    {
     "data": {
      "text/plain": [
       "SelectKBest(k='all', score_func=<function chi2 at 0x000002DBB663F310>)"
      ]
     },
     "execution_count": 7,
     "metadata": {},
     "output_type": "execute_result"
    }
   ],
   "source": [
    "from sklearn.feature_selection import SelectKBest\n",
    "from sklearn.feature_selection import chi2\n",
    "fs = SelectKBest(chi2, k='all')\n",
    "fs.fit(x[object_columns], y)"
   ]
  },
  {
   "cell_type": "code",
   "execution_count": 8,
   "metadata": {},
   "outputs": [
    {
     "data": {
      "text/html": [
       "<div>\n",
       "<style scoped>\n",
       "    .dataframe tbody tr th:only-of-type {\n",
       "        vertical-align: middle;\n",
       "    }\n",
       "\n",
       "    .dataframe tbody tr th {\n",
       "        vertical-align: top;\n",
       "    }\n",
       "\n",
       "    .dataframe thead th {\n",
       "        text-align: right;\n",
       "    }\n",
       "</style>\n",
       "<table border=\"1\" class=\"dataframe\">\n",
       "  <thead>\n",
       "    <tr style=\"text-align: right;\">\n",
       "      <th></th>\n",
       "      <th>caracteristica</th>\n",
       "      <th>puntaje</th>\n",
       "    </tr>\n",
       "  </thead>\n",
       "  <tbody>\n",
       "    <tr>\n",
       "      <th>0</th>\n",
       "      <td>DIST_HECHO</td>\n",
       "      <td>3.590971e+05</td>\n",
       "    </tr>\n",
       "    <tr>\n",
       "      <th>1</th>\n",
       "      <td>COMISARIA</td>\n",
       "      <td>3.551776e+05</td>\n",
       "    </tr>\n",
       "    <tr>\n",
       "      <th>2</th>\n",
       "      <td>DIST_CIA</td>\n",
       "      <td>2.062075e+05</td>\n",
       "    </tr>\n",
       "    <tr>\n",
       "      <th>3</th>\n",
       "      <td>DIRECCION</td>\n",
       "      <td>2.657823e+04</td>\n",
       "    </tr>\n",
       "    <tr>\n",
       "      <th>4</th>\n",
       "      <td>PROV_HECHO</td>\n",
       "      <td>1.562858e+04</td>\n",
       "    </tr>\n",
       "    <tr>\n",
       "      <th>5</th>\n",
       "      <td>PROV_CIA</td>\n",
       "      <td>1.550932e+04</td>\n",
       "    </tr>\n",
       "    <tr>\n",
       "      <th>6</th>\n",
       "      <td>REGION</td>\n",
       "      <td>9.858573e+03</td>\n",
       "    </tr>\n",
       "    <tr>\n",
       "      <th>7</th>\n",
       "      <td>LIBRO</td>\n",
       "      <td>4.280276e+03</td>\n",
       "    </tr>\n",
       "    <tr>\n",
       "      <th>8</th>\n",
       "      <td>DPTO_CIA</td>\n",
       "      <td>3.865478e+03</td>\n",
       "    </tr>\n",
       "    <tr>\n",
       "      <th>9</th>\n",
       "      <td>DPTO_HECHO</td>\n",
       "      <td>3.438053e+03</td>\n",
       "    </tr>\n",
       "    <tr>\n",
       "      <th>10</th>\n",
       "      <td>TIPO_DENUNCIA</td>\n",
       "      <td>2.771112e+03</td>\n",
       "    </tr>\n",
       "    <tr>\n",
       "      <th>11</th>\n",
       "      <td>EST_CIVIL</td>\n",
       "      <td>1.881684e+03</td>\n",
       "    </tr>\n",
       "    <tr>\n",
       "      <th>12</th>\n",
       "      <td>VIA</td>\n",
       "      <td>1.802839e+03</td>\n",
       "    </tr>\n",
       "    <tr>\n",
       "      <th>13</th>\n",
       "      <td>TIPO</td>\n",
       "      <td>1.670411e+03</td>\n",
       "    </tr>\n",
       "    <tr>\n",
       "      <th>14</th>\n",
       "      <td>SUB_TIPO</td>\n",
       "      <td>1.600000e+03</td>\n",
       "    </tr>\n",
       "    <tr>\n",
       "      <th>15</th>\n",
       "      <td>SEXO</td>\n",
       "      <td>3.027891e+02</td>\n",
       "    </tr>\n",
       "    <tr>\n",
       "      <th>16</th>\n",
       "      <td>DERIVADA_FISCALIA</td>\n",
       "      <td>2.207643e+02</td>\n",
       "    </tr>\n",
       "    <tr>\n",
       "      <th>17</th>\n",
       "      <td>PAIS_NATAL</td>\n",
       "      <td>1.161054e+01</td>\n",
       "    </tr>\n",
       "    <tr>\n",
       "      <th>18</th>\n",
       "      <td>UBICACION</td>\n",
       "      <td>-6.522195e+11</td>\n",
       "    </tr>\n",
       "  </tbody>\n",
       "</table>\n",
       "</div>"
      ],
      "text/plain": [
       "       caracteristica       puntaje\n",
       "0          DIST_HECHO  3.590971e+05\n",
       "1           COMISARIA  3.551776e+05\n",
       "2            DIST_CIA  2.062075e+05\n",
       "3           DIRECCION  2.657823e+04\n",
       "4          PROV_HECHO  1.562858e+04\n",
       "5            PROV_CIA  1.550932e+04\n",
       "6              REGION  9.858573e+03\n",
       "7               LIBRO  4.280276e+03\n",
       "8            DPTO_CIA  3.865478e+03\n",
       "9          DPTO_HECHO  3.438053e+03\n",
       "10      TIPO_DENUNCIA  2.771112e+03\n",
       "11          EST_CIVIL  1.881684e+03\n",
       "12                VIA  1.802839e+03\n",
       "13               TIPO  1.670411e+03\n",
       "14           SUB_TIPO  1.600000e+03\n",
       "15               SEXO  3.027891e+02\n",
       "16  DERIVADA_FISCALIA  2.207643e+02\n",
       "17         PAIS_NATAL  1.161054e+01\n",
       "18          UBICACION -6.522195e+11"
      ]
     },
     "execution_count": 8,
     "metadata": {},
     "output_type": "execute_result"
    }
   ],
   "source": [
    "feature = []\n",
    "for i in range(len(fs.scores_)):\n",
    "    feature.append([object_columns[i], fs.scores_[i]])\n",
    "feature_list = pd.DataFrame(feature, columns=['caracteristica', 'puntaje'])\n",
    "feature_list = feature_list.sort_values(by='puntaje', ascending=False).reset_index(drop=True)\n",
    "feature_list"
   ]
  },
  {
   "cell_type": "code",
   "execution_count": 9,
   "metadata": {},
   "outputs": [
    {
     "data": {
      "image/png": "[encoded data removed]",
      "text/plain": [
       "<Figure size 432x288 with 1 Axes>"
      ]
     },
     "metadata": {
      "needs_background": "light"
     },
     "output_type": "display_data"
    }
   ],
   "source": [
    "import matplotlib.pyplot as plt\n",
    "\n",
    "feature_bar = feature_list.iloc[0:10].sort_values(by='puntaje', ascending=True).reset_index(drop=True)\n",
    "peso = feature_bar['puntaje'].to_numpy()\n",
    "caracteristica = feature_bar['caracteristica'].to_numpy()\n",
    "\n",
    "plt.yticks(fontsize= 13)\n",
    "plt.xticks(fontsize= 12, rotation=90)\n",
    "plt.ylabel(\"caracteristica\", fontsize=25)\n",
    "plt.xlabel(\"puntaje\", fontsize=25)\n",
    "plt.barh(caracteristica, peso)\n",
    "plt.show()"
   ]
  }
 ],
 "metadata": {
  "kernelspec": {
   "display_name": "Python 3.9.12 ('base')",
   "language": "python",
   "name": "python3"
  },
  "language_info": {
   "codemirror_mode": {
    "name": "ipython",
    "version": 3
   },
   "file_extension": ".py",
   "mimetype": "text/x-python",
   "name": "python",
   "nbconvert_exporter": "python",
   "pygments_lexer": "ipython3",
   "version": "3.9.12"
  },
  "orig_nbformat": 4,
  "vscode": {
   "interpreter": {
    "hash": "a853a36dd34f4e127a1c940f133f5f5f69f52494a182d60a25a7162197551ce1"
   }
  }
 },
 "nbformat": 4,
 "nbformat_minor": 2
}
