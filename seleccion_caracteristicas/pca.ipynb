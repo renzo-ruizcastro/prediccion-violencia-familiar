{
 "cells": [
  {
   "cell_type": "code",
   "execution_count": 1,
   "metadata": {},
   "outputs": [],
   "source": [
    "import pandas as pd\n",
    "import numpy as np\n",
    "from sklearn.preprocessing import StandardScaler"
   ]
  },
  {
   "cell_type": "code",
   "execution_count": 2,
   "metadata": {},
   "outputs": [],
   "source": [
    "dataset = pd.read_csv('../dataset/dataset_preprocessed_numeric.csv', header=0, low_memory=False)"
   ]
  },
  {
   "cell_type": "code",
   "execution_count": 3,
   "metadata": {},
   "outputs": [
    {
     "name": "stdout",
     "output_type": "stream",
     "text": [
      "<class 'pandas.core.frame.DataFrame'>\n",
      "RangeIndex: 406431 entries, 0 to 406430\n",
      "Data columns (total 29 columns):\n",
      " #   Column                    Non-Null Count   Dtype\n",
      "---  ------                    --------------   -----\n",
      " 0   COMISARIA                 406431 non-null  int64\n",
      " 1   DERIVADA_FISCALIA         406431 non-null  int64\n",
      " 2   DIRECCION                 406431 non-null  int64\n",
      " 3   DIST_CIA                  406431 non-null  int64\n",
      " 4   DIST_HECHO                406431 non-null  int64\n",
      " 5   DPTO_CIA                  406431 non-null  int64\n",
      " 6   DPTO_HECHO                406431 non-null  int64\n",
      " 7   EDAD                      406431 non-null  int64\n",
      " 8   EST_CIVIL                 406431 non-null  int64\n",
      " 9   LIBRO                     406431 non-null  int64\n",
      " 10  MODALIDAD                 406431 non-null  int64\n",
      " 11  PROV_CIA                  406431 non-null  int64\n",
      " 12  PROV_HECHO                406431 non-null  int64\n",
      " 13  REGION                    406431 non-null  int64\n",
      " 14  SEXO                      406431 non-null  int64\n",
      " 15  SUB_TIPO                  406431 non-null  int64\n",
      " 16  TIPO                      406431 non-null  int64\n",
      " 17  TIPO_DENUNCIA             406431 non-null  int64\n",
      " 18  UBICACION                 406431 non-null  int64\n",
      " 19  VIA                       406431 non-null  int64\n",
      " 20  PAIS_NATAL                406431 non-null  int64\n",
      " 21  FEC_REGISTRO_ANIO         406431 non-null  int64\n",
      " 22  FEC_REGISTRO_MES          406431 non-null  int64\n",
      " 23  FEC_REGISTRO_DIA          406431 non-null  int64\n",
      " 24  FEC_REGISTRO_DIA_SEM      406431 non-null  int64\n",
      " 25  FECHA_HORA_HECHO_ANIO     406431 non-null  int64\n",
      " 26  FECHA_HORA_HECHO_MES      406431 non-null  int64\n",
      " 27  FECHA_HORA_HECHO_DIA      406431 non-null  int64\n",
      " 28  FECHA_HORA_HECHO_DIA_SEM  406431 non-null  int64\n",
      "dtypes: int64(29)\n",
      "memory usage: 89.9 MB\n"
     ]
    }
   ],
   "source": [
    "dataset.info()"
   ]
  },
  {
   "cell_type": "code",
   "execution_count": 4,
   "metadata": {},
   "outputs": [],
   "source": [
    "x = dataset.drop('MODALIDAD', axis=1).values\n",
    "y = dataset['MODALIDAD'].values"
   ]
  },
  {
   "cell_type": "code",
   "execution_count": 5,
   "metadata": {},
   "outputs": [
    {
     "name": "stdout",
     "output_type": "stream",
     "text": [
      "[[ 371    4  283 ...    1    1    4]\n",
      " [ 311    4  539 ...    1    1    4]\n",
      " [ 431    7 1181 ...    1    2    5]\n",
      " ...\n",
      " [ 918    4 1476 ...   12   26    3]\n",
      " [ 918    7 1476 ...   12   31    1]\n",
      " [ 937    4  676 ...   11   25    0]]\n",
      "[2 2 2 ... 6 6 4]\n"
     ]
    }
   ],
   "source": [
    "print(x)\n",
    "print(y)"
   ]
  },
  {
   "cell_type": "markdown",
   "metadata": {},
   "source": [
    "### PCA"
   ]
  },
  {
   "cell_type": "markdown",
   "metadata": {},
   "source": [
    "#### Matriz de covarianza"
   ]
  },
  {
   "cell_type": "code",
   "execution_count": 6,
   "metadata": {},
   "outputs": [],
   "source": [
    "class convers_pca():\n",
    "    def __init__(self, no_of_components):\n",
    "        self.no_of_components = no_of_components\n",
    "        self.eigen_values = None\n",
    "        self.eigen_vectors = None\n",
    "    def transform(self, x):\n",
    "        return np.dot(x - self.mean, self.projection_matrix.T)\n",
    "    def inverse_transform(self, x):\n",
    "        return np.dot(x, self.projection_matrix) + self.mean\n",
    "    def fit(self, x):\n",
    "        self.no_of_components = x.shape[1] if self.no_of_components is None else self.no_of_components\n",
    "        self.mean = np.mean(x, axis=0)\n",
    "        cov_matrix = np.cov(x - self.mean, rowvar=False)\n",
    "        self.eigen_values, self.eigen_vectors = np.linalg.eig(cov_matrix)\n",
    "        self.eigen_vectors = self.eigen_vectors.T\n",
    "        self.sorted_components = np.argsort(self.eigen_values)[::-1]\n",
    "        self.projection_matrix = self.eigen_vectors[self.sorted_components[:self.no_of_components]]\n",
    "        self.explained_variance = self.eigen_values[self.sorted_components]\n",
    "        self.explained_variance_ratio = self.explained_variance / self.eigen_values.sum()"
   ]
  },
  {
   "cell_type": "code",
   "execution_count": 7,
   "metadata": {},
   "outputs": [],
   "source": [
    "std = StandardScaler()\n",
    "x_std = std.fit_transform(x)"
   ]
  },
  {
   "cell_type": "code",
   "execution_count": 8,
   "metadata": {},
   "outputs": [],
   "source": [
    "pca = convers_pca(no_of_components=2)\n",
    "pca.fit(x_std)"
   ]
  },
  {
   "cell_type": "code",
   "execution_count": 9,
   "metadata": {},
   "outputs": [
    {
     "data": {
      "text/plain": [
       "array([[ 1.32093890e-01, -5.09487620e-02,  6.27947364e-03,\n",
       "         2.34811251e-01,  2.26217398e-01,  4.24148048e-01,\n",
       "         4.23332626e-01, -1.61254371e-02,  2.74813700e-02,\n",
       "         4.46249143e-02,  4.07278401e-01,  4.05235901e-01,\n",
       "         3.36758852e-01,  9.77430561e-04,  1.75081128e-02,\n",
       "        -1.44625287e-01,  6.30594624e-02, -2.88237692e-02,\n",
       "         1.57415162e-02,  8.67608765e-03,  1.44743427e-01,\n",
       "         1.07959593e-03,  7.31800425e-03,  6.58242164e-04,\n",
       "         1.43502474e-01, -2.48223068e-03,  5.38672991e-03,\n",
       "        -3.21734565e-05],\n",
       "       [ 8.25719274e-02,  7.48724265e-02, -7.62184940e-03,\n",
       "         1.35903131e-01,  1.41337751e-01,  1.24018543e-01,\n",
       "         1.21907544e-01, -1.16590169e-02, -5.02344657e-02,\n",
       "         8.09626818e-02,  1.39577547e-01,  1.39516082e-01,\n",
       "        -2.12479532e-01,  5.94618457e-03, -3.90998835e-02,\n",
       "         4.73081236e-01,  9.31628819e-02,  1.34739763e-02,\n",
       "         2.15716573e-02, -3.08445016e-02, -5.40387982e-01,\n",
       "         5.28768730e-02, -1.34536768e-02,  1.13782457e-03,\n",
       "        -5.39313029e-01,  6.26578104e-02, -7.87207256e-03,\n",
       "         5.45127257e-03],\n",
       "       [-7.21176981e-02, -2.95069407e-02, -3.18110241e-02,\n",
       "        -1.17043196e-01, -1.14993658e-01,  1.90155054e-02,\n",
       "         2.15327136e-02,  5.47369239e-02, -4.72478617e-04,\n",
       "        -6.99576576e-02, -3.94730332e-03, -3.89313218e-03,\n",
       "         1.71160408e-01, -6.76263722e-03,  1.19365236e-02,\n",
       "        -1.49633150e-01, -7.92377598e-02, -2.42059514e-02,\n",
       "        -5.61231000e-02,  1.16786906e-02, -7.79992927e-02,\n",
       "         6.62205146e-01,  5.55624785e-02, -2.77882094e-03,\n",
       "        -7.78523435e-02,  6.61679834e-01,  6.01962863e-02,\n",
       "         4.81768764e-03],\n",
       "       [ 3.15736048e-01,  4.95267520e-02,  2.46628136e-01,\n",
       "         5.56197625e-01,  5.60988222e-01, -2.22368400e-01,\n",
       "        -2.23496959e-01,  5.89459586e-02, -3.52870858e-02,\n",
       "        -1.09196292e-01, -1.15570524e-01, -1.15993522e-01,\n",
       "        -9.28917391e-02, -1.56720812e-02, -1.20882869e-03,\n",
       "        -8.83322328e-02, -1.02524040e-01,  5.27254919e-02,\n",
       "        -3.43391199e-02,  6.44081289e-03,  6.54094630e-02,\n",
       "         1.24228815e-01, -2.00659613e-03,  5.88248860e-03,\n",
       "         6.48402780e-02,  1.22263501e-01, -3.71120209e-03,\n",
       "         2.99667456e-03],\n",
       "       [-3.93269479e-02,  8.64711423e-02,  8.62434149e-03,\n",
       "        -2.02865688e-02, -2.11509167e-02,  1.02886332e-02,\n",
       "         1.30014101e-02,  1.63385300e-02,  6.68398394e-03,\n",
       "        -1.50565996e-01,  3.57259787e-02,  3.52127557e-02,\n",
       "         2.17716247e-02,  9.86796587e-03, -2.40337402e-02,\n",
       "         1.63206431e-03, -1.50632891e-01, -3.38606788e-02,\n",
       "        -8.28008895e-02, -6.40157227e-03, -3.07436433e-03,\n",
       "         3.21439016e-02, -6.82072379e-01, -3.43829703e-04,\n",
       "        -3.10430302e-03,  3.07003629e-02, -6.82011493e-01,\n",
       "        -5.20836262e-03],\n",
       "       [ 1.30319466e-01, -8.34624990e-02, -7.68477167e-02,\n",
       "         2.84776181e-02,  3.16679657e-02, -1.47589638e-02,\n",
       "        -2.50232692e-02, -3.37139536e-02, -1.60319630e-02,\n",
       "         6.27936675e-01, -1.34997138e-01, -1.33868615e-01,\n",
       "        -1.02949914e-02, -1.97431294e-02,  8.01408098e-02,\n",
       "        -7.79533780e-02,  6.24767565e-01,  1.12222513e-01,\n",
       "         1.78665080e-01,  2.82556581e-02,  5.86194198e-02,\n",
       "         1.03597410e-01, -1.68989307e-01,  3.87982427e-02,\n",
       "         5.90903895e-02,  1.02569672e-01, -1.66606265e-01,\n",
       "         3.16233197e-02],\n",
       "       [-1.16769439e-02, -2.05268836e-02,  1.34155708e-03,\n",
       "         2.92117990e-03,  1.33871931e-03,  8.28328903e-03,\n",
       "         8.03550509e-03,  1.86409724e-01, -1.64698645e-01,\n",
       "         3.21453509e-02, -8.46860912e-03, -8.58761589e-03,\n",
       "         1.03994069e-02, -8.68684525e-02, -3.14496376e-03,\n",
       "        -5.50291875e-04,  2.79833455e-02,  1.27823749e-02,\n",
       "         3.98179936e-02, -8.32353758e-03,  2.72477589e-03,\n",
       "        -2.87737978e-03, -4.80218276e-03, -6.78656051e-01,\n",
       "         2.28688646e-03, -3.58632054e-03, -9.24718251e-03,\n",
       "        -6.82101085e-01],\n",
       "       [ 4.37812621e-02,  5.69180095e-02,  4.01837533e-02,\n",
       "         1.16735554e-02,  1.38580273e-02, -3.41519699e-02,\n",
       "        -3.43668366e-02, -6.65722303e-01,  6.77860044e-01,\n",
       "        -3.70543453e-03,  7.35203393e-03,  7.80585149e-03,\n",
       "        -3.90877872e-02,  6.71144673e-02,  1.19539252e-02,\n",
       "         1.17488409e-02,  1.31316002e-02, -2.06306971e-02,\n",
       "        -4.90165233e-02,  9.59066926e-02, -7.83407943e-03,\n",
       "         3.88219534e-02,  2.34088186e-03, -1.83352519e-01,\n",
       "        -6.59967272e-03,  3.89908287e-02,  8.36569199e-04,\n",
       "        -1.80209094e-01],\n",
       "       [-7.37336471e-04,  1.46358585e-03,  4.58047339e-04,\n",
       "        -1.22038356e-03,  2.11233715e-03,  2.36214922e-03,\n",
       "         2.51921194e-04,  4.43409361e-04,  4.46630869e-04,\n",
       "         6.00892261e-04,  4.88615322e-05, -1.24515727e-03,\n",
       "        -1.02284232e-03, -2.32121241e-04,  5.28936333e-04,\n",
       "        -7.36542929e-04, -7.60367870e-04, -8.06258856e-04,\n",
       "        -9.37915340e-04, -3.89226805e-05,  2.08926246e-01,\n",
       "        -6.75999237e-01, -2.40038814e-02,  1.09176309e-03,\n",
       "        -1.96415247e-01,  6.77987633e-01,  2.29616251e-02,\n",
       "        -1.79720834e-03],\n",
       "       [-1.00715230e-03,  1.66393228e-04,  2.18291765e-03,\n",
       "        -3.51255997e-02,  3.21241312e-02,  1.96054406e-01,\n",
       "        -1.98117948e-01,  3.16450817e-04,  2.25021611e-04,\n",
       "         3.93372902e-03,  6.80274870e-01, -6.76166292e-01,\n",
       "        -4.34833916e-03,  5.64099548e-04, -4.94117310e-04,\n",
       "        -9.61238686e-04, -4.95071076e-03, -3.39353733e-04,\n",
       "        -5.99088272e-06, -3.56600723e-04, -1.14887000e-04,\n",
       "         1.34456383e-03,  3.29103247e-04, -2.97339991e-05,\n",
       "         1.69381966e-03, -2.02336964e-04, -8.12607445e-05,\n",
       "        -5.10121509e-05],\n",
       "       [ 1.24921492e-03, -1.69778404e-03, -3.24570464e-03,\n",
       "        -1.41545424e-03,  4.11081848e-03, -6.80517313e-01,\n",
       "         6.77484277e-01, -6.36011598e-04, -3.11228308e-04,\n",
       "         1.61833586e-03,  1.98027643e-01, -1.96368492e-01,\n",
       "        -2.18728471e-03, -1.91980584e-04,  1.16604550e-04,\n",
       "        -1.25045947e-03,  8.35021309e-03,  1.23746408e-03,\n",
       "         1.36561435e-03,  1.11036698e-04, -2.89326735e-03,\n",
       "        -1.89046675e-03, -2.55437495e-04,  2.54997200e-04,\n",
       "         2.26485718e-03,  1.39048014e-03,  1.74390076e-04,\n",
       "        -8.82264989e-05],\n",
       "       [-3.32550854e-04,  2.37514609e-04, -5.25312666e-04,\n",
       "        -1.13795401e-03,  4.82163232e-04, -2.81109314e-03,\n",
       "         2.51282796e-03, -1.31875915e-03, -2.85649263e-04,\n",
       "         4.12564966e-04,  1.14174885e-03, -1.66592641e-03,\n",
       "        -5.77661232e-04,  2.07502048e-04, -3.95007674e-04,\n",
       "         1.02091910e-02,  3.23192783e-04,  5.56048658e-06,\n",
       "        -2.40310076e-04,  1.26546036e-04,  6.79413954e-01,\n",
       "         2.03805341e-01,  1.43233460e-02,  7.51545956e-04,\n",
       "        -6.75287300e-01, -2.00804041e-01, -1.38503291e-02,\n",
       "        -3.34772605e-04],\n",
       "       [-1.22457733e-02, -6.88608984e-03,  1.78323641e-02,\n",
       "        -7.07433307e-01,  7.04380551e-01, -3.27061667e-03,\n",
       "         1.01333337e-02, -2.19838979e-03, -3.84617559e-03,\n",
       "        -1.04562040e-02, -2.61790988e-02,  3.99708080e-02,\n",
       "        -8.04530584e-03,  2.59655998e-04, -1.53094024e-03,\n",
       "        -6.83952942e-03,  1.01943624e-02, -2.24785972e-03,\n",
       "         9.22073963e-03, -5.21908626e-04,  2.07717237e-03,\n",
       "         8.28320042e-04, -2.58013544e-03, -7.96961567e-06,\n",
       "         4.37083405e-03, -2.06556873e-03,  1.34295000e-03,\n",
       "        -6.42914410e-04],\n",
       "       [-1.37515942e-02,  2.21864440e-02, -2.09839778e-02,\n",
       "         9.94753473e-03,  2.23416852e-02, -1.64304602e-01,\n",
       "        -1.63871163e-01, -1.22019658e-02, -1.55406161e-02,\n",
       "        -2.44207585e-02,  3.67144860e-03, -1.25430577e-04,\n",
       "         5.37592537e-01,  7.23188485e-03, -9.52838785e-03,\n",
       "         7.45041025e-01,  7.69452991e-02,  4.59839286e-03,\n",
       "        -3.38295027e-02,  1.08432482e-04,  1.93971621e-01,\n",
       "         4.85413384e-02, -5.84084784e-02, -8.64532336e-04,\n",
       "         2.04535972e-01,  4.57331658e-02,  6.90725192e-02,\n",
       "         4.24518077e-03],\n",
       "       [-2.13049078e-03,  6.98927409e-03, -3.73734677e-03,\n",
       "        -9.90527454e-04,  4.40430080e-03, -2.27933360e-02,\n",
       "        -2.25501084e-02, -1.85942633e-03, -1.97798244e-03,\n",
       "        -8.59317003e-03, -9.19842781e-04, -1.03437234e-03,\n",
       "         7.47422888e-02, -1.85528525e-03,  1.67218645e-03,\n",
       "         5.25846511e-02,  1.89065492e-02,  2.01631908e-04,\n",
       "        -6.07013839e-03,  4.16142916e-04, -5.76408873e-03,\n",
       "        -2.63800679e-02,  7.03314478e-01, -3.50978508e-03,\n",
       "         8.33643300e-03,  2.68631586e-02, -7.02701928e-01,\n",
       "         8.65729033e-03],\n",
       "       [ 9.04517673e-02,  4.79688849e-02,  2.69478859e-03,\n",
       "        -2.82480612e-02, -6.67295729e-03,  6.27900585e-02,\n",
       "         7.22981226e-02, -3.83497604e-03,  3.62690639e-03,\n",
       "         6.75417262e-01, -3.40466084e-02, -2.66638003e-02,\n",
       "        -6.59965299e-02,  2.50339083e-03, -6.74827928e-02,\n",
       "         1.27351545e-01, -6.93501109e-01,  2.71597447e-02,\n",
       "        -2.44568209e-02,  4.74135719e-04,  7.59689783e-02,\n",
       "         2.74213209e-02,  1.86422419e-02,  8.04104699e-04,\n",
       "         7.96109974e-02,  2.63554728e-02, -9.51108350e-03,\n",
       "        -1.81994647e-03],\n",
       "       [-6.21792566e-03,  2.50977563e-02,  2.62942444e-02,\n",
       "        -9.87362996e-03, -2.26840062e-02,  2.66216954e-01,\n",
       "         2.66343018e-01, -7.29131897e-03, -3.75168735e-02,\n",
       "        -1.76198622e-01, -5.74867588e-02, -5.63112243e-02,\n",
       "        -6.30758838e-01,  1.65061488e-02, -2.53271839e-02,\n",
       "         3.58852431e-01,  1.04765978e-01,  2.23707687e-02,\n",
       "        -3.74063851e-03, -5.03859619e-03,  3.33711953e-01,\n",
       "         1.50113231e-01,  3.25434496e-02, -3.77369205e-02,\n",
       "         3.44182717e-01,  1.47094960e-01, -1.76779956e-02,\n",
       "         3.71778604e-02],\n",
       "       [-2.34163171e-03,  1.31382442e-02,  6.16899387e-03,\n",
       "        -1.94724473e-03, -3.44354901e-03,  1.46921858e-02,\n",
       "         1.44590537e-02, -1.05145288e-02, -1.46870673e-02,\n",
       "        -1.29215761e-02, -3.32621777e-03, -3.19535101e-03,\n",
       "        -2.79183996e-02,  4.98438660e-02, -2.16640680e-03,\n",
       "         2.06840243e-02,  5.31852753e-03, -2.65517579e-03,\n",
       "         6.00797547e-03, -3.00097753e-03,  1.48211711e-02,\n",
       "         1.25381090e-02,  1.15521520e-02,  7.03740346e-01,\n",
       "         1.74005290e-02,  1.04190452e-02, -2.72999530e-03,\n",
       "        -7.06308977e-01],\n",
       "       [ 5.90160855e-02,  7.42871748e-03,  2.01376671e-02,\n",
       "        -2.09083847e-02, -2.57254313e-02, -1.23486176e-02,\n",
       "        -1.29304976e-02, -6.98474526e-01, -7.02384374e-01,\n",
       "        -2.44986028e-02,  9.77161623e-03,  9.31672830e-03,\n",
       "         2.66988605e-02,  1.05133772e-02, -9.31871602e-03,\n",
       "        -5.60913061e-02, -2.36891075e-02,  1.68177345e-02,\n",
       "        -7.83937628e-02, -1.92900790e-02,  5.84540040e-03,\n",
       "         1.39553967e-02, -2.59128852e-03, -2.67828776e-02,\n",
       "         6.35414036e-03,  1.48266373e-02,  7.61917151e-04,\n",
       "        -3.59578270e-03],\n",
       "       [ 8.35186275e-01, -1.63753510e-01,  1.85670616e-01,\n",
       "        -2.83736574e-01, -2.74874192e-01,  8.87482663e-04,\n",
       "         1.26646523e-03,  8.61114459e-02,  3.13046734e-02,\n",
       "        -1.07067209e-01,  2.77042421e-02,  2.77411850e-02,\n",
       "         1.85558403e-02, -8.95023960e-03,  6.49656713e-02,\n",
       "         2.73816002e-02,  8.70079572e-03,  1.44506402e-01,\n",
       "        -1.88239680e-01,  1.53952192e-02, -2.06826696e-02,\n",
       "        -1.94379002e-02, -5.33043537e-03, -2.90474353e-04,\n",
       "        -2.15513004e-02, -1.78181324e-02, -4.97128193e-03,\n",
       "        -7.09360373e-03],\n",
       "       [ 1.37528373e-01, -1.27152746e-01, -4.28286099e-01,\n",
       "        -2.19172240e-02, -2.24173685e-02, -3.39502456e-01,\n",
       "        -3.43506291e-01,  6.31822979e-03, -1.76669415e-02,\n",
       "         1.60249452e-02,  4.11775638e-01,  4.17543061e-01,\n",
       "        -2.69927305e-01,  6.08673487e-02, -1.09231711e-01,\n",
       "        -4.45768727e-03, -3.22156626e-02, -1.44405156e-01,\n",
       "         2.58841002e-01, -2.85140453e-02,  9.31614824e-02,\n",
       "         5.74187862e-02, -2.70928645e-03, -5.27837498e-03,\n",
       "         9.39878780e-02,  5.87607448e-02, -1.37333046e-02,\n",
       "        -5.63573075e-03],\n",
       "       [-7.42636878e-02, -5.62330701e-01, -5.04510297e-01,\n",
       "         1.21083659e-01,  1.37049572e-01,  3.98922182e-02,\n",
       "         3.66029821e-02, -8.64704534e-03,  3.35522068e-02,\n",
       "        -2.46519639e-02, -8.92389365e-02, -9.03989323e-02,\n",
       "        -1.50369354e-02,  3.15868152e-02, -7.74497939e-02,\n",
       "         1.70044206e-02, -3.10882840e-02,  2.90531521e-01,\n",
       "        -5.20755640e-01,  4.52903551e-02, -2.56254057e-02,\n",
       "        -2.53363097e-02, -1.32612354e-02, -1.49468456e-03,\n",
       "        -2.55550340e-02, -2.41821674e-02, -1.43775636e-02,\n",
       "        -1.93456553e-02],\n",
       "       [-9.45783721e-02, -3.32488195e-02,  2.56696661e-01,\n",
       "        -6.92794113e-03, -1.13964006e-02, -8.96226944e-02,\n",
       "        -8.85934447e-02,  8.50033764e-02, -3.75972623e-02,\n",
       "         2.07904248e-01,  1.10093308e-01,  1.12724173e-01,\n",
       "        -1.05557864e-01,  2.48166207e-01,  9.13769625e-02,\n",
       "        -3.68939549e-03,  1.66287058e-01, -5.92082921e-01,\n",
       "        -6.08045997e-01, -6.90103485e-03,  2.24445566e-02,\n",
       "        -1.40268599e-03,  1.68114854e-02, -2.36215998e-02,\n",
       "         2.31457316e-02, -2.89740671e-03,  1.57757912e-02,\n",
       "        -9.69766728e-03],\n",
       "       [-2.30186259e-01, -6.17970056e-01,  4.32236970e-01,\n",
       "         2.82049181e-03, -1.94677211e-02, -6.12484348e-02,\n",
       "        -5.98090781e-02, -5.69299698e-02,  1.32503306e-02,\n",
       "         1.49501270e-02,  1.11375768e-01,  1.13030154e-01,\n",
       "        -7.76583916e-02, -1.56401917e-01,  4.81394530e-01,\n",
       "         9.02961823e-02, -1.07431718e-01,  9.05050309e-02,\n",
       "         2.08092735e-01, -6.33437534e-02, -1.31991375e-02,\n",
       "         9.18543862e-03, -3.54590633e-02,  2.26300655e-02,\n",
       "        -1.29812148e-02,  1.08270093e-02, -4.45008470e-02,\n",
       "         5.85063344e-03],\n",
       "       [ 1.82310221e-01, -4.06681990e-01, -1.18904742e-01,\n",
       "         4.23854585e-02,  4.29325568e-02,  1.35476652e-01,\n",
       "         1.35695043e-01, -4.52118779e-02, -8.43204023e-03,\n",
       "        -9.47057862e-02, -2.51712200e-01, -2.54905614e-01,\n",
       "         1.05183147e-01,  2.03904975e-01, -1.68297092e-01,\n",
       "         4.39782213e-02, -8.40831614e-02, -6.07312220e-01,\n",
       "         3.74579961e-01,  4.35138218e-02, -4.69070158e-02,\n",
       "        -1.38718253e-02, -2.55375326e-02, -1.38690454e-02,\n",
       "        -4.70569646e-02, -1.25751891e-02, -2.82174444e-02,\n",
       "         9.66244159e-04],\n",
       "       [-1.25980621e-01, -1.97489394e-01,  3.83820415e-01,\n",
       "        -3.02718368e-02, -4.74099563e-02, -3.31574797e-02,\n",
       "        -3.24592407e-02,  1.28813857e-02,  1.34458664e-02,\n",
       "         3.72753271e-02,  6.48077606e-02,  6.63503134e-02,\n",
       "         1.61518713e-02,  4.69160680e-01, -6.40469439e-01,\n",
       "        -2.96108338e-02,  6.48130712e-02,  2.91632210e-01,\n",
       "         7.10769683e-02, -2.34181617e-01,  4.14472304e-03,\n",
       "         1.14676081e-02, -6.26096563e-03, -3.28526060e-02,\n",
       "         3.54747728e-03,  1.28514853e-02, -1.06950988e-02,\n",
       "        -3.69861571e-04],\n",
       "       [ 7.08914946e-02,  1.06732221e-01, -1.94206393e-01,\n",
       "         1.96186848e-02,  2.83535920e-02,  3.10991748e-02,\n",
       "         3.10058550e-02, -2.28472685e-02,  4.77023239e-02,\n",
       "        -2.27692911e-02, -6.32052742e-02, -6.36453811e-02,\n",
       "         3.10215421e-02,  3.21349866e-01,  3.68411070e-01,\n",
       "        -1.44132504e-02, -3.43430294e-02,  2.55246391e-02,\n",
       "         1.28828732e-02, -8.29064019e-01,  4.89157971e-03,\n",
       "         3.55098085e-03,  4.66048193e-03, -3.94366110e-02,\n",
       "         4.72158409e-03,  2.90697183e-03,  5.81695406e-03,\n",
       "        -1.42440384e-02],\n",
       "       [ 1.32197521e-02, -9.29666890e-02,  6.48888343e-02,\n",
       "        -5.75839010e-03, -8.51376269e-03, -5.33160710e-03,\n",
       "        -5.63683335e-03, -6.97260041e-02,  8.23351282e-02,\n",
       "         3.40836936e-02, -3.78171065e-03, -3.78650156e-03,\n",
       "        -5.24645982e-03, -7.26924588e-01, -3.85994131e-01,\n",
       "        -7.07153377e-03,  6.21683808e-02, -2.00773290e-01,\n",
       "        -1.09361047e-01, -4.86865920e-01,  1.25439949e-02,\n",
       "         5.10763564e-03, -1.77332262e-03,  5.40718544e-02,\n",
       "         1.27351083e-02,  4.67032679e-03, -1.22815596e-03,\n",
       "         4.19624360e-03]])"
      ]
     },
     "execution_count": 9,
     "metadata": {},
     "output_type": "execute_result"
    }
   ],
   "source": [
    "pca.eigen_vectors"
   ]
  },
  {
   "cell_type": "code",
   "execution_count": 10,
   "metadata": {},
   "outputs": [
    {
     "data": {
      "text/plain": [
       "array([3.83077195, 2.77916302, 2.06961607, 1.81509462, 1.71267787,\n",
       "       1.64516058, 1.39885244, 1.28362354, 0.04105267, 0.0158181 ,\n",
       "       0.00521474, 0.00790646, 0.12934015, 0.25919872, 0.29311495,\n",
       "       0.37504228, 0.47888571, 0.60974253, 0.7007288 , 0.78261956,\n",
       "       0.83382019, 0.91552497, 1.04207894, 1.03287157, 0.96722807,\n",
       "       0.98075639, 0.99465213, 0.99951191])"
      ]
     },
     "execution_count": 10,
     "metadata": {},
     "output_type": "execute_result"
    }
   ],
   "source": [
    "pca.eigen_values"
   ]
  },
  {
   "cell_type": "code",
   "execution_count": 11,
   "metadata": {},
   "outputs": [
    {
     "data": {
      "text/plain": [
       "array([ 0,  1,  2,  3,  4,  5,  6,  7, 22, 23, 27, 26, 25, 24, 21, 20, 19,\n",
       "       18, 17, 16, 15, 14, 13, 12,  8,  9, 11, 10], dtype=int64)"
      ]
     },
     "execution_count": 11,
     "metadata": {},
     "output_type": "execute_result"
    }
   ],
   "source": [
    "pca.sorted_components"
   ]
  },
  {
   "cell_type": "code",
   "execution_count": 12,
   "metadata": {},
   "outputs": [
    {
     "data": {
      "text/plain": [
       "Text(0, 0.5, 'PCA 2')"
      ]
     },
     "execution_count": 12,
     "metadata": {},
     "output_type": "execute_result"
    },
    {
     "data": {
      "image/png": "[encoded data removed]",
      "text/plain": [
       "<Figure size 432x288 with 1 Axes>"
      ]
     },
     "metadata": {
      "needs_background": "light"
     },
     "output_type": "display_data"
    }
   ],
   "source": [
    "import matplotlib.pyplot as plt\n",
    "transformed = pca.transform(x_std)\n",
    "import mglearn\n",
    "mglearn.discrete_scatter(transformed[:, 0], transformed[:, 1], y)\n",
    "plt.legend(['AMENAZA GRAVE', 'COACCION GRAVE', 'MALTRATO SIN LESION',\n",
    "       'VIOLENCIA ECONOMICA O PATRIMONIAL', 'VIOLENCIA FISICA',\n",
    "       'VIOLENCIA FISICA Y PSICOLOGICA', 'VIOLENCIA PSICOLOGICA'])\n",
    "plt.xlabel(\"PCA 1\")\n",
    "plt.ylabel(\"PCA 2\")"
   ]
  }
 ],
 "metadata": {
  "kernelspec": {
   "display_name": "Python 3.9.12 ('base')",
   "language": "python",
   "name": "python3"
  },
  "language_info": {
   "codemirror_mode": {
    "name": "ipython",
    "version": 3
   },
   "file_extension": ".py",
   "mimetype": "text/x-python",
   "name": "python",
   "nbconvert_exporter": "python",
   "pygments_lexer": "ipython3",
   "version": "3.9.12"
  },
  "orig_nbformat": 4,
  "vscode": {
   "interpreter": {
    "hash": "a853a36dd34f4e127a1c940f133f5f5f69f52494a182d60a25a7162197551ce1"
   }
  }
 },
 "nbformat": 4,
 "nbformat_minor": 2
}
