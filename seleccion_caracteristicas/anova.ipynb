{
 "cells": [
  {
   "cell_type": "code",
   "execution_count": 1,
   "metadata": {},
   "outputs": [],
   "source": [
    "import pandas as pd"
   ]
  },
  {
   "cell_type": "code",
   "execution_count": 2,
   "metadata": {},
   "outputs": [],
   "source": [
    "dataset = pd.read_csv('../datalake/datalake_preprocessed.csv', encoding='utf-8', header=0, low_memory=False)"
   ]
  },
  {
   "cell_type": "code",
   "execution_count": 3,
   "metadata": {},
   "outputs": [
    {
     "name": "stdout",
     "output_type": "stream",
     "text": [
      "<class 'pandas.core.frame.DataFrame'>\n",
      "RangeIndex: 809711 entries, 0 to 809710\n",
      "Data columns (total 30 columns):\n",
      " #   Column                    Non-Null Count   Dtype \n",
      "---  ------                    --------------   ----- \n",
      " 0   COMISARIA                 809711 non-null  object\n",
      " 1   DERIVADA_FISCALIA         809711 non-null  object\n",
      " 2   DIRECCION                 809711 non-null  object\n",
      " 3   DIST_CIA                  809711 non-null  object\n",
      " 4   DIST_HECHO                809711 non-null  object\n",
      " 5   DPTO_CIA                  809711 non-null  object\n",
      " 6   DPTO_HECHO                809711 non-null  object\n",
      " 7   EDAD                      809711 non-null  int64 \n",
      " 8   EST_CIVIL                 809711 non-null  object\n",
      " 9   LIBRO                     809711 non-null  object\n",
      " 10  MODALIDAD                 809711 non-null  object\n",
      " 11  PROV_CIA                  809711 non-null  object\n",
      " 12  PROV_HECHO                809711 non-null  object\n",
      " 13  REGION                    809711 non-null  object\n",
      " 14  SEXO                      809711 non-null  object\n",
      " 15  SIT_PERSONA               809711 non-null  object\n",
      " 16  SUB_TIPO                  809711 non-null  object\n",
      " 17  TIPO                      809711 non-null  object\n",
      " 18  TIPO_DENUNCIA             809711 non-null  object\n",
      " 19  UBICACION                 809711 non-null  object\n",
      " 20  VIA                       809711 non-null  object\n",
      " 21  PAIS_NATAL                809711 non-null  object\n",
      " 22  FEC_REGISTRO_ANIO         809711 non-null  int64 \n",
      " 23  FEC_REGISTRO_MES          809711 non-null  int64 \n",
      " 24  FEC_REGISTRO_DIA          809711 non-null  int64 \n",
      " 25  FEC_REGISTRO_DIA_SEM      809711 non-null  int64 \n",
      " 26  FECHA_HORA_HECHO_ANIO     809711 non-null  int64 \n",
      " 27  FECHA_HORA_HECHO_MES      809711 non-null  int64 \n",
      " 28  FECHA_HORA_HECHO_DIA      809711 non-null  int64 \n",
      " 29  FECHA_HORA_HECHO_DIA_SEM  809711 non-null  int64 \n",
      "dtypes: int64(9), object(21)\n",
      "memory usage: 185.3+ MB\n"
     ]
    }
   ],
   "source": [
    "dataset.info()"
   ]
  },
  {
   "cell_type": "code",
   "execution_count": 4,
   "metadata": {},
   "outputs": [],
   "source": [
    "x = dataset.drop('MODALIDAD', axis=1)\n",
    "y = dataset['MODALIDAD']"
   ]
  },
  {
   "cell_type": "code",
   "execution_count": 5,
   "metadata": {},
   "outputs": [],
   "source": [
    "# Separamos las variables categoricas y las numericas en dataset\n",
    "object_columns = x.select_dtypes(['object']).columns.to_list()\n",
    "int64_columns = x.select_dtypes(['int64']).columns.to_list()"
   ]
  },
  {
   "cell_type": "code",
   "execution_count": 8,
   "metadata": {},
   "outputs": [],
   "source": [
    "int_dataset = x[int64_columns]"
   ]
  },
  {
   "cell_type": "code",
   "execution_count": 9,
   "metadata": {},
   "outputs": [
    {
     "data": {
      "text/plain": [
       "array([[-0.25775072, -1.64907892, -1.56621313, ..., -1.551426  ,\n",
       "        -1.65780415,  0.41280757],\n",
       "       [-0.87024195, -1.64907892, -1.56621313, ..., -1.551426  ,\n",
       "        -1.65780415,  0.41280757],\n",
       "       [-1.30773569, -1.64907892, -1.56621313, ..., -1.551426  ,\n",
       "        -1.65780415,  0.41280757],\n",
       "       ...,\n",
       "       [ 0.26724177,  1.08923629,  1.5267408 , ...,  1.258827  ,\n",
       "         1.06568371, -1.48411232],\n",
       "       [ 0.09224428,  1.08923629,  1.5267408 , ...,  1.5398523 ,\n",
       "         0.72524773,  1.36126751],\n",
       "       [ 0.17974303,  1.08923629,  1.5267408 , ...,  1.5398523 ,\n",
       "         1.29264103,  0.41280757]])"
      ]
     },
     "execution_count": 9,
     "metadata": {},
     "output_type": "execute_result"
    }
   ],
   "source": [
    "from sklearn.preprocessing import StandardScaler\n",
    "standarized = StandardScaler().fit_transform(int_dataset.values)\n",
    "standarized"
   ]
  },
  {
   "cell_type": "code",
   "execution_count": 10,
   "metadata": {},
   "outputs": [],
   "source": [
    "standarized_int_dataset = pd.DataFrame(standarized, columns=int64_columns, index=int_dataset.index)"
   ]
  },
  {
   "cell_type": "code",
   "execution_count": 11,
   "metadata": {},
   "outputs": [
    {
     "data": {
      "text/plain": [
       "SelectKBest(k='all')"
      ]
     },
     "execution_count": 11,
     "metadata": {},
     "output_type": "execute_result"
    }
   ],
   "source": [
    "from sklearn.feature_selection import SelectKBest\n",
    "from sklearn.feature_selection import f_classif\n",
    "\n",
    "fs = SelectKBest(score_func=f_classif, k='all')\n",
    "fs.fit(standarized_int_dataset, y)"
   ]
  },
  {
   "cell_type": "code",
   "execution_count": 12,
   "metadata": {},
   "outputs": [
    {
     "data": {
      "text/html": [
       "<div>\n",
       "<style scoped>\n",
       "    .dataframe tbody tr th:only-of-type {\n",
       "        vertical-align: middle;\n",
       "    }\n",
       "\n",
       "    .dataframe tbody tr th {\n",
       "        vertical-align: top;\n",
       "    }\n",
       "\n",
       "    .dataframe thead th {\n",
       "        text-align: right;\n",
       "    }\n",
       "</style>\n",
       "<table border=\"1\" class=\"dataframe\">\n",
       "  <thead>\n",
       "    <tr style=\"text-align: right;\">\n",
       "      <th></th>\n",
       "      <th>caracteristica</th>\n",
       "      <th>puntaje</th>\n",
       "    </tr>\n",
       "  </thead>\n",
       "  <tbody>\n",
       "    <tr>\n",
       "      <th>0</th>\n",
       "      <td>EDAD</td>\n",
       "      <td>4403.769140</td>\n",
       "    </tr>\n",
       "    <tr>\n",
       "      <th>1</th>\n",
       "      <td>FEC_REGISTRO_ANIO</td>\n",
       "      <td>2066.983962</td>\n",
       "    </tr>\n",
       "    <tr>\n",
       "      <th>2</th>\n",
       "      <td>FECHA_HORA_HECHO_ANIO</td>\n",
       "      <td>1998.485566</td>\n",
       "    </tr>\n",
       "    <tr>\n",
       "      <th>3</th>\n",
       "      <td>FEC_REGISTRO_MES</td>\n",
       "      <td>316.668209</td>\n",
       "    </tr>\n",
       "    <tr>\n",
       "      <th>4</th>\n",
       "      <td>FECHA_HORA_HECHO_MES</td>\n",
       "      <td>293.403888</td>\n",
       "    </tr>\n",
       "    <tr>\n",
       "      <th>5</th>\n",
       "      <td>FEC_REGISTRO_DIA_SEM</td>\n",
       "      <td>222.566872</td>\n",
       "    </tr>\n",
       "    <tr>\n",
       "      <th>6</th>\n",
       "      <td>FECHA_HORA_HECHO_DIA_SEM</td>\n",
       "      <td>194.752917</td>\n",
       "    </tr>\n",
       "    <tr>\n",
       "      <th>7</th>\n",
       "      <td>FEC_REGISTRO_DIA</td>\n",
       "      <td>32.846744</td>\n",
       "    </tr>\n",
       "    <tr>\n",
       "      <th>8</th>\n",
       "      <td>FECHA_HORA_HECHO_DIA</td>\n",
       "      <td>29.698727</td>\n",
       "    </tr>\n",
       "  </tbody>\n",
       "</table>\n",
       "</div>"
      ],
      "text/plain": [
       "             caracteristica      puntaje\n",
       "0                      EDAD  4403.769140\n",
       "1         FEC_REGISTRO_ANIO  2066.983962\n",
       "2     FECHA_HORA_HECHO_ANIO  1998.485566\n",
       "3          FEC_REGISTRO_MES   316.668209\n",
       "4      FECHA_HORA_HECHO_MES   293.403888\n",
       "5      FEC_REGISTRO_DIA_SEM   222.566872\n",
       "6  FECHA_HORA_HECHO_DIA_SEM   194.752917\n",
       "7          FEC_REGISTRO_DIA    32.846744\n",
       "8      FECHA_HORA_HECHO_DIA    29.698727"
      ]
     },
     "execution_count": 12,
     "metadata": {},
     "output_type": "execute_result"
    }
   ],
   "source": [
    "features = []\n",
    "for i in range(len(fs.scores_)):\n",
    "    features.append([int64_columns[i], fs.scores_[i]])\n",
    "feature_list = pd.DataFrame(features, columns=['caracteristica', 'puntaje'])\n",
    "feature_list = feature_list.sort_values(by='puntaje', ascending=False).reset_index(drop=True)\n",
    "feature_list"
   ]
  },
  {
   "cell_type": "code",
   "execution_count": 13,
   "metadata": {},
   "outputs": [
    {
     "data": {
      "image/png": "[encoded data removed]",
      "text/plain": [
       "<Figure size 432x288 with 1 Axes>"
      ]
     },
     "metadata": {
      "needs_background": "light"
     },
     "output_type": "display_data"
    }
   ],
   "source": [
    "import matplotlib.pyplot as plt\n",
    "\n",
    "feature_bar = feature_list.iloc[0:10].sort_values(by='puntaje', ascending=True).reset_index(drop=True)\n",
    "peso = feature_bar['puntaje'].to_numpy()\n",
    "caracteristica = feature_bar['caracteristica'].to_numpy()\n",
    "\n",
    "plt.yticks(fontsize= 13)\n",
    "plt.xticks(fontsize= 12, rotation=90)\n",
    "plt.ylabel(\"caracteristica\", fontsize=25)\n",
    "plt.xlabel(\"puntaje\", fontsize=25)\n",
    "plt.barh(caracteristica, peso)\n",
    "plt.show()"
   ]
  }
 ],
 "metadata": {
  "kernelspec": {
   "display_name": "Python 3.9.12 ('base')",
   "language": "python",
   "name": "python3"
  },
  "language_info": {
   "codemirror_mode": {
    "name": "ipython",
    "version": 3
   },
   "file_extension": ".py",
   "mimetype": "text/x-python",
   "name": "python",
   "nbconvert_exporter": "python",
   "pygments_lexer": "ipython3",
   "version": "3.9.12"
  },
  "orig_nbformat": 4,
  "vscode": {
   "interpreter": {
    "hash": "a853a36dd34f4e127a1c940f133f5f5f69f52494a182d60a25a7162197551ce1"
   }
  }
 },
 "nbformat": 4,
 "nbformat_minor": 2
}
