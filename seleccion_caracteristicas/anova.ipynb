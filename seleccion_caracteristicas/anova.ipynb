{
 "cells": [
  {
   "cell_type": "code",
   "execution_count": 1,
   "metadata": {},
   "outputs": [],
   "source": [
    "import pandas as pd"
   ]
  },
  {
   "cell_type": "code",
   "execution_count": 2,
   "metadata": {},
   "outputs": [],
   "source": [
    "dataset = pd.read_csv('../dataset/dataset_preprocessed.csv', encoding='utf-8', header=0, low_memory=False)"
   ]
  },
  {
   "cell_type": "code",
   "execution_count": 3,
   "metadata": {},
   "outputs": [
    {
     "name": "stdout",
     "output_type": "stream",
     "text": [
      "<class 'pandas.core.frame.DataFrame'>\n",
      "RangeIndex: 406431 entries, 0 to 406430\n",
      "Data columns (total 29 columns):\n",
      " #   Column                    Non-Null Count   Dtype \n",
      "---  ------                    --------------   ----- \n",
      " 0   COMISARIA                 406431 non-null  object\n",
      " 1   DERIVADA_FISCALIA         406431 non-null  object\n",
      " 2   DIRECCION                 406431 non-null  object\n",
      " 3   DIST_CIA                  406431 non-null  object\n",
      " 4   DIST_HECHO                406431 non-null  object\n",
      " 5   DPTO_CIA                  406431 non-null  object\n",
      " 6   DPTO_HECHO                406431 non-null  object\n",
      " 7   EDAD                      406431 non-null  int64 \n",
      " 8   EST_CIVIL                 406431 non-null  object\n",
      " 9   LIBRO                     406431 non-null  object\n",
      " 10  MODALIDAD                 406431 non-null  object\n",
      " 11  PROV_CIA                  406431 non-null  object\n",
      " 12  PROV_HECHO                406431 non-null  object\n",
      " 13  REGION                    406431 non-null  object\n",
      " 14  SEXO                      406431 non-null  object\n",
      " 15  SUB_TIPO                  406431 non-null  object\n",
      " 16  TIPO                      406431 non-null  object\n",
      " 17  TIPO_DENUNCIA             406431 non-null  object\n",
      " 18  UBICACION                 406431 non-null  object\n",
      " 19  VIA                       406431 non-null  object\n",
      " 20  PAIS_NATAL                406431 non-null  object\n",
      " 21  FEC_REGISTRO_ANIO         406431 non-null  int64 \n",
      " 22  FEC_REGISTRO_MES          406431 non-null  int64 \n",
      " 23  FEC_REGISTRO_DIA          406431 non-null  int64 \n",
      " 24  FEC_REGISTRO_DIA_SEM      406431 non-null  int64 \n",
      " 25  FECHA_HORA_HECHO_ANIO     406431 non-null  int64 \n",
      " 26  FECHA_HORA_HECHO_MES      406431 non-null  int64 \n",
      " 27  FECHA_HORA_HECHO_DIA      406431 non-null  int64 \n",
      " 28  FECHA_HORA_HECHO_DIA_SEM  406431 non-null  int64 \n",
      "dtypes: int64(9), object(20)\n",
      "memory usage: 89.9+ MB\n"
     ]
    }
   ],
   "source": [
    "dataset.info()"
   ]
  },
  {
   "cell_type": "code",
   "execution_count": 4,
   "metadata": {},
   "outputs": [],
   "source": [
    "x = dataset.drop('MODALIDAD', axis=1)\n",
    "y = dataset['MODALIDAD']"
   ]
  },
  {
   "cell_type": "code",
   "execution_count": 5,
   "metadata": {},
   "outputs": [],
   "source": [
    "# Separamos las variables categoricas y las numericas en dataset\n",
    "object_columns = x.select_dtypes(['object']).columns.to_list()\n",
    "int64_columns = x.select_dtypes(['int64']).columns.to_list()"
   ]
  },
  {
   "cell_type": "code",
   "execution_count": 6,
   "metadata": {},
   "outputs": [],
   "source": [
    "int_dataset = x[int64_columns]"
   ]
  },
  {
   "cell_type": "code",
   "execution_count": 7,
   "metadata": {},
   "outputs": [
    {
     "data": {
      "text/plain": [
       "array([[-0.31359152, -1.76249113, -1.4425907 , ..., -1.42737165,\n",
       "        -1.65398851,  0.41546138],\n",
       "       [ 0.39413007, -1.76249113, -1.4425907 , ..., -1.42737165,\n",
       "        -1.65398851,  0.41546138],\n",
       "       [-0.66745232, -1.76249113, -1.4425907 , ..., -1.42737165,\n",
       "        -1.54016812,  0.88950675],\n",
       "       ...,\n",
       "       [-0.49052192,  0.93172512,  1.66468818, ...,  1.67477733,\n",
       "         1.19152119, -0.05858399],\n",
       "       [-1.19824352,  0.93172512,  1.66468818, ...,  1.67477733,\n",
       "         1.76062313, -1.00667473],\n",
       "       [ 0.21719967,  0.93172512,  1.66468818, ...,  1.39276379,\n",
       "         1.0777008 , -1.4807201 ]])"
      ]
     },
     "execution_count": 7,
     "metadata": {},
     "output_type": "execute_result"
    }
   ],
   "source": [
    "from sklearn.preprocessing import StandardScaler\n",
    "standarized = StandardScaler().fit_transform(int_dataset.values)\n",
    "standarized"
   ]
  },
  {
   "cell_type": "code",
   "execution_count": 8,
   "metadata": {},
   "outputs": [],
   "source": [
    "standarized_int_dataset = pd.DataFrame(standarized, columns=int64_columns, index=int_dataset.index)"
   ]
  },
  {
   "cell_type": "code",
   "execution_count": 9,
   "metadata": {},
   "outputs": [
    {
     "data": {
      "text/plain": [
       "SelectKBest(k='all')"
      ]
     },
     "execution_count": 9,
     "metadata": {},
     "output_type": "execute_result"
    }
   ],
   "source": [
    "from sklearn.feature_selection import SelectKBest\n",
    "from sklearn.feature_selection import f_classif\n",
    "\n",
    "fs = SelectKBest(score_func=f_classif, k='all')\n",
    "fs.fit(standarized_int_dataset, y)"
   ]
  },
  {
   "cell_type": "code",
   "execution_count": 10,
   "metadata": {},
   "outputs": [
    {
     "data": {
      "text/html": [
       "<div>\n",
       "<style scoped>\n",
       "    .dataframe tbody tr th:only-of-type {\n",
       "        vertical-align: middle;\n",
       "    }\n",
       "\n",
       "    .dataframe tbody tr th {\n",
       "        vertical-align: top;\n",
       "    }\n",
       "\n",
       "    .dataframe thead th {\n",
       "        text-align: right;\n",
       "    }\n",
       "</style>\n",
       "<table border=\"1\" class=\"dataframe\">\n",
       "  <thead>\n",
       "    <tr style=\"text-align: right;\">\n",
       "      <th></th>\n",
       "      <th>caracteristica</th>\n",
       "      <th>puntaje</th>\n",
       "    </tr>\n",
       "  </thead>\n",
       "  <tbody>\n",
       "    <tr>\n",
       "      <th>0</th>\n",
       "      <td>EDAD</td>\n",
       "      <td>2274.218462</td>\n",
       "    </tr>\n",
       "    <tr>\n",
       "      <th>1</th>\n",
       "      <td>FEC_REGISTRO_ANIO</td>\n",
       "      <td>1471.396077</td>\n",
       "    </tr>\n",
       "    <tr>\n",
       "      <th>2</th>\n",
       "      <td>FECHA_HORA_HECHO_ANIO</td>\n",
       "      <td>1429.511982</td>\n",
       "    </tr>\n",
       "    <tr>\n",
       "      <th>3</th>\n",
       "      <td>FEC_REGISTRO_MES</td>\n",
       "      <td>156.569413</td>\n",
       "    </tr>\n",
       "    <tr>\n",
       "      <th>4</th>\n",
       "      <td>FECHA_HORA_HECHO_MES</td>\n",
       "      <td>147.463043</td>\n",
       "    </tr>\n",
       "    <tr>\n",
       "      <th>5</th>\n",
       "      <td>FEC_REGISTRO_DIA_SEM</td>\n",
       "      <td>120.149516</td>\n",
       "    </tr>\n",
       "    <tr>\n",
       "      <th>6</th>\n",
       "      <td>FECHA_HORA_HECHO_DIA_SEM</td>\n",
       "      <td>106.114250</td>\n",
       "    </tr>\n",
       "    <tr>\n",
       "      <th>7</th>\n",
       "      <td>FEC_REGISTRO_DIA</td>\n",
       "      <td>15.698991</td>\n",
       "    </tr>\n",
       "    <tr>\n",
       "      <th>8</th>\n",
       "      <td>FECHA_HORA_HECHO_DIA</td>\n",
       "      <td>14.765140</td>\n",
       "    </tr>\n",
       "  </tbody>\n",
       "</table>\n",
       "</div>"
      ],
      "text/plain": [
       "             caracteristica      puntaje\n",
       "0                      EDAD  2274.218462\n",
       "1         FEC_REGISTRO_ANIO  1471.396077\n",
       "2     FECHA_HORA_HECHO_ANIO  1429.511982\n",
       "3          FEC_REGISTRO_MES   156.569413\n",
       "4      FECHA_HORA_HECHO_MES   147.463043\n",
       "5      FEC_REGISTRO_DIA_SEM   120.149516\n",
       "6  FECHA_HORA_HECHO_DIA_SEM   106.114250\n",
       "7          FEC_REGISTRO_DIA    15.698991\n",
       "8      FECHA_HORA_HECHO_DIA    14.765140"
      ]
     },
     "execution_count": 10,
     "metadata": {},
     "output_type": "execute_result"
    }
   ],
   "source": [
    "features = []\n",
    "for i in range(len(fs.scores_)):\n",
    "    features.append([int64_columns[i], fs.scores_[i]])\n",
    "feature_list = pd.DataFrame(features, columns=['caracteristica', 'puntaje'])\n",
    "feature_list = feature_list.sort_values(by='puntaje', ascending=False).reset_index(drop=True)\n",
    "feature_list"
   ]
  },
  {
   "cell_type": "code",
   "execution_count": 11,
   "metadata": {},
   "outputs": [
    {
     "data": {
      "image/png": "[encoded data removed]",
      "text/plain": [
       "<Figure size 432x288 with 1 Axes>"
      ]
     },
     "metadata": {
      "needs_background": "light"
     },
     "output_type": "display_data"
    }
   ],
   "source": [
    "import matplotlib.pyplot as plt\n",
    "\n",
    "feature_bar = feature_list.iloc[0:10].sort_values(by='puntaje', ascending=True).reset_index(drop=True)\n",
    "peso = feature_bar['puntaje'].to_numpy()\n",
    "caracteristica = feature_bar['caracteristica'].to_numpy()\n",
    "\n",
    "plt.yticks(fontsize= 13)\n",
    "plt.xticks(fontsize= 12, rotation=90)\n",
    "plt.ylabel(\"caracteristica\", fontsize=25)\n",
    "plt.xlabel(\"puntaje\", fontsize=25)\n",
    "plt.barh(caracteristica, peso)\n",
    "plt.show()"
   ]
  }
 ],
 "metadata": {
  "kernelspec": {
   "display_name": "Python 3.9.12 ('base')",
   "language": "python",
   "name": "python3"
  },
  "language_info": {
   "codemirror_mode": {
    "name": "ipython",
    "version": 3
   },
   "file_extension": ".py",
   "mimetype": "text/x-python",
   "name": "python",
   "nbconvert_exporter": "python",
   "pygments_lexer": "ipython3",
   "version": "3.9.12"
  },
  "orig_nbformat": 4,
  "vscode": {
   "interpreter": {
    "hash": "a853a36dd34f4e127a1c940f133f5f5f69f52494a182d60a25a7162197551ce1"
   }
  }
 },
 "nbformat": 4,
 "nbformat_minor": 2
}
