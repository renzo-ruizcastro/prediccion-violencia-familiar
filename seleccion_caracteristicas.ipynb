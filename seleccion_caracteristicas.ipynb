{
 "cells": [
  {
   "cell_type": "code",
   "execution_count": 1,
   "metadata": {},
   "outputs": [],
   "source": [
    "import pandas as pd\n",
    "import numpy as np\n",
    "from sklearn.preprocessing import StandardScaler"
   ]
  },
  {
   "cell_type": "code",
   "execution_count": 2,
   "metadata": {},
   "outputs": [],
   "source": [
    "dataset = pd.read_csv('./datalake/datalake_preprocessed_numeric.csv', header=0, low_memory=False)"
   ]
  },
  {
   "cell_type": "code",
   "execution_count": 3,
   "metadata": {},
   "outputs": [
    {
     "name": "stdout",
     "output_type": "stream",
     "text": [
      "<class 'pandas.core.frame.DataFrame'>\n",
      "RangeIndex: 809711 entries, 0 to 809710\n",
      "Data columns (total 30 columns):\n",
      " #   Column                    Non-Null Count   Dtype\n",
      "---  ------                    --------------   -----\n",
      " 0   COMISARIA                 809711 non-null  int64\n",
      " 1   DERIVADA_FISCALIA         809711 non-null  int64\n",
      " 2   DIRECCION                 809711 non-null  int64\n",
      " 3   DIST_CIA                  809711 non-null  int64\n",
      " 4   DIST_HECHO                809711 non-null  int64\n",
      " 5   DPTO_CIA                  809711 non-null  int64\n",
      " 6   DPTO_HECHO                809711 non-null  int64\n",
      " 7   EDAD                      809711 non-null  int64\n",
      " 8   EST_CIVIL                 809711 non-null  int64\n",
      " 9   LIBRO                     809711 non-null  int64\n",
      " 10  MODALIDAD                 809711 non-null  int64\n",
      " 11  PROV_CIA                  809711 non-null  int64\n",
      " 12  PROV_HECHO                809711 non-null  int64\n",
      " 13  REGION                    809711 non-null  int64\n",
      " 14  SEXO                      809711 non-null  int64\n",
      " 15  SIT_PERSONA               809711 non-null  int64\n",
      " 16  SUB_TIPO                  809711 non-null  int64\n",
      " 17  TIPO                      809711 non-null  int64\n",
      " 18  TIPO_DENUNCIA             809711 non-null  int64\n",
      " 19  UBICACION                 809711 non-null  int64\n",
      " 20  VIA                       809711 non-null  int64\n",
      " 21  PAIS_NATAL                809711 non-null  int64\n",
      " 22  FEC_REGISTRO_ANIO         809711 non-null  int64\n",
      " 23  FEC_REGISTRO_MES          809711 non-null  int64\n",
      " 24  FEC_REGISTRO_DIA          809711 non-null  int64\n",
      " 25  FEC_REGISTRO_DIA_SEM      809711 non-null  int64\n",
      " 26  FECHA_HORA_HECHO_ANIO     809711 non-null  int64\n",
      " 27  FECHA_HORA_HECHO_MES      809711 non-null  int64\n",
      " 28  FECHA_HORA_HECHO_DIA      809711 non-null  int64\n",
      " 29  FECHA_HORA_HECHO_DIA_SEM  809711 non-null  int64\n",
      "dtypes: int64(30)\n",
      "memory usage: 185.3 MB\n"
     ]
    }
   ],
   "source": [
    "dataset.info()"
   ]
  },
  {
   "cell_type": "code",
   "execution_count": 4,
   "metadata": {},
   "outputs": [],
   "source": [
    "X = dataset.drop('MODALIDAD', axis=1)\n",
    "y = dataset['MODALIDAD']"
   ]
  }
 ],
 "metadata": {
  "kernelspec": {
   "display_name": "Python 3.9.12 ('base')",
   "language": "python",
   "name": "python3"
  },
  "language_info": {
   "codemirror_mode": {
    "name": "ipython",
    "version": 3
   },
   "file_extension": ".py",
   "mimetype": "text/x-python",
   "name": "python",
   "nbconvert_exporter": "python",
   "pygments_lexer": "ipython3",
   "version": "3.9.12"
  },
  "orig_nbformat": 4,
  "vscode": {
   "interpreter": {
    "hash": "a853a36dd34f4e127a1c940f133f5f5f69f52494a182d60a25a7162197551ce1"
   }
  }
 },
 "nbformat": 4,
 "nbformat_minor": 2
}
