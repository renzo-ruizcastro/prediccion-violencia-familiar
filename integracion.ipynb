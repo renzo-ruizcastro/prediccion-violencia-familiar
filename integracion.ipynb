{
 "cells": [
  {
   "cell_type": "code",
   "execution_count": 1,
   "metadata": {},
   "outputs": [],
   "source": [
    "import pandas as pd"
   ]
  },
  {
   "cell_type": "code",
   "execution_count": 2,
   "metadata": {},
   "outputs": [],
   "source": [
    "datalake_sources = {'2016': '', '2017': '', '2018': '', '2019': ''}"
   ]
  },
  {
   "cell_type": "code",
   "execution_count": 3,
   "metadata": {},
   "outputs": [],
   "source": [
    "for key in datalake_sources:\n",
    "    datalake_sources[key] = pd.read_csv(f'./datalake/sources/{key}.csv', header=0, low_memory=False)"
   ]
  },
  {
   "cell_type": "markdown",
   "metadata": {},
   "source": [
    "#### Se seleccionan solo las columnas comunes"
   ]
  },
  {
   "cell_type": "code",
   "execution_count": 4,
   "metadata": {},
   "outputs": [
    {
     "data": {
      "text/plain": [
       "array(['COMISARIA', 'CUADRA', 'DERIVADA_FISCALIA', 'DIRECCION',\n",
       "       'DIST_CIA', 'DIST_HECHO', 'DPTO_CIA', 'DPTO_HECHO', 'EDAD',\n",
       "       'ESTADO_DEN', 'EST_CIVIL', 'FECHA_HORA_HECHO', 'ID_COMISARIA',\n",
       "       'ID_EST_CIVIL', 'ID_LIBRO', 'ID_MATERIA', 'ID_MODALIDAD',\n",
       "       'ID_NIVEL_EDUCATIVO', 'ID_REGION', 'ID_SIT_PERSONA', 'ID_SUBTIPO',\n",
       "       'ID_TIPO', 'ID_TIPO_DENUNCIA', 'LIBRO', 'MATERIA', 'MODALIDAD',\n",
       "       'NIVEL_EDUCATIVO', 'OCUPACION', 'PROV_CIA', 'PROV_HECHO', 'REGION',\n",
       "       'SEXO', 'SIT_PERSONA', 'SUB_TIPO', 'TIPO', 'TIPO_DENUNCIA',\n",
       "       'UBICACION', 'UBIGEO_CIA', 'UBIGEO_HECHO', 'VIA', 'fec_registro',\n",
       "       'pais_natal'], dtype=object)"
      ]
     },
     "execution_count": 4,
     "metadata": {},
     "output_type": "execute_result"
    }
   ],
   "source": [
    "import numpy as np\n",
    "from functools import reduce\n",
    "\n",
    "sources_columns = [datalake_sources[key].columns for key in datalake_sources]\n",
    "shared_columns = reduce(np.intersect1d, sources_columns)\n",
    "shared_columns"
   ]
  },
  {
   "cell_type": "code",
   "execution_count": 5,
   "metadata": {},
   "outputs": [],
   "source": [
    "for key in datalake_sources:\n",
    "    datalake_sources[key] = datalake_sources[key][shared_columns]"
   ]
  },
  {
   "cell_type": "code",
   "execution_count": 6,
   "metadata": {},
   "outputs": [],
   "source": [
    "sources = [datalake_sources[key] for key in datalake_sources]\n",
    "datalake = pd.concat(sources, ignore_index=True)"
   ]
  },
  {
   "cell_type": "code",
   "execution_count": 7,
   "metadata": {},
   "outputs": [],
   "source": [
    "datalake.to_csv('./datalake/datalake.csv', index=False)"
   ]
  }
 ],
 "metadata": {
  "kernelspec": {
   "display_name": "Python 3.9.12 ('base')",
   "language": "python",
   "name": "python3"
  },
  "language_info": {
   "codemirror_mode": {
    "name": "ipython",
    "version": 3
   },
   "file_extension": ".py",
   "mimetype": "text/x-python",
   "name": "python",
   "nbconvert_exporter": "python",
   "pygments_lexer": "ipython3",
   "version": "3.9.12"
  },
  "orig_nbformat": 4,
  "vscode": {
   "interpreter": {
    "hash": "a853a36dd34f4e127a1c940f133f5f5f69f52494a182d60a25a7162197551ce1"
   }
  }
 },
 "nbformat": 4,
 "nbformat_minor": 2
}
